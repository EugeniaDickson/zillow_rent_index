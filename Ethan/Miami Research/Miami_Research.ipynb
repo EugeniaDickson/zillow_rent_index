{
 "cells": [
  {
   "cell_type": "code",
   "execution_count": 49,
   "metadata": {},
   "outputs": [],
   "source": [
    "import pandas as pd\n",
    "import numpy as np"
   ]
  },
  {
   "cell_type": "code",
   "execution_count": 50,
   "metadata": {},
   "outputs": [],
   "source": [
    "df_initial = pd.read_csv('Zip_Zri_MultiFamilyResidenceRental.csv')\n",
    "census_df_initial = pd.read_csv('zipcode_census_data_2018_5yr.csv')"
   ]
  },
  {
   "cell_type": "code",
   "execution_count": 51,
   "metadata": {},
   "outputs": [],
   "source": [
    "include_cities = ['Miami Beach','Miami','North Miami']\n",
    "\n",
    "df = df_initial.copy()\n",
    "df = df[df['City'].isin(include_cities)]\n",
    "\n",
    "census_df = census_df_initial.copy()\n",
    "census_df = census_df.rename(columns={'geo_id':'RegionID'})"
   ]
  },
  {
   "cell_type": "code",
   "execution_count": null,
   "metadata": {},
   "outputs": [],
   "source": []
  },
  {
   "cell_type": "code",
   "execution_count": null,
   "metadata": {},
   "outputs": [],
   "source": []
  },
  {
   "cell_type": "code",
   "execution_count": null,
   "metadata": {},
   "outputs": [],
   "source": []
  },
  {
   "cell_type": "code",
   "execution_count": 52,
   "metadata": {},
   "outputs": [],
   "source": [
    "# for i in df['City'].unique():\n",
    "#     if 'miami' in i.lower():\n",
    "#         print(i)"
   ]
  },
  {
   "cell_type": "code",
   "execution_count": 53,
   "metadata": {},
   "outputs": [],
   "source": [
    "# monthly_increase = np.mean(df.iloc[:,2:87].diff(axis=1))\n",
    "# monthly_increase = round(monthly_increase, 2)"
   ]
  },
  {
   "cell_type": "code",
   "execution_count": 54,
   "metadata": {},
   "outputs": [],
   "source": [
    "df_melt = df.melt(id_vars = ['RegionID','SizeRank','State','Metro','CountyName', 'City','RegionName'], var_name = \"date\",value_name=\"rent\")\n",
    "df_melt['year'] = df_melt['date'].apply(lambda x: x.split('-')[0])\n",
    "df_melt['month'] = df_melt['date'].apply(lambda x: x.split('-')[1])\n",
    "for col in ['month','year']:\n",
    "    df_melt[col] = df_melt[col].astype(int)"
   ]
  },
  {
   "cell_type": "code",
   "execution_count": 55,
   "metadata": {},
   "outputs": [],
   "source": [
    "dates = df_melt['date'].unique().tolist()\n",
    "dates.sort()"
   ]
  },
  {
   "cell_type": "code",
   "execution_count": 56,
   "metadata": {},
   "outputs": [
    {
     "data": {
      "text/plain": [
       "113"
      ]
     },
     "execution_count": 56,
     "metadata": {},
     "output_type": "execute_result"
    }
   ],
   "source": [
    "len(dates)"
   ]
  },
  {
   "cell_type": "code",
   "execution_count": 57,
   "metadata": {},
   "outputs": [],
   "source": [
    "difference_dict = {}\n",
    "\n",
    "for i in range(1,len(dates)):\n",
    "    cur_month = dates[i]\n",
    "    last_month = dates[i - 1]\n",
    "    \n",
    "    test = (df[cur_month]-df[last_month]).mean()\n",
    "    difference_dict[cur_month] = test"
   ]
  },
  {
   "cell_type": "code",
   "execution_count": 58,
   "metadata": {},
   "outputs": [],
   "source": [
    "def get_prior_month(date_val):\n",
    "    month = date_val.split('-')[1]\n",
    "    year = int(date_val.split('-')[0])\n",
    "    month_map = {'01':'12',\n",
    "                 '02':'01',\n",
    "                 '03':'02',\n",
    "                 '04':'03',\n",
    "                 '05':'04',\n",
    "                 '06':'05',\n",
    "                 '07':'06',\n",
    "                 '08':'07',\n",
    "                 '09':'08',\n",
    "                 '10':'09',\n",
    "                 '11':'10',\n",
    "                 '12':'11'\n",
    "                }\n",
    "    \n",
    "    if month == '01':\n",
    "        return '%s-%s' % (str(year-1),month_map[month])\n",
    "    else:\n",
    "        return '%s-%s' % (str(year),month_map[month])"
   ]
  },
  {
   "cell_type": "code",
   "execution_count": 59,
   "metadata": {},
   "outputs": [],
   "source": [
    "df_melt['difference'] = df_melt['date'].apply(lambda x: difference_dict[x] if x in difference_dict else 0)\n",
    "df_melt['prior_month'] = df_melt['date'].apply(lambda x: get_prior_month(x))"
   ]
  },
  {
   "cell_type": "code",
   "execution_count": 60,
   "metadata": {},
   "outputs": [],
   "source": [
    "for col in ['RegionID']:\n",
    "    census_df[col] = census_df[col].astype(str)\n",
    "    df_melt[col] = df_melt[col].astype(str)"
   ]
  },
  {
   "cell_type": "code",
   "execution_count": 61,
   "metadata": {},
   "outputs": [],
   "source": [
    "census_df = census_df[census_df['RegionID'].isin(df_melt['RegionID'].unique().tolist())]"
   ]
  },
  {
   "cell_type": "code",
   "execution_count": 62,
   "metadata": {},
   "outputs": [],
   "source": [
    "df_melt = pd.merge(df_melt,census_df,on=['RegionID'],how='inner')"
   ]
  },
  {
   "cell_type": "code",
   "execution_count": 63,
   "metadata": {},
   "outputs": [
    {
     "data": {
      "text/plain": [
       "rent    43\n",
       "dtype: int64"
      ]
     },
     "execution_count": 63,
     "metadata": {},
     "output_type": "execute_result"
    }
   ],
   "source": [
    "df_melt[['rent']].isnull().sum(axis=0)"
   ]
  },
  {
   "cell_type": "code",
   "execution_count": 64,
   "metadata": {},
   "outputs": [],
   "source": [
    "df_melt = df_melt[df_melt['rent'].isnull()==False]\n",
    "df_melt = df_melt[df_melt.year == 2018]"
   ]
  },
  {
   "cell_type": "code",
   "execution_count": 96,
   "metadata": {},
   "outputs": [
    {
     "name": "stdout",
     "output_type": "stream",
     "text": [
      "RegionID\n",
      "SizeRank\n",
      "State\n",
      "Metro\n",
      "CountyName\n",
      "City\n",
      "RegionName\n",
      "date\n",
      "rent\n",
      "year\n",
      "month\n",
      "difference\n",
      "prior_month\n",
      "do_date\n",
      "total_pop\n",
      "households\n",
      "male_pop\n",
      "female_pop\n",
      "median_age\n",
      "male_under_5\n",
      "male_5_to_9\n",
      "male_10_to_14\n",
      "male_15_to_17\n",
      "male_18_to_19\n",
      "male_20\n",
      "male_21\n",
      "male_22_to_24\n",
      "male_25_to_29\n",
      "male_30_to_34\n",
      "male_35_to_39\n",
      "male_40_to_44\n",
      "male_45_to_49\n",
      "male_50_to_54\n",
      "male_55_to_59\n",
      "male_65_to_66\n",
      "male_67_to_69\n",
      "male_70_to_74\n",
      "male_75_to_79\n",
      "male_80_to_84\n",
      "male_85_and_over\n",
      "female_under_5\n",
      "female_5_to_9\n",
      "female_10_to_14\n",
      "female_15_to_17\n",
      "female_18_to_19\n",
      "female_20\n",
      "female_21\n",
      "female_22_to_24\n",
      "female_25_to_29\n",
      "female_30_to_34\n",
      "female_35_to_39\n",
      "female_40_to_44\n",
      "female_45_to_49\n",
      "female_50_to_54\n",
      "female_55_to_59\n",
      "female_60_to_61\n",
      "female_62_to_64\n",
      "female_65_to_66\n",
      "female_67_to_69\n",
      "female_70_to_74\n",
      "female_75_to_79\n",
      "female_80_to_84\n",
      "female_85_and_over\n",
      "white_pop\n",
      "population_1_year_and_over\n",
      "population_3_years_over\n",
      "pop_5_years_over\n",
      "pop_15_and_over\n",
      "pop_16_over\n",
      "pop_25_years_over\n",
      "pop_25_64\n",
      "pop_never_married\n",
      "pop_now_married\n",
      "pop_separated\n",
      "pop_widowed\n",
      "pop_divorced\n",
      "not_us_citizen_pop\n",
      "black_pop\n",
      "asian_pop\n",
      "hispanic_pop\n",
      "amerindian_pop\n",
      "other_race_pop\n",
      "two_or_more_races_pop\n",
      "hispanic_any_race\n",
      "not_hispanic_pop\n",
      "asian_male_45_54\n",
      "asian_male_55_64\n",
      "black_male_45_54\n",
      "black_male_55_64\n",
      "hispanic_male_45_54\n",
      "hispanic_male_55_64\n",
      "white_male_45_54\n",
      "white_male_55_64\n",
      "median_income\n",
      "income_per_capita\n",
      "income_less_10000\n",
      "income_10000_14999\n",
      "income_15000_19999\n",
      "income_20000_24999\n",
      "income_25000_29999\n",
      "income_30000_34999\n",
      "income_35000_39999\n",
      "income_40000_44999\n",
      "income_45000_49999\n",
      "income_50000_59999\n",
      "income_60000_74999\n",
      "income_75000_99999\n",
      "income_100000_124999\n",
      "income_125000_149999\n",
      "income_150000_199999\n",
      "income_200000_or_more\n",
      "pop_determined_poverty_status\n",
      "poverty\n",
      "gini_index\n",
      "housing_units\n",
      "renter_occupied_housing_units_paying_cash_median_gross_rent\n",
      "owner_occupied_housing_units_lower_value_quartile\n",
      "owner_occupied_housing_units_median_value\n",
      "owner_occupied_housing_units_upper_value_quartile\n",
      "occupied_housing_units\n",
      "housing_units_renter_occupied\n",
      "vacant_housing_units\n",
      "vacant_housing_units_for_rent\n",
      "vacant_housing_units_for_sale\n",
      "dwellings_1_units_detached\n",
      "dwellings_1_units_attached\n",
      "dwellings_2_units\n",
      "dwellings_3_to_4_units\n",
      "dwellings_5_to_9_units\n",
      "dwellings_10_to_19_units\n",
      "dwellings_20_to_49_units\n",
      "dwellings_50_or_more_units\n",
      "mobile_homes\n",
      "housing_built_2005_or_later\n",
      "housing_built_2000_to_2004\n",
      "housing_built_1939_or_earlier\n",
      "median_year_structure_built\n",
      "married_households\n",
      "nonfamily_households\n",
      "family_households\n",
      "households_public_asst_or_food_stamps\n",
      "male_male_households\n",
      "female_female_households\n",
      "children\n",
      "children_in_single_female_hh\n",
      "median_rent\n",
      "percent_income_spent_on_rent\n",
      "rent_burden_not_computed\n",
      "rent_over_50_percent\n",
      "rent_40_to_50_percent\n",
      "rent_35_to_40_percent\n",
      "rent_30_to_35_percent\n",
      "rent_25_to_30_percent\n",
      "rent_20_to_25_percent\n",
      "rent_15_to_20_percent\n",
      "rent_10_to_15_percent\n",
      "rent_under_10_percent\n",
      "owner_occupied_housing_units\n",
      "million_dollar_housing_units\n",
      "mortgaged_housing_units\n",
      "different_house_year_ago_different_city\n",
      "different_house_year_ago_same_city\n",
      "families_with_young_children\n",
      "two_parent_families_with_young_children\n",
      "two_parents_in_labor_force_families_with_young_children\n",
      "two_parents_father_in_labor_force_families_with_young_children\n",
      "two_parents_mother_in_labor_force_families_with_young_children\n",
      "two_parents_not_in_labor_force_families_with_young_children\n",
      "one_parent_families_with_young_children\n",
      "father_one_parent_families_with_young_children\n",
      "father_in_labor_force_one_parent_families_with_young_children\n",
      "commute_less_10_mins\n",
      "commute_10_14_mins\n",
      "commute_15_19_mins\n",
      "commute_20_24_mins\n",
      "commute_25_29_mins\n",
      "commute_30_34_mins\n",
      "commute_35_44_mins\n",
      "commute_60_more_mins\n",
      "commute_45_59_mins\n",
      "commuters_16_over\n",
      "walked_to_work\n",
      "worked_at_home\n",
      "no_car\n",
      "no_cars\n",
      "one_car\n",
      "two_cars\n",
      "three_cars\n",
      "four_more_cars\n",
      "aggregate_travel_time_to_work\n",
      "commuters_by_public_transportation\n",
      "commuters_by_bus\n",
      "commuters_by_car_truck_van\n",
      "commuters_by_carpool\n",
      "commuters_by_subway_or_elevated\n",
      "commuters_drove_alone\n",
      "group_quarters\n",
      "associates_degree\n",
      "bachelors_degree\n",
      "high_school_diploma\n",
      "less_one_year_college\n",
      "masters_degree\n",
      "one_year_more_college\n",
      "less_than_high_school_graduate\n",
      "high_school_including_ged\n",
      "bachelors_degree_2\n",
      "bachelors_degree_or_higher_25_64\n",
      "graduate_professional_degree\n",
      "some_college_and_associates_degree\n",
      "male_45_64_associates_degree\n",
      "male_45_64_bachelors_degree\n",
      "male_45_64_graduate_degree\n",
      "male_45_64_less_than_9_grade\n",
      "male_45_64_grade_9_12\n",
      "male_45_64_high_school\n",
      "male_45_64_some_college\n",
      "male_45_to_64\n",
      "employed_pop\n",
      "unemployed_pop\n",
      "pop_in_labor_force\n",
      "not_in_labor_force\n",
      "workers_16_and_over\n",
      "armed_forces\n",
      "civilian_labor_force\n",
      "employed_agriculture_forestry_fishing_hunting_mining\n",
      "employed_arts_entertainment_recreation_accommodation_food\n",
      "employed_construction\n",
      "employed_education_health_social\n",
      "employed_finance_insurance_real_estate\n",
      "employed_information\n",
      "employed_manufacturing\n",
      "employed_other_services_not_public_admin\n",
      "employed_public_administration\n",
      "employed_retail_trade\n",
      "employed_science_management_admin_waste\n",
      "employed_transportation_warehousing_utilities\n",
      "employed_wholesale_trade\n",
      "occupation_management_arts\n",
      "occupation_natural_resources_construction_maintenance\n",
      "occupation_production_transportation_material\n",
      "occupation_sales_office\n",
      "occupation_services\n",
      "management_business_sci_arts_employed\n",
      "sales_office_employed\n",
      "in_grades_1_to_4\n",
      "in_grades_5_to_8\n",
      "in_grades_9_to_12\n",
      "in_school\n",
      "in_undergrad_college\n",
      "speak_only_english_at_home\n",
      "speak_spanish_at_home\n",
      "speak_spanish_at_home_low_english\n",
      "bachelors_ormore\n",
      "mean_commute_time\n"
     ]
    }
   ],
   "source": [
    "for i in df_melt.columns:\n",
    "    print(i)"
   ]
  },
  {
   "cell_type": "code",
   "execution_count": 66,
   "metadata": {},
   "outputs": [
    {
     "data": {
      "text/html": [
       "<div>\n",
       "<style scoped>\n",
       "    .dataframe tbody tr th:only-of-type {\n",
       "        vertical-align: middle;\n",
       "    }\n",
       "\n",
       "    .dataframe tbody tr th {\n",
       "        vertical-align: top;\n",
       "    }\n",
       "\n",
       "    .dataframe thead th {\n",
       "        text-align: right;\n",
       "    }\n",
       "</style>\n",
       "<table border=\"1\" class=\"dataframe\">\n",
       "  <thead>\n",
       "    <tr style=\"text-align: right;\">\n",
       "      <th></th>\n",
       "      <th>RegionID</th>\n",
       "      <th>SizeRank</th>\n",
       "      <th>State</th>\n",
       "      <th>Metro</th>\n",
       "      <th>CountyName</th>\n",
       "      <th>City</th>\n",
       "      <th>RegionName</th>\n",
       "      <th>date</th>\n",
       "      <th>rent</th>\n",
       "      <th>year</th>\n",
       "      <th>...</th>\n",
       "      <th>management_business_sci_arts_employed</th>\n",
       "      <th>sales_office_employed</th>\n",
       "      <th>in_grades_1_to_4</th>\n",
       "      <th>in_grades_5_to_8</th>\n",
       "      <th>in_grades_9_to_12</th>\n",
       "      <th>in_school</th>\n",
       "      <th>in_undergrad_college</th>\n",
       "      <th>speak_only_english_at_home</th>\n",
       "      <th>speak_spanish_at_home</th>\n",
       "      <th>speak_spanish_at_home_low_english</th>\n",
       "    </tr>\n",
       "  </thead>\n",
       "  <tbody>\n",
       "    <tr>\n",
       "      <th>88</th>\n",
       "      <td>72444</td>\n",
       "      <td>376</td>\n",
       "      <td>FL</td>\n",
       "      <td>Miami-Fort Lauderdale-West Palm Beach</td>\n",
       "      <td>Miami-Dade County</td>\n",
       "      <td>Miami Beach</td>\n",
       "      <td>33141</td>\n",
       "      <td>2018-01</td>\n",
       "      <td>1824.0</td>\n",
       "      <td>2018</td>\n",
       "      <td>...</td>\n",
       "      <td>172.0</td>\n",
       "      <td>107.0</td>\n",
       "      <td>182.0</td>\n",
       "      <td>98.0</td>\n",
       "      <td>57.0</td>\n",
       "      <td>491.0</td>\n",
       "      <td>99.0</td>\n",
       "      <td>NaN</td>\n",
       "      <td>NaN</td>\n",
       "      <td>NaN</td>\n",
       "    </tr>\n",
       "    <tr>\n",
       "      <th>89</th>\n",
       "      <td>72444</td>\n",
       "      <td>376</td>\n",
       "      <td>FL</td>\n",
       "      <td>Miami-Fort Lauderdale-West Palm Beach</td>\n",
       "      <td>Miami-Dade County</td>\n",
       "      <td>Miami Beach</td>\n",
       "      <td>33141</td>\n",
       "      <td>2018-02</td>\n",
       "      <td>1799.0</td>\n",
       "      <td>2018</td>\n",
       "      <td>...</td>\n",
       "      <td>172.0</td>\n",
       "      <td>107.0</td>\n",
       "      <td>182.0</td>\n",
       "      <td>98.0</td>\n",
       "      <td>57.0</td>\n",
       "      <td>491.0</td>\n",
       "      <td>99.0</td>\n",
       "      <td>NaN</td>\n",
       "      <td>NaN</td>\n",
       "      <td>NaN</td>\n",
       "    </tr>\n",
       "    <tr>\n",
       "      <th>90</th>\n",
       "      <td>72444</td>\n",
       "      <td>376</td>\n",
       "      <td>FL</td>\n",
       "      <td>Miami-Fort Lauderdale-West Palm Beach</td>\n",
       "      <td>Miami-Dade County</td>\n",
       "      <td>Miami Beach</td>\n",
       "      <td>33141</td>\n",
       "      <td>2018-03</td>\n",
       "      <td>1801.0</td>\n",
       "      <td>2018</td>\n",
       "      <td>...</td>\n",
       "      <td>172.0</td>\n",
       "      <td>107.0</td>\n",
       "      <td>182.0</td>\n",
       "      <td>98.0</td>\n",
       "      <td>57.0</td>\n",
       "      <td>491.0</td>\n",
       "      <td>99.0</td>\n",
       "      <td>NaN</td>\n",
       "      <td>NaN</td>\n",
       "      <td>NaN</td>\n",
       "    </tr>\n",
       "    <tr>\n",
       "      <th>91</th>\n",
       "      <td>72444</td>\n",
       "      <td>376</td>\n",
       "      <td>FL</td>\n",
       "      <td>Miami-Fort Lauderdale-West Palm Beach</td>\n",
       "      <td>Miami-Dade County</td>\n",
       "      <td>Miami Beach</td>\n",
       "      <td>33141</td>\n",
       "      <td>2018-04</td>\n",
       "      <td>1799.0</td>\n",
       "      <td>2018</td>\n",
       "      <td>...</td>\n",
       "      <td>172.0</td>\n",
       "      <td>107.0</td>\n",
       "      <td>182.0</td>\n",
       "      <td>98.0</td>\n",
       "      <td>57.0</td>\n",
       "      <td>491.0</td>\n",
       "      <td>99.0</td>\n",
       "      <td>NaN</td>\n",
       "      <td>NaN</td>\n",
       "      <td>NaN</td>\n",
       "    </tr>\n",
       "    <tr>\n",
       "      <th>92</th>\n",
       "      <td>72444</td>\n",
       "      <td>376</td>\n",
       "      <td>FL</td>\n",
       "      <td>Miami-Fort Lauderdale-West Palm Beach</td>\n",
       "      <td>Miami-Dade County</td>\n",
       "      <td>Miami Beach</td>\n",
       "      <td>33141</td>\n",
       "      <td>2018-05</td>\n",
       "      <td>1792.0</td>\n",
       "      <td>2018</td>\n",
       "      <td>...</td>\n",
       "      <td>172.0</td>\n",
       "      <td>107.0</td>\n",
       "      <td>182.0</td>\n",
       "      <td>98.0</td>\n",
       "      <td>57.0</td>\n",
       "      <td>491.0</td>\n",
       "      <td>99.0</td>\n",
       "      <td>NaN</td>\n",
       "      <td>NaN</td>\n",
       "      <td>NaN</td>\n",
       "    </tr>\n",
       "  </tbody>\n",
       "</table>\n",
       "<p>5 rows × 252 columns</p>\n",
       "</div>"
      ],
      "text/plain": [
       "   RegionID  SizeRank State                                  Metro  \\\n",
       "88    72444       376    FL  Miami-Fort Lauderdale-West Palm Beach   \n",
       "89    72444       376    FL  Miami-Fort Lauderdale-West Palm Beach   \n",
       "90    72444       376    FL  Miami-Fort Lauderdale-West Palm Beach   \n",
       "91    72444       376    FL  Miami-Fort Lauderdale-West Palm Beach   \n",
       "92    72444       376    FL  Miami-Fort Lauderdale-West Palm Beach   \n",
       "\n",
       "           CountyName         City  RegionName     date    rent  year  ...  \\\n",
       "88  Miami-Dade County  Miami Beach       33141  2018-01  1824.0  2018  ...   \n",
       "89  Miami-Dade County  Miami Beach       33141  2018-02  1799.0  2018  ...   \n",
       "90  Miami-Dade County  Miami Beach       33141  2018-03  1801.0  2018  ...   \n",
       "91  Miami-Dade County  Miami Beach       33141  2018-04  1799.0  2018  ...   \n",
       "92  Miami-Dade County  Miami Beach       33141  2018-05  1792.0  2018  ...   \n",
       "\n",
       "    management_business_sci_arts_employed  sales_office_employed  \\\n",
       "88                                  172.0                  107.0   \n",
       "89                                  172.0                  107.0   \n",
       "90                                  172.0                  107.0   \n",
       "91                                  172.0                  107.0   \n",
       "92                                  172.0                  107.0   \n",
       "\n",
       "   in_grades_1_to_4 in_grades_5_to_8  in_grades_9_to_12  in_school  \\\n",
       "88            182.0             98.0               57.0      491.0   \n",
       "89            182.0             98.0               57.0      491.0   \n",
       "90            182.0             98.0               57.0      491.0   \n",
       "91            182.0             98.0               57.0      491.0   \n",
       "92            182.0             98.0               57.0      491.0   \n",
       "\n",
       "    in_undergrad_college  speak_only_english_at_home  speak_spanish_at_home  \\\n",
       "88                  99.0                         NaN                    NaN   \n",
       "89                  99.0                         NaN                    NaN   \n",
       "90                  99.0                         NaN                    NaN   \n",
       "91                  99.0                         NaN                    NaN   \n",
       "92                  99.0                         NaN                    NaN   \n",
       "\n",
       "    speak_spanish_at_home_low_english  \n",
       "88                                NaN  \n",
       "89                                NaN  \n",
       "90                                NaN  \n",
       "91                                NaN  \n",
       "92                                NaN  \n",
       "\n",
       "[5 rows x 252 columns]"
      ]
     },
     "execution_count": 66,
     "metadata": {},
     "output_type": "execute_result"
    }
   ],
   "source": [
    "df_melt.head()"
   ]
  },
  {
   "cell_type": "code",
   "execution_count": null,
   "metadata": {},
   "outputs": [],
   "source": []
  },
  {
   "cell_type": "code",
   "execution_count": null,
   "metadata": {},
   "outputs": [],
   "source": []
  },
  {
   "cell_type": "code",
   "execution_count": 116,
   "metadata": {},
   "outputs": [],
   "source": [
    "from sklearn.model_selection import train_test_split\n",
    "from sklearn.linear_model import LinearRegression\n",
    "ols = LinearRegression()\n",
    "\n",
    "from sklearn.ensemble import RandomForestRegressor\n",
    "\n",
    "rfc = RandomForestRegressor()"
   ]
  },
  {
   "cell_type": "code",
   "execution_count": 117,
   "metadata": {},
   "outputs": [],
   "source": [
    "df_melt['bachelors_ormore'] = df_melt['bachelors_degree_or_higher_25_64'] / df_melt['total_pop']\n",
    "df_melt['mean_commute_time'] = df_melt['aggregate_travel_time_to_work'] / df_melt['total_pop']"
   ]
  },
  {
   "cell_type": "code",
   "execution_count": 118,
   "metadata": {},
   "outputs": [
    {
     "name": "stderr",
     "output_type": "stream",
     "text": [
      "<ipython-input-118-f2dd12bea04e>:5: SettingWithCopyWarning: \n",
      "A value is trying to be set on a copy of a slice from a DataFrame.\n",
      "Try using .loc[row_indexer,col_indexer] = value instead\n",
      "\n",
      "See the caveats in the documentation: https://pandas.pydata.org/pandas-docs/stable/user_guide/indexing.html#returning-a-view-versus-a-copy\n",
      "  feats[col] = feats[col].fillna(feats[col].mean())\n",
      "<ipython-input-118-f2dd12bea04e>:6: SettingWithCopyWarning: \n",
      "A value is trying to be set on a copy of a slice from a DataFrame.\n",
      "Try using .loc[row_indexer,col_indexer] = value instead\n",
      "\n",
      "See the caveats in the documentation: https://pandas.pydata.org/pandas-docs/stable/user_guide/indexing.html#returning-a-view-versus-a-copy\n",
      "  feats[col] = feats[col].astype(float)\n"
     ]
    }
   ],
   "source": [
    "df_melt['rent'] = df_melt['rent'].astype(float)\n",
    "target =  df_melt['rent']\n",
    "feats = df_melt[['total_pop','median_income','median_age','in_undergrad_college']]\n",
    "for col in feats.columns:\n",
    "    feats[col] = feats[col].fillna(feats[col].mean())\n",
    "    feats[col] = feats[col].astype(float)"
   ]
  },
  {
   "cell_type": "code",
   "execution_count": 119,
   "metadata": {},
   "outputs": [],
   "source": [
    "Xtrain, Xtest, ytrain, ytest = train_test_split(feats,target)"
   ]
  },
  {
   "cell_type": "code",
   "execution_count": 120,
   "metadata": {},
   "outputs": [
    {
     "data": {
      "text/plain": [
       "array([37283., 42183., 35684., 76875.])"
      ]
     },
     "execution_count": 120,
     "metadata": {},
     "output_type": "execute_result"
    }
   ],
   "source": [
    "Xtrain['median_income'].unique()"
   ]
  },
  {
   "cell_type": "code",
   "execution_count": 121,
   "metadata": {},
   "outputs": [
    {
     "name": "stdout",
     "output_type": "stream",
     "text": [
      "Training R2: 0.9941676718621162\n",
      "Test R2: 0.9910999063745894\n"
     ]
    }
   ],
   "source": [
    "ols.fit(Xtrain,ytrain)\n",
    "print(f\"Training R2: {ols.score(Xtrain,ytrain)}\")\n",
    "print(f\"Test R2: {ols.score(Xtest,ytest)}\")"
   ]
  },
  {
   "cell_type": "code",
   "execution_count": 103,
   "metadata": {},
   "outputs": [
    {
     "data": {
      "text/plain": [
       "0.9947335292005061"
      ]
     },
     "execution_count": 103,
     "metadata": {},
     "output_type": "execute_result"
    }
   ],
   "source": [
    "rfc.fit(Xtrain,ytrain)\n",
    "rfc.score(Xtest,ytest)"
   ]
  },
  {
   "cell_type": "code",
   "execution_count": null,
   "metadata": {},
   "outputs": [],
   "source": []
  },
  {
   "cell_type": "code",
   "execution_count": 114,
   "metadata": {},
   "outputs": [
    {
     "data": {
      "text/plain": [
       "array([ 99.,   0.,  75., 146.])"
      ]
     },
     "execution_count": 114,
     "metadata": {},
     "output_type": "execute_result"
    }
   ],
   "source": [
    "df_melt['in_undergrad_college'].unique()"
   ]
  },
  {
   "cell_type": "code",
   "execution_count": 109,
   "metadata": {},
   "outputs": [
    {
     "data": {
      "text/plain": [
       "48"
      ]
     },
     "execution_count": 109,
     "metadata": {},
     "output_type": "execute_result"
    }
   ],
   "source": [
    "len(df_melt)"
   ]
  },
  {
   "cell_type": "code",
   "execution_count": null,
   "metadata": {},
   "outputs": [],
   "source": []
  },
  {
   "cell_type": "code",
   "execution_count": null,
   "metadata": {},
   "outputs": [],
   "source": []
  }
 ],
 "metadata": {
  "kernelspec": {
   "display_name": "Python 3",
   "language": "python",
   "name": "python3"
  },
  "language_info": {
   "codemirror_mode": {
    "name": "ipython",
    "version": 3
   },
   "file_extension": ".py",
   "mimetype": "text/x-python",
   "name": "python",
   "nbconvert_exporter": "python",
   "pygments_lexer": "ipython3",
   "version": "3.8.5"
  }
 },
 "nbformat": 4,
 "nbformat_minor": 4
}
