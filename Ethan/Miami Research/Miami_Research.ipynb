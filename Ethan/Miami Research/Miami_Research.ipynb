{
 "cells": [
  {
   "cell_type": "code",
   "execution_count": 28,
   "metadata": {},
   "outputs": [],
   "source": [
    "import pandas as pd\n",
    "import numpy as np"
   ]
  },
  {
   "cell_type": "code",
   "execution_count": 29,
   "metadata": {},
   "outputs": [],
   "source": [
    "df_initial = pd.read_csv('Zip_Zri_MultiFamilyResidenceRental.csv')\n",
    "census_df_initial = pd.read_csv('zipcode_census_data_2018_5yr.csv')"
   ]
  },
  {
   "cell_type": "code",
   "execution_count": 30,
   "metadata": {},
   "outputs": [],
   "source": [
    "include_cities = ['Miami Beach','Miami','North Miami']\n",
    "\n",
    "df = df_initial.copy()\n",
    "df = df[df['City'].isin(include_cities)]\n",
    "\n",
    "census_df = census_df_initial.copy()\n",
    "census_df = census_df.rename(columns={'geo_id':'RegionID'})"
   ]
  },
  {
   "cell_type": "code",
   "execution_count": null,
   "metadata": {},
   "outputs": [],
   "source": []
  },
  {
   "cell_type": "code",
   "execution_count": null,
   "metadata": {},
   "outputs": [],
   "source": []
  },
  {
   "cell_type": "code",
   "execution_count": null,
   "metadata": {},
   "outputs": [],
   "source": []
  },
  {
   "cell_type": "code",
   "execution_count": 31,
   "metadata": {},
   "outputs": [],
   "source": [
    "# for i in df['City'].unique():\n",
    "#     if 'miami' in i.lower():\n",
    "#         print(i)"
   ]
  },
  {
   "cell_type": "code",
   "execution_count": 32,
   "metadata": {},
   "outputs": [],
   "source": [
    "# monthly_increase = np.mean(df.iloc[:,2:87].diff(axis=1))\n",
    "# monthly_increase = round(monthly_increase, 2)"
   ]
  },
  {
   "cell_type": "code",
   "execution_count": 33,
   "metadata": {},
   "outputs": [],
   "source": [
    "df_melt = df.melt(id_vars = ['RegionID','SizeRank','State','Metro','CountyName', 'City','RegionName'], var_name = \"date\",value_name=\"rent\")\n",
    "df_melt['year'] = df_melt['date'].apply(lambda x: x.split('-')[0])\n",
    "df_melt['month'] = df_melt['date'].apply(lambda x: x.split('-')[1])\n",
    "for col in ['month','year']:\n",
    "    df_melt[col] = df_melt[col].astype(int)"
   ]
  },
  {
   "cell_type": "code",
   "execution_count": 34,
   "metadata": {},
   "outputs": [],
   "source": [
    "dates = df_melt['date'].unique().tolist()\n",
    "dates.sort()"
   ]
  },
  {
   "cell_type": "code",
   "execution_count": 35,
   "metadata": {},
   "outputs": [
    {
     "data": {
      "text/plain": [
       "113"
      ]
     },
     "execution_count": 35,
     "metadata": {},
     "output_type": "execute_result"
    }
   ],
   "source": [
    "len(dates)"
   ]
  },
  {
   "cell_type": "code",
   "execution_count": 36,
   "metadata": {},
   "outputs": [],
   "source": [
    "difference_dict = {}\n",
    "\n",
    "for i in range(1,len(dates)):\n",
    "    cur_month = dates[i]\n",
    "    last_month = dates[i - 1]\n",
    "    \n",
    "    test = (df[cur_month]-df[last_month]).mean()\n",
    "    difference_dict[cur_month] = test"
   ]
  },
  {
   "cell_type": "code",
   "execution_count": 37,
   "metadata": {},
   "outputs": [],
   "source": [
    "def get_prior_month(date_val):\n",
    "    month = date_val.split('-')[1]\n",
    "    year = int(date_val.split('-')[0])\n",
    "    month_map = {'01':'12',\n",
    "                 '02':'01',\n",
    "                 '03':'02',\n",
    "                 '04':'03',\n",
    "                 '05':'04',\n",
    "                 '06':'05',\n",
    "                 '07':'06',\n",
    "                 '08':'07',\n",
    "                 '09':'08',\n",
    "                 '10':'09',\n",
    "                 '11':'10',\n",
    "                 '12':'11'\n",
    "                }\n",
    "    \n",
    "    if month == '01':\n",
    "        return '%s-%s' % (str(year-1),month_map[month])\n",
    "    else:\n",
    "        return '%s-%s' % (str(year),month_map[month])"
   ]
  },
  {
   "cell_type": "code",
   "execution_count": 38,
   "metadata": {},
   "outputs": [],
   "source": [
    "df_melt['difference'] = df_melt['date'].apply(lambda x: difference_dict[x] if x in difference_dict else 0)\n",
    "df_melt['prior_month'] = df_melt['date'].apply(lambda x: get_prior_month(x))"
   ]
  },
  {
   "cell_type": "code",
   "execution_count": 39,
   "metadata": {},
   "outputs": [],
   "source": [
    "for col in ['RegionID']:\n",
    "    census_df[col] = census_df[col].astype(str)\n",
    "    df_melt[col] = df_melt[col].astype(str)"
   ]
  },
  {
   "cell_type": "code",
   "execution_count": 40,
   "metadata": {},
   "outputs": [],
   "source": [
    "census_df = census_df[census_df['RegionID'].isin(df_melt['RegionID'].unique().tolist())]"
   ]
  },
  {
   "cell_type": "code",
   "execution_count": 41,
   "metadata": {},
   "outputs": [],
   "source": [
    "df_melt = pd.merge(df_melt,census_df,on=['RegionID'],how='inner')"
   ]
  },
  {
   "cell_type": "code",
   "execution_count": 42,
   "metadata": {},
   "outputs": [
    {
     "data": {
      "text/plain": [
       "rent    43\n",
       "dtype: int64"
      ]
     },
     "execution_count": 42,
     "metadata": {},
     "output_type": "execute_result"
    }
   ],
   "source": [
    "df_melt[['rent']].isnull().sum(axis=0)"
   ]
  },
  {
   "cell_type": "code",
   "execution_count": 43,
   "metadata": {},
   "outputs": [],
   "source": [
    "df_melt = df_melt[df_melt['rent'].isnull()==False]\n",
    "df_melt = df_melt[df_melt.year == 2018]"
   ]
  },
  {
   "cell_type": "code",
   "execution_count": 44,
   "metadata": {},
   "outputs": [
    {
     "data": {
      "text/html": [
       "<div>\n",
       "<style scoped>\n",
       "    .dataframe tbody tr th:only-of-type {\n",
       "        vertical-align: middle;\n",
       "    }\n",
       "\n",
       "    .dataframe tbody tr th {\n",
       "        vertical-align: top;\n",
       "    }\n",
       "\n",
       "    .dataframe thead th {\n",
       "        text-align: right;\n",
       "    }\n",
       "</style>\n",
       "<table border=\"1\" class=\"dataframe\">\n",
       "  <thead>\n",
       "    <tr style=\"text-align: right;\">\n",
       "      <th></th>\n",
       "      <th>RegionID</th>\n",
       "      <th>SizeRank</th>\n",
       "      <th>State</th>\n",
       "      <th>Metro</th>\n",
       "      <th>CountyName</th>\n",
       "      <th>City</th>\n",
       "      <th>RegionName</th>\n",
       "      <th>date</th>\n",
       "      <th>rent</th>\n",
       "      <th>year</th>\n",
       "      <th>...</th>\n",
       "      <th>management_business_sci_arts_employed</th>\n",
       "      <th>sales_office_employed</th>\n",
       "      <th>in_grades_1_to_4</th>\n",
       "      <th>in_grades_5_to_8</th>\n",
       "      <th>in_grades_9_to_12</th>\n",
       "      <th>in_school</th>\n",
       "      <th>in_undergrad_college</th>\n",
       "      <th>speak_only_english_at_home</th>\n",
       "      <th>speak_spanish_at_home</th>\n",
       "      <th>speak_spanish_at_home_low_english</th>\n",
       "    </tr>\n",
       "  </thead>\n",
       "  <tbody>\n",
       "    <tr>\n",
       "      <th>88</th>\n",
       "      <td>72444</td>\n",
       "      <td>376</td>\n",
       "      <td>FL</td>\n",
       "      <td>Miami-Fort Lauderdale-West Palm Beach</td>\n",
       "      <td>Miami-Dade County</td>\n",
       "      <td>Miami Beach</td>\n",
       "      <td>33141</td>\n",
       "      <td>2018-01</td>\n",
       "      <td>1824.0</td>\n",
       "      <td>2018</td>\n",
       "      <td>...</td>\n",
       "      <td>172.0</td>\n",
       "      <td>107.0</td>\n",
       "      <td>182.0</td>\n",
       "      <td>98.0</td>\n",
       "      <td>57.0</td>\n",
       "      <td>491.0</td>\n",
       "      <td>99.0</td>\n",
       "      <td>NaN</td>\n",
       "      <td>NaN</td>\n",
       "      <td>NaN</td>\n",
       "    </tr>\n",
       "    <tr>\n",
       "      <th>89</th>\n",
       "      <td>72444</td>\n",
       "      <td>376</td>\n",
       "      <td>FL</td>\n",
       "      <td>Miami-Fort Lauderdale-West Palm Beach</td>\n",
       "      <td>Miami-Dade County</td>\n",
       "      <td>Miami Beach</td>\n",
       "      <td>33141</td>\n",
       "      <td>2018-02</td>\n",
       "      <td>1799.0</td>\n",
       "      <td>2018</td>\n",
       "      <td>...</td>\n",
       "      <td>172.0</td>\n",
       "      <td>107.0</td>\n",
       "      <td>182.0</td>\n",
       "      <td>98.0</td>\n",
       "      <td>57.0</td>\n",
       "      <td>491.0</td>\n",
       "      <td>99.0</td>\n",
       "      <td>NaN</td>\n",
       "      <td>NaN</td>\n",
       "      <td>NaN</td>\n",
       "    </tr>\n",
       "    <tr>\n",
       "      <th>90</th>\n",
       "      <td>72444</td>\n",
       "      <td>376</td>\n",
       "      <td>FL</td>\n",
       "      <td>Miami-Fort Lauderdale-West Palm Beach</td>\n",
       "      <td>Miami-Dade County</td>\n",
       "      <td>Miami Beach</td>\n",
       "      <td>33141</td>\n",
       "      <td>2018-03</td>\n",
       "      <td>1801.0</td>\n",
       "      <td>2018</td>\n",
       "      <td>...</td>\n",
       "      <td>172.0</td>\n",
       "      <td>107.0</td>\n",
       "      <td>182.0</td>\n",
       "      <td>98.0</td>\n",
       "      <td>57.0</td>\n",
       "      <td>491.0</td>\n",
       "      <td>99.0</td>\n",
       "      <td>NaN</td>\n",
       "      <td>NaN</td>\n",
       "      <td>NaN</td>\n",
       "    </tr>\n",
       "    <tr>\n",
       "      <th>91</th>\n",
       "      <td>72444</td>\n",
       "      <td>376</td>\n",
       "      <td>FL</td>\n",
       "      <td>Miami-Fort Lauderdale-West Palm Beach</td>\n",
       "      <td>Miami-Dade County</td>\n",
       "      <td>Miami Beach</td>\n",
       "      <td>33141</td>\n",
       "      <td>2018-04</td>\n",
       "      <td>1799.0</td>\n",
       "      <td>2018</td>\n",
       "      <td>...</td>\n",
       "      <td>172.0</td>\n",
       "      <td>107.0</td>\n",
       "      <td>182.0</td>\n",
       "      <td>98.0</td>\n",
       "      <td>57.0</td>\n",
       "      <td>491.0</td>\n",
       "      <td>99.0</td>\n",
       "      <td>NaN</td>\n",
       "      <td>NaN</td>\n",
       "      <td>NaN</td>\n",
       "    </tr>\n",
       "    <tr>\n",
       "      <th>92</th>\n",
       "      <td>72444</td>\n",
       "      <td>376</td>\n",
       "      <td>FL</td>\n",
       "      <td>Miami-Fort Lauderdale-West Palm Beach</td>\n",
       "      <td>Miami-Dade County</td>\n",
       "      <td>Miami Beach</td>\n",
       "      <td>33141</td>\n",
       "      <td>2018-05</td>\n",
       "      <td>1792.0</td>\n",
       "      <td>2018</td>\n",
       "      <td>...</td>\n",
       "      <td>172.0</td>\n",
       "      <td>107.0</td>\n",
       "      <td>182.0</td>\n",
       "      <td>98.0</td>\n",
       "      <td>57.0</td>\n",
       "      <td>491.0</td>\n",
       "      <td>99.0</td>\n",
       "      <td>NaN</td>\n",
       "      <td>NaN</td>\n",
       "      <td>NaN</td>\n",
       "    </tr>\n",
       "  </tbody>\n",
       "</table>\n",
       "<p>5 rows × 252 columns</p>\n",
       "</div>"
      ],
      "text/plain": [
       "   RegionID  SizeRank State                                  Metro  \\\n",
       "88    72444       376    FL  Miami-Fort Lauderdale-West Palm Beach   \n",
       "89    72444       376    FL  Miami-Fort Lauderdale-West Palm Beach   \n",
       "90    72444       376    FL  Miami-Fort Lauderdale-West Palm Beach   \n",
       "91    72444       376    FL  Miami-Fort Lauderdale-West Palm Beach   \n",
       "92    72444       376    FL  Miami-Fort Lauderdale-West Palm Beach   \n",
       "\n",
       "           CountyName         City  RegionName     date    rent  year  ...  \\\n",
       "88  Miami-Dade County  Miami Beach       33141  2018-01  1824.0  2018  ...   \n",
       "89  Miami-Dade County  Miami Beach       33141  2018-02  1799.0  2018  ...   \n",
       "90  Miami-Dade County  Miami Beach       33141  2018-03  1801.0  2018  ...   \n",
       "91  Miami-Dade County  Miami Beach       33141  2018-04  1799.0  2018  ...   \n",
       "92  Miami-Dade County  Miami Beach       33141  2018-05  1792.0  2018  ...   \n",
       "\n",
       "    management_business_sci_arts_employed  sales_office_employed  \\\n",
       "88                                  172.0                  107.0   \n",
       "89                                  172.0                  107.0   \n",
       "90                                  172.0                  107.0   \n",
       "91                                  172.0                  107.0   \n",
       "92                                  172.0                  107.0   \n",
       "\n",
       "   in_grades_1_to_4 in_grades_5_to_8  in_grades_9_to_12  in_school  \\\n",
       "88            182.0             98.0               57.0      491.0   \n",
       "89            182.0             98.0               57.0      491.0   \n",
       "90            182.0             98.0               57.0      491.0   \n",
       "91            182.0             98.0               57.0      491.0   \n",
       "92            182.0             98.0               57.0      491.0   \n",
       "\n",
       "    in_undergrad_college  speak_only_english_at_home  speak_spanish_at_home  \\\n",
       "88                  99.0                         NaN                    NaN   \n",
       "89                  99.0                         NaN                    NaN   \n",
       "90                  99.0                         NaN                    NaN   \n",
       "91                  99.0                         NaN                    NaN   \n",
       "92                  99.0                         NaN                    NaN   \n",
       "\n",
       "    speak_spanish_at_home_low_english  \n",
       "88                                NaN  \n",
       "89                                NaN  \n",
       "90                                NaN  \n",
       "91                                NaN  \n",
       "92                                NaN  \n",
       "\n",
       "[5 rows x 252 columns]"
      ]
     },
     "execution_count": 44,
     "metadata": {},
     "output_type": "execute_result"
    }
   ],
   "source": [
    "df_melt.head()"
   ]
  },
  {
   "cell_type": "code",
   "execution_count": null,
   "metadata": {},
   "outputs": [],
   "source": []
  },
  {
   "cell_type": "code",
   "execution_count": null,
   "metadata": {},
   "outputs": [],
   "source": []
  },
  {
   "cell_type": "code",
   "execution_count": 18,
   "metadata": {},
   "outputs": [],
   "source": [
    "from sklearn.model_selection import train_test_split\n",
    "from sklearn.linear_model import LinearRegression\n",
    "ols = LinearRegression()\n",
    "\n",
    "from sklearn.ensemble import RandomForestRegressor\n",
    "\n",
    "rfc = RandomForestRegressor()"
   ]
  },
  {
   "cell_type": "code",
   "execution_count": 19,
   "metadata": {},
   "outputs": [],
   "source": [
    "df_melt['bachelors_ormore'] = df_melt['bachelors_degree_or_higher_25_64'] / df_melt['total_pop']\n",
    "df_melt['mean_commute_time'] = df_melt['aggregate_travel_time_to_work'] / df_melt['total_pop']"
   ]
  },
  {
   "cell_type": "code",
   "execution_count": 20,
   "metadata": {},
   "outputs": [
    {
     "name": "stderr",
     "output_type": "stream",
     "text": [
      "<ipython-input-20-8fc310e8e7dd>:5: SettingWithCopyWarning: \n",
      "A value is trying to be set on a copy of a slice from a DataFrame.\n",
      "Try using .loc[row_indexer,col_indexer] = value instead\n",
      "\n",
      "See the caveats in the documentation: https://pandas.pydata.org/pandas-docs/stable/user_guide/indexing.html#returning-a-view-versus-a-copy\n",
      "  feats[col] = feats[col].fillna(feats[col].mean())\n",
      "<ipython-input-20-8fc310e8e7dd>:6: SettingWithCopyWarning: \n",
      "A value is trying to be set on a copy of a slice from a DataFrame.\n",
      "Try using .loc[row_indexer,col_indexer] = value instead\n",
      "\n",
      "See the caveats in the documentation: https://pandas.pydata.org/pandas-docs/stable/user_guide/indexing.html#returning-a-view-versus-a-copy\n",
      "  feats[col] = feats[col].astype(float)\n"
     ]
    }
   ],
   "source": [
    "df_melt['rent'] = df_melt['rent'].astype(float)\n",
    "target =  df_melt['rent']\n",
    "feats = df_melt[['total_pop','gini_index','bachelors_ormore','median_income']]\n",
    "for col in feats.columns:\n",
    "    feats[col] = feats[col].fillna(feats[col].mean())\n",
    "    feats[col] = feats[col].astype(float)"
   ]
  },
  {
   "cell_type": "code",
   "execution_count": 21,
   "metadata": {},
   "outputs": [],
   "source": [
    "Xtrain, Xtest, ytrain, ytest = train_test_split(feats,target)"
   ]
  },
  {
   "cell_type": "code",
   "execution_count": 22,
   "metadata": {},
   "outputs": [
    {
     "data": {
      "text/plain": [
       "array([35684., 76875., 42183., 37283.])"
      ]
     },
     "execution_count": 22,
     "metadata": {},
     "output_type": "execute_result"
    }
   ],
   "source": [
    "Xtrain['median_income'].unique()"
   ]
  },
  {
   "cell_type": "code",
   "execution_count": 23,
   "metadata": {},
   "outputs": [
    {
     "name": "stdout",
     "output_type": "stream",
     "text": [
      "Training R2: 0.7969593926780889\n",
      "Test R2: 0.7403110400652813\n"
     ]
    }
   ],
   "source": [
    "ols.fit(Xtrain,ytrain)\n",
    "print(f\"Training R2: {ols.score(Xtrain,ytrain)}\")\n",
    "print(f\"Test R2: {ols.score(Xtest,ytest)}\")"
   ]
  },
  {
   "cell_type": "code",
   "execution_count": 24,
   "metadata": {},
   "outputs": [
    {
     "data": {
      "text/plain": [
       "0.7405676040450626"
      ]
     },
     "execution_count": 24,
     "metadata": {},
     "output_type": "execute_result"
    }
   ],
   "source": [
    "rfc.fit(Xtrain,ytrain)\n",
    "rfc.score(Xtest,ytest)"
   ]
  },
  {
   "cell_type": "code",
   "execution_count": null,
   "metadata": {},
   "outputs": [],
   "source": []
  },
  {
   "cell_type": "code",
   "execution_count": null,
   "metadata": {},
   "outputs": [],
   "source": []
  },
  {
   "cell_type": "code",
   "execution_count": null,
   "metadata": {},
   "outputs": [],
   "source": []
  },
  {
   "cell_type": "code",
   "execution_count": null,
   "metadata": {},
   "outputs": [],
   "source": []
  },
  {
   "cell_type": "code",
   "execution_count": null,
   "metadata": {},
   "outputs": [],
   "source": []
  },
  {
   "cell_type": "code",
   "execution_count": null,
   "metadata": {},
   "outputs": [],
   "source": []
  },
  {
   "cell_type": "code",
   "execution_count": null,
   "metadata": {},
   "outputs": [],
   "source": []
  }
 ],
 "metadata": {
  "kernelspec": {
   "display_name": "Python 3",
   "language": "python",
   "name": "python3"
  },
  "language_info": {
   "codemirror_mode": {
    "name": "ipython",
    "version": 3
   },
   "file_extension": ".py",
   "mimetype": "text/x-python",
   "name": "python",
   "nbconvert_exporter": "python",
   "pygments_lexer": "ipython3",
   "version": "3.8.5"
  }
 },
 "nbformat": 4,
 "nbformat_minor": 4
}
