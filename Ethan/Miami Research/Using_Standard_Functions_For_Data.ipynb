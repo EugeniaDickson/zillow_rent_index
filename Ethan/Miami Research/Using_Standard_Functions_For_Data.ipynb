{
 "cells": [
  {
   "cell_type": "code",
   "execution_count": 1,
   "metadata": {},
   "outputs": [],
   "source": [
    "import pandas as pd\n",
    "import numpy as np"
   ]
  },
  {
   "cell_type": "code",
   "execution_count": 2,
   "metadata": {},
   "outputs": [],
   "source": [
    "# import sys\n",
    "# sys.path.append('.../Jane')\n",
    "\n",
    "import extract_data_ez\n",
    "import transformers_ez\n",
    "\n",
    "%load_ext autoreload\n",
    "%autoreload 2"
   ]
  },
  {
   "cell_type": "code",
   "execution_count": 3,
   "metadata": {},
   "outputs": [],
   "source": [
    "date_cut = '2015-01-01'"
   ]
  },
  {
   "cell_type": "code",
   "execution_count": 4,
   "metadata": {},
   "outputs": [],
   "source": [
    "df_initial = extract_data_ez.zillow_data\n",
    "air_df_initial = extract_data_ez.airqual_data\n",
    "persinc_df_initial = extract_data_ez.persinc_data\n",
    "inclvl_df_initial = extract_data_ez.inclvl_data\n",
    "census_df_initial = extract_data_ez.census_data"
   ]
  },
  {
   "cell_type": "code",
   "execution_count": 5,
   "metadata": {},
   "outputs": [
    {
     "data": {
      "text/html": [
       "<div>\n",
       "<style scoped>\n",
       "    .dataframe tbody tr th:only-of-type {\n",
       "        vertical-align: middle;\n",
       "    }\n",
       "\n",
       "    .dataframe tbody tr th {\n",
       "        vertical-align: top;\n",
       "    }\n",
       "\n",
       "    .dataframe thead th {\n",
       "        text-align: right;\n",
       "    }\n",
       "</style>\n",
       "<table border=\"1\" class=\"dataframe\">\n",
       "  <thead>\n",
       "    <tr style=\"text-align: right;\">\n",
       "      <th></th>\n",
       "      <th>Date</th>\n",
       "      <th>Vol_moderate_income</th>\n",
       "      <th>Vol_low_income</th>\n",
       "    </tr>\n",
       "  </thead>\n",
       "  <tbody>\n",
       "    <tr>\n",
       "      <th>0</th>\n",
       "      <td>2005-01-01</td>\n",
       "      <td>4.578106e+09</td>\n",
       "      <td>7.635135e+08</td>\n",
       "    </tr>\n",
       "    <tr>\n",
       "      <th>1</th>\n",
       "      <td>2005-02-01</td>\n",
       "      <td>4.563908e+09</td>\n",
       "      <td>7.558710e+08</td>\n",
       "    </tr>\n",
       "    <tr>\n",
       "      <th>2</th>\n",
       "      <td>2005-03-01</td>\n",
       "      <td>4.762458e+09</td>\n",
       "      <td>8.171551e+08</td>\n",
       "    </tr>\n",
       "    <tr>\n",
       "      <th>3</th>\n",
       "      <td>2005-04-01</td>\n",
       "      <td>4.744005e+09</td>\n",
       "      <td>7.854169e+08</td>\n",
       "    </tr>\n",
       "    <tr>\n",
       "      <th>4</th>\n",
       "      <td>2005-05-01</td>\n",
       "      <td>4.752915e+09</td>\n",
       "      <td>8.289172e+08</td>\n",
       "    </tr>\n",
       "    <tr>\n",
       "      <th>...</th>\n",
       "      <td>...</td>\n",
       "      <td>...</td>\n",
       "      <td>...</td>\n",
       "    </tr>\n",
       "    <tr>\n",
       "      <th>158</th>\n",
       "      <td>2018-03-01</td>\n",
       "      <td>4.476840e+09</td>\n",
       "      <td>8.935432e+08</td>\n",
       "    </tr>\n",
       "    <tr>\n",
       "      <th>159</th>\n",
       "      <td>2018-04-01</td>\n",
       "      <td>4.440339e+09</td>\n",
       "      <td>8.753101e+08</td>\n",
       "    </tr>\n",
       "    <tr>\n",
       "      <th>160</th>\n",
       "      <td>2018-05-01</td>\n",
       "      <td>4.571036e+09</td>\n",
       "      <td>8.904970e+08</td>\n",
       "    </tr>\n",
       "    <tr>\n",
       "      <th>161</th>\n",
       "      <td>2018-06-01</td>\n",
       "      <td>4.398129e+09</td>\n",
       "      <td>8.982546e+08</td>\n",
       "    </tr>\n",
       "    <tr>\n",
       "      <th>162</th>\n",
       "      <td>2018-07-01</td>\n",
       "      <td>4.220966e+09</td>\n",
       "      <td>8.639582e+08</td>\n",
       "    </tr>\n",
       "  </tbody>\n",
       "</table>\n",
       "<p>163 rows × 3 columns</p>\n",
       "</div>"
      ],
      "text/plain": [
       "          Date  Vol_moderate_income  Vol_low_income\n",
       "0   2005-01-01         4.578106e+09    7.635135e+08\n",
       "1   2005-02-01         4.563908e+09    7.558710e+08\n",
       "2   2005-03-01         4.762458e+09    8.171551e+08\n",
       "3   2005-04-01         4.744005e+09    7.854169e+08\n",
       "4   2005-05-01         4.752915e+09    8.289172e+08\n",
       "..         ...                  ...             ...\n",
       "158 2018-03-01         4.476840e+09    8.935432e+08\n",
       "159 2018-04-01         4.440339e+09    8.753101e+08\n",
       "160 2018-05-01         4.571036e+09    8.904970e+08\n",
       "161 2018-06-01         4.398129e+09    8.982546e+08\n",
       "162 2018-07-01         4.220966e+09    8.639582e+08\n",
       "\n",
       "[163 rows x 3 columns]"
      ]
     },
     "execution_count": 5,
     "metadata": {},
     "output_type": "execute_result"
    }
   ],
   "source": [
    "inclvl_df_initial"
   ]
  },
  {
   "cell_type": "code",
   "execution_count": 6,
   "metadata": {},
   "outputs": [],
   "source": [
    "df = df_initial.copy()\n",
    "air_df = air_df_initial.copy()\n",
    "persinc_df = persinc_df_initial.copy()\n",
    "inclvl_df = inclvl_df_initial.copy()\n",
    "census_df = census_df_initial.copy()\n",
    "nulls_df = df[df['Rent'].isnull()]"
   ]
  },
  {
   "cell_type": "code",
   "execution_count": 7,
   "metadata": {},
   "outputs": [
    {
     "data": {
      "text/html": [
       "<div>\n",
       "<style scoped>\n",
       "    .dataframe tbody tr th:only-of-type {\n",
       "        vertical-align: middle;\n",
       "    }\n",
       "\n",
       "    .dataframe tbody tr th {\n",
       "        vertical-align: top;\n",
       "    }\n",
       "\n",
       "    .dataframe thead th {\n",
       "        text-align: right;\n",
       "    }\n",
       "</style>\n",
       "<table border=\"1\" class=\"dataframe\">\n",
       "  <thead>\n",
       "    <tr style=\"text-align: right;\">\n",
       "      <th></th>\n",
       "      <th>RegionID</th>\n",
       "      <th>Zipcode</th>\n",
       "      <th>City</th>\n",
       "      <th>State</th>\n",
       "      <th>Metro</th>\n",
       "      <th>County</th>\n",
       "      <th>SizeRank</th>\n",
       "      <th>Date</th>\n",
       "      <th>Rent</th>\n",
       "      <th>Year</th>\n",
       "    </tr>\n",
       "  </thead>\n",
       "  <tbody>\n",
       "  </tbody>\n",
       "</table>\n",
       "</div>"
      ],
      "text/plain": [
       "Empty DataFrame\n",
       "Columns: [RegionID, Zipcode, City, State, Metro, County, SizeRank, Date, Rent, Year]\n",
       "Index: []"
      ]
     },
     "execution_count": 7,
     "metadata": {},
     "output_type": "execute_result"
    }
   ],
   "source": [
    "nulls_df"
   ]
  },
  {
   "cell_type": "code",
   "execution_count": 8,
   "metadata": {},
   "outputs": [],
   "source": [
    "df = df_initial.copy()\n",
    "include_cities = ['Miami Beach','Miami','North Miami']\n",
    "#df = df[df['City'].isin(include_cities)]\n",
    "counties = ['Miami-Dade County', 'Broward County', 'Palm Beach County']\n",
    "# counties = ['Alameda County', 'Contra Costa County', 'Marin County', 'Napa County', 'San Mateo County', \n",
    "#             'Santa Clara County', 'Solano County', 'Sonoma County', 'San Francisco County']\n",
    "df = df[df['County'].isin(counties)]\n"
   ]
  },
  {
   "cell_type": "code",
   "execution_count": 9,
   "metadata": {},
   "outputs": [
    {
     "data": {
      "text/html": [
       "<div>\n",
       "<style scoped>\n",
       "    .dataframe tbody tr th:only-of-type {\n",
       "        vertical-align: middle;\n",
       "    }\n",
       "\n",
       "    .dataframe tbody tr th {\n",
       "        vertical-align: top;\n",
       "    }\n",
       "\n",
       "    .dataframe thead th {\n",
       "        text-align: right;\n",
       "    }\n",
       "</style>\n",
       "<table border=\"1\" class=\"dataframe\">\n",
       "  <thead>\n",
       "    <tr style=\"text-align: right;\">\n",
       "      <th></th>\n",
       "      <th>RegionID</th>\n",
       "      <th>Zipcode</th>\n",
       "      <th>City</th>\n",
       "      <th>State</th>\n",
       "      <th>Metro</th>\n",
       "      <th>County</th>\n",
       "      <th>SizeRank</th>\n",
       "      <th>Date</th>\n",
       "      <th>Rent</th>\n",
       "      <th>Year</th>\n",
       "    </tr>\n",
       "  </thead>\n",
       "  <tbody>\n",
       "    <tr>\n",
       "      <th>96843</th>\n",
       "      <td>72463</td>\n",
       "      <td>33160</td>\n",
       "      <td>Sunny Isles Beach</td>\n",
       "      <td>FL</td>\n",
       "      <td>Miami-Fort Lauderdale-West Palm Beach</td>\n",
       "      <td>Miami-Dade County</td>\n",
       "      <td>72</td>\n",
       "      <td>2015-01-01</td>\n",
       "      <td>1963.0</td>\n",
       "      <td>2015</td>\n",
       "    </tr>\n",
       "    <tr>\n",
       "      <th>96857</th>\n",
       "      <td>72363</td>\n",
       "      <td>33025</td>\n",
       "      <td>Miramar</td>\n",
       "      <td>FL</td>\n",
       "      <td>Miami-Fort Lauderdale-West Palm Beach</td>\n",
       "      <td>Broward County</td>\n",
       "      <td>86</td>\n",
       "      <td>2015-01-01</td>\n",
       "      <td>1393.0</td>\n",
       "      <td>2015</td>\n",
       "    </tr>\n",
       "    <tr>\n",
       "      <th>96862</th>\n",
       "      <td>72442</td>\n",
       "      <td>33139</td>\n",
       "      <td>Miami Beach</td>\n",
       "      <td>FL</td>\n",
       "      <td>Miami-Fort Lauderdale-West Palm Beach</td>\n",
       "      <td>Miami-Dade County</td>\n",
       "      <td>91</td>\n",
       "      <td>2015-01-01</td>\n",
       "      <td>2009.0</td>\n",
       "      <td>2015</td>\n",
       "    </tr>\n",
       "    <tr>\n",
       "      <th>96899</th>\n",
       "      <td>72362</td>\n",
       "      <td>33024</td>\n",
       "      <td>Pembroke Pines</td>\n",
       "      <td>FL</td>\n",
       "      <td>Miami-Fort Lauderdale-West Palm Beach</td>\n",
       "      <td>Broward County</td>\n",
       "      <td>128</td>\n",
       "      <td>2015-01-01</td>\n",
       "      <td>1295.0</td>\n",
       "      <td>2015</td>\n",
       "    </tr>\n",
       "    <tr>\n",
       "      <th>96932</th>\n",
       "      <td>72347</td>\n",
       "      <td>33009</td>\n",
       "      <td>Hallandale</td>\n",
       "      <td>FL</td>\n",
       "      <td>Miami-Fort Lauderdale-West Palm Beach</td>\n",
       "      <td>Broward County</td>\n",
       "      <td>161</td>\n",
       "      <td>2015-01-01</td>\n",
       "      <td>1524.0</td>\n",
       "      <td>2015</td>\n",
       "    </tr>\n",
       "  </tbody>\n",
       "</table>\n",
       "</div>"
      ],
      "text/plain": [
       "       RegionID Zipcode               City State  \\\n",
       "96843     72463   33160  Sunny Isles Beach    FL   \n",
       "96857     72363   33025            Miramar    FL   \n",
       "96862     72442   33139        Miami Beach    FL   \n",
       "96899     72362   33024     Pembroke Pines    FL   \n",
       "96932     72347   33009         Hallandale    FL   \n",
       "\n",
       "                                       Metro             County  SizeRank  \\\n",
       "96843  Miami-Fort Lauderdale-West Palm Beach  Miami-Dade County        72   \n",
       "96857  Miami-Fort Lauderdale-West Palm Beach     Broward County        86   \n",
       "96862  Miami-Fort Lauderdale-West Palm Beach  Miami-Dade County        91   \n",
       "96899  Miami-Fort Lauderdale-West Palm Beach     Broward County       128   \n",
       "96932  Miami-Fort Lauderdale-West Palm Beach     Broward County       161   \n",
       "\n",
       "            Date    Rent  Year  \n",
       "96843 2015-01-01  1963.0  2015  \n",
       "96857 2015-01-01  1393.0  2015  \n",
       "96862 2015-01-01  2009.0  2015  \n",
       "96899 2015-01-01  1295.0  2015  \n",
       "96932 2015-01-01  1524.0  2015  "
      ]
     },
     "execution_count": 9,
     "metadata": {},
     "output_type": "execute_result"
    }
   ],
   "source": [
    "df.head()"
   ]
  },
  {
   "cell_type": "code",
   "execution_count": null,
   "metadata": {},
   "outputs": [],
   "source": []
  },
  {
   "cell_type": "code",
   "execution_count": 10,
   "metadata": {},
   "outputs": [
    {
     "data": {
      "text/html": [
       "<div>\n",
       "<style scoped>\n",
       "    .dataframe tbody tr th:only-of-type {\n",
       "        vertical-align: middle;\n",
       "    }\n",
       "\n",
       "    .dataframe tbody tr th {\n",
       "        vertical-align: top;\n",
       "    }\n",
       "\n",
       "    .dataframe thead th {\n",
       "        text-align: right;\n",
       "    }\n",
       "</style>\n",
       "<table border=\"1\" class=\"dataframe\">\n",
       "  <thead>\n",
       "    <tr style=\"text-align: right;\">\n",
       "      <th></th>\n",
       "      <th>State</th>\n",
       "      <th>County</th>\n",
       "      <th>City</th>\n",
       "      <th>AQIMean</th>\n",
       "      <th>Date</th>\n",
       "    </tr>\n",
       "  </thead>\n",
       "  <tbody>\n",
       "    <tr>\n",
       "      <th>0</th>\n",
       "      <td>Alabama</td>\n",
       "      <td>Jefferson County</td>\n",
       "      <td>Birmingham</td>\n",
       "      <td>12.065635</td>\n",
       "      <td>2013-12-01</td>\n",
       "    </tr>\n",
       "    <tr>\n",
       "      <th>1</th>\n",
       "      <td>Alabama</td>\n",
       "      <td>Jefferson County</td>\n",
       "      <td>Birmingham</td>\n",
       "      <td>12.899658</td>\n",
       "      <td>2014-01-01</td>\n",
       "    </tr>\n",
       "    <tr>\n",
       "      <th>2</th>\n",
       "      <td>Alabama</td>\n",
       "      <td>Jefferson County</td>\n",
       "      <td>Birmingham</td>\n",
       "      <td>8.851034</td>\n",
       "      <td>2014-02-01</td>\n",
       "    </tr>\n",
       "    <tr>\n",
       "      <th>3</th>\n",
       "      <td>Alabama</td>\n",
       "      <td>Jefferson County</td>\n",
       "      <td>Birmingham</td>\n",
       "      <td>13.212881</td>\n",
       "      <td>2014-03-01</td>\n",
       "    </tr>\n",
       "    <tr>\n",
       "      <th>4</th>\n",
       "      <td>Alabama</td>\n",
       "      <td>Jefferson County</td>\n",
       "      <td>Birmingham</td>\n",
       "      <td>11.379411</td>\n",
       "      <td>2014-04-01</td>\n",
       "    </tr>\n",
       "  </tbody>\n",
       "</table>\n",
       "</div>"
      ],
      "text/plain": [
       "     State            County        City    AQIMean       Date\n",
       "0  Alabama  Jefferson County  Birmingham  12.065635 2013-12-01\n",
       "1  Alabama  Jefferson County  Birmingham  12.899658 2014-01-01\n",
       "2  Alabama  Jefferson County  Birmingham   8.851034 2014-02-01\n",
       "3  Alabama  Jefferson County  Birmingham  13.212881 2014-03-01\n",
       "4  Alabama  Jefferson County  Birmingham  11.379411 2014-04-01"
      ]
     },
     "execution_count": 10,
     "metadata": {},
     "output_type": "execute_result"
    }
   ],
   "source": [
    "air_df.head()"
   ]
  },
  {
   "cell_type": "code",
   "execution_count": 11,
   "metadata": {},
   "outputs": [
    {
     "data": {
      "text/plain": [
       "array(['Jefferson County', 'Fairbanks North Star  County',\n",
       "       'La Paz County', 'Maricopa County', 'Pima County',\n",
       "       'Crittenden County', 'Pulaski County', 'Alameda County',\n",
       "       'Butte County', 'Contra Costa County', 'Fresno County',\n",
       "       'Humboldt County', 'Imperial County', 'Kern County',\n",
       "       'Kings County', 'Los Angeles County', 'Madera County',\n",
       "       'Marin County', 'Merced County', 'Monterey County', 'Napa County',\n",
       "       'Nevada County', 'Orange County', 'Placer County',\n",
       "       'Riverside County', 'Sacramento County', 'San Bernardino County',\n",
       "       'San Diego County', 'San Francisco County', 'San Joaquin County',\n",
       "       'San Luis Obispo County', 'San Mateo County',\n",
       "       'Santa Barbara County', 'Santa Clara County', 'Santa Cruz County',\n",
       "       'Solano County', 'Sonoma County', 'Stanislaus County',\n",
       "       'Sutter County', 'Tulare County', 'Ventura County', 'Yolo County',\n",
       "       'Adams County', 'Archuleta County', 'Delta County',\n",
       "       'Denver County', 'Garfield County', 'Jackson County',\n",
       "       'La Plata County', 'Park County', 'Rio Blanco County',\n",
       "       'Weld County', 'Fairfield County', 'Hartford County',\n",
       "       'Litchfield County', 'New Haven County',\n",
       "       'BAJA CALIFORNIA NORTE County', 'New Castle County',\n",
       "       'Sussex County', 'District of Columbia County', 'Broward County',\n",
       "       'Duval County', 'Escambia County', 'Hillsborough County',\n",
       "       'Miami-Dade County', 'Palm Beach County', 'Pinellas County',\n",
       "       'Sarasota County', 'DeKalb County', 'Fulton County',\n",
       "       'Paulding County', 'Rockdale County', 'Honolulu County',\n",
       "       'Kauai County', 'Ada County', 'Kootenai County', 'Cook County',\n",
       "       'Macoupin County', 'Saint Clair County', 'Bartholomew County',\n",
       "       'Lake County', 'Marion County', 'St. Joseph County',\n",
       "       'Vanderburgh County', 'Whitley County', 'Polk County',\n",
       "       'Scott County', 'Van Buren County', 'Linn County', 'Neosho County',\n",
       "       'Sedgwick County', 'Sumner County', 'Trego County',\n",
       "       'Wyandotte County', 'Boyd County', 'Campbell County',\n",
       "       'Daviess County', 'Fayette County', 'McCracken County',\n",
       "       'Ascension County', 'Calcasieu County', 'East Baton Rouge County',\n",
       "       'Iberville County', 'Livingston County', 'Orleans County',\n",
       "       'West Baton Rouge County', 'Aroostook County', 'Cumberland County',\n",
       "       'Kennebec County', 'Baltimore County', 'Baltimore (City) County',\n",
       "       'Garrett County', 'Howard County', \"Prince George's County\",\n",
       "       'Essex County', 'Hampden County', 'Hampshire County',\n",
       "       'Middlesex County', 'Norfolk County', 'Suffolk County',\n",
       "       'Worcester County', 'Ingham County', 'Missaukee County',\n",
       "       'Ottawa County', 'Wayne County', 'Anoka County', 'Carlton County',\n",
       "       'Dakota County', 'Hennepin County', 'Saint Louis County',\n",
       "       'Hinds County', 'Clay County', 'Greene County', 'Monroe County',\n",
       "       'Saint Charles County', 'Sainte Genevieve County',\n",
       "       'St. Louis City County', 'Fergus County', 'Gallatin County',\n",
       "       'Phillips County', 'Powder River County', 'Richland County',\n",
       "       'Rosebud County', 'Clark County', 'Washoe County',\n",
       "       'Rockingham County', 'Bergen County', 'Camden County',\n",
       "       'Hudson County', 'Mercer County', 'Morris County', 'Union County',\n",
       "       'Warren County', 'Bernalillo County', 'Dona Ana County',\n",
       "       'Eddy County', 'Lea County', 'Luna County', 'San Juan County',\n",
       "       'Bronx County', 'Erie County', 'Franklin County', 'Nassau County',\n",
       "       'Queens County', 'Steuben County', 'Forsyth County', 'Lee County',\n",
       "       'Mecklenburg County', 'Northampton County', 'Wake County',\n",
       "       'Burke County', 'Burleigh County', 'Cass County', 'Dunn County',\n",
       "       'McKenzie County', 'Oliver County', 'Ward County', 'Athens County',\n",
       "       'Belmont County', 'Cuyahoga County', 'Hamilton County',\n",
       "       'Medina County', 'Adair County', 'Canadian County', 'Grady County',\n",
       "       'Oklahoma County', 'Sequoyah County', 'Tulsa County',\n",
       "       'Multnomah County', 'Washington County', 'Allegheny County',\n",
       "       'Beaver County', 'Berks County', 'Bradford County', 'Bucks County',\n",
       "       'Cambria County', 'Centre County', 'Dauphin County',\n",
       "       'Delaware County', 'Lackawanna County', 'Lancaster County',\n",
       "       'Perry County', 'Philadelphia County', 'Tioga County',\n",
       "       'York County', 'Caguas County', 'Catano County', 'Guaynabo County',\n",
       "       'Kent County', 'Providence County', 'Charleston County',\n",
       "       'Greenville County', 'Custer County', 'Minnehaha County',\n",
       "       'Pennington County', 'Blount County', 'Bradley County',\n",
       "       'Davidson County', 'McMinn County', 'Montgomery County',\n",
       "       'Shelby County', 'Sullivan County', 'Bell County', 'Bexar County',\n",
       "       'Brazoria County', 'Dallas County', 'Denton County',\n",
       "       'El Paso County', 'Ellis County', 'Galveston County',\n",
       "       'Gregg County', 'Harris County', 'Harrison County', 'Hays County',\n",
       "       'Hunt County', 'Karnes County', 'Kaufman County',\n",
       "       'McLennan County', 'Navarro County', 'Parker County',\n",
       "       'Smith County', 'Tarrant County', 'Travis County', 'Wilson County',\n",
       "       'Box Elder County', 'Cache County', 'Carbon County',\n",
       "       'Davis County', 'Duchesne County', 'Iron County',\n",
       "       'Salt Lake County', 'Tooele County', 'Uintah County',\n",
       "       'Utah County', 'Weber County', 'Chittenden County',\n",
       "       'Rutland County', 'Alexandria City County', 'Arlington County',\n",
       "       'Caroline County', 'Charles County', 'Fairfax County',\n",
       "       'Hampton City County', 'Henrico County', 'Loudoun County',\n",
       "       'Newport News City County', 'Norfolk City County',\n",
       "       'Prince William County', 'Richmond City County', 'Roanoke County',\n",
       "       'Grant County', 'King County', 'Pierce County', 'Skagit County',\n",
       "       'Forest County', 'Kenosha County', 'Manitowoc County',\n",
       "       'Milwaukee County', 'Albany County', 'Big Horn County',\n",
       "       'Converse County', 'Fremont County', 'Goshen County',\n",
       "       'Johnson County', 'Laramie County', 'Natrona County',\n",
       "       'Sheridan County', 'Sublette County', 'Sweetwater County',\n",
       "       'Teton County', 'Uinta County', 'Weston County'], dtype=object)"
      ]
     },
     "execution_count": 11,
     "metadata": {},
     "output_type": "execute_result"
    }
   ],
   "source": [
    "air_df['County'].unique()"
   ]
  },
  {
   "cell_type": "code",
   "execution_count": 12,
   "metadata": {},
   "outputs": [
    {
     "data": {
      "text/plain": [
       "array(['Miami-Dade County', 'Broward County', 'Palm Beach County'],\n",
       "      dtype=object)"
      ]
     },
     "execution_count": 12,
     "metadata": {},
     "output_type": "execute_result"
    }
   ],
   "source": [
    "df['County'].unique()"
   ]
  },
  {
   "cell_type": "code",
   "execution_count": null,
   "metadata": {},
   "outputs": [],
   "source": []
  },
  {
   "cell_type": "code",
   "execution_count": 13,
   "metadata": {},
   "outputs": [
    {
     "name": "stdout",
     "output_type": "stream",
     "text": [
      "1.360337258064516\n",
      "18.821107428571423\n"
     ]
    }
   ],
   "source": [
    "air_df = air_df[air_df['County'].isin(counties)]\n",
    "print(air_df['AQIMean'].min())\n",
    "print(air_df['AQIMean'].max())"
   ]
  },
  {
   "cell_type": "code",
   "execution_count": 14,
   "metadata": {},
   "outputs": [],
   "source": [
    "#air_df\n",
    "min_df = air_df[['AQIMean','County','Date']].groupby(['County','Date']).min().reset_index()\n",
    "min_df = min_df.rename(columns={'AQIMean':'min'})\n",
    "max_df = air_df[['AQIMean','County','Date']].groupby(['County','Date']).max().reset_index()\n",
    "max_df = max_df.rename(columns={'AQIMean':'max'})\n",
    "grouped = pd.merge(min_df,max_df,on=['County','Date'],how='inner')"
   ]
  },
  {
   "cell_type": "code",
   "execution_count": 15,
   "metadata": {},
   "outputs": [],
   "source": [
    "grouped.to_csv('min_max_comp.csv')"
   ]
  },
  {
   "cell_type": "code",
   "execution_count": null,
   "metadata": {},
   "outputs": [],
   "source": []
  },
  {
   "cell_type": "code",
   "execution_count": 16,
   "metadata": {},
   "outputs": [
    {
     "data": {
      "text/plain": [
       "array(['FL'], dtype=object)"
      ]
     },
     "execution_count": 16,
     "metadata": {},
     "output_type": "execute_result"
    }
   ],
   "source": [
    "df['State'].unique()"
   ]
  },
  {
   "cell_type": "code",
   "execution_count": 17,
   "metadata": {},
   "outputs": [
    {
     "data": {
      "text/html": [
       "<div>\n",
       "<style scoped>\n",
       "    .dataframe tbody tr th:only-of-type {\n",
       "        vertical-align: middle;\n",
       "    }\n",
       "\n",
       "    .dataframe tbody tr th {\n",
       "        vertical-align: top;\n",
       "    }\n",
       "\n",
       "    .dataframe thead th {\n",
       "        text-align: right;\n",
       "    }\n",
       "</style>\n",
       "<table border=\"1\" class=\"dataframe\">\n",
       "  <thead>\n",
       "    <tr style=\"text-align: right;\">\n",
       "      <th></th>\n",
       "      <th>State</th>\n",
       "      <th>Year</th>\n",
       "      <th>PersonalIncome</th>\n",
       "    </tr>\n",
       "  </thead>\n",
       "  <tbody>\n",
       "    <tr>\n",
       "      <th>0</th>\n",
       "      <td>TX</td>\n",
       "      <td>2008</td>\n",
       "      <td>44521</td>\n",
       "    </tr>\n",
       "    <tr>\n",
       "      <th>1</th>\n",
       "      <td>FL</td>\n",
       "      <td>2008</td>\n",
       "      <td>44447</td>\n",
       "    </tr>\n",
       "    <tr>\n",
       "      <th>2</th>\n",
       "      <td>NY</td>\n",
       "      <td>2008</td>\n",
       "      <td>48585</td>\n",
       "    </tr>\n",
       "    <tr>\n",
       "      <th>3</th>\n",
       "      <td>CA</td>\n",
       "      <td>2008</td>\n",
       "      <td>54862</td>\n",
       "    </tr>\n",
       "    <tr>\n",
       "      <th>4</th>\n",
       "      <td>TX</td>\n",
       "      <td>2009</td>\n",
       "      <td>42103</td>\n",
       "    </tr>\n",
       "  </tbody>\n",
       "</table>\n",
       "</div>"
      ],
      "text/plain": [
       "  State  Year  PersonalIncome\n",
       "0    TX  2008           44521\n",
       "1    FL  2008           44447\n",
       "2    NY  2008           48585\n",
       "3    CA  2008           54862\n",
       "4    TX  2009           42103"
      ]
     },
     "execution_count": 17,
     "metadata": {},
     "output_type": "execute_result"
    }
   ],
   "source": [
    "persinc_df.head()"
   ]
  },
  {
   "cell_type": "code",
   "execution_count": 18,
   "metadata": {},
   "outputs": [
    {
     "data": {
      "text/html": [
       "<div>\n",
       "<style scoped>\n",
       "    .dataframe tbody tr th:only-of-type {\n",
       "        vertical-align: middle;\n",
       "    }\n",
       "\n",
       "    .dataframe tbody tr th {\n",
       "        vertical-align: top;\n",
       "    }\n",
       "\n",
       "    .dataframe thead th {\n",
       "        text-align: right;\n",
       "    }\n",
       "</style>\n",
       "<table border=\"1\" class=\"dataframe\">\n",
       "  <thead>\n",
       "    <tr style=\"text-align: right;\">\n",
       "      <th></th>\n",
       "      <th>geo_id</th>\n",
       "      <th>do_date</th>\n",
       "      <th>total_pop</th>\n",
       "      <th>households</th>\n",
       "      <th>male_pop</th>\n",
       "      <th>female_pop</th>\n",
       "      <th>median_age</th>\n",
       "      <th>male_under_5</th>\n",
       "      <th>male_5_to_9</th>\n",
       "      <th>male_10_to_14</th>\n",
       "      <th>...</th>\n",
       "      <th>sales_office_employed</th>\n",
       "      <th>in_grades_1_to_4</th>\n",
       "      <th>in_grades_5_to_8</th>\n",
       "      <th>in_grades_9_to_12</th>\n",
       "      <th>in_school</th>\n",
       "      <th>in_undergrad_college</th>\n",
       "      <th>speak_only_english_at_home</th>\n",
       "      <th>speak_spanish_at_home</th>\n",
       "      <th>speak_spanish_at_home_low_english</th>\n",
       "      <th>Zipcode</th>\n",
       "    </tr>\n",
       "  </thead>\n",
       "  <tbody>\n",
       "    <tr>\n",
       "      <th>0</th>\n",
       "      <td>87537</td>\n",
       "      <td>2014-01-01</td>\n",
       "      <td>2510</td>\n",
       "      <td>856</td>\n",
       "      <td>1283</td>\n",
       "      <td>1227</td>\n",
       "      <td>42.1</td>\n",
       "      <td>58</td>\n",
       "      <td>75</td>\n",
       "      <td>87</td>\n",
       "      <td>...</td>\n",
       "      <td>NaN</td>\n",
       "      <td>304</td>\n",
       "      <td>171</td>\n",
       "      <td>80</td>\n",
       "      <td>593</td>\n",
       "      <td>20</td>\n",
       "      <td>NaN</td>\n",
       "      <td>NaN</td>\n",
       "      <td>NaN</td>\n",
       "      <td>87537</td>\n",
       "    </tr>\n",
       "    <tr>\n",
       "      <th>1</th>\n",
       "      <td>87017</td>\n",
       "      <td>2014-01-01</td>\n",
       "      <td>346</td>\n",
       "      <td>112</td>\n",
       "      <td>150</td>\n",
       "      <td>196</td>\n",
       "      <td>50.9</td>\n",
       "      <td>0</td>\n",
       "      <td>0</td>\n",
       "      <td>12</td>\n",
       "      <td>...</td>\n",
       "      <td>NaN</td>\n",
       "      <td>0</td>\n",
       "      <td>27</td>\n",
       "      <td>15</td>\n",
       "      <td>96</td>\n",
       "      <td>40</td>\n",
       "      <td>NaN</td>\n",
       "      <td>NaN</td>\n",
       "      <td>NaN</td>\n",
       "      <td>87017</td>\n",
       "    </tr>\n",
       "    <tr>\n",
       "      <th>2</th>\n",
       "      <td>87528</td>\n",
       "      <td>2014-01-01</td>\n",
       "      <td>3505</td>\n",
       "      <td>727</td>\n",
       "      <td>1758</td>\n",
       "      <td>1747</td>\n",
       "      <td>27.9</td>\n",
       "      <td>260</td>\n",
       "      <td>194</td>\n",
       "      <td>159</td>\n",
       "      <td>...</td>\n",
       "      <td>NaN</td>\n",
       "      <td>293</td>\n",
       "      <td>266</td>\n",
       "      <td>298</td>\n",
       "      <td>1237</td>\n",
       "      <td>138</td>\n",
       "      <td>NaN</td>\n",
       "      <td>NaN</td>\n",
       "      <td>NaN</td>\n",
       "      <td>87528</td>\n",
       "    </tr>\n",
       "    <tr>\n",
       "      <th>3</th>\n",
       "      <td>87533</td>\n",
       "      <td>2014-01-01</td>\n",
       "      <td>133</td>\n",
       "      <td>58</td>\n",
       "      <td>49</td>\n",
       "      <td>84</td>\n",
       "      <td>25.8</td>\n",
       "      <td>0</td>\n",
       "      <td>12</td>\n",
       "      <td>8</td>\n",
       "      <td>...</td>\n",
       "      <td>NaN</td>\n",
       "      <td>24</td>\n",
       "      <td>8</td>\n",
       "      <td>7</td>\n",
       "      <td>58</td>\n",
       "      <td>3</td>\n",
       "      <td>NaN</td>\n",
       "      <td>NaN</td>\n",
       "      <td>NaN</td>\n",
       "      <td>87533</td>\n",
       "    </tr>\n",
       "    <tr>\n",
       "      <th>4</th>\n",
       "      <td>87511</td>\n",
       "      <td>2014-01-01</td>\n",
       "      <td>2896</td>\n",
       "      <td>787</td>\n",
       "      <td>1177</td>\n",
       "      <td>1719</td>\n",
       "      <td>36.0</td>\n",
       "      <td>142</td>\n",
       "      <td>63</td>\n",
       "      <td>44</td>\n",
       "      <td>...</td>\n",
       "      <td>NaN</td>\n",
       "      <td>263</td>\n",
       "      <td>107</td>\n",
       "      <td>163</td>\n",
       "      <td>1008</td>\n",
       "      <td>279</td>\n",
       "      <td>NaN</td>\n",
       "      <td>NaN</td>\n",
       "      <td>NaN</td>\n",
       "      <td>87511</td>\n",
       "    </tr>\n",
       "  </tbody>\n",
       "</table>\n",
       "<p>5 rows × 241 columns</p>\n",
       "</div>"
      ],
      "text/plain": [
       "   geo_id     do_date  total_pop  households  male_pop  female_pop  \\\n",
       "0   87537  2014-01-01       2510         856      1283        1227   \n",
       "1   87017  2014-01-01        346         112       150         196   \n",
       "2   87528  2014-01-01       3505         727      1758        1747   \n",
       "3   87533  2014-01-01        133          58        49          84   \n",
       "4   87511  2014-01-01       2896         787      1177        1719   \n",
       "\n",
       "   median_age  male_under_5  male_5_to_9  male_10_to_14  ...  \\\n",
       "0        42.1            58           75             87  ...   \n",
       "1        50.9             0            0             12  ...   \n",
       "2        27.9           260          194            159  ...   \n",
       "3        25.8             0           12              8  ...   \n",
       "4        36.0           142           63             44  ...   \n",
       "\n",
       "   sales_office_employed  in_grades_1_to_4  in_grades_5_to_8  \\\n",
       "0                    NaN               304               171   \n",
       "1                    NaN                 0                27   \n",
       "2                    NaN               293               266   \n",
       "3                    NaN                24                 8   \n",
       "4                    NaN               263               107   \n",
       "\n",
       "   in_grades_9_to_12  in_school  in_undergrad_college  \\\n",
       "0                 80        593                    20   \n",
       "1                 15         96                    40   \n",
       "2                298       1237                   138   \n",
       "3                  7         58                     3   \n",
       "4                163       1008                   279   \n",
       "\n",
       "   speak_only_english_at_home  speak_spanish_at_home  \\\n",
       "0                         NaN                    NaN   \n",
       "1                         NaN                    NaN   \n",
       "2                         NaN                    NaN   \n",
       "3                         NaN                    NaN   \n",
       "4                         NaN                    NaN   \n",
       "\n",
       "   speak_spanish_at_home_low_english  Zipcode  \n",
       "0                                NaN    87537  \n",
       "1                                NaN    87017  \n",
       "2                                NaN    87528  \n",
       "3                                NaN    87533  \n",
       "4                                NaN    87511  \n",
       "\n",
       "[5 rows x 241 columns]"
      ]
     },
     "execution_count": 18,
     "metadata": {},
     "output_type": "execute_result"
    }
   ],
   "source": [
    "census_df.head()"
   ]
  },
  {
   "cell_type": "code",
   "execution_count": 19,
   "metadata": {},
   "outputs": [],
   "source": [
    "    #inclvl_moderate = dataframe[dataframe.IncomeLevelGroup == 'Moderate'][['Date','Vol']]\n",
    "    #inclvl_moderate = inclvl_moderate.rename(columns={'Vol':'Vol_moderate_income'})\n",
    "    #inclvl_low = dataframe[dataframe.IncomeLevelGroup == 'Low'][['Date','Vol']]\n",
    "    #inclvl_low = inclvl_low.rename(columns={'Vol':'Vol_low_income'})\n",
    "    #dataframe = pd.merge(inclvl_moderate,inclvl_low,on='Date')"
   ]
  },
  {
   "cell_type": "code",
   "execution_count": null,
   "metadata": {},
   "outputs": [],
   "source": []
  },
  {
   "cell_type": "code",
   "execution_count": null,
   "metadata": {},
   "outputs": [],
   "source": []
  },
  {
   "cell_type": "code",
   "execution_count": 20,
   "metadata": {},
   "outputs": [
    {
     "name": "stdout",
     "output_type": "stream",
     "text": [
      "3660\n",
      "3660\n",
      "3660\n",
      "3660\n",
      "3660\n",
      "3660\n"
     ]
    }
   ],
   "source": [
    "merged_df = transformers_ez.join_dfs(df,air_df,persinc_df,inclvl_df,census_df)"
   ]
  },
  {
   "cell_type": "code",
   "execution_count": 21,
   "metadata": {},
   "outputs": [
    {
     "data": {
      "text/plain": [
       "3660"
      ]
     },
     "execution_count": 21,
     "metadata": {},
     "output_type": "execute_result"
    }
   ],
   "source": [
    "len(merged_df)"
   ]
  },
  {
   "cell_type": "code",
   "execution_count": 22,
   "metadata": {},
   "outputs": [
    {
     "data": {
      "text/plain": [
       "3660"
      ]
     },
     "execution_count": 22,
     "metadata": {},
     "output_type": "execute_result"
    }
   ],
   "source": [
    "len(df)"
   ]
  },
  {
   "cell_type": "code",
   "execution_count": 24,
   "metadata": {},
   "outputs": [
    {
     "name": "stdout",
     "output_type": "stream",
     "text": [
      "Vol_moderate_income\n",
      "Vol_low_income\n",
      "median_income\n",
      "income_per_capita\n",
      "income_less_10000\n",
      "income_10000_14999\n",
      "income_15000_19999\n",
      "income_20000_24999\n",
      "income_25000_29999\n",
      "income_30000_34999\n",
      "income_35000_39999\n",
      "income_40000_44999\n",
      "income_45000_49999\n",
      "income_50000_59999\n",
      "income_60000_74999\n",
      "income_75000_99999\n",
      "income_100000_124999\n",
      "income_125000_149999\n",
      "income_150000_199999\n",
      "income_200000_or_more\n",
      "percent_income_spent_on_rent\n"
     ]
    }
   ],
   "source": [
    "for i in merged_df.columns:\n",
    "    if 'income' in i:\n",
    "        print(i)"
   ]
  },
  {
   "cell_type": "code",
   "execution_count": 25,
   "metadata": {},
   "outputs": [
    {
     "data": {
      "text/plain": [
       "0       7.265682e+08\n",
       "1       7.265682e+08\n",
       "2       7.265682e+08\n",
       "3       7.265682e+08\n",
       "4       7.265682e+08\n",
       "            ...     \n",
       "3655             NaN\n",
       "3656             NaN\n",
       "3657             NaN\n",
       "3658             NaN\n",
       "3659             NaN\n",
       "Name: Vol_low_income, Length: 3660, dtype: float64"
      ]
     },
     "execution_count": 25,
     "metadata": {},
     "output_type": "execute_result"
    }
   ],
   "source": [
    "merged_df['Vol_low_income']"
   ]
  },
  {
   "cell_type": "code",
   "execution_count": null,
   "metadata": {},
   "outputs": [],
   "source": []
  },
  {
   "cell_type": "code",
   "execution_count": null,
   "metadata": {},
   "outputs": [],
   "source": []
  },
  {
   "cell_type": "code",
   "execution_count": null,
   "metadata": {},
   "outputs": [],
   "source": []
  },
  {
   "cell_type": "code",
   "execution_count": null,
   "metadata": {},
   "outputs": [],
   "source": []
  },
  {
   "cell_type": "code",
   "execution_count": null,
   "metadata": {},
   "outputs": [],
   "source": []
  }
 ],
 "metadata": {
  "kernelspec": {
   "display_name": "Python 3",
   "language": "python",
   "name": "python3"
  },
  "language_info": {
   "codemirror_mode": {
    "name": "ipython",
    "version": 3
   },
   "file_extension": ".py",
   "mimetype": "text/x-python",
   "name": "python",
   "nbconvert_exporter": "python",
   "pygments_lexer": "ipython3",
   "version": "3.8.5"
  }
 },
 "nbformat": 4,
 "nbformat_minor": 4
}
