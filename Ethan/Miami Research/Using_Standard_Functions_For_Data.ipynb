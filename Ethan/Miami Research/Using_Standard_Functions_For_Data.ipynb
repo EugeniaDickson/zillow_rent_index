{
 "cells": [
  {
   "cell_type": "code",
   "execution_count": 1,
   "metadata": {},
   "outputs": [],
   "source": [
    "import pandas as pd\n",
    "import numpy as np"
   ]
  },
  {
   "cell_type": "code",
   "execution_count": 2,
   "metadata": {},
   "outputs": [
    {
     "name": "stdout",
     "output_type": "stream",
     "text": [
      "Your data is ready! Merged table name is zillow_full.\n"
     ]
    }
   ],
   "source": [
    "# import sys\n",
    "# sys.path.append('.../Jane')\n",
    "\n",
    "import extract_data_ez\n",
    "import transformers_ez\n",
    "\n",
    "%load_ext autoreload\n",
    "%autoreload 2"
   ]
  },
  {
   "cell_type": "code",
   "execution_count": 3,
   "metadata": {},
   "outputs": [],
   "source": [
    "date_cut = '2015-01-01'"
   ]
  },
  {
   "cell_type": "code",
   "execution_count": 4,
   "metadata": {},
   "outputs": [],
   "source": [
    "df_initial = extract_data_ez.zillow_data\n",
    "air_df_initial = extract_data_ez.airqual_data\n",
    "persinc_df_initial = extract_data_ez.persinc_data\n",
    "inclvl_df_initial = extract_data_ez.inclvl_data\n",
    "census_df_initial = extract_data_ez.census_data\n",
    "\n",
    "zillow_full_initial = extract_data_ez.zillow_full"
   ]
  },
  {
   "cell_type": "code",
   "execution_count": 5,
   "metadata": {},
   "outputs": [
    {
     "data": {
      "text/plain": [
       "0        21.963579\n",
       "1        21.963579\n",
       "2        21.963579\n",
       "3        21.963579\n",
       "4        22.977550\n",
       "           ...    \n",
       "17746    20.694839\n",
       "17747    20.694839\n",
       "17748    20.694839\n",
       "17749    20.554632\n",
       "17750    20.554632\n",
       "Name: AQIMean, Length: 17751, dtype: float64"
      ]
     },
     "execution_count": 5,
     "metadata": {},
     "output_type": "execute_result"
    }
   ],
   "source": [
    "zillow_full_initial['AQIMean']"
   ]
  },
  {
   "cell_type": "code",
   "execution_count": null,
   "metadata": {},
   "outputs": [],
   "source": []
  },
  {
   "cell_type": "code",
   "execution_count": null,
   "metadata": {},
   "outputs": [],
   "source": []
  },
  {
   "cell_type": "code",
   "execution_count": 6,
   "metadata": {},
   "outputs": [],
   "source": [
    "df = df_initial.copy()\n",
    "air_df = air_df_initial.copy()\n",
    "persinc_df = persinc_df_initial.copy()\n",
    "inclvl_df = inclvl_df_initial.copy()\n",
    "census_df = census_df_initial.copy()\n",
    "nulls_df = df[df['Rent'].isnull()]"
   ]
  },
  {
   "cell_type": "code",
   "execution_count": 7,
   "metadata": {},
   "outputs": [
    {
     "data": {
      "text/html": [
       "<div>\n",
       "<style scoped>\n",
       "    .dataframe tbody tr th:only-of-type {\n",
       "        vertical-align: middle;\n",
       "    }\n",
       "\n",
       "    .dataframe tbody tr th {\n",
       "        vertical-align: top;\n",
       "    }\n",
       "\n",
       "    .dataframe thead th {\n",
       "        text-align: right;\n",
       "    }\n",
       "</style>\n",
       "<table border=\"1\" class=\"dataframe\">\n",
       "  <thead>\n",
       "    <tr style=\"text-align: right;\">\n",
       "      <th></th>\n",
       "      <th>Zipcode</th>\n",
       "      <th>City</th>\n",
       "      <th>State</th>\n",
       "      <th>Metro</th>\n",
       "      <th>County</th>\n",
       "      <th>SizeRank</th>\n",
       "      <th>Date</th>\n",
       "      <th>Rent</th>\n",
       "      <th>Year</th>\n",
       "      <th>State-County</th>\n",
       "    </tr>\n",
       "  </thead>\n",
       "  <tbody>\n",
       "  </tbody>\n",
       "</table>\n",
       "</div>"
      ],
      "text/plain": [
       "Empty DataFrame\n",
       "Columns: [Zipcode, City, State, Metro, County, SizeRank, Date, Rent, Year, State-County]\n",
       "Index: []"
      ]
     },
     "execution_count": 7,
     "metadata": {},
     "output_type": "execute_result"
    }
   ],
   "source": [
    "nulls_df"
   ]
  },
  {
   "cell_type": "code",
   "execution_count": 8,
   "metadata": {},
   "outputs": [],
   "source": [
    "df = df_initial.copy()\n",
    "include_cities = ['Miami Beach','Miami','North Miami']\n",
    "#df = df[df['City'].isin(include_cities)]\n",
    "counties = ['Miami-Dade County', 'Broward County', 'Palm Beach County']\n",
    "# counties = ['Alameda County', 'Contra Costa County', 'Marin County', 'Napa County', 'San Mateo County', \n",
    "#             'Santa Clara County', 'Solano County', 'Sonoma County', 'San Francisco County']\n",
    "df = df[df['County'].isin(counties)]\n"
   ]
  },
  {
   "cell_type": "code",
   "execution_count": 9,
   "metadata": {},
   "outputs": [
    {
     "data": {
      "text/html": [
       "<div>\n",
       "<style scoped>\n",
       "    .dataframe tbody tr th:only-of-type {\n",
       "        vertical-align: middle;\n",
       "    }\n",
       "\n",
       "    .dataframe tbody tr th {\n",
       "        vertical-align: top;\n",
       "    }\n",
       "\n",
       "    .dataframe thead th {\n",
       "        text-align: right;\n",
       "    }\n",
       "</style>\n",
       "<table border=\"1\" class=\"dataframe\">\n",
       "  <thead>\n",
       "    <tr style=\"text-align: right;\">\n",
       "      <th></th>\n",
       "      <th>Zipcode</th>\n",
       "      <th>City</th>\n",
       "      <th>State</th>\n",
       "      <th>Metro</th>\n",
       "      <th>County</th>\n",
       "      <th>SizeRank</th>\n",
       "      <th>Date</th>\n",
       "      <th>Rent</th>\n",
       "      <th>Year</th>\n",
       "      <th>State-County</th>\n",
       "    </tr>\n",
       "  </thead>\n",
       "  <tbody>\n",
       "    <tr>\n",
       "      <th>96843</th>\n",
       "      <td>33160</td>\n",
       "      <td>Sunny Isles Beach</td>\n",
       "      <td>FL</td>\n",
       "      <td>Miami-Fort Lauderdale-West Palm Beach</td>\n",
       "      <td>Miami-Dade County</td>\n",
       "      <td>72</td>\n",
       "      <td>2015-01-01</td>\n",
       "      <td>1963.0</td>\n",
       "      <td>2015</td>\n",
       "      <td>FL-Miami-Dade County</td>\n",
       "    </tr>\n",
       "    <tr>\n",
       "      <th>96857</th>\n",
       "      <td>33025</td>\n",
       "      <td>Miramar</td>\n",
       "      <td>FL</td>\n",
       "      <td>Miami-Fort Lauderdale-West Palm Beach</td>\n",
       "      <td>Broward County</td>\n",
       "      <td>86</td>\n",
       "      <td>2015-01-01</td>\n",
       "      <td>1393.0</td>\n",
       "      <td>2015</td>\n",
       "      <td>FL-Broward County</td>\n",
       "    </tr>\n",
       "    <tr>\n",
       "      <th>96862</th>\n",
       "      <td>33139</td>\n",
       "      <td>Miami Beach</td>\n",
       "      <td>FL</td>\n",
       "      <td>Miami-Fort Lauderdale-West Palm Beach</td>\n",
       "      <td>Miami-Dade County</td>\n",
       "      <td>91</td>\n",
       "      <td>2015-01-01</td>\n",
       "      <td>2009.0</td>\n",
       "      <td>2015</td>\n",
       "      <td>FL-Miami-Dade County</td>\n",
       "    </tr>\n",
       "    <tr>\n",
       "      <th>96899</th>\n",
       "      <td>33024</td>\n",
       "      <td>Pembroke Pines</td>\n",
       "      <td>FL</td>\n",
       "      <td>Miami-Fort Lauderdale-West Palm Beach</td>\n",
       "      <td>Broward County</td>\n",
       "      <td>128</td>\n",
       "      <td>2015-01-01</td>\n",
       "      <td>1295.0</td>\n",
       "      <td>2015</td>\n",
       "      <td>FL-Broward County</td>\n",
       "    </tr>\n",
       "    <tr>\n",
       "      <th>96932</th>\n",
       "      <td>33009</td>\n",
       "      <td>Hallandale</td>\n",
       "      <td>FL</td>\n",
       "      <td>Miami-Fort Lauderdale-West Palm Beach</td>\n",
       "      <td>Broward County</td>\n",
       "      <td>161</td>\n",
       "      <td>2015-01-01</td>\n",
       "      <td>1524.0</td>\n",
       "      <td>2015</td>\n",
       "      <td>FL-Broward County</td>\n",
       "    </tr>\n",
       "  </tbody>\n",
       "</table>\n",
       "</div>"
      ],
      "text/plain": [
       "      Zipcode               City State                                  Metro  \\\n",
       "96843   33160  Sunny Isles Beach    FL  Miami-Fort Lauderdale-West Palm Beach   \n",
       "96857   33025            Miramar    FL  Miami-Fort Lauderdale-West Palm Beach   \n",
       "96862   33139        Miami Beach    FL  Miami-Fort Lauderdale-West Palm Beach   \n",
       "96899   33024     Pembroke Pines    FL  Miami-Fort Lauderdale-West Palm Beach   \n",
       "96932   33009         Hallandale    FL  Miami-Fort Lauderdale-West Palm Beach   \n",
       "\n",
       "                  County  SizeRank       Date    Rent  Year  \\\n",
       "96843  Miami-Dade County        72 2015-01-01  1963.0  2015   \n",
       "96857     Broward County        86 2015-01-01  1393.0  2015   \n",
       "96862  Miami-Dade County        91 2015-01-01  2009.0  2015   \n",
       "96899     Broward County       128 2015-01-01  1295.0  2015   \n",
       "96932     Broward County       161 2015-01-01  1524.0  2015   \n",
       "\n",
       "               State-County  \n",
       "96843  FL-Miami-Dade County  \n",
       "96857     FL-Broward County  \n",
       "96862  FL-Miami-Dade County  \n",
       "96899     FL-Broward County  \n",
       "96932     FL-Broward County  "
      ]
     },
     "execution_count": 9,
     "metadata": {},
     "output_type": "execute_result"
    }
   ],
   "source": [
    "df.head()"
   ]
  },
  {
   "cell_type": "code",
   "execution_count": null,
   "metadata": {},
   "outputs": [],
   "source": []
  },
  {
   "cell_type": "code",
   "execution_count": 10,
   "metadata": {},
   "outputs": [
    {
     "data": {
      "text/html": [
       "<div>\n",
       "<style scoped>\n",
       "    .dataframe tbody tr th:only-of-type {\n",
       "        vertical-align: middle;\n",
       "    }\n",
       "\n",
       "    .dataframe tbody tr th {\n",
       "        vertical-align: top;\n",
       "    }\n",
       "\n",
       "    .dataframe thead th {\n",
       "        text-align: right;\n",
       "    }\n",
       "</style>\n",
       "<table border=\"1\" class=\"dataframe\">\n",
       "  <thead>\n",
       "    <tr style=\"text-align: right;\">\n",
       "      <th></th>\n",
       "      <th>Date</th>\n",
       "      <th>State</th>\n",
       "      <th>County</th>\n",
       "      <th>AQIMean</th>\n",
       "    </tr>\n",
       "  </thead>\n",
       "  <tbody>\n",
       "    <tr>\n",
       "      <th>0</th>\n",
       "      <td>2010-01-01</td>\n",
       "      <td>CA</td>\n",
       "      <td>Alameda County</td>\n",
       "      <td>16.186197</td>\n",
       "    </tr>\n",
       "    <tr>\n",
       "      <th>1</th>\n",
       "      <td>2010-01-01</td>\n",
       "      <td>CA</td>\n",
       "      <td>Contra Costa County</td>\n",
       "      <td>9.828137</td>\n",
       "    </tr>\n",
       "    <tr>\n",
       "      <th>2</th>\n",
       "      <td>2010-01-01</td>\n",
       "      <td>CA</td>\n",
       "      <td>Marin County</td>\n",
       "      <td>15.767698</td>\n",
       "    </tr>\n",
       "    <tr>\n",
       "      <th>3</th>\n",
       "      <td>2010-01-01</td>\n",
       "      <td>CA</td>\n",
       "      <td>Napa County</td>\n",
       "      <td>11.892719</td>\n",
       "    </tr>\n",
       "    <tr>\n",
       "      <th>4</th>\n",
       "      <td>2010-01-01</td>\n",
       "      <td>CA</td>\n",
       "      <td>San Francisco County</td>\n",
       "      <td>19.534288</td>\n",
       "    </tr>\n",
       "  </tbody>\n",
       "</table>\n",
       "</div>"
      ],
      "text/plain": [
       "        Date State                County    AQIMean\n",
       "0 2010-01-01    CA        Alameda County  16.186197\n",
       "1 2010-01-01    CA   Contra Costa County   9.828137\n",
       "2 2010-01-01    CA          Marin County  15.767698\n",
       "3 2010-01-01    CA           Napa County  11.892719\n",
       "4 2010-01-01    CA  San Francisco County  19.534288"
      ]
     },
     "execution_count": 10,
     "metadata": {},
     "output_type": "execute_result"
    }
   ],
   "source": [
    "air_df.head()"
   ]
  },
  {
   "cell_type": "code",
   "execution_count": 11,
   "metadata": {},
   "outputs": [
    {
     "data": {
      "text/plain": [
       "array(['Alameda County', 'Contra Costa County', 'Marin County',\n",
       "       'Napa County', 'San Francisco County', 'San Mateo County',\n",
       "       'Santa Clara County', 'Solano County', 'Sonoma County',\n",
       "       'Broward County', 'Miami-Dade County', 'Palm Beach County',\n",
       "       'Bronx County', 'Kings County', 'New York County', 'Queens County',\n",
       "       'Richmond County', 'Travis County'], dtype=object)"
      ]
     },
     "execution_count": 11,
     "metadata": {},
     "output_type": "execute_result"
    }
   ],
   "source": [
    "air_df['County'].unique()"
   ]
  },
  {
   "cell_type": "code",
   "execution_count": 12,
   "metadata": {},
   "outputs": [
    {
     "data": {
      "text/plain": [
       "array(['Miami-Dade County', 'Broward County', 'Palm Beach County'],\n",
       "      dtype=object)"
      ]
     },
     "execution_count": 12,
     "metadata": {},
     "output_type": "execute_result"
    }
   ],
   "source": [
    "df['County'].unique()"
   ]
  },
  {
   "cell_type": "code",
   "execution_count": null,
   "metadata": {},
   "outputs": [],
   "source": []
  },
  {
   "cell_type": "code",
   "execution_count": 13,
   "metadata": {},
   "outputs": [
    {
     "name": "stdout",
     "output_type": "stream",
     "text": [
      "1.421812677419355\n",
      "13.83628184204672\n"
     ]
    }
   ],
   "source": [
    "air_df = air_df[air_df['County'].isin(counties)]\n",
    "print(air_df['AQIMean'].min())\n",
    "print(air_df['AQIMean'].max())"
   ]
  },
  {
   "cell_type": "code",
   "execution_count": 13,
   "metadata": {},
   "outputs": [],
   "source": [
    "#air_df\n",
    "min_df = air_df[['AQIMean','County','Date']].groupby(['County','Date']).min().reset_index()\n",
    "min_df = min_df.rename(columns={'AQIMean':'min'})\n",
    "max_df = air_df[['AQIMean','County','Date']].groupby(['County','Date']).max().reset_index()\n",
    "max_df = max_df.rename(columns={'AQIMean':'max'})\n",
    "grouped = pd.merge(min_df,max_df,on=['County','Date'],how='inner')"
   ]
  },
  {
   "cell_type": "code",
   "execution_count": 14,
   "metadata": {},
   "outputs": [],
   "source": [
    "grouped.to_csv('min_max_comp.csv')"
   ]
  },
  {
   "cell_type": "code",
   "execution_count": null,
   "metadata": {},
   "outputs": [],
   "source": []
  },
  {
   "cell_type": "code",
   "execution_count": 15,
   "metadata": {},
   "outputs": [
    {
     "data": {
      "text/plain": [
       "array(['FL'], dtype=object)"
      ]
     },
     "execution_count": 15,
     "metadata": {},
     "output_type": "execute_result"
    }
   ],
   "source": [
    "df['State'].unique()"
   ]
  },
  {
   "cell_type": "code",
   "execution_count": 16,
   "metadata": {},
   "outputs": [
    {
     "data": {
      "text/html": [
       "<div>\n",
       "<style scoped>\n",
       "    .dataframe tbody tr th:only-of-type {\n",
       "        vertical-align: middle;\n",
       "    }\n",
       "\n",
       "    .dataframe tbody tr th {\n",
       "        vertical-align: top;\n",
       "    }\n",
       "\n",
       "    .dataframe thead th {\n",
       "        text-align: right;\n",
       "    }\n",
       "</style>\n",
       "<table border=\"1\" class=\"dataframe\">\n",
       "  <thead>\n",
       "    <tr style=\"text-align: right;\">\n",
       "      <th></th>\n",
       "      <th>State</th>\n",
       "      <th>Year</th>\n",
       "      <th>PersonalIncome</th>\n",
       "    </tr>\n",
       "  </thead>\n",
       "  <tbody>\n",
       "    <tr>\n",
       "      <th>0</th>\n",
       "      <td>TX</td>\n",
       "      <td>2008</td>\n",
       "      <td>44521</td>\n",
       "    </tr>\n",
       "    <tr>\n",
       "      <th>1</th>\n",
       "      <td>FL</td>\n",
       "      <td>2008</td>\n",
       "      <td>44447</td>\n",
       "    </tr>\n",
       "    <tr>\n",
       "      <th>2</th>\n",
       "      <td>NY</td>\n",
       "      <td>2008</td>\n",
       "      <td>48585</td>\n",
       "    </tr>\n",
       "    <tr>\n",
       "      <th>3</th>\n",
       "      <td>CA</td>\n",
       "      <td>2008</td>\n",
       "      <td>54862</td>\n",
       "    </tr>\n",
       "    <tr>\n",
       "      <th>4</th>\n",
       "      <td>TX</td>\n",
       "      <td>2009</td>\n",
       "      <td>42103</td>\n",
       "    </tr>\n",
       "  </tbody>\n",
       "</table>\n",
       "</div>"
      ],
      "text/plain": [
       "  State  Year  PersonalIncome\n",
       "0    TX  2008           44521\n",
       "1    FL  2008           44447\n",
       "2    NY  2008           48585\n",
       "3    CA  2008           54862\n",
       "4    TX  2009           42103"
      ]
     },
     "execution_count": 16,
     "metadata": {},
     "output_type": "execute_result"
    }
   ],
   "source": [
    "persinc_df.head()"
   ]
  },
  {
   "cell_type": "code",
   "execution_count": 17,
   "metadata": {},
   "outputs": [
    {
     "data": {
      "text/html": [
       "<div>\n",
       "<style scoped>\n",
       "    .dataframe tbody tr th:only-of-type {\n",
       "        vertical-align: middle;\n",
       "    }\n",
       "\n",
       "    .dataframe tbody tr th {\n",
       "        vertical-align: top;\n",
       "    }\n",
       "\n",
       "    .dataframe thead th {\n",
       "        text-align: right;\n",
       "    }\n",
       "</style>\n",
       "<table border=\"1\" class=\"dataframe\">\n",
       "  <thead>\n",
       "    <tr style=\"text-align: right;\">\n",
       "      <th></th>\n",
       "      <th>do_date</th>\n",
       "      <th>total_pop</th>\n",
       "      <th>households</th>\n",
       "      <th>median_age</th>\n",
       "      <th>median_income</th>\n",
       "      <th>income_per_capita</th>\n",
       "      <th>gini_index</th>\n",
       "      <th>Zipcode</th>\n",
       "      <th>pct_poverty</th>\n",
       "      <th>housing_availability</th>\n",
       "      <th>home_density</th>\n",
       "      <th>pct_employed</th>\n",
       "      <th>pct_jobs_nightlife</th>\n",
       "      <th>pct_unemployed</th>\n",
       "      <th>move_within_city</th>\n",
       "      <th>move_new_city</th>\n",
       "      <th>avg_commute_time</th>\n",
       "      <th>pct_college</th>\n",
       "    </tr>\n",
       "  </thead>\n",
       "  <tbody>\n",
       "    <tr>\n",
       "      <th>0</th>\n",
       "      <td>2014-01-01</td>\n",
       "      <td>2510</td>\n",
       "      <td>856</td>\n",
       "      <td>42.1</td>\n",
       "      <td>NaN</td>\n",
       "      <td>NaN</td>\n",
       "      <td>NaN</td>\n",
       "      <td>87537</td>\n",
       "      <td>NaN</td>\n",
       "      <td>1.685748</td>\n",
       "      <td>2.932243</td>\n",
       "      <td>NaN</td>\n",
       "      <td>NaN</td>\n",
       "      <td>NaN</td>\n",
       "      <td>NaN</td>\n",
       "      <td>NaN</td>\n",
       "      <td>NaN</td>\n",
       "      <td>0.066932</td>\n",
       "    </tr>\n",
       "    <tr>\n",
       "      <th>1</th>\n",
       "      <td>2014-01-01</td>\n",
       "      <td>346</td>\n",
       "      <td>112</td>\n",
       "      <td>50.9</td>\n",
       "      <td>NaN</td>\n",
       "      <td>NaN</td>\n",
       "      <td>NaN</td>\n",
       "      <td>87017</td>\n",
       "      <td>NaN</td>\n",
       "      <td>2.142857</td>\n",
       "      <td>3.089286</td>\n",
       "      <td>NaN</td>\n",
       "      <td>NaN</td>\n",
       "      <td>NaN</td>\n",
       "      <td>NaN</td>\n",
       "      <td>NaN</td>\n",
       "      <td>NaN</td>\n",
       "      <td>0.057803</td>\n",
       "    </tr>\n",
       "    <tr>\n",
       "      <th>2</th>\n",
       "      <td>2014-01-01</td>\n",
       "      <td>3505</td>\n",
       "      <td>727</td>\n",
       "      <td>27.9</td>\n",
       "      <td>NaN</td>\n",
       "      <td>NaN</td>\n",
       "      <td>NaN</td>\n",
       "      <td>87528</td>\n",
       "      <td>NaN</td>\n",
       "      <td>1.408528</td>\n",
       "      <td>4.821183</td>\n",
       "      <td>NaN</td>\n",
       "      <td>NaN</td>\n",
       "      <td>NaN</td>\n",
       "      <td>NaN</td>\n",
       "      <td>NaN</td>\n",
       "      <td>NaN</td>\n",
       "      <td>0.032810</td>\n",
       "    </tr>\n",
       "    <tr>\n",
       "      <th>3</th>\n",
       "      <td>2014-01-01</td>\n",
       "      <td>133</td>\n",
       "      <td>58</td>\n",
       "      <td>25.8</td>\n",
       "      <td>NaN</td>\n",
       "      <td>NaN</td>\n",
       "      <td>NaN</td>\n",
       "      <td>87533</td>\n",
       "      <td>NaN</td>\n",
       "      <td>1.172414</td>\n",
       "      <td>2.293103</td>\n",
       "      <td>NaN</td>\n",
       "      <td>NaN</td>\n",
       "      <td>NaN</td>\n",
       "      <td>NaN</td>\n",
       "      <td>NaN</td>\n",
       "      <td>NaN</td>\n",
       "      <td>0.067669</td>\n",
       "    </tr>\n",
       "    <tr>\n",
       "      <th>4</th>\n",
       "      <td>2014-01-01</td>\n",
       "      <td>2896</td>\n",
       "      <td>787</td>\n",
       "      <td>36.0</td>\n",
       "      <td>NaN</td>\n",
       "      <td>NaN</td>\n",
       "      <td>NaN</td>\n",
       "      <td>87511</td>\n",
       "      <td>NaN</td>\n",
       "      <td>1.645489</td>\n",
       "      <td>3.679797</td>\n",
       "      <td>NaN</td>\n",
       "      <td>NaN</td>\n",
       "      <td>NaN</td>\n",
       "      <td>NaN</td>\n",
       "      <td>NaN</td>\n",
       "      <td>NaN</td>\n",
       "      <td>0.038674</td>\n",
       "    </tr>\n",
       "  </tbody>\n",
       "</table>\n",
       "</div>"
      ],
      "text/plain": [
       "     do_date  total_pop  households  median_age  median_income  \\\n",
       "0 2014-01-01       2510         856        42.1            NaN   \n",
       "1 2014-01-01        346         112        50.9            NaN   \n",
       "2 2014-01-01       3505         727        27.9            NaN   \n",
       "3 2014-01-01        133          58        25.8            NaN   \n",
       "4 2014-01-01       2896         787        36.0            NaN   \n",
       "\n",
       "   income_per_capita  gini_index Zipcode  pct_poverty  housing_availability  \\\n",
       "0                NaN         NaN   87537          NaN              1.685748   \n",
       "1                NaN         NaN   87017          NaN              2.142857   \n",
       "2                NaN         NaN   87528          NaN              1.408528   \n",
       "3                NaN         NaN   87533          NaN              1.172414   \n",
       "4                NaN         NaN   87511          NaN              1.645489   \n",
       "\n",
       "   home_density  pct_employed  pct_jobs_nightlife  pct_unemployed  \\\n",
       "0      2.932243           NaN                 NaN             NaN   \n",
       "1      3.089286           NaN                 NaN             NaN   \n",
       "2      4.821183           NaN                 NaN             NaN   \n",
       "3      2.293103           NaN                 NaN             NaN   \n",
       "4      3.679797           NaN                 NaN             NaN   \n",
       "\n",
       "   move_within_city  move_new_city  avg_commute_time  pct_college  \n",
       "0               NaN            NaN               NaN     0.066932  \n",
       "1               NaN            NaN               NaN     0.057803  \n",
       "2               NaN            NaN               NaN     0.032810  \n",
       "3               NaN            NaN               NaN     0.067669  \n",
       "4               NaN            NaN               NaN     0.038674  "
      ]
     },
     "execution_count": 17,
     "metadata": {},
     "output_type": "execute_result"
    }
   ],
   "source": [
    "census_df.head()"
   ]
  },
  {
   "cell_type": "code",
   "execution_count": 18,
   "metadata": {},
   "outputs": [],
   "source": [
    "    #inclvl_moderate = dataframe[dataframe.IncomeLevelGroup == 'Moderate'][['Date','Vol']]\n",
    "    #inclvl_moderate = inclvl_moderate.rename(columns={'Vol':'Vol_moderate_income'})\n",
    "    #inclvl_low = dataframe[dataframe.IncomeLevelGroup == 'Low'][['Date','Vol']]\n",
    "    #inclvl_low = inclvl_low.rename(columns={'Vol':'Vol_low_income'})\n",
    "    #dataframe = pd.merge(inclvl_moderate,inclvl_low,on='Date')"
   ]
  },
  {
   "cell_type": "code",
   "execution_count": null,
   "metadata": {},
   "outputs": [],
   "source": []
  },
  {
   "cell_type": "code",
   "execution_count": null,
   "metadata": {},
   "outputs": [],
   "source": []
  },
  {
   "cell_type": "code",
   "execution_count": 19,
   "metadata": {},
   "outputs": [],
   "source": [
    "merged_df = transformers_ez.join_dfs(df,air_df,persinc_df,inclvl_df,census_df)"
   ]
  },
  {
   "cell_type": "code",
   "execution_count": 20,
   "metadata": {},
   "outputs": [
    {
     "data": {
      "text/plain": [
       "3660"
      ]
     },
     "execution_count": 20,
     "metadata": {},
     "output_type": "execute_result"
    }
   ],
   "source": [
    "len(merged_df)"
   ]
  },
  {
   "cell_type": "code",
   "execution_count": 21,
   "metadata": {},
   "outputs": [
    {
     "data": {
      "text/plain": [
       "3660"
      ]
     },
     "execution_count": 21,
     "metadata": {},
     "output_type": "execute_result"
    }
   ],
   "source": [
    "len(df)"
   ]
  },
  {
   "cell_type": "code",
   "execution_count": 22,
   "metadata": {},
   "outputs": [
    {
     "name": "stdout",
     "output_type": "stream",
     "text": [
      "AQIMean\n"
     ]
    }
   ],
   "source": [
    "for i in merged_df.columns:\n",
    "    if 'ean' in i:\n",
    "        print(i)"
   ]
  },
  {
   "cell_type": "code",
   "execution_count": 23,
   "metadata": {},
   "outputs": [
    {
     "data": {
      "text/plain": [
       "0        8.599690\n",
       "1        6.869881\n",
       "2        8.599690\n",
       "3        6.869881\n",
       "4        6.869881\n",
       "          ...    \n",
       "3655     8.321691\n",
       "3656     8.321691\n",
       "3657     8.321691\n",
       "3658    10.780634\n",
       "3659          NaN\n",
       "Name: AQIMean, Length: 3660, dtype: float64"
      ]
     },
     "execution_count": 23,
     "metadata": {},
     "output_type": "execute_result"
    }
   ],
   "source": [
    "merged_df['AQIMean']"
   ]
  },
  {
   "cell_type": "code",
   "execution_count": null,
   "metadata": {},
   "outputs": [],
   "source": []
  },
  {
   "cell_type": "code",
   "execution_count": null,
   "metadata": {},
   "outputs": [],
   "source": []
  },
  {
   "cell_type": "code",
   "execution_count": null,
   "metadata": {},
   "outputs": [],
   "source": []
  },
  {
   "cell_type": "code",
   "execution_count": null,
   "metadata": {},
   "outputs": [],
   "source": []
  },
  {
   "cell_type": "code",
   "execution_count": null,
   "metadata": {},
   "outputs": [],
   "source": []
  },
  {
   "cell_type": "code",
   "execution_count": null,
   "metadata": {},
   "outputs": [],
   "source": []
  },
  {
   "cell_type": "code",
   "execution_count": null,
   "metadata": {},
   "outputs": [],
   "source": []
  }
 ],
 "metadata": {
  "kernelspec": {
   "display_name": "Python 3",
   "language": "python",
   "name": "python3"
  },
  "language_info": {
   "codemirror_mode": {
    "name": "ipython",
    "version": 3
   },
   "file_extension": ".py",
   "mimetype": "text/x-python",
   "name": "python",
   "nbconvert_exporter": "python",
   "pygments_lexer": "ipython3",
   "version": "3.8.5"
  }
 },
 "nbformat": 4,
 "nbformat_minor": 4
}
