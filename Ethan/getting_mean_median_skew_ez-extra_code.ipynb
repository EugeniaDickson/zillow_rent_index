{
 "cells": [
  {
   "cell_type": "code",
   "execution_count": 6,
   "metadata": {},
   "outputs": [],
   "source": [
    "import pandas as pd\n",
    "import numpy as np\n",
    "from itertools import repeat\n",
    "from statistics import median\n",
    "from scipy.stats import kurtosis\n",
    "from scipy.stats import skew"
   ]
  },
  {
   "cell_type": "code",
   "execution_count": 7,
   "metadata": {},
   "outputs": [],
   "source": [
    "good_state_ids = ['NY','FL','CA','TX']"
   ]
  },
  {
   "cell_type": "code",
   "execution_count": 8,
   "metadata": {},
   "outputs": [],
   "source": [
    "df_initial = pd.read_csv('census_data.csv')"
   ]
  },
  {
   "cell_type": "code",
   "execution_count": 9,
   "metadata": {},
   "outputs": [],
   "source": [
    "df = df_initial.copy()\n",
    "df['geo_id'] = df['geo_id'].astype(str)\n",
    "geo_map = {'36':'NY',\n",
    "           '12':'FL',\n",
    "           '6':'CA',\n",
    "           '48':'TX'\n",
    "          }\n",
    "df['geo'] = df['geo_id'].apply(lambda x: geo_map[x] if x in geo_map else x)"
   ]
  },
  {
   "cell_type": "code",
   "execution_count": null,
   "metadata": {},
   "outputs": [],
   "source": []
  },
  {
   "cell_type": "code",
   "execution_count": 10,
   "metadata": {},
   "outputs": [],
   "source": [
    "#mean by state\n",
    "state_mean_df = df[['geo','income_per_capita']]\n",
    "state_mean_df = state_mean_df[state_mean_df['geo'].isin(good_state_ids)]\n",
    "state_mean_dict = dict(zip(state_mean_df.geo, state_mean_df.income_per_capita))"
   ]
  },
  {
   "cell_type": "code",
   "execution_count": 6,
   "metadata": {},
   "outputs": [],
   "source": [
    "#mean entire country\n",
    "total_mean = sum(df['total_pop'] * df['income_per_capita']) / df['total_pop'].sum()"
   ]
  },
  {
   "cell_type": "code",
   "execution_count": 7,
   "metadata": {},
   "outputs": [],
   "source": [
    "keep_cols = ['geo','geo_id','total_pop']\n",
    "income_cols = []\n",
    "for i in df.columns:\n",
    "    if 'income' in i:\n",
    "        keep_cols.append(i)\n",
    "        if '00' in i:\n",
    "            income_cols.append(i)"
   ]
  },
  {
   "cell_type": "code",
   "execution_count": 8,
   "metadata": {},
   "outputs": [],
   "source": [
    "df = df[keep_cols]"
   ]
  },
  {
   "cell_type": "code",
   "execution_count": 9,
   "metadata": {},
   "outputs": [],
   "source": [
    "all_incomes = []\n",
    "all_geos = []\n",
    "by_state_dict = {}\n",
    "\n",
    "#get a list of all incomes in data set (all_incomes)  and get that by state (by_state_dict)\n",
    "for temp_id in df['geo'].unique():\n",
    "    state_vals = []\n",
    "    temp = df.copy()\n",
    "    temp = temp[temp['geo']==temp_id]\n",
    "    for income_col in income_cols:\n",
    "        val = income_col.split('_')[-1]\n",
    "        if val == 'more':\n",
    "            val = 250000\n",
    "        val = int(val)\n",
    "        \n",
    "        count = temp[income_col].min()\n",
    "        all_incomes.extend(repeat(val, count))\n",
    "        state_vals.extend(repeat(val, count))\n",
    "        all_geos.extend(repeat(temp_id,count))\n",
    "    by_state_dict[temp_id] = state_vals\n",
    "#         income_lev_df = pd.DataFrame({'geo':[temp_id],\n",
    "#                                       'income':[val]\n",
    "#                                      })\n",
    "        \n",
    "#         income_lev_df = income_lev_df.append([income_lev_df]*(count-1),ignore_index=True)\n",
    "#         final_df = final_df.append([income_lev_df])"
   ]
  },
  {
   "cell_type": "code",
   "execution_count": 10,
   "metadata": {},
   "outputs": [],
   "source": [
    "# all_df = pd.DataFrame({'geo':all_geos,\n",
    "#                        'income':all_incomes,\n",
    "#                       })    "
   ]
  },
  {
   "cell_type": "code",
   "execution_count": 11,
   "metadata": {},
   "outputs": [],
   "source": [
    "def get_median_skew(income_list):\n",
    "    #get median from list\n",
    "    med_val = int(median(income_list))\n",
    "    \n",
    "    #get # items in list\n",
    "    num_vals = len(income_list)\n",
    "    \n",
    "    #get median index\n",
    "    median_loc = (num_vals + 1)/2\n",
    "    \n",
    "    #get number items below median val\n",
    "    num_below_med = len([i for i in income_list if i < med_val])\n",
    "    \n",
    "    #get number of values = to median\n",
    "    num_at_med = len([i for i in income_list if i == med_val])\n",
    "    \n",
    "    #calculate how many items into \n",
    "    num_into_med = (median_loc - num_below_med) / num_at_med\n",
    "    \n",
    "    #calculate % into median range\n",
    "    range_start = int(str(med_val).replace('999','') + '000')\n",
    "    final_med = range_start + ((med_val-range_start)*num_into_med)\n",
    "    \n",
    "    #get skew\n",
    "    skew_val = skew(income_list)\n",
    "    \n",
    "    return {'Skew':skew_val,\n",
    "            'Median':final_med\n",
    "           }"
   ]
  },
  {
   "cell_type": "code",
   "execution_count": 12,
   "metadata": {},
   "outputs": [],
   "source": [
    "#country median/skew\n",
    "total_med_skew_mean = get_median_skew(all_incomes)\n",
    "total_med_skew_mean['mean'] = total_mean"
   ]
  },
  {
   "cell_type": "code",
   "execution_count": 13,
   "metadata": {},
   "outputs": [
    {
     "data": {
      "text/plain": [
       "{'Skew': 1.0459226727308006,\n",
       " 'Median': 59977.40914478211,\n",
       " 'mean': 32411.262103872632}"
      ]
     },
     "execution_count": 13,
     "metadata": {},
     "output_type": "execute_result"
    }
   ],
   "source": [
    "total_med_skew_mean"
   ]
  },
  {
   "cell_type": "code",
   "execution_count": 14,
   "metadata": {},
   "outputs": [
    {
     "name": "stdout",
     "output_type": "stream",
     "text": [
      "TX\n",
      "FL\n",
      "NY\n",
      "CA\n"
     ]
    }
   ],
   "source": [
    "#get median/skew for all states individually\n",
    "state_med_skew_mean_dict = {}\n",
    "for state,incomes in by_state_dict.items():\n",
    "    if state in good_state_ids:\n",
    "        print(state)\n",
    "        #print(len(incomes))\n",
    "        state_med_skew_mean_dict[state] = get_median_skew(incomes)"
   ]
  },
  {
   "cell_type": "code",
   "execution_count": 15,
   "metadata": {},
   "outputs": [],
   "source": [
    "for state,mean_val in state_mean_dict.items():\n",
    "    state_med_skew_mean_dict[state]['Mean'] = mean_val\n",
    "    \n",
    "state_med_skew_mean_dict['US'] = total_med_skew_mean"
   ]
  },
  {
   "cell_type": "code",
   "execution_count": 16,
   "metadata": {},
   "outputs": [
    {
     "data": {
      "text/plain": [
       "{'TX': {'Skew': 1.0549667228103075, 'Median': 59961.3843633655, 'Mean': 30143},\n",
       " 'FL': {'Skew': 1.262708304934096, 'Median': 59354.80037009153, 'Mean': 30197},\n",
       " 'NY': {'Skew': 0.8521439351930625, 'Median': 74386.1299736343, 'Mean': 37470},\n",
       " 'CA': {'Skew': 0.7608806099964737,\n",
       "  'Median': 74756.55312725568,\n",
       "  'Mean': 35021},\n",
       " 'US': {'Skew': 1.0459226727308006,\n",
       "  'Median': 59977.40914478211,\n",
       "  'mean': 32411.262103872632}}"
      ]
     },
     "execution_count": 16,
     "metadata": {},
     "output_type": "execute_result"
    }
   ],
   "source": [
    "state_med_skew_mean_dict"
   ]
  },
  {
   "cell_type": "code",
   "execution_count": 13,
   "metadata": {},
   "outputs": [
    {
     "data": {
      "text/html": [
       "<div>\n",
       "<style scoped>\n",
       "    .dataframe tbody tr th:only-of-type {\n",
       "        vertical-align: middle;\n",
       "    }\n",
       "\n",
       "    .dataframe tbody tr th {\n",
       "        vertical-align: top;\n",
       "    }\n",
       "\n",
       "    .dataframe thead th {\n",
       "        text-align: right;\n",
       "    }\n",
       "</style>\n",
       "<table border=\"1\" class=\"dataframe\">\n",
       "  <thead>\n",
       "    <tr style=\"text-align: right;\">\n",
       "      <th></th>\n",
       "      <th>geo</th>\n",
       "      <th>median_income</th>\n",
       "      <th>income_per_capita</th>\n",
       "    </tr>\n",
       "  </thead>\n",
       "  <tbody>\n",
       "    <tr>\n",
       "      <th>0</th>\n",
       "      <td>5</td>\n",
       "      <td>45726</td>\n",
       "      <td>25635</td>\n",
       "    </tr>\n",
       "    <tr>\n",
       "      <th>1</th>\n",
       "      <td>2</td>\n",
       "      <td>76715</td>\n",
       "      <td>35874</td>\n",
       "    </tr>\n",
       "    <tr>\n",
       "      <th>2</th>\n",
       "      <td>10</td>\n",
       "      <td>65627</td>\n",
       "      <td>33989</td>\n",
       "    </tr>\n",
       "    <tr>\n",
       "      <th>3</th>\n",
       "      <td>TX</td>\n",
       "      <td>59570</td>\n",
       "      <td>30143</td>\n",
       "    </tr>\n",
       "    <tr>\n",
       "      <th>4</th>\n",
       "      <td>16</td>\n",
       "      <td>53089</td>\n",
       "      <td>26772</td>\n",
       "    </tr>\n",
       "    <tr>\n",
       "      <th>5</th>\n",
       "      <td>FL</td>\n",
       "      <td>53267</td>\n",
       "      <td>30197</td>\n",
       "    </tr>\n",
       "    <tr>\n",
       "      <th>6</th>\n",
       "      <td>49</td>\n",
       "      <td>68374</td>\n",
       "      <td>28239</td>\n",
       "    </tr>\n",
       "    <tr>\n",
       "      <th>7</th>\n",
       "      <td>37</td>\n",
       "      <td>52413</td>\n",
       "      <td>29456</td>\n",
       "    </tr>\n",
       "    <tr>\n",
       "      <th>8</th>\n",
       "      <td>45</td>\n",
       "      <td>51015</td>\n",
       "      <td>27986</td>\n",
       "    </tr>\n",
       "    <tr>\n",
       "      <th>9</th>\n",
       "      <td>13</td>\n",
       "      <td>55679</td>\n",
       "      <td>29523</td>\n",
       "    </tr>\n",
       "    <tr>\n",
       "      <th>10</th>\n",
       "      <td>4</td>\n",
       "      <td>56213</td>\n",
       "      <td>29265</td>\n",
       "    </tr>\n",
       "    <tr>\n",
       "      <th>11</th>\n",
       "      <td>32</td>\n",
       "      <td>57598</td>\n",
       "      <td>29961</td>\n",
       "    </tr>\n",
       "    <tr>\n",
       "      <th>12</th>\n",
       "      <td>11</td>\n",
       "      <td>82604</td>\n",
       "      <td>53321</td>\n",
       "    </tr>\n",
       "    <tr>\n",
       "      <th>13</th>\n",
       "      <td>NY</td>\n",
       "      <td>65323</td>\n",
       "      <td>37470</td>\n",
       "    </tr>\n",
       "    <tr>\n",
       "      <th>14</th>\n",
       "      <td>44</td>\n",
       "      <td>63296</td>\n",
       "      <td>34619</td>\n",
       "    </tr>\n",
       "    <tr>\n",
       "      <th>15</th>\n",
       "      <td>25</td>\n",
       "      <td>77378</td>\n",
       "      <td>41794</td>\n",
       "    </tr>\n",
       "    <tr>\n",
       "      <th>16</th>\n",
       "      <td>42</td>\n",
       "      <td>59445</td>\n",
       "      <td>32889</td>\n",
       "    </tr>\n",
       "    <tr>\n",
       "      <th>17</th>\n",
       "      <td>9</td>\n",
       "      <td>76106</td>\n",
       "      <td>43056</td>\n",
       "    </tr>\n",
       "    <tr>\n",
       "      <th>18</th>\n",
       "      <td>34</td>\n",
       "      <td>79363</td>\n",
       "      <td>40895</td>\n",
       "    </tr>\n",
       "    <tr>\n",
       "      <th>19</th>\n",
       "      <td>17</td>\n",
       "      <td>63575</td>\n",
       "      <td>34463</td>\n",
       "    </tr>\n",
       "    <tr>\n",
       "      <th>20</th>\n",
       "      <td>39</td>\n",
       "      <td>54533</td>\n",
       "      <td>30304</td>\n",
       "    </tr>\n",
       "    <tr>\n",
       "      <th>21</th>\n",
       "      <td>19</td>\n",
       "      <td>58580</td>\n",
       "      <td>31085</td>\n",
       "    </tr>\n",
       "    <tr>\n",
       "      <th>22</th>\n",
       "      <td>26</td>\n",
       "      <td>54938</td>\n",
       "      <td>30336</td>\n",
       "    </tr>\n",
       "    <tr>\n",
       "      <th>23</th>\n",
       "      <td>31</td>\n",
       "      <td>59116</td>\n",
       "      <td>31101</td>\n",
       "    </tr>\n",
       "    <tr>\n",
       "      <th>24</th>\n",
       "      <td>55</td>\n",
       "      <td>59209</td>\n",
       "      <td>32018</td>\n",
       "    </tr>\n",
       "    <tr>\n",
       "      <th>25</th>\n",
       "      <td>20</td>\n",
       "      <td>57422</td>\n",
       "      <td>30757</td>\n",
       "    </tr>\n",
       "    <tr>\n",
       "      <th>26</th>\n",
       "      <td>18</td>\n",
       "      <td>54325</td>\n",
       "      <td>28461</td>\n",
       "    </tr>\n",
       "    <tr>\n",
       "      <th>27</th>\n",
       "      <td>CA</td>\n",
       "      <td>71228</td>\n",
       "      <td>35021</td>\n",
       "    </tr>\n",
       "    <tr>\n",
       "      <th>28</th>\n",
       "      <td>54</td>\n",
       "      <td>44921</td>\n",
       "      <td>25479</td>\n",
       "    </tr>\n",
       "    <tr>\n",
       "      <th>29</th>\n",
       "      <td>50</td>\n",
       "      <td>60076</td>\n",
       "      <td>33238</td>\n",
       "    </tr>\n",
       "    <tr>\n",
       "      <th>30</th>\n",
       "      <td>23</td>\n",
       "      <td>55425</td>\n",
       "      <td>31253</td>\n",
       "    </tr>\n",
       "    <tr>\n",
       "      <th>31</th>\n",
       "      <td>29</td>\n",
       "      <td>53560</td>\n",
       "      <td>29537</td>\n",
       "    </tr>\n",
       "    <tr>\n",
       "      <th>32</th>\n",
       "      <td>27</td>\n",
       "      <td>68411</td>\n",
       "      <td>36245</td>\n",
       "    </tr>\n",
       "    <tr>\n",
       "      <th>33</th>\n",
       "      <td>46</td>\n",
       "      <td>56499</td>\n",
       "      <td>29801</td>\n",
       "    </tr>\n",
       "    <tr>\n",
       "      <th>34</th>\n",
       "      <td>24</td>\n",
       "      <td>81868</td>\n",
       "      <td>40517</td>\n",
       "    </tr>\n",
       "    <tr>\n",
       "      <th>35</th>\n",
       "      <td>30</td>\n",
       "      <td>52559</td>\n",
       "      <td>29765</td>\n",
       "    </tr>\n",
       "    <tr>\n",
       "      <th>36</th>\n",
       "      <td>33</td>\n",
       "      <td>74057</td>\n",
       "      <td>38548</td>\n",
       "    </tr>\n",
       "    <tr>\n",
       "      <th>37</th>\n",
       "      <td>72</td>\n",
       "      <td>20166</td>\n",
       "      <td>12451</td>\n",
       "    </tr>\n",
       "    <tr>\n",
       "      <th>38</th>\n",
       "      <td>41</td>\n",
       "      <td>59393</td>\n",
       "      <td>32045</td>\n",
       "    </tr>\n",
       "    <tr>\n",
       "      <th>39</th>\n",
       "      <td>40</td>\n",
       "      <td>51424</td>\n",
       "      <td>27432</td>\n",
       "    </tr>\n",
       "    <tr>\n",
       "      <th>40</th>\n",
       "      <td>38</td>\n",
       "      <td>63473</td>\n",
       "      <td>35373</td>\n",
       "    </tr>\n",
       "    <tr>\n",
       "      <th>41</th>\n",
       "      <td>15</td>\n",
       "      <td>78084</td>\n",
       "      <td>34035</td>\n",
       "    </tr>\n",
       "    <tr>\n",
       "      <th>42</th>\n",
       "      <td>56</td>\n",
       "      <td>62268</td>\n",
       "      <td>32295</td>\n",
       "    </tr>\n",
       "    <tr>\n",
       "      <th>43</th>\n",
       "      <td>21</td>\n",
       "      <td>48392</td>\n",
       "      <td>26948</td>\n",
       "    </tr>\n",
       "    <tr>\n",
       "      <th>44</th>\n",
       "      <td>22</td>\n",
       "      <td>47942</td>\n",
       "      <td>27027</td>\n",
       "    </tr>\n",
       "    <tr>\n",
       "      <th>45</th>\n",
       "      <td>53</td>\n",
       "      <td>70116</td>\n",
       "      <td>36888</td>\n",
       "    </tr>\n",
       "    <tr>\n",
       "      <th>46</th>\n",
       "      <td>35</td>\n",
       "      <td>48059</td>\n",
       "      <td>26085</td>\n",
       "    </tr>\n",
       "    <tr>\n",
       "      <th>47</th>\n",
       "      <td>51</td>\n",
       "      <td>71564</td>\n",
       "      <td>37763</td>\n",
       "    </tr>\n",
       "    <tr>\n",
       "      <th>48</th>\n",
       "      <td>1</td>\n",
       "      <td>48486</td>\n",
       "      <td>26846</td>\n",
       "    </tr>\n",
       "    <tr>\n",
       "      <th>49</th>\n",
       "      <td>8</td>\n",
       "      <td>68811</td>\n",
       "      <td>36415</td>\n",
       "    </tr>\n",
       "    <tr>\n",
       "      <th>50</th>\n",
       "      <td>28</td>\n",
       "      <td>43567</td>\n",
       "      <td>23434</td>\n",
       "    </tr>\n",
       "    <tr>\n",
       "      <th>51</th>\n",
       "      <td>47</td>\n",
       "      <td>50972</td>\n",
       "      <td>28511</td>\n",
       "    </tr>\n",
       "  </tbody>\n",
       "</table>\n",
       "</div>"
      ],
      "text/plain": [
       "   geo  median_income  income_per_capita\n",
       "0    5          45726              25635\n",
       "1    2          76715              35874\n",
       "2   10          65627              33989\n",
       "3   TX          59570              30143\n",
       "4   16          53089              26772\n",
       "5   FL          53267              30197\n",
       "6   49          68374              28239\n",
       "7   37          52413              29456\n",
       "8   45          51015              27986\n",
       "9   13          55679              29523\n",
       "10   4          56213              29265\n",
       "11  32          57598              29961\n",
       "12  11          82604              53321\n",
       "13  NY          65323              37470\n",
       "14  44          63296              34619\n",
       "15  25          77378              41794\n",
       "16  42          59445              32889\n",
       "17   9          76106              43056\n",
       "18  34          79363              40895\n",
       "19  17          63575              34463\n",
       "20  39          54533              30304\n",
       "21  19          58580              31085\n",
       "22  26          54938              30336\n",
       "23  31          59116              31101\n",
       "24  55          59209              32018\n",
       "25  20          57422              30757\n",
       "26  18          54325              28461\n",
       "27  CA          71228              35021\n",
       "28  54          44921              25479\n",
       "29  50          60076              33238\n",
       "30  23          55425              31253\n",
       "31  29          53560              29537\n",
       "32  27          68411              36245\n",
       "33  46          56499              29801\n",
       "34  24          81868              40517\n",
       "35  30          52559              29765\n",
       "36  33          74057              38548\n",
       "37  72          20166              12451\n",
       "38  41          59393              32045\n",
       "39  40          51424              27432\n",
       "40  38          63473              35373\n",
       "41  15          78084              34035\n",
       "42  56          62268              32295\n",
       "43  21          48392              26948\n",
       "44  22          47942              27027\n",
       "45  53          70116              36888\n",
       "46  35          48059              26085\n",
       "47  51          71564              37763\n",
       "48   1          48486              26846\n",
       "49   8          68811              36415\n",
       "50  28          43567              23434\n",
       "51  47          50972              28511"
      ]
     },
     "execution_count": 13,
     "metadata": {},
     "output_type": "execute_result"
    }
   ],
   "source": [
    "df[['geo','median_income','income_per_capita']]"
   ]
  },
  {
   "cell_type": "code",
   "execution_count": null,
   "metadata": {},
   "outputs": [],
   "source": []
  },
  {
   "cell_type": "code",
   "execution_count": null,
   "metadata": {},
   "outputs": [],
   "source": []
  },
  {
   "cell_type": "markdown",
   "metadata": {},
   "source": [
    "Ignore Below Here"
   ]
  },
  {
   "cell_type": "code",
   "execution_count": null,
   "metadata": {},
   "outputs": [],
   "source": []
  },
  {
   "cell_type": "code",
   "execution_count": 40,
   "metadata": {},
   "outputs": [],
   "source": [
    "# med_val = median(all_incomes)\n",
    "# med_val"
   ]
  },
  {
   "cell_type": "code",
   "execution_count": 41,
   "metadata": {},
   "outputs": [],
   "source": [
    "# num_vals = len(all_incomes)\n",
    "# num_vals"
   ]
  },
  {
   "cell_type": "code",
   "execution_count": 42,
   "metadata": {},
   "outputs": [],
   "source": [
    "# median_loc = (num_vals + 1)/2\n",
    "# median_loc"
   ]
  },
  {
   "cell_type": "code",
   "execution_count": 43,
   "metadata": {},
   "outputs": [],
   "source": [
    "# num_below_med = len([i for i in all_incomes if i < med_val])\n",
    "# num_below_med"
   ]
  },
  {
   "cell_type": "code",
   "execution_count": 44,
   "metadata": {},
   "outputs": [],
   "source": [
    "# (median_loc - num_below_med)"
   ]
  },
  {
   "cell_type": "code",
   "execution_count": 45,
   "metadata": {},
   "outputs": [],
   "source": [
    "# num_at_med = len([i for i in all_incomes if i == med_val])\n",
    "# num_at_med"
   ]
  },
  {
   "cell_type": "code",
   "execution_count": 46,
   "metadata": {},
   "outputs": [],
   "source": [
    "# num_into_med = (median_loc - num_below_med) / num_at_med\n",
    "# num_into_med"
   ]
  },
  {
   "cell_type": "code",
   "execution_count": 47,
   "metadata": {},
   "outputs": [],
   "source": [
    "# 55000 + ((59999-55000)*num_into_med)"
   ]
  },
  {
   "cell_type": "code",
   "execution_count": 48,
   "metadata": {},
   "outputs": [],
   "source": [
    "# pd.Series(all_incomes).value_counts()"
   ]
  },
  {
   "cell_type": "code",
   "execution_count": 49,
   "metadata": {
    "scrolled": true
   },
   "outputs": [],
   "source": [
    "# set(all_incomes)"
   ]
  },
  {
   "cell_type": "code",
   "execution_count": 50,
   "metadata": {},
   "outputs": [],
   "source": [
    "# skew(all_incomes)"
   ]
  },
  {
   "cell_type": "code",
   "execution_count": null,
   "metadata": {},
   "outputs": [],
   "source": []
  }
 ],
 "metadata": {
  "kernelspec": {
   "display_name": "Python 3",
   "language": "python",
   "name": "python3"
  },
  "language_info": {
   "codemirror_mode": {
    "name": "ipython",
    "version": 3
   },
   "file_extension": ".py",
   "mimetype": "text/x-python",
   "name": "python",
   "nbconvert_exporter": "python",
   "pygments_lexer": "ipython3",
   "version": "3.8.5"
  }
 },
 "nbformat": 4,
 "nbformat_minor": 4
}
