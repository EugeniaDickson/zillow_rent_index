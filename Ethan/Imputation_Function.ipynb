{
 "cells": [
  {
   "cell_type": "code",
   "execution_count": 53,
   "metadata": {},
   "outputs": [],
   "source": [
    "import pandas as pd\n",
    "import numpy as np"
   ]
  },
  {
   "cell_type": "code",
   "execution_count": 54,
   "metadata": {},
   "outputs": [],
   "source": [
    "df_initial = pd.read_csv('Zip_Zri_MultiFamilyResidenceRental.csv')\n",
    "census_df_initial = pd.read_csv('zipcode_census_data_2018_5yr.csv')"
   ]
  },
  {
   "cell_type": "code",
   "execution_count": 55,
   "metadata": {},
   "outputs": [],
   "source": [
    "include_cities = ['Miami Beach','Miami','North Miami']\n",
    "\n",
    "df = df_initial.copy()\n",
    "df = df[df['City'].isin(include_cities)]\n",
    "\n",
    "census_df = census_df_initial.copy()"
   ]
  },
  {
   "cell_type": "code",
   "execution_count": 56,
   "metadata": {},
   "outputs": [],
   "source": [
    "# for i in df['City'].unique():\n",
    "#     if 'miami' in i.lower():\n",
    "#         print(i)"
   ]
  },
  {
   "cell_type": "code",
   "execution_count": 57,
   "metadata": {},
   "outputs": [],
   "source": [
    "# monthly_increase = np.mean(df.iloc[:,2:87].diff(axis=1))\n",
    "# monthly_increase = round(monthly_increase, 2)"
   ]
  },
  {
   "cell_type": "code",
   "execution_count": 93,
   "metadata": {},
   "outputs": [],
   "source": [
    "df_melt = df.melt(id_vars = ['RegionID','SizeRank','State','Metro','CountyName', 'City','RegionName'], var_name = \"date\",value_name=\"rent\")\n",
    "df_melt['year'] = df_melt['date'].apply(lambda x: x.split('-')[0])\n",
    "df_melt['month'] = df_melt['date'].apply(lambda x: x.split('-')[1])\n",
    "for col in ['month','year']:\n",
    "    df_melt[col] = df_melt[col].astype(int)"
   ]
  },
  {
   "cell_type": "code",
   "execution_count": 94,
   "metadata": {},
   "outputs": [],
   "source": [
    "# for i in df.columns:\n",
    "#     if '-' in i:\n",
    "#         print(df[i].unique())"
   ]
  },
  {
   "cell_type": "code",
   "execution_count": 95,
   "metadata": {},
   "outputs": [],
   "source": [
    "dates = df_melt['date'].unique().tolist()\n",
    "dates.sort()"
   ]
  },
  {
   "cell_type": "code",
   "execution_count": 96,
   "metadata": {},
   "outputs": [
    {
     "data": {
      "text/plain": [
       "113"
      ]
     },
     "execution_count": 96,
     "metadata": {},
     "output_type": "execute_result"
    }
   ],
   "source": [
    "len(dates)"
   ]
  },
  {
   "cell_type": "code",
   "execution_count": 97,
   "metadata": {},
   "outputs": [],
   "source": [
    "difference_dict = {}\n",
    "\n",
    "for i in range(1,len(dates)):\n",
    "    cur_month = dates[i]\n",
    "    last_month = dates[i - 1]\n",
    "    \n",
    "    test = (df[cur_month]-df[last_month]).mean()\n",
    "    difference_dict[cur_month] = test"
   ]
  },
  {
   "cell_type": "code",
   "execution_count": 98,
   "metadata": {},
   "outputs": [],
   "source": [
    "def get_prior_month(date_val):\n",
    "    month = date_val.split('-')[1]\n",
    "    year = int(date_val.split('-')[0])\n",
    "    month_map = {'01':'12',\n",
    "                 '02':'01',\n",
    "                 '03':'02',\n",
    "                 '04':'03',\n",
    "                 '05':'04',\n",
    "                 '06':'05',\n",
    "                 '07':'06',\n",
    "                 '08':'07',\n",
    "                 '09':'08',\n",
    "                 '10':'09',\n",
    "                 '11':'10',\n",
    "                 '12':'11'\n",
    "                }\n",
    "    \n",
    "    if month == '01':\n",
    "        return '%s-%s' % (str(year-1),month_map[month])\n",
    "    else:\n",
    "        return '%s-%s' % (str(year),month_map[month])"
   ]
  },
  {
   "cell_type": "code",
   "execution_count": 99,
   "metadata": {},
   "outputs": [
    {
     "data": {
      "text/plain": [
       "RegionID        0\n",
       "SizeRank        0\n",
       "State           0\n",
       "Metro           0\n",
       "CountyName      0\n",
       "City            0\n",
       "RegionName      0\n",
       "date            0\n",
       "rent          127\n",
       "year            0\n",
       "month           0\n",
       "dtype: int64"
      ]
     },
     "execution_count": 99,
     "metadata": {},
     "output_type": "execute_result"
    }
   ],
   "source": [
    "df_melt.isnull().sum(axis=0)"
   ]
  },
  {
   "cell_type": "code",
   "execution_count": 103,
   "metadata": {},
   "outputs": [],
   "source": [
    "df_melt['difference'] = df_melt['date'].apply(lambda x: difference_dict[x] if x in difference_dict else 0)\n",
    "df_melt['prior_month'] = df_melt['date'].apply(lambda x: get_prior_month(x))\n",
    "\n",
    "count = 1\n",
    "maxlim = 100\n",
    "while count <= maxlim:\n",
    "    temp_df = df_melt.copy()\n",
    "    temp_df = temp_df[['RegionID','date','rent']]\n",
    "    temp_df = temp_df.rename(columns={'date':'prior_month','rent':'prior_month_rent'})\n",
    "    df_melt = pd.merge(df_melt,temp_df,on=['prior_month','RegionID'],how='left')\n",
    "    df_melt['rent'] = df_melt['rent'].fillna(df_melt['prior_month_rent']+df_melt['difference'])\n",
    "    if count != maxlim:\n",
    "        del df_melt['prior_month_rent']\n",
    "    count+=1"
   ]
  },
  {
   "cell_type": "code",
   "execution_count": 104,
   "metadata": {},
   "outputs": [
    {
     "data": {
      "text/plain": [
       "RegionID              0\n",
       "SizeRank              0\n",
       "State                 0\n",
       "Metro                 0\n",
       "CountyName            0\n",
       "City                  0\n",
       "RegionName            0\n",
       "date                  0\n",
       "rent                110\n",
       "year                  0\n",
       "month                 0\n",
       "difference            0\n",
       "prior_month           0\n",
       "prior_month_rent    127\n",
       "dtype: int64"
      ]
     },
     "execution_count": 104,
     "metadata": {},
     "output_type": "execute_result"
    }
   ],
   "source": [
    "df_melt.isnull().sum(axis=0)"
   ]
  },
  {
   "cell_type": "code",
   "execution_count": null,
   "metadata": {},
   "outputs": [],
   "source": []
  }
 ],
 "metadata": {
  "kernelspec": {
   "display_name": "Python 3",
   "language": "python",
   "name": "python3"
  },
  "language_info": {
   "codemirror_mode": {
    "name": "ipython",
    "version": 3
   },
   "file_extension": ".py",
   "mimetype": "text/x-python",
   "name": "python",
   "nbconvert_exporter": "python",
   "pygments_lexer": "ipython3",
   "version": "3.8.5"
  }
 },
 "nbformat": 4,
 "nbformat_minor": 4
}
