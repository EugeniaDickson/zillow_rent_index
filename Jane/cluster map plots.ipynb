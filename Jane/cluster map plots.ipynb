{
 "cells": [
  {
   "cell_type": "code",
   "execution_count": null,
   "metadata": {},
   "outputs": [],
   "source": [
    "%matplotlib inline\n",
    "\n",
    "import json\n",
    "import pandas as pd\n",
    "import plotly.express as px\n",
    "import matplotlib.pyplot as plt"
   ]
  },
  {
   "cell_type": "code",
   "execution_count": null,
   "metadata": {},
   "outputs": [],
   "source": [
    "zillow_full = pd.read_csv('all_areas_clusters_hier.csv')\n",
    "zillow_full.shape"
   ]
  },
  {
   "cell_type": "code",
   "execution_count": null,
   "metadata": {
    "scrolled": true
   },
   "outputs": [],
   "source": [
    "# SF Metro\n",
    "counties_sf = ['Alameda County', 'Contra Costa County', 'Marin County', 'Napa County', 'San Mateo County', \n",
    "            'Santa Clara County', 'Solano County', 'Sonoma County', 'San Francisco County']\n",
    "# NY Metro:\n",
    "counties_ny = ['New York County', 'Bronx County', 'Queens County', 'Kings County', 'Richmond County']\n",
    "# Greater Austin Metro:\n",
    "counties_au = ['Bastrop County', 'Caldwell County', 'Hays County', 'Travis County', 'Williamson County']\n",
    "# Miami Metro:\n",
    "counties_mi = ['Miami-Dade County', 'Broward County', 'Palm Beach County']"
   ]
  },
  {
   "cell_type": "code",
   "execution_count": null,
   "metadata": {},
   "outputs": [],
   "source": [
    "sf_map = zillow_full[zillow_full['County'].isin(counties_sf)][['Zipcode', 'Clusters', 'Year']]\n",
    "ny_map = zillow_full[zillow_full['County'].isin(counties_ny)][['Zipcode', 'Clusters', 'Year']]\n",
    "au_map = zillow_full[zillow_full['County'].isin(counties_au)][['Zipcode', 'Clusters', 'Year']]\n",
    "mi_map = zillow_full[zillow_full['County'].isin(counties_mi)][['Zipcode', 'Clusters', 'Year']]"
   ]
  },
  {
   "cell_type": "code",
   "execution_count": null,
   "metadata": {
    "scrolled": true
   },
   "outputs": [],
   "source": [
    "sf_map_2020 = sf_map[sf_map['Year']==2020]\n",
    "ny_map_2020 = ny_map[ny_map['Year']==2020]\n",
    "au_map_2020 = au_map[au_map['Year']==2020]\n",
    "mi_map_2020 = mi_map[mi_map['Year']==2020]"
   ]
  },
  {
   "cell_type": "code",
   "execution_count": null,
   "metadata": {
    "scrolled": false
   },
   "outputs": [],
   "source": [
    "with open('../../data/geojson/fl_florida_zip_codes_geo.min.json') as response:\n",
    "    zipcodes = json.load(response)\n",
    "    \n",
    "# ca_california_zip_codes_geo.min\n",
    "# fl_florida_zip_codes_geo.min\n",
    "# ny_new_york_zip_codes_geo.min\n",
    "# tx_texas_zip_codes_geo.min"
   ]
  },
  {
   "cell_type": "code",
   "execution_count": null,
   "metadata": {
    "scrolled": false
   },
   "outputs": [],
   "source": [
    "fig = px.choropleth_mapbox(mi_map_2020, geojson=zipcodes, locations='Zipcode', color='Clusters',\n",
    "                           featureidkey='properties.ZCTA5CE10',\n",
    "                           color_continuous_scale=\"Viridis\",\n",
    "                           mapbox_style=\"carto-positron\",\n",
    "                           zoom=10, center = {\"lat\": 37.775540, \"lon\": -122.442670},\n",
    "                           opacity=0.5,\n",
    "                          )\n",
    "fig.update_layout(margin={\"r\":0,\"t\":0,\"l\":0,\"b\":0})\n",
    "fig.show()"
   ]
  },
  {
   "cell_type": "markdown",
   "metadata": {},
   "source": [
    "## Check if zips from dataframe exist in json"
   ]
  },
  {
   "cell_type": "code",
   "execution_count": null,
   "metadata": {},
   "outputs": [],
   "source": [
    "json_zips = []\n",
    "for z in zipcodes['features']:\n",
    "    json_zips.append(z['properties']['ZCTA5CE10'])"
   ]
  },
  {
   "cell_type": "code",
   "execution_count": null,
   "metadata": {},
   "outputs": [],
   "source": [
    "df['is in json'] = df['Zipcode'].apply(lambda x: 1 if str(x) in json_zips else 0)\n",
    "df[df['is in json'] == 0]"
   ]
  },
  {
   "cell_type": "code",
   "execution_count": null,
   "metadata": {
    "scrolled": false
   },
   "outputs": [],
   "source": [
    "# JSON FILE STRUCTURE\n",
    "\n",
    "# {'type': 'FeatureCollection',\n",
    "#  'features': [{'type': 'Feature',\n",
    "#    'properties': {'STATEFP10': '06',\n",
    "#     'ZCTA5CE10': '94601',\n",
    "#     'GEOID10': '0694601',\n",
    "#     'CLASSFP10': 'B5',\n",
    "#     'MTFCC10': 'G6350',\n",
    "#     'FUNCSTAT10': 'S',\n",
    "#     'ALAND10': 8410939,\n",
    "#     'AWATER10': 310703,\n",
    "#     'INTPTLAT10': '+37.7755447',\n",
    "#     'INTPTLON10': '-122.2187049',\n",
    "#     'PARTFLG10': 'N'},\n",
    "#    'geometry': {'type': 'Polygon',\n",
    "#     'coordinates': [[[-122.227171, 37.791969],\n",
    "#       [-122.226933, 37.792244],"
   ]
  }
 ],
 "metadata": {
  "kernelspec": {
   "display_name": "Python 3",
   "language": "python",
   "name": "python3"
  },
  "language_info": {
   "codemirror_mode": {
    "name": "ipython",
    "version": 3
   },
   "file_extension": ".py",
   "mimetype": "text/x-python",
   "name": "python",
   "nbconvert_exporter": "python",
   "pygments_lexer": "ipython3",
   "version": "3.8.8"
  }
 },
 "nbformat": 4,
 "nbformat_minor": 4
}
