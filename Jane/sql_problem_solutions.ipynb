{
 "cells": [
  {
   "cell_type": "code",
   "execution_count": 1,
   "metadata": {},
   "outputs": [],
   "source": [
    "import pandas as pd\n",
    "import numpy as np\n",
    "from matplotlib import pyplot as plt"
   ]
  },
  {
   "cell_type": "code",
   "execution_count": 2,
   "metadata": {
    "scrolled": false
   },
   "outputs": [],
   "source": [
    "df = pd.read_csv('../../data/census_bureau_acs.csv')"
   ]
  },
  {
   "cell_type": "markdown",
   "metadata": {},
   "source": [
    "## Mean income in the US:"
   ]
  },
  {
   "cell_type": "code",
   "execution_count": 3,
   "metadata": {},
   "outputs": [
    {
     "name": "stdout",
     "output_type": "stream",
     "text": [
      "Mean income in the US >> $32411.26\n"
     ]
    }
   ],
   "source": [
    "# calculating mean income in the US\n",
    "mean_income_us = sum(df['total_pop']*df['income_per_capita'])/df['total_pop'].sum()\n",
    "print(f'Mean income in the US >> ${round(mean_income_us, 2)}')"
   ]
  },
  {
   "cell_type": "code",
   "execution_count": 4,
   "metadata": {},
   "outputs": [],
   "source": [
    "# transforming table for Mean and Median estimation\n",
    "state_name_map = {48: 'TX', 12: 'FL', 36: 'NY', 6: 'CA'}\n",
    "\n",
    "# getting mean income data across the country\n",
    "df1 = df.T.drop(['total_pop', 'income_per_capita', 'geo_id'], axis=0)\n",
    "df1['US'] = round(df1.sum(axis=1)/df1.count(axis=1), 2)\n",
    "\n",
    "geoid = ['06', '36', '48', '12']\n",
    "df = df[df['geo_id'].isin(geoid)].drop(['total_pop', 'income_per_capita'], axis=1).set_index('geo_id')\n",
    "df = df.T.rename(columns=state_name_map)\n",
    "df = pd.concat([df, df1['US']], axis=1)"
   ]
  },
  {
   "cell_type": "markdown",
   "metadata": {},
   "source": [
    "## Mathematical derivation of Median and Mean income by state from income bins"
   ]
  },
  {
   "cell_type": "code",
   "execution_count": 5,
   "metadata": {},
   "outputs": [],
   "source": [
    "# helper function that creates all necessary transformations for Mean, Median and Skew estimation\n",
    "def df_estimate_transform(dataframe, state_list):\n",
    "    dataframe = dataframe.reset_index()\n",
    "    dataframe['index'] = dataframe['index'].str.replace('income_', '').str.replace('less', '0').str.replace('or_more', '250000').str.replace('_', '-')\n",
    "    dataframe['bin_lower'] = dataframe['index'].apply(lambda x: x.split('-')[0]).astype(int)\n",
    "    dataframe['bin_upper'] = dataframe['index'].apply(lambda x: x.split('-')[1]).astype(int)\n",
    "    dataframe['bin_mean'] = (dataframe['bin_upper'] + dataframe['bin_lower'])/2\n",
    "    dataframe['bin_width'] = dataframe['bin_upper'] - dataframe['bin_lower']\n",
    "    dataframe['bin_width_norm'] = round(dataframe['bin_width']/min(dataframe['bin_width']))\n",
    "    dataframe['bin_width_norm'] = round(dataframe['bin_width']/min(dataframe['bin_width']))\n",
    "\n",
    "    # adding new calculated columns\n",
    "    for state in state_list:\n",
    "        # calculating histogram height for each state and bin\n",
    "        dataframe[f'{state}_hist'] = round(dataframe[f'{state}']/dataframe['bin_width_norm'], 2)\n",
    "        # calculating cumulative areas under the histogram\n",
    "        dataframe[f'{state}_cumul_area'] = dataframe[f'{state}'].cumsum().tolist()\n",
    "        # calculating cumulative percentage\n",
    "        dataframe[f'{state}_percentile'] = round(dataframe[f'{state}'].cumsum()*100/dataframe[f'{state}'].sum(), 2)\n",
    "        \n",
    "    return dataframe"
   ]
  },
  {
   "cell_type": "code",
   "execution_count": 6,
   "metadata": {},
   "outputs": [],
   "source": [
    "state_list = ['TX', 'CA', 'NY', 'FL', 'US']\n",
    "df = df_estimate_transform(df, state_list)"
   ]
  },
  {
   "cell_type": "code",
   "execution_count": 7,
   "metadata": {},
   "outputs": [],
   "source": [
    "# function for estimating Mean, Median and Skew by state\n",
    "def mean_med_skew(dataframe, state_abbrev):\n",
    "#     calculating the range that the median falls in\n",
    "#     current_bin - index of lower limit of the bin where the median falls\n",
    "    current_bin = 0\n",
    "    cumul_areas = dataframe[f'{state_abbrev}_cumul_area'].tolist()\n",
    "    for ind, num in enumerate(cumul_areas):\n",
    "#         area under histogram on both sides of the median\n",
    "        median_area = dataframe[f'{state_abbrev}'].sum()/2 \n",
    "        if median_area >= num:\n",
    "            current_bin = ind+1\n",
    "            cumul_area = num\n",
    "    bin_bottom_income = dataframe['bin_lower'].tolist()[current_bin]\n",
    "#     remaining area \n",
    "    residual_area = median_area - cumul_area\n",
    "\n",
    "    current_bin_width = dataframe['bin_width'].tolist()[current_bin]\n",
    "    current_bin_freq = dataframe[f'{state_abbrev}'].tolist()[current_bin]\n",
    "    residual_len = (current_bin_width * residual_area)/current_bin_freq\n",
    "\n",
    "#     HELPER PLOTS FOR DEBUGGING\n",
    "#     print(f'Area under histogram on the sides of the median is {median_area}')\n",
    "#     print(f'Median falls into bin #{current_bin}')\n",
    "#     print(f'Bottom income for the bin is {bin_bottom_income}')\n",
    "#     print(f'Cumulative area on the left the bin lower limit is {cumul_area}')\n",
    "#     print(f'The residual area under the histogram is {residual_area}')\n",
    "#     print(f'The residual length from bottom range of the bin is {round(residual_len, 2)}')\n",
    "\n",
    "    incomes = dataframe['bin_mean']\n",
    "    freq = dataframe[f'{state_abbrev}'].astype(int).tolist()\n",
    "    all_incomes = [[inc]*fr for inc, fr in zip(incomes, freq)] # clone mean incomes by frequencies\n",
    "    all_incomes = [j for i in all_incomes for j in i] # flatten list of lists\n",
    "\n",
    "    median_income = round(bin_bottom_income + residual_len)\n",
    "    mean_income = round((dataframe['bin_mean']*dataframe[f'{state_abbrev}_hist']).sum()/dataframe[f'{state_abbrev}'].sum(), 2) \n",
    "    skew = round(pd.Series(all_incomes).skew(), 2)\n",
    "    \n",
    "#     print(f'Mean income per household in {state_abbrev} >> ${round(mean_income, 2)}') \n",
    "#     print(f'Median income per household in {state_abbrev} >> ${round(median_income, 2)}')\n",
    "#     print(f'Skew for {state_abbrev} >> {round(skew, 2)}')\n",
    "    \n",
    "    return({'mean': mean_income,\n",
    "            'median': median_income,\n",
    "            'skew': skew        \n",
    "    })"
   ]
  },
  {
   "cell_type": "markdown",
   "metadata": {},
   "source": [
    "## Mean and Median annual household income in Texas, California, New York and Florida"
   ]
  },
  {
   "cell_type": "code",
   "execution_count": 30,
   "metadata": {},
   "outputs": [
    {
     "name": "stdout",
     "output_type": "stream",
     "text": [
      "Mean income per household in TX >> $23525.69\n",
      "Median income per household in TX >> $60922.0\n",
      "Skew for TX >> 1.01\n",
      "Mean income per household in CA >> $23122.04\n",
      "Median income per household in CA >> $75351.0\n",
      "Skew for CA >> 0.68\n",
      "Mean income per household in NY >> $22768.45\n",
      "Median income per household in NY >> $68363.0\n",
      "Skew for NY >> 0.78\n",
      "Mean income per household in FL >> $23800.69\n",
      "Median income per household in FL >> $55983.0\n",
      "Skew for FL >> 1.18\n",
      "Mean income per household in US >> $23389.37\n",
      "Median income per household in US >> $62037.0\n",
      "Skew for US >> 0.98\n"
     ]
    }
   ],
   "source": [
    "results_2018 = []\n",
    "for state in state_list:\n",
    "    result = mean_med_skew(df, state)\n",
    "    result['state'] = state\n",
    "    res_mean = result['mean']\n",
    "    res_median = result['median']\n",
    "    res_skew = result['skew']\n",
    "    print(f'Mean income per household in {state} >> ${res_mean}') \n",
    "    print(f'Median income per household in {state} >> ${res_median}')\n",
    "    print(f'Skew for {state} >> {res_skew}')"
   ]
  },
  {
   "cell_type": "code",
   "execution_count": 138,
   "metadata": {},
   "outputs": [
    {
     "data": {
      "text/plain": [
       "{'mean': 23525.69, 'median': 60922.0, 'skew': 1.01}"
      ]
     },
     "execution_count": 138,
     "metadata": {},
     "output_type": "execute_result"
    }
   ],
   "source": [
    "mean_med_skew(df, 'TX')"
   ]
  },
  {
   "cell_type": "markdown",
   "metadata": {},
   "source": [
    "## Rough resemblance of a histogram for incomes"
   ]
  },
  {
   "cell_type": "code",
   "execution_count": 9,
   "metadata": {},
   "outputs": [
    {
     "data": {
      "text/plain": [
       "<matplotlib.axes._subplots.AxesSubplot at 0x2370149f550>"
      ]
     },
     "execution_count": 9,
     "metadata": {},
     "output_type": "execute_result"
    },
    {
     "data": {
      "image/png": "[encoded data removed]",
      "text/plain": [
       "<Figure size 1440x720 with 1 Axes>"
      ]
     },
     "metadata": {
      "needs_background": "light"
     },
     "output_type": "display_data"
    }
   ],
   "source": [
    "hist_cols = [col for col in df.columns if 'hist' in col]\n",
    "df[hist_cols+['index']].set_index('index').plot.bar(figsize=(20,10))"
   ]
  },
  {
   "cell_type": "code",
   "execution_count": 10,
   "metadata": {},
   "outputs": [],
   "source": [
    "def get_percentile_10(dataframe, state):\n",
    "    cumul_percent = dataframe[f'{state}_percentile']\n",
    "    bin_mean = dataframe['bin_mean'].tolist()\n",
    "\n",
    "    perc_income = []\n",
    "    perc_list = list(range(10, 101, 10))\n",
    "\n",
    "    for pt in perc_list:\n",
    "        for idx, cp in enumerate(cumul_percent):\n",
    "                if pt <= cp:\n",
    "                    perc_income.append(bin_mean[idx])\n",
    "                    break\n",
    "\n",
    "    percentile = pd.DataFrame({'percentile': perc_list, f'{state}_mean_income': perc_income}).set_index('percentile')\n",
    "    return percentile"
   ]
  },
  {
   "cell_type": "code",
   "execution_count": 27,
   "metadata": {},
   "outputs": [],
   "source": [
    "percentile = pd.concat([\n",
    "    get_percentile_10(df, 'CA'),\n",
    "    get_percentile_10(df, 'NY'),\n",
    "    get_percentile_10(df, 'FL'),\n",
    "    get_percentile_10(df, 'TX'), \n",
    "    get_percentile_10(df, 'US')],\n",
    "    axis=1)"
   ]
  },
  {
   "cell_type": "markdown",
   "metadata": {},
   "source": [
    "## Percentile graph"
   ]
  },
  {
   "cell_type": "code",
   "execution_count": 34,
   "metadata": {},
   "outputs": [
    {
     "data": {
      "text/html": [
       "<div>\n",
       "<style scoped>\n",
       "    .dataframe tbody tr th:only-of-type {\n",
       "        vertical-align: middle;\n",
       "    }\n",
       "\n",
       "    .dataframe tbody tr th {\n",
       "        vertical-align: top;\n",
       "    }\n",
       "\n",
       "    .dataframe thead th {\n",
       "        text-align: right;\n",
       "    }\n",
       "</style>\n",
       "<table border=\"1\" class=\"dataframe\">\n",
       "  <thead>\n",
       "    <tr style=\"text-align: right;\">\n",
       "      <th></th>\n",
       "      <th>CA_mean_income</th>\n",
       "      <th>NY_mean_income</th>\n",
       "      <th>FL_mean_income</th>\n",
       "      <th>TX_mean_income</th>\n",
       "      <th>US_mean_income</th>\n",
       "    </tr>\n",
       "    <tr>\n",
       "      <th>percentile</th>\n",
       "      <th></th>\n",
       "      <th></th>\n",
       "      <th></th>\n",
       "      <th></th>\n",
       "      <th></th>\n",
       "    </tr>\n",
       "  </thead>\n",
       "  <tbody>\n",
       "    <tr>\n",
       "      <th>10</th>\n",
       "      <td>17499.5</td>\n",
       "      <td>12499.5</td>\n",
       "      <td>12499.5</td>\n",
       "      <td>12499.5</td>\n",
       "      <td>12499.5</td>\n",
       "    </tr>\n",
       "    <tr>\n",
       "      <th>20</th>\n",
       "      <td>27499.5</td>\n",
       "      <td>22499.5</td>\n",
       "      <td>22499.5</td>\n",
       "      <td>27499.5</td>\n",
       "      <td>27499.5</td>\n",
       "    </tr>\n",
       "    <tr>\n",
       "      <th>30</th>\n",
       "      <td>42499.5</td>\n",
       "      <td>37499.5</td>\n",
       "      <td>32499.5</td>\n",
       "      <td>37499.5</td>\n",
       "      <td>37499.5</td>\n",
       "    </tr>\n",
       "    <tr>\n",
       "      <th>40</th>\n",
       "      <td>54999.5</td>\n",
       "      <td>54999.5</td>\n",
       "      <td>42499.5</td>\n",
       "      <td>47499.5</td>\n",
       "      <td>47499.5</td>\n",
       "    </tr>\n",
       "    <tr>\n",
       "      <th>50</th>\n",
       "      <td>87499.5</td>\n",
       "      <td>67499.5</td>\n",
       "      <td>54999.5</td>\n",
       "      <td>67499.5</td>\n",
       "      <td>67499.5</td>\n",
       "    </tr>\n",
       "    <tr>\n",
       "      <th>60</th>\n",
       "      <td>87499.5</td>\n",
       "      <td>87499.5</td>\n",
       "      <td>67499.5</td>\n",
       "      <td>87499.5</td>\n",
       "      <td>87499.5</td>\n",
       "    </tr>\n",
       "    <tr>\n",
       "      <th>70</th>\n",
       "      <td>112499.5</td>\n",
       "      <td>112499.5</td>\n",
       "      <td>87499.5</td>\n",
       "      <td>87499.5</td>\n",
       "      <td>87499.5</td>\n",
       "    </tr>\n",
       "    <tr>\n",
       "      <th>80</th>\n",
       "      <td>174999.5</td>\n",
       "      <td>137499.5</td>\n",
       "      <td>112499.5</td>\n",
       "      <td>112499.5</td>\n",
       "      <td>112499.5</td>\n",
       "    </tr>\n",
       "    <tr>\n",
       "      <th>90</th>\n",
       "      <td>225000.0</td>\n",
       "      <td>225000.0</td>\n",
       "      <td>174999.5</td>\n",
       "      <td>174999.5</td>\n",
       "      <td>174999.5</td>\n",
       "    </tr>\n",
       "    <tr>\n",
       "      <th>100</th>\n",
       "      <td>225000.0</td>\n",
       "      <td>225000.0</td>\n",
       "      <td>225000.0</td>\n",
       "      <td>225000.0</td>\n",
       "      <td>225000.0</td>\n",
       "    </tr>\n",
       "  </tbody>\n",
       "</table>\n",
       "</div>"
      ],
      "text/plain": [
       "            CA_mean_income  NY_mean_income  FL_mean_income  TX_mean_income  \\\n",
       "percentile                                                                   \n",
       "10                 17499.5         12499.5         12499.5         12499.5   \n",
       "20                 27499.5         22499.5         22499.5         27499.5   \n",
       "30                 42499.5         37499.5         32499.5         37499.5   \n",
       "40                 54999.5         54999.5         42499.5         47499.5   \n",
       "50                 87499.5         67499.5         54999.5         67499.5   \n",
       "60                 87499.5         87499.5         67499.5         87499.5   \n",
       "70                112499.5        112499.5         87499.5         87499.5   \n",
       "80                174999.5        137499.5        112499.5        112499.5   \n",
       "90                225000.0        225000.0        174999.5        174999.5   \n",
       "100               225000.0        225000.0        225000.0        225000.0   \n",
       "\n",
       "            US_mean_income  \n",
       "percentile                  \n",
       "10                 12499.5  \n",
       "20                 27499.5  \n",
       "30                 37499.5  \n",
       "40                 47499.5  \n",
       "50                 67499.5  \n",
       "60                 87499.5  \n",
       "70                 87499.5  \n",
       "80                112499.5  \n",
       "90                174999.5  \n",
       "100               225000.0  "
      ]
     },
     "execution_count": 34,
     "metadata": {},
     "output_type": "execute_result"
    }
   ],
   "source": [
    "percentile"
   ]
  },
  {
   "cell_type": "code",
   "execution_count": 28,
   "metadata": {
    "scrolled": false
   },
   "outputs": [
    {
     "data": {
      "text/plain": [
       "<matplotlib.axes._subplots.AxesSubplot at 0x23701a636a0>"
      ]
     },
     "execution_count": 28,
     "metadata": {},
     "output_type": "execute_result"
    },
    {
     "data": {
      "image/png": "[encoded data removed]",
      "text/plain": [
       "<Figure size 1080x720 with 1 Axes>"
      ]
     },
     "metadata": {
      "needs_background": "light"
     },
     "output_type": "display_data"
    }
   ],
   "source": [
    "percentile.plot.bar(figsize=(15,10))"
   ]
  },
  {
   "cell_type": "code",
   "execution_count": 119,
   "metadata": {
    "scrolled": true
   },
   "outputs": [],
   "source": [
    "df1 = pd.read_csv('../../data/census_bureau_acs_2013-2018.csv')"
   ]
  },
  {
   "cell_type": "code",
   "execution_count": 120,
   "metadata": {},
   "outputs": [],
   "source": [
    "# getting income data across the country\n",
    "income_us = df1.drop(['total_pop', 'income_per_capita', 'geo_id'], axis=1).groupby('do_date').sum().T/52"
   ]
  },
  {
   "cell_type": "code",
   "execution_count": 121,
   "metadata": {
    "scrolled": true
   },
   "outputs": [],
   "source": [
    "# helper function for transforming initial table for Mean, Median and Skew estimation\n",
    "def df_transform(dataframe, year):  \n",
    "    dataframe = dataframe[dataframe['do_date'] == year]\n",
    "    dataframe = dataframe[dataframe['geo_id'].isin(geoid)]\n",
    "    dataframe = dataframe.set_index('geo_id').T.drop(['total_pop', 'income_per_capita', 'do_date'], axis=0).rename(columns=state_name_map)\n",
    "    dataframe['year'] = year\n",
    "    return dataframe"
   ]
  },
  {
   "cell_type": "code",
   "execution_count": 122,
   "metadata": {},
   "outputs": [],
   "source": [
    "df_2013 = pd.concat([df_transform(df1, 2013), pd.DataFrame({'US': income_us[2013]})], axis=1)\n",
    "df_2014 = pd.concat([df_transform(df1, 2014), pd.DataFrame({'US': income_us[2014]})], axis=1)\n",
    "df_2015 = pd.concat([df_transform(df1, 2015), pd.DataFrame({'US': income_us[2015]})], axis=1)\n",
    "df_2016 = pd.concat([df_transform(df1, 2016), pd.DataFrame({'US': income_us[2016]})], axis=1)\n",
    "df_2017 = pd.concat([df_transform(df1, 2017), pd.DataFrame({'US': income_us[2017]})], axis=1)\n",
    "df_2018 = pd.concat([df_transform(df1, 2018), pd.DataFrame({'US': income_us[2018]})], axis=1)"
   ]
  },
  {
   "cell_type": "code",
   "execution_count": 123,
   "metadata": {},
   "outputs": [],
   "source": [
    "df_2013 = df_estimate_transform(df_2013, state_list)\n",
    "df_2014 = df_estimate_transform(df_2014, state_list)\n",
    "df_2015 = df_estimate_transform(df_2015, state_list)\n",
    "df_2016 = df_estimate_transform(df_2016, state_list)\n",
    "df_2017 = df_estimate_transform(df_2017, state_list)\n",
    "df_2018 = df_estimate_transform(df_2018, state_list)"
   ]
  },
  {
   "cell_type": "code",
   "execution_count": 124,
   "metadata": {},
   "outputs": [],
   "source": [
    "df_list = [df_2013, df_2014, df_2015, df_2016, df_2017, df_2018]\n",
    "year_list = [2013, 2014, 2015, 2016, 2017, 2018]\n",
    "\n",
    "result_2013_2018 = []\n",
    "for df, yr in zip(df_list, year_list):\n",
    "    for state in state_list:\n",
    "        res = mean_med_skew(df, state)\n",
    "        res['year'] = yr\n",
    "        res['state'] = state\n",
    "        result_2013_2018.append(res)"
   ]
  },
  {
   "cell_type": "code",
   "execution_count": 125,
   "metadata": {},
   "outputs": [],
   "source": [
    "result_2013_2018 = pd.DataFrame(result_2013_2018).sort_values(['state', 'year']).reset_index().drop('index', axis=1)"
   ]
  },
  {
   "cell_type": "code",
   "execution_count": 126,
   "metadata": {
    "scrolled": false
   },
   "outputs": [],
   "source": [
    "# calculating growth rates for Mean, Median and Skew\n",
    "\n",
    "mean_growth_rate = []\n",
    "median_growth_rate = []\n",
    "skew_growth_rate = [] \n",
    "\n",
    "metrics = ['mean', 'median', 'skew']\n",
    "metrics_res = [mean_growth_rate,\n",
    "           median_growth_rate,\n",
    "           skew_growth_rate]\n",
    "\n",
    "for state in sorted(state_list):\n",
    "    for metric, metric_r in zip(metrics, metrics_res):\n",
    "#         metric_r.append(0) #we don't know previous year rate so the growth rate start point would be 0\n",
    "        lst = result_2013_2018[result_2013_2018['state']==f'{state}'][f'{metric}'].tolist()\n",
    "        for idx in range(1,len(lst)):\n",
    "            metric_r.append(round(100*(lst[idx]-lst[idx-1])/lst[idx-1], 2))"
   ]
  },
  {
   "cell_type": "code",
   "execution_count": 127,
   "metadata": {},
   "outputs": [],
   "source": [
    "temp = pd.DataFrame({'mean_gr': mean_growth_rate, \n",
    "                  'median_gr': median_growth_rate, \n",
    "                  'skew_gr': skew_growth_rate})"
   ]
  },
  {
   "cell_type": "code",
   "execution_count": 128,
   "metadata": {},
   "outputs": [],
   "source": [
    "result_2013_2018 = pd.concat([result_2013_2018[result_2013_2018['year'] != 2013].reset_index().drop('index', axis=1), temp], \n",
    "                             axis=1)"
   ]
  },
  {
   "cell_type": "code",
   "execution_count": 135,
   "metadata": {},
   "outputs": [],
   "source": [
    "result_2013_2018['year'] = result_2013_2018['year'].astype(str)"
   ]
  },
  {
   "cell_type": "code",
   "execution_count": 132,
   "metadata": {},
   "outputs": [],
   "source": [
    "def plot_growth_rate(dataframe, state):\n",
    "    plt.plot( 'year', 'mean_gr', data=dataframe[dataframe['state']==state], markersize=12, color='skyblue', label=\"mean\", linewidth=1)\n",
    "    plt.plot( 'year', 'median_gr', data=dataframe[dataframe['state']==state], markersize=12, color='red', label=\"median\", linewidth=1)\n",
    "    plt.plot( 'year', 'skew_gr', data=dataframe[dataframe['state']==state], markersize=12, color='green', label=\"skew\", linewidth=1)\n",
    "\n",
    "    plt.xlabel(\"Year\")\n",
    "    plt.ylabel(\"YoY % Change\")\n",
    "    plt.title(state)\n",
    "\n",
    "    plt.legend(loc='upper left',\n",
    "               ncol=1, borderaxespad=0.)"
   ]
  },
  {
   "cell_type": "markdown",
   "metadata": {},
   "source": [
    "## Mean, Median and Skew growth rate 2013-2018"
   ]
  },
  {
   "cell_type": "code",
   "execution_count": 137,
   "metadata": {},
   "outputs": [
    {
     "data": {
      "image/png": "[encoded data removed]",
      "text/plain": [
       "<Figure size 432x288 with 1 Axes>"
      ]
     },
     "metadata": {
      "needs_background": "light"
     },
     "output_type": "display_data"
    },
    {
     "data": {
      "image/png": "[encoded data removed]",
      "text/plain": [
       "<Figure size 432x288 with 1 Axes>"
      ]
     },
     "metadata": {
      "needs_background": "light"
     },
     "output_type": "display_data"
    },
    {
     "data": {
      "image/png": "[encoded data removed]",
      "text/plain": [
       "<Figure size 432x288 with 1 Axes>"
      ]
     },
     "metadata": {
      "needs_background": "light"
     },
     "output_type": "display_data"
    },
    {
     "data": {
      "image/png": "[encoded data removed]",
      "text/plain": [
       "<Figure size 432x288 with 1 Axes>"
      ]
     },
     "metadata": {
      "needs_background": "light"
     },
     "output_type": "display_data"
    },
    {
     "data": {
      "image/png": "[encoded data removed]",
      "text/plain": [
       "<Figure size 432x288 with 1 Axes>"
      ]
     },
     "metadata": {
      "needs_background": "light"
     },
     "output_type": "display_data"
    }
   ],
   "source": [
    "for state in state_list:\n",
    "    fig, axs = plt.subplots(1)\n",
    "    plot_growth_rate(result_2013_2018, state)"
   ]
  }
 ],
 "metadata": {
  "kernelspec": {
   "display_name": "Python 3",
   "language": "python",
   "name": "python3"
  },
  "language_info": {
   "codemirror_mode": {
    "name": "ipython",
    "version": 3
   },
   "file_extension": ".py",
   "mimetype": "text/x-python",
   "name": "python",
   "nbconvert_exporter": "python",
   "pygments_lexer": "ipython3",
   "version": "3.8.3"
  }
 },
 "nbformat": 4,
 "nbformat_minor": 4
}
