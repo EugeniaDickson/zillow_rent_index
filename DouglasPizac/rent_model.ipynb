{
 "cells": [
  {
   "cell_type": "code",
   "execution_count": 1,
   "id": "occupied-theorem",
   "metadata": {},
   "outputs": [],
   "source": [
    "import pandas as pd\n",
    "import numpy as np\n",
    "import matplotlib.pyplot as plt\n",
    "plt.style.use('ggplot')\n",
    "import seaborn as sns\n",
    "# %run ../Jane/extract_data.py"
   ]
  },
  {
   "cell_type": "markdown",
   "id": "mexican-order",
   "metadata": {},
   "source": [
    "## Importing previously imputed data"
   ]
  },
  {
   "cell_type": "code",
   "execution_count": 2,
   "id": "handy-hungarian",
   "metadata": {},
   "outputs": [],
   "source": [
    "# zillow_data = pd.read_csv('../../data/zillow_full_imputed.csv',dtype={'Zipcode':str})\n",
    "# zillow_data = zillow_full.copy()\n",
    "zillow_data = pd.read_csv('../../data/ZillowMarch26.csv',dtype={'Zipcode':str})\n",
    "zillow_data['Date'] = pd.to_datetime(zillow_data['Date'])"
   ]
  },
  {
   "cell_type": "code",
   "execution_count": 3,
   "id": "mechanical-alberta",
   "metadata": {},
   "outputs": [],
   "source": [
    "zillow_data.set_index('Date',inplace = True)"
   ]
  },
  {
   "cell_type": "code",
   "execution_count": 4,
   "id": "searching-advice",
   "metadata": {},
   "outputs": [
    {
     "data": {
      "text/plain": [
       "(17751, 25)"
      ]
     },
     "execution_count": 4,
     "metadata": {},
     "output_type": "execute_result"
    }
   ],
   "source": [
    "zillow_data.shape"
   ]
  },
  {
   "cell_type": "code",
   "execution_count": 5,
   "id": "matched-reservoir",
   "metadata": {},
   "outputs": [
    {
     "data": {
      "text/plain": [
       "Zipcode                  object\n",
       "City                     object\n",
       "State                    object\n",
       "Metro                    object\n",
       "County                   object\n",
       "SizeRank                  int64\n",
       "Rent                    float64\n",
       "Year                      int64\n",
       "State-County             object\n",
       "total_pop               float64\n",
       "households              float64\n",
       "median_age              float64\n",
       "median_income           float64\n",
       "income_per_capita       float64\n",
       "gini_index              float64\n",
       "pct_poverty             float64\n",
       "housing_availability    float64\n",
       "home_density            float64\n",
       "pct_employed            float64\n",
       "pct_jobs_nightlife      float64\n",
       "pct_unemployed          float64\n",
       "move_within_city        float64\n",
       "move_new_city           float64\n",
       "avg_commute_time        float64\n",
       "pct_college             float64\n",
       "dtype: object"
      ]
     },
     "execution_count": 5,
     "metadata": {},
     "output_type": "execute_result"
    }
   ],
   "source": [
    "zillow_data.dtypes"
   ]
  },
  {
   "cell_type": "code",
   "execution_count": 6,
   "id": "sitting-theory",
   "metadata": {},
   "outputs": [
    {
     "data": {
      "text/plain": [
       "Zipcode                 0\n",
       "City                    0\n",
       "State                   0\n",
       "Metro                   0\n",
       "County                  0\n",
       "SizeRank                0\n",
       "Rent                    0\n",
       "Year                    0\n",
       "State-County            0\n",
       "total_pop               0\n",
       "households              0\n",
       "median_age              0\n",
       "median_income           0\n",
       "income_per_capita       0\n",
       "gini_index              0\n",
       "pct_poverty             0\n",
       "housing_availability    0\n",
       "home_density            0\n",
       "pct_employed            0\n",
       "pct_jobs_nightlife      0\n",
       "pct_unemployed          0\n",
       "move_within_city        0\n",
       "move_new_city           0\n",
       "avg_commute_time        0\n",
       "pct_college             0\n",
       "dtype: int64"
      ]
     },
     "execution_count": 6,
     "metadata": {},
     "output_type": "execute_result"
    }
   ],
   "source": [
    "zillow_data.isnull().sum()"
   ]
  },
  {
   "cell_type": "markdown",
   "id": "pointed-ordinary",
   "metadata": {},
   "source": [
    "## Random Forest regressor"
   ]
  },
  {
   "cell_type": "code",
   "execution_count": 7,
   "id": "limiting-brief",
   "metadata": {},
   "outputs": [],
   "source": [
    "from sklearn.preprocessing import LabelEncoder, StandardScaler"
   ]
  },
  {
   "cell_type": "code",
   "execution_count": 8,
   "id": "computational-addiction",
   "metadata": {},
   "outputs": [],
   "source": [
    "LE = LabelEncoder()\n",
    "ss = StandardScaler()\n",
    "features = zillow_data.drop(['Rent','State-County','State','Year',\n",
    "                             'City','Metro','County','Zipcode','SizeRank'],axis = 1)\n",
    "y = np.log(zillow_data['Rent'])\n",
    "\n",
    "# features['Zipcode'] = features['Zipcode'].astype(int)"
   ]
  },
  {
   "cell_type": "code",
   "execution_count": 9,
   "id": "aging-snapshot",
   "metadata": {},
   "outputs": [],
   "source": [
    "cat_cols = features.select_dtypes(include = object).copy()\n",
    "num_cols = features.select_dtypes(exclude = object).copy()"
   ]
  },
  {
   "cell_type": "code",
   "execution_count": 10,
   "id": "cordless-currency",
   "metadata": {},
   "outputs": [],
   "source": [
    "for col in cat_cols.columns:\n",
    "    cat_cols[col] = LE.fit_transform(cat_cols[col])\n",
    "\n",
    "X = pd.concat([cat_cols,num_cols],axis = 1)"
   ]
  },
  {
   "cell_type": "code",
   "execution_count": 11,
   "id": "affiliated-shore",
   "metadata": {},
   "outputs": [
    {
     "data": {
      "text/plain": [
       "(17751, 16)"
      ]
     },
     "execution_count": 11,
     "metadata": {},
     "output_type": "execute_result"
    }
   ],
   "source": [
    "X.shape"
   ]
  },
  {
   "cell_type": "code",
   "execution_count": 12,
   "id": "expanded-necessity",
   "metadata": {},
   "outputs": [],
   "source": [
    "from sklearn.ensemble import RandomForestRegressor\n",
    "rfc = RandomForestRegressor(n_estimators = 500)"
   ]
  },
  {
   "cell_type": "code",
   "execution_count": 13,
   "id": "sporting-italic",
   "metadata": {},
   "outputs": [
    {
     "name": "stdout",
     "output_type": "stream",
     "text": [
      "2015-01-01 00:00:00\n",
      "2020-01-01 00:00:00\n"
     ]
    }
   ],
   "source": [
    "#Get the range of dates in the dataset\n",
    "print(X.index[0])\n",
    "print(X.index[-1])"
   ]
  },
  {
   "cell_type": "code",
   "execution_count": 14,
   "id": "floating-separation",
   "metadata": {},
   "outputs": [
    {
     "data": {
      "text/plain": [
       "Index(['total_pop', 'households', 'median_age', 'median_income',\n",
       "       'income_per_capita', 'gini_index', 'pct_poverty',\n",
       "       'housing_availability', 'home_density', 'pct_employed',\n",
       "       'pct_jobs_nightlife', 'pct_unemployed', 'move_within_city',\n",
       "       'move_new_city', 'avg_commute_time', 'pct_college'],\n",
       "      dtype='object')"
      ]
     },
     "execution_count": 14,
     "metadata": {},
     "output_type": "execute_result"
    }
   ],
   "source": [
    "X.columns"
   ]
  },
  {
   "cell_type": "code",
   "execution_count": 15,
   "id": "contrary-coffee",
   "metadata": {},
   "outputs": [],
   "source": [
    "#splitting train/test sets before/after 2019\n",
    "Xtrain = X.loc[X.index <'2018-08-01']\n",
    "train_index = Xtrain.shape[0]\n",
    "Xtest = X[train_index:]\n",
    "ytrain = y[:train_index]\n",
    "ytest = y[train_index:]\n"
   ]
  },
  {
   "cell_type": "code",
   "execution_count": 16,
   "id": "aware-royal",
   "metadata": {},
   "outputs": [
    {
     "data": {
      "text/plain": [
       "RandomForestRegressor(n_estimators=500)"
      ]
     },
     "execution_count": 16,
     "metadata": {},
     "output_type": "execute_result"
    }
   ],
   "source": [
    "rfc.fit(Xtrain,ytrain)"
   ]
  },
  {
   "cell_type": "code",
   "execution_count": 17,
   "id": "operational-wound",
   "metadata": {},
   "outputs": [
    {
     "data": {
      "text/plain": [
       "0.976626614812507"
      ]
     },
     "execution_count": 17,
     "metadata": {},
     "output_type": "execute_result"
    }
   ],
   "source": [
    "rfc.score(Xtrain,ytrain)"
   ]
  },
  {
   "cell_type": "code",
   "execution_count": 18,
   "id": "current-economy",
   "metadata": {},
   "outputs": [
    {
     "data": {
      "text/plain": [
       "0.9468590812368958"
      ]
     },
     "execution_count": 18,
     "metadata": {},
     "output_type": "execute_result"
    }
   ],
   "source": [
    "rfc.score(Xtest,ytest)"
   ]
  },
  {
   "cell_type": "code",
   "execution_count": 19,
   "id": "extended-lyric",
   "metadata": {},
   "outputs": [
    {
     "data": {
      "text/plain": [
       "array([0.00497897, 0.00537081, 0.03515586, 0.27140277, 0.18297343,\n",
       "       0.04807973, 0.02373957, 0.06088358, 0.01925335, 0.02565471,\n",
       "       0.01343538, 0.01458363, 0.0278218 , 0.05075466, 0.13878475,\n",
       "       0.077127  ])"
      ]
     },
     "execution_count": 19,
     "metadata": {},
     "output_type": "execute_result"
    }
   ],
   "source": [
    "rfc.feature_importances_"
   ]
  },
  {
   "cell_type": "code",
   "execution_count": 20,
   "id": "representative-anthony",
   "metadata": {},
   "outputs": [],
   "source": [
    "rfc_imp = pd.DataFrame({'Columns':X.columns,'Feature_importances':rfc.feature_importances_})"
   ]
  },
  {
   "cell_type": "code",
   "execution_count": 21,
   "id": "fitting-corps",
   "metadata": {
    "scrolled": true
   },
   "outputs": [
    {
     "data": {
      "text/html": [
       "<div>\n",
       "<style scoped>\n",
       "    .dataframe tbody tr th:only-of-type {\n",
       "        vertical-align: middle;\n",
       "    }\n",
       "\n",
       "    .dataframe tbody tr th {\n",
       "        vertical-align: top;\n",
       "    }\n",
       "\n",
       "    .dataframe thead th {\n",
       "        text-align: right;\n",
       "    }\n",
       "</style>\n",
       "<table border=\"1\" class=\"dataframe\">\n",
       "  <thead>\n",
       "    <tr style=\"text-align: right;\">\n",
       "      <th></th>\n",
       "      <th>Columns</th>\n",
       "      <th>Feature_importances</th>\n",
       "    </tr>\n",
       "  </thead>\n",
       "  <tbody>\n",
       "    <tr>\n",
       "      <th>3</th>\n",
       "      <td>median_income</td>\n",
       "      <td>0.271403</td>\n",
       "    </tr>\n",
       "    <tr>\n",
       "      <th>4</th>\n",
       "      <td>income_per_capita</td>\n",
       "      <td>0.182973</td>\n",
       "    </tr>\n",
       "    <tr>\n",
       "      <th>14</th>\n",
       "      <td>avg_commute_time</td>\n",
       "      <td>0.138785</td>\n",
       "    </tr>\n",
       "    <tr>\n",
       "      <th>15</th>\n",
       "      <td>pct_college</td>\n",
       "      <td>0.077127</td>\n",
       "    </tr>\n",
       "    <tr>\n",
       "      <th>7</th>\n",
       "      <td>housing_availability</td>\n",
       "      <td>0.060884</td>\n",
       "    </tr>\n",
       "    <tr>\n",
       "      <th>13</th>\n",
       "      <td>move_new_city</td>\n",
       "      <td>0.050755</td>\n",
       "    </tr>\n",
       "    <tr>\n",
       "      <th>5</th>\n",
       "      <td>gini_index</td>\n",
       "      <td>0.048080</td>\n",
       "    </tr>\n",
       "    <tr>\n",
       "      <th>2</th>\n",
       "      <td>median_age</td>\n",
       "      <td>0.035156</td>\n",
       "    </tr>\n",
       "    <tr>\n",
       "      <th>12</th>\n",
       "      <td>move_within_city</td>\n",
       "      <td>0.027822</td>\n",
       "    </tr>\n",
       "    <tr>\n",
       "      <th>9</th>\n",
       "      <td>pct_employed</td>\n",
       "      <td>0.025655</td>\n",
       "    </tr>\n",
       "    <tr>\n",
       "      <th>6</th>\n",
       "      <td>pct_poverty</td>\n",
       "      <td>0.023740</td>\n",
       "    </tr>\n",
       "    <tr>\n",
       "      <th>8</th>\n",
       "      <td>home_density</td>\n",
       "      <td>0.019253</td>\n",
       "    </tr>\n",
       "    <tr>\n",
       "      <th>11</th>\n",
       "      <td>pct_unemployed</td>\n",
       "      <td>0.014584</td>\n",
       "    </tr>\n",
       "    <tr>\n",
       "      <th>10</th>\n",
       "      <td>pct_jobs_nightlife</td>\n",
       "      <td>0.013435</td>\n",
       "    </tr>\n",
       "    <tr>\n",
       "      <th>1</th>\n",
       "      <td>households</td>\n",
       "      <td>0.005371</td>\n",
       "    </tr>\n",
       "    <tr>\n",
       "      <th>0</th>\n",
       "      <td>total_pop</td>\n",
       "      <td>0.004979</td>\n",
       "    </tr>\n",
       "  </tbody>\n",
       "</table>\n",
       "</div>"
      ],
      "text/plain": [
       "                 Columns  Feature_importances\n",
       "3          median_income             0.271403\n",
       "4      income_per_capita             0.182973\n",
       "14      avg_commute_time             0.138785\n",
       "15           pct_college             0.077127\n",
       "7   housing_availability             0.060884\n",
       "13         move_new_city             0.050755\n",
       "5             gini_index             0.048080\n",
       "2             median_age             0.035156\n",
       "12      move_within_city             0.027822\n",
       "9           pct_employed             0.025655\n",
       "6            pct_poverty             0.023740\n",
       "8           home_density             0.019253\n",
       "11        pct_unemployed             0.014584\n",
       "10    pct_jobs_nightlife             0.013435\n",
       "1             households             0.005371\n",
       "0              total_pop             0.004979"
      ]
     },
     "execution_count": 21,
     "metadata": {},
     "output_type": "execute_result"
    }
   ],
   "source": [
    "rfc_imp.sort_values(by = 'Feature_importances',ascending = False)"
   ]
  },
  {
   "cell_type": "code",
   "execution_count": 22,
   "id": "fifteen-enterprise",
   "metadata": {},
   "outputs": [],
   "source": [
    "ypred = rfc.predict(Xtest)"
   ]
  },
  {
   "cell_type": "code",
   "execution_count": 23,
   "id": "domestic-falls",
   "metadata": {},
   "outputs": [],
   "source": [
    "from sklearn.metrics import mean_squared_error"
   ]
  },
  {
   "cell_type": "code",
   "execution_count": 24,
   "id": "unable-glass",
   "metadata": {},
   "outputs": [
    {
     "name": "stdout",
     "output_type": "stream",
     "text": [
      "RMSE: 136.2\n"
     ]
    }
   ],
   "source": [
    "RMSE = mean_squared_error(np.exp(ytest),np.exp(ypred), squared = False)\n",
    "print(f'RMSE: {round(RMSE,2)}')\n",
    "\n",
    "\n",
    "def abs_relative_error(ytest,ypred,df):\n",
    "    '''returns a plot of the metro area rent errors relative to the rent price\n",
    "    \n",
    "    Args:\n",
    "    \n",
    "    ytest: pd.DataFrame, Actual rent values\n",
    "    ypred: np.array, predicted rent values\n",
    "    df: pd.DataFrame'''\n",
    "    abs_pct_rent_error = pd.Series(np.abs((np.exp(ytest)-np.exp(ypred))/np.exp(ytest)))\n",
    "\n",
    "    test_metros = df['Metro'].loc[df.index >=ytest.index[0]].copy()\n",
    "\n",
    "    test_predictions = pd.concat([abs_pct_rent_error,test_metros],axis = 1)\n",
    "    test_predictions.reset_index(inplace = True)\n",
    "    data_error_max = test_predictions.groupby(['Date','Metro'],as_index = False)['Rent'].mean()\n",
    "\n",
    "    fig = plt.figure(figsize =(15,10))\n",
    "    sns.lineplot(data = data_error_max, x = 'Date', y = 'Rent',hue = 'Metro')\n",
    "    plt.title('Mean absolute error as percentage of rent')\n",
    "    plt.xlabel('Date')\n",
    "    plt.ylabel('Error in percent of actual rent')\n",
    "    plt.legend(loc = 'upper left')\n",
    "    "
   ]
  },
  {
   "cell_type": "code",
   "execution_count": null,
   "id": "southeast-method",
   "metadata": {},
   "outputs": [],
   "source": []
  },
  {
   "cell_type": "code",
   "execution_count": 25,
   "id": "heard-clothing",
   "metadata": {},
   "outputs": [
    {
     "data": {
      "image/png": "[encoded data removed]",
      "text/plain": [
       "<Figure size 1080x720 with 1 Axes>"
      ]
     },
     "metadata": {
      "needs_background": "light"
     },
     "output_type": "display_data"
    }
   ],
   "source": [
    "abs_relative_error(ytest,ypred,zillow_data)"
   ]
  },
  {
   "cell_type": "code",
   "execution_count": null,
   "id": "focal-lambda",
   "metadata": {},
   "outputs": [],
   "source": []
  },
  {
   "cell_type": "code",
   "execution_count": null,
   "id": "dressed-standard",
   "metadata": {},
   "outputs": [],
   "source": []
  },
  {
   "cell_type": "code",
   "execution_count": null,
   "id": "vocational-tulsa",
   "metadata": {},
   "outputs": [],
   "source": []
  },
  {
   "cell_type": "code",
   "execution_count": 26,
   "id": "transsexual-johns",
   "metadata": {},
   "outputs": [],
   "source": [
    "from sklearn.model_selection import GridSearchCV\n",
    "estimators= list(map(int,np.linspace(400,700,4)))\n",
    "param_grid = {'n_estimators':estimators}\n"
   ]
  },
  {
   "cell_type": "code",
   "execution_count": null,
   "id": "eight-richardson",
   "metadata": {},
   "outputs": [],
   "source": []
  },
  {
   "cell_type": "code",
   "execution_count": 27,
   "id": "german-rabbit",
   "metadata": {},
   "outputs": [],
   "source": [
    "grid = GridSearchCV(RandomForestRegressor(),param_grid = param_grid)"
   ]
  },
  {
   "cell_type": "code",
   "execution_count": 28,
   "id": "dominican-powder",
   "metadata": {},
   "outputs": [
    {
     "data": {
      "text/plain": [
       "GridSearchCV(estimator=RandomForestRegressor(),\n",
       "             param_grid={'n_estimators': [400, 500, 600, 700]})"
      ]
     },
     "execution_count": 28,
     "metadata": {},
     "output_type": "execute_result"
    }
   ],
   "source": [
    "grid.fit(Xtrain,ytrain)"
   ]
  },
  {
   "cell_type": "code",
   "execution_count": 29,
   "id": "bacterial-translator",
   "metadata": {},
   "outputs": [
    {
     "data": {
      "text/plain": [
       "{'n_estimators': 400}"
      ]
     },
     "execution_count": 29,
     "metadata": {},
     "output_type": "execute_result"
    }
   ],
   "source": [
    "grid.best_params_"
   ]
  },
  {
   "cell_type": "code",
   "execution_count": 30,
   "id": "desperate-jersey",
   "metadata": {},
   "outputs": [
    {
     "data": {
      "text/plain": [
       "0.9468570988088564"
      ]
     },
     "execution_count": 30,
     "metadata": {},
     "output_type": "execute_result"
    }
   ],
   "source": [
    "grid.score(Xtest,ytest)"
   ]
  },
  {
   "cell_type": "code",
   "execution_count": 31,
   "id": "invisible-paraguay",
   "metadata": {},
   "outputs": [
    {
     "data": {
      "text/plain": [
       "0.9660350154412998"
      ]
     },
     "execution_count": 31,
     "metadata": {},
     "output_type": "execute_result"
    }
   ],
   "source": [
    "grid.best_score_"
   ]
  },
  {
   "cell_type": "code",
   "execution_count": 32,
   "id": "joined-residence",
   "metadata": {},
   "outputs": [
    {
     "name": "stdout",
     "output_type": "stream",
     "text": [
      "136.2024640120734\n"
     ]
    }
   ],
   "source": [
    "y_pred = grid.predict(Xtest)\n",
    "print(mean_squared_error(np.exp(ytest),np.exp(ypred),squared = False))"
   ]
  },
  {
   "cell_type": "code",
   "execution_count": 33,
   "id": "quality-camping",
   "metadata": {},
   "outputs": [
    {
     "data": {
      "text/plain": [
       "RandomForestRegressor(n_estimators=400)"
      ]
     },
     "execution_count": 33,
     "metadata": {},
     "output_type": "execute_result"
    }
   ],
   "source": [
    "rfc.set_params(**grid.best_params_)"
   ]
  },
  {
   "cell_type": "code",
   "execution_count": 34,
   "id": "selected-blackberry",
   "metadata": {},
   "outputs": [
    {
     "data": {
      "text/plain": [
       "RandomForestRegressor(n_estimators=400)"
      ]
     },
     "execution_count": 34,
     "metadata": {},
     "output_type": "execute_result"
    }
   ],
   "source": [
    "rfc.fit(Xtrain,ytrain)"
   ]
  },
  {
   "cell_type": "code",
   "execution_count": 35,
   "id": "historical-problem",
   "metadata": {},
   "outputs": [
    {
     "data": {
      "text/plain": [
       "0.9467553895986762"
      ]
     },
     "execution_count": 35,
     "metadata": {},
     "output_type": "execute_result"
    }
   ],
   "source": [
    "rfc.score(Xtest,ytest)"
   ]
  },
  {
   "cell_type": "code",
   "execution_count": 36,
   "id": "directed-palestinian",
   "metadata": {},
   "outputs": [
    {
     "data": {
      "text/html": [
       "<div>\n",
       "<style scoped>\n",
       "    .dataframe tbody tr th:only-of-type {\n",
       "        vertical-align: middle;\n",
       "    }\n",
       "\n",
       "    .dataframe tbody tr th {\n",
       "        vertical-align: top;\n",
       "    }\n",
       "\n",
       "    .dataframe thead th {\n",
       "        text-align: right;\n",
       "    }\n",
       "</style>\n",
       "<table border=\"1\" class=\"dataframe\">\n",
       "  <thead>\n",
       "    <tr style=\"text-align: right;\">\n",
       "      <th></th>\n",
       "      <th>Columns</th>\n",
       "      <th>Feature_importances</th>\n",
       "    </tr>\n",
       "  </thead>\n",
       "  <tbody>\n",
       "    <tr>\n",
       "      <th>3</th>\n",
       "      <td>median_income</td>\n",
       "      <td>0.274908</td>\n",
       "    </tr>\n",
       "    <tr>\n",
       "      <th>4</th>\n",
       "      <td>income_per_capita</td>\n",
       "      <td>0.175656</td>\n",
       "    </tr>\n",
       "    <tr>\n",
       "      <th>14</th>\n",
       "      <td>avg_commute_time</td>\n",
       "      <td>0.137049</td>\n",
       "    </tr>\n",
       "    <tr>\n",
       "      <th>15</th>\n",
       "      <td>pct_college</td>\n",
       "      <td>0.082211</td>\n",
       "    </tr>\n",
       "    <tr>\n",
       "      <th>7</th>\n",
       "      <td>housing_availability</td>\n",
       "      <td>0.061606</td>\n",
       "    </tr>\n",
       "    <tr>\n",
       "      <th>13</th>\n",
       "      <td>move_new_city</td>\n",
       "      <td>0.050162</td>\n",
       "    </tr>\n",
       "    <tr>\n",
       "      <th>5</th>\n",
       "      <td>gini_index</td>\n",
       "      <td>0.046525</td>\n",
       "    </tr>\n",
       "    <tr>\n",
       "      <th>2</th>\n",
       "      <td>median_age</td>\n",
       "      <td>0.034879</td>\n",
       "    </tr>\n",
       "    <tr>\n",
       "      <th>9</th>\n",
       "      <td>pct_employed</td>\n",
       "      <td>0.026557</td>\n",
       "    </tr>\n",
       "    <tr>\n",
       "      <th>12</th>\n",
       "      <td>move_within_city</td>\n",
       "      <td>0.026377</td>\n",
       "    </tr>\n",
       "    <tr>\n",
       "      <th>6</th>\n",
       "      <td>pct_poverty</td>\n",
       "      <td>0.025874</td>\n",
       "    </tr>\n",
       "    <tr>\n",
       "      <th>8</th>\n",
       "      <td>home_density</td>\n",
       "      <td>0.019987</td>\n",
       "    </tr>\n",
       "    <tr>\n",
       "      <th>11</th>\n",
       "      <td>pct_unemployed</td>\n",
       "      <td>0.013920</td>\n",
       "    </tr>\n",
       "    <tr>\n",
       "      <th>10</th>\n",
       "      <td>pct_jobs_nightlife</td>\n",
       "      <td>0.013618</td>\n",
       "    </tr>\n",
       "    <tr>\n",
       "      <th>0</th>\n",
       "      <td>total_pop</td>\n",
       "      <td>0.005606</td>\n",
       "    </tr>\n",
       "    <tr>\n",
       "      <th>1</th>\n",
       "      <td>households</td>\n",
       "      <td>0.005065</td>\n",
       "    </tr>\n",
       "  </tbody>\n",
       "</table>\n",
       "</div>"
      ],
      "text/plain": [
       "                 Columns  Feature_importances\n",
       "3          median_income             0.274908\n",
       "4      income_per_capita             0.175656\n",
       "14      avg_commute_time             0.137049\n",
       "15           pct_college             0.082211\n",
       "7   housing_availability             0.061606\n",
       "13         move_new_city             0.050162\n",
       "5             gini_index             0.046525\n",
       "2             median_age             0.034879\n",
       "9           pct_employed             0.026557\n",
       "12      move_within_city             0.026377\n",
       "6            pct_poverty             0.025874\n",
       "8           home_density             0.019987\n",
       "11        pct_unemployed             0.013920\n",
       "10    pct_jobs_nightlife             0.013618\n",
       "0              total_pop             0.005606\n",
       "1             households             0.005065"
      ]
     },
     "execution_count": 36,
     "metadata": {},
     "output_type": "execute_result"
    }
   ],
   "source": [
    "rfc_imp = pd.DataFrame({'Columns':X.columns,'Feature_importances':rfc.feature_importances_})\n",
    "\n",
    "rfc_imp.sort_values(by = 'Feature_importances',ascending = False)"
   ]
  },
  {
   "cell_type": "markdown",
   "id": "pressing-medicine",
   "metadata": {},
   "source": [
    "## Writing CV to preserve time-series structure"
   ]
  },
  {
   "cell_type": "code",
   "execution_count": 37,
   "id": "split-morning",
   "metadata": {},
   "outputs": [
    {
     "data": {
      "text/plain": [
       "Index(['total_pop', 'households', 'median_age', 'median_income',\n",
       "       'income_per_capita', 'gini_index', 'pct_poverty',\n",
       "       'housing_availability', 'home_density', 'pct_employed',\n",
       "       'pct_jobs_nightlife', 'pct_unemployed', 'move_within_city',\n",
       "       'move_new_city', 'avg_commute_time', 'pct_college'],\n",
       "      dtype='object')"
      ]
     },
     "execution_count": 37,
     "metadata": {},
     "output_type": "execute_result"
    }
   ],
   "source": [
    "X.columns"
   ]
  },
  {
   "cell_type": "code",
   "execution_count": null,
   "id": "insured-block",
   "metadata": {},
   "outputs": [],
   "source": []
  },
  {
   "cell_type": "code",
   "execution_count": 38,
   "id": "seventh-memorabilia",
   "metadata": {},
   "outputs": [
    {
     "name": "stdout",
     "output_type": "stream",
     "text": [
      "Training date range: 2015-01-01 00:00:00 : 2015-09-01 00:00:00\n",
      "Testing date range: 2015-10-01 00:00:00 : 2015-12-01 00:00:00\n",
      "Random forest test score: 0.9673589787742394\n",
      "\n",
      "Training date range: 2015-01-01 00:00:00 : 2015-12-01 00:00:00\n",
      "Testing date range: 2016-01-01 00:00:00 : 2016-03-01 00:00:00\n",
      "Random forest test score: 0.9672791019827667\n",
      "\n",
      "Training date range: 2015-01-01 00:00:00 : 2016-03-01 00:00:00\n",
      "Testing date range: 2016-04-01 00:00:00 : 2016-06-01 00:00:00\n",
      "Random forest test score: 0.9638361961788741\n",
      "\n",
      "Training date range: 2015-01-01 00:00:00 : 2016-06-01 00:00:00\n",
      "Testing date range: 2016-07-01 00:00:00 : 2016-09-01 00:00:00\n",
      "Random forest test score: 0.9577429710635671\n",
      "\n",
      "Training date range: 2015-01-01 00:00:00 : 2016-09-01 00:00:00\n",
      "Testing date range: 2016-10-01 00:00:00 : 2016-12-01 00:00:00\n",
      "Random forest test score: 0.9543385592723626\n",
      "\n",
      "Training date range: 2015-01-01 00:00:00 : 2016-12-01 00:00:00\n",
      "Testing date range: 2017-01-01 00:00:00 : 2017-03-01 00:00:00\n",
      "Random forest test score: 0.9685473813271988\n",
      "\n",
      "Training date range: 2015-01-01 00:00:00 : 2017-03-01 00:00:00\n",
      "Testing date range: 2017-04-01 00:00:00 : 2017-06-01 00:00:00\n",
      "Random forest test score: 0.9768644695373182\n",
      "\n",
      "Training date range: 2015-01-01 00:00:00 : 2017-06-01 00:00:00\n",
      "Testing date range: 2017-07-01 00:00:00 : 2017-09-01 00:00:00\n",
      "Random forest test score: 0.9722312688320792\n",
      "\n",
      "Training date range: 2015-01-01 00:00:00 : 2017-09-01 00:00:00\n",
      "Testing date range: 2017-10-01 00:00:00 : 2017-12-01 00:00:00\n",
      "Random forest test score: 0.9731850106631945\n",
      "\n",
      "Training date range: 2015-01-01 00:00:00 : 2017-12-01 00:00:00\n",
      "Testing date range: 2018-01-01 00:00:00 : 2018-03-01 00:00:00\n",
      "Random forest test score: 0.9696945787514507\n",
      "\n",
      "Training date range: 2015-01-01 00:00:00 : 2018-03-01 00:00:00\n",
      "Testing date range: 2018-04-01 00:00:00 : 2018-06-01 00:00:00\n",
      "Random forest test score: 0.9690614084156088\n",
      "\n",
      "Training date range: 2015-01-01 00:00:00 : 2018-06-01 00:00:00\n",
      "Testing date range: 2018-07-01 00:00:00 : 2018-09-01 00:00:00\n",
      "Random forest test score: 0.967644315478528\n",
      "\n",
      "Training date range: 2015-01-01 00:00:00 : 2018-09-01 00:00:00\n",
      "Testing date range: 2018-10-01 00:00:00 : 2018-12-01 00:00:00\n",
      "Random forest test score: 0.9669912342568722\n",
      "\n",
      "Training date range: 2015-01-01 00:00:00 : 2018-12-01 00:00:00\n",
      "Testing date range: 2019-01-01 00:00:00 : 2019-03-01 00:00:00\n",
      "Random forest test score: 0.962683184724989\n",
      "\n",
      "Training date range: 2015-01-01 00:00:00 : 2019-03-01 00:00:00\n",
      "Testing date range: 2019-04-01 00:00:00 : 2019-06-01 00:00:00\n",
      "Random forest test score: 0.959116559381735\n",
      "\n",
      "Training date range: 2015-01-01 00:00:00 : 2019-06-01 00:00:00\n",
      "Testing date range: 2019-07-01 00:00:00 : 2019-09-01 00:00:00\n",
      "Random forest test score: 0.9534433665210141\n",
      "\n",
      "Training date range: 2015-01-01 00:00:00 : 2019-09-01 00:00:00\n",
      "Testing date range: 2019-10-01 00:00:00 : 2019-12-01 00:00:00\n",
      "Random forest test score: 0.947950130969306\n",
      "\n"
     ]
    }
   ],
   "source": [
    "rent_dates = X.index.unique()\n",
    "\n",
    "train_end = 9\n",
    "test_start = train_end\n",
    "test_end = test_start +3\n",
    "\n",
    "cv_dict = {'train_score':[],\n",
    "              'test_score':[],\n",
    "              'RMSE':[]}\n",
    "\n",
    "predictions = []\n",
    "rfc_cv = RandomForestRegressor()\n",
    "rfc_cv.set_params(n_estimators = 600)\n",
    "\n",
    "while test_end <=len(rent_dates):\n",
    "\n",
    "\n",
    "    Xtrain = X[X.index.isin(rent_dates[:train_end])]\n",
    "    ytrain = y[y.index.isin(rent_dates[:train_end])]\n",
    "    Xtest = X[X.index.isin(rent_dates[test_start:test_end])]\n",
    "    ytest = y[y.index.isin(rent_dates[test_start:test_end])]\n",
    "    rfc_cv.fit(Xtrain,ytrain)\n",
    "    cv_dict['train_score'].append(rfc_cv.score(Xtrain,ytrain))\n",
    "    cv_dict['test_score'].append(rfc_cv.score(Xtest,ytest))\n",
    "    cv_pred = rfc_cv.predict(Xtest)\n",
    "    predictions.extend(cv_pred)\n",
    "    cv_dict['RMSE'].append(mean_squared_error(np.exp(ytest),np.exp(cv_pred),squared = False))\n",
    "    \n",
    "    print(f'Training date range: {Xtrain.index.unique().tolist()[0]} : {Xtrain.index.unique().tolist()[-1]}')\n",
    "    print(f'Testing date range: {Xtest.index.unique().tolist()[0]} : {Xtest.index.unique().tolist()[-1]}')\n",
    "    print(f'Random forest test score: {rfc_cv.score(Xtest,ytest)}\\n')\n",
    "    train_end +=3\n",
    "    test_start +=3\n",
    "    test_end +=3"
   ]
  },
  {
   "cell_type": "code",
   "execution_count": 39,
   "id": "therapeutic-remove",
   "metadata": {},
   "outputs": [
    {
     "data": {
      "image/png": "[encoded data removed]",
      "text/plain": [
       "<Figure size 1080x720 with 1 Axes>"
      ]
     },
     "metadata": {
      "needs_background": "light"
     },
     "output_type": "display_data"
    }
   ],
   "source": [
    "import matplotlib.pyplot as plt\n",
    "cv_results = pd.DataFrame(cv_dict)\n",
    "cv_results.index = cv_results.index +1\n",
    "plt.figure(figsize = (15,10))\n",
    "plt.plot(cv_results['train_score'],'bo:')\n",
    "plt.plot(cv_results['test_score'],'ro:')\n",
    "plt.legend(['Training Score','Test Score'])\n",
    "plt.xlabel('Number of cross-validation steps')\n",
    "plt.ylabel('training/test scores')\n",
    "plt.title('Cross-validation results for random forest regressor')\n",
    "plt.ylim([.93,1])\n",
    "plt.show()\n"
   ]
  },
  {
   "cell_type": "code",
   "execution_count": 40,
   "id": "silver-mortality",
   "metadata": {},
   "outputs": [
    {
     "name": "stdout",
     "output_type": "stream",
     "text": [
      "0.9645863950665355\n",
      "17\n"
     ]
    }
   ],
   "source": [
    "print(cv_results['test_score'].mean())\n",
    "print(cv_results.shape[0])"
   ]
  },
  {
   "cell_type": "code",
   "execution_count": 41,
   "id": "formed-annex",
   "metadata": {},
   "outputs": [
    {
     "data": {
      "text/plain": [
       "Text(0.5, 1.0, 'Cross-validation results for random forest regressor')"
      ]
     },
     "execution_count": 41,
     "metadata": {},
     "output_type": "execute_result"
    },
    {
     "data": {
      "image/png": "[encoded data removed]",
      "text/plain": [
       "<Figure size 432x432 with 1 Axes>"
      ]
     },
     "metadata": {
      "needs_background": "light"
     },
     "output_type": "display_data"
    }
   ],
   "source": [
    "plt.figure(figsize = (6,6))\n",
    "plt.plot(cv_results['RMSE'])\n",
    "plt.xlabel('Number of cross-validation steps')\n",
    "plt.ylabel('Root-mean-squared error (USD)')\n",
    "plt.axhline(np.mean(cv_results['RMSE']),ls = '--')\n",
    "plt.legend(['RMSE','Average RMSE'])\n",
    "plt.title('Cross-validation results for random forest regressor')"
   ]
  },
  {
   "cell_type": "code",
   "execution_count": 42,
   "id": "small-swaziland",
   "metadata": {},
   "outputs": [
    {
     "data": {
      "text/plain": [
       "(873, 16)"
      ]
     },
     "execution_count": 42,
     "metadata": {},
     "output_type": "execute_result"
    }
   ],
   "source": [
    "Xtest.shape"
   ]
  },
  {
   "cell_type": "code",
   "execution_count": 43,
   "id": "transparent-george",
   "metadata": {},
   "outputs": [],
   "source": [
    "cv_results.index = cv_results.index+1"
   ]
  },
  {
   "cell_type": "code",
   "execution_count": 44,
   "id": "detected-builder",
   "metadata": {},
   "outputs": [
    {
     "data": {
      "text/html": [
       "<div>\n",
       "<style scoped>\n",
       "    .dataframe tbody tr th:only-of-type {\n",
       "        vertical-align: middle;\n",
       "    }\n",
       "\n",
       "    .dataframe tbody tr th {\n",
       "        vertical-align: top;\n",
       "    }\n",
       "\n",
       "    .dataframe thead th {\n",
       "        text-align: right;\n",
       "    }\n",
       "</style>\n",
       "<table border=\"1\" class=\"dataframe\">\n",
       "  <thead>\n",
       "    <tr style=\"text-align: right;\">\n",
       "      <th></th>\n",
       "      <th>train_score</th>\n",
       "      <th>test_score</th>\n",
       "      <th>RMSE</th>\n",
       "    </tr>\n",
       "  </thead>\n",
       "  <tbody>\n",
       "    <tr>\n",
       "      <th>2</th>\n",
       "      <td>0.992996</td>\n",
       "      <td>0.967359</td>\n",
       "      <td>129.503784</td>\n",
       "    </tr>\n",
       "    <tr>\n",
       "      <th>3</th>\n",
       "      <td>0.988541</td>\n",
       "      <td>0.967279</td>\n",
       "      <td>125.164911</td>\n",
       "    </tr>\n",
       "    <tr>\n",
       "      <th>4</th>\n",
       "      <td>0.985659</td>\n",
       "      <td>0.963836</td>\n",
       "      <td>128.603885</td>\n",
       "    </tr>\n",
       "    <tr>\n",
       "      <th>5</th>\n",
       "      <td>0.983195</td>\n",
       "      <td>0.957743</td>\n",
       "      <td>135.983324</td>\n",
       "    </tr>\n",
       "    <tr>\n",
       "      <th>6</th>\n",
       "      <td>0.980622</td>\n",
       "      <td>0.954339</td>\n",
       "      <td>133.621706</td>\n",
       "    </tr>\n",
       "    <tr>\n",
       "      <th>7</th>\n",
       "      <td>0.978315</td>\n",
       "      <td>0.968547</td>\n",
       "      <td>109.226252</td>\n",
       "    </tr>\n",
       "    <tr>\n",
       "      <th>8</th>\n",
       "      <td>0.977710</td>\n",
       "      <td>0.976864</td>\n",
       "      <td>98.638016</td>\n",
       "    </tr>\n",
       "    <tr>\n",
       "      <th>9</th>\n",
       "      <td>0.977861</td>\n",
       "      <td>0.972231</td>\n",
       "      <td>104.793166</td>\n",
       "    </tr>\n",
       "    <tr>\n",
       "      <th>10</th>\n",
       "      <td>0.977622</td>\n",
       "      <td>0.973185</td>\n",
       "      <td>100.678891</td>\n",
       "    </tr>\n",
       "    <tr>\n",
       "      <th>11</th>\n",
       "      <td>0.977463</td>\n",
       "      <td>0.969695</td>\n",
       "      <td>105.419669</td>\n",
       "    </tr>\n",
       "    <tr>\n",
       "      <th>12</th>\n",
       "      <td>0.977100</td>\n",
       "      <td>0.969061</td>\n",
       "      <td>108.278637</td>\n",
       "    </tr>\n",
       "    <tr>\n",
       "      <th>13</th>\n",
       "      <td>0.976748</td>\n",
       "      <td>0.967644</td>\n",
       "      <td>110.150087</td>\n",
       "    </tr>\n",
       "    <tr>\n",
       "      <th>14</th>\n",
       "      <td>0.976352</td>\n",
       "      <td>0.966991</td>\n",
       "      <td>109.004011</td>\n",
       "    </tr>\n",
       "    <tr>\n",
       "      <th>15</th>\n",
       "      <td>0.975959</td>\n",
       "      <td>0.962683</td>\n",
       "      <td>115.617860</td>\n",
       "    </tr>\n",
       "    <tr>\n",
       "      <th>16</th>\n",
       "      <td>0.975397</td>\n",
       "      <td>0.959117</td>\n",
       "      <td>123.302421</td>\n",
       "    </tr>\n",
       "    <tr>\n",
       "      <th>17</th>\n",
       "      <td>0.974722</td>\n",
       "      <td>0.953443</td>\n",
       "      <td>128.282956</td>\n",
       "    </tr>\n",
       "    <tr>\n",
       "      <th>18</th>\n",
       "      <td>0.973862</td>\n",
       "      <td>0.947950</td>\n",
       "      <td>131.528714</td>\n",
       "    </tr>\n",
       "  </tbody>\n",
       "</table>\n",
       "</div>"
      ],
      "text/plain": [
       "    train_score  test_score        RMSE\n",
       "2      0.992996    0.967359  129.503784\n",
       "3      0.988541    0.967279  125.164911\n",
       "4      0.985659    0.963836  128.603885\n",
       "5      0.983195    0.957743  135.983324\n",
       "6      0.980622    0.954339  133.621706\n",
       "7      0.978315    0.968547  109.226252\n",
       "8      0.977710    0.976864   98.638016\n",
       "9      0.977861    0.972231  104.793166\n",
       "10     0.977622    0.973185  100.678891\n",
       "11     0.977463    0.969695  105.419669\n",
       "12     0.977100    0.969061  108.278637\n",
       "13     0.976748    0.967644  110.150087\n",
       "14     0.976352    0.966991  109.004011\n",
       "15     0.975959    0.962683  115.617860\n",
       "16     0.975397    0.959117  123.302421\n",
       "17     0.974722    0.953443  128.282956\n",
       "18     0.973862    0.947950  131.528714"
      ]
     },
     "execution_count": 44,
     "metadata": {},
     "output_type": "execute_result"
    }
   ],
   "source": [
    "cv_results"
   ]
  },
  {
   "cell_type": "markdown",
   "id": "published-female",
   "metadata": {},
   "source": [
    "## Random Forest on metro clusters"
   ]
  },
  {
   "cell_type": "code",
   "execution_count": 45,
   "id": "fossil-firmware",
   "metadata": {},
   "outputs": [],
   "source": [
    "atx = pd.read_csv('../../data/clusters/au_clusters_norent.csv',dtype={'Zipcode':str})\n",
    "sf = pd.read_csv('../../data/clusters/sf_clusters_norent.csv',dtype={'Zipcode':str})\n",
    "ny = pd.read_csv('../../data/clusters/ny_clusters_norent.csv',dtype={'Zipcode':str})\n",
    "mi = pd.read_csv('../../data/clusters/mi_clusters_norent.csv',dtype={'Zipcode':str})"
   ]
  },
  {
   "cell_type": "code",
   "execution_count": null,
   "id": "seeing-passing",
   "metadata": {},
   "outputs": [],
   "source": []
  },
  {
   "cell_type": "code",
   "execution_count": 48,
   "id": "representative-monitor",
   "metadata": {},
   "outputs": [
    {
     "data": {
      "text/plain": [
       "2"
      ]
     },
     "execution_count": 48,
     "metadata": {},
     "output_type": "execute_result"
    }
   ],
   "source": [
    "len(atx.Clusters.value_counts())"
   ]
  },
  {
   "cell_type": "code",
   "execution_count": 49,
   "id": "domestic-stereo",
   "metadata": {},
   "outputs": [
    {
     "data": {
      "text/plain": [
       "Index(['Zipcode', 'City', 'State', 'Metro', 'County', 'SizeRank', 'Date',\n",
       "       'Rent', 'Year', 'State-County', 'total_pop', 'households', 'median_age',\n",
       "       'median_income', 'income_per_capita', 'gini_index', 'pct_poverty',\n",
       "       'housing_availability', 'home_density', 'pct_employed',\n",
       "       'pct_jobs_nightlife', 'pct_unemployed', 'move_within_city',\n",
       "       'move_new_city', 'avg_commute_time', 'pct_college', 'Clusters'],\n",
       "      dtype='object')"
      ]
     },
     "execution_count": 49,
     "metadata": {},
     "output_type": "execute_result"
    }
   ],
   "source": [
    "atx.columns"
   ]
  },
  {
   "cell_type": "code",
   "execution_count": 50,
   "id": "surface-estate",
   "metadata": {},
   "outputs": [
    {
     "data": {
      "text/plain": [
       "Index(['total_pop', 'households', 'median_age', 'median_income',\n",
       "       'income_per_capita', 'gini_index', 'pct_poverty',\n",
       "       'housing_availability', 'home_density', 'pct_employed',\n",
       "       'pct_jobs_nightlife', 'pct_unemployed', 'move_within_city',\n",
       "       'move_new_city', 'avg_commute_time', 'pct_college'],\n",
       "      dtype='object')"
      ]
     },
     "execution_count": 50,
     "metadata": {},
     "output_type": "execute_result"
    }
   ],
   "source": [
    "features.columns"
   ]
  },
  {
   "cell_type": "code",
   "execution_count": 51,
   "id": "automatic-candidate",
   "metadata": {},
   "outputs": [],
   "source": [
    "for metro in [atx,mi,sf,ny]:\n",
    "    metro['Date'] = pd.to_datetime(metro['Date'])\n",
    "    metro.set_index('Date',inplace = True)\n"
   ]
  },
  {
   "cell_type": "code",
   "execution_count": 52,
   "id": "stopped-sequence",
   "metadata": {},
   "outputs": [
    {
     "data": {
      "text/plain": [
       "4"
      ]
     },
     "execution_count": 52,
     "metadata": {},
     "output_type": "execute_result"
    }
   ],
   "source": [
    "mi['Clusters'].nunique()"
   ]
  },
  {
   "cell_type": "code",
   "execution_count": null,
   "id": "homeless-quantum",
   "metadata": {},
   "outputs": [],
   "source": []
  },
  {
   "cell_type": "code",
   "execution_count": null,
   "id": "familiar-expression",
   "metadata": {},
   "outputs": [],
   "source": []
  },
  {
   "cell_type": "code",
   "execution_count": 55,
   "id": "impaired-familiar",
   "metadata": {},
   "outputs": [],
   "source": [
    "# for metro in [atx,mi,sf,ny]:\n",
    "def forest_clusters(df):\n",
    "\n",
    "    cluster_res = dict()\n",
    "\n",
    "    for cluster in range(len(df['Clusters'].unique())):\n",
    "    \n",
    "        X = df.loc[df['Clusters'] == cluster].copy()\n",
    "        y = np.log(X.Rent)\n",
    "        X = X[features.columns].copy()\n",
    "        \n",
    "        Xtrain = X.loc[X.index <'2018-08-01']\n",
    "        train_index = Xtrain.shape[0]\n",
    "        Xtest = X[train_index:]\n",
    "        ytrain = y[:train_index]\n",
    "        ytest = y[train_index:]\n",
    "        rfc_cluster = RandomForestRegressor(n_estimators=600)\n",
    "        dict_key = str(metro)+'_cluster'+str(cluster)\n",
    "        rfc_cluster.fit(Xtrain,ytrain)\n",
    "        cluster_res[f'cluster{cluster}_train_score'] = rfc_cluster.score(Xtrain,ytrain)\n",
    "        cluster_res[f'cluster{cluster}_test_score'] = rfc_cluster.score(Xtest,ytest)\n",
    "        cluster_res[f'cluster{cluster}_test_set'] = np.array(ytest)\n",
    "        cluster_res[f'cluster{cluster}_predictions'] = rfc_cluster.predict(Xtest)\n",
    "        cluster_res[f'cluster{cluster}_RMSE'] = mean_squared_error(np.exp(ytest),\n",
    "                                                 np.exp(cluster_res[f'cluster{cluster}_predictions'])\n",
    "                                                 ,squared = False)\n",
    "    return cluster_res\n",
    "        "
   ]
  },
  {
   "cell_type": "code",
   "execution_count": 56,
   "id": "metallic-discipline",
   "metadata": {},
   "outputs": [],
   "source": [
    "atx_results = forest_clusters(atx)\n",
    "ny_results = forest_clusters(ny)\n",
    "sf_results = forest_clusters(sf)\n",
    "mi_results = forest_clusters(mi)"
   ]
  },
  {
   "cell_type": "code",
   "execution_count": null,
   "id": "wrong-border",
   "metadata": {},
   "outputs": [],
   "source": []
  },
  {
   "cell_type": "code",
   "execution_count": null,
   "id": "brief-knife",
   "metadata": {},
   "outputs": [],
   "source": []
  },
  {
   "cell_type": "code",
   "execution_count": null,
   "id": "chemical-mistress",
   "metadata": {},
   "outputs": [],
   "source": [
    "ny['Clusters'].value_counts()"
   ]
  },
  {
   "cell_type": "code",
   "execution_count": 59,
   "id": "velvet-water",
   "metadata": {},
   "outputs": [
    {
     "name": "stdout",
     "output_type": "stream",
     "text": [
      "131.30371383375143\n",
      "0.8416950845455197\n",
      "\n",
      "\n",
      "157.02795499111974\n",
      "0.8665604095913209\n",
      "\n",
      "\n",
      "141.3414836696129\n",
      "0.6826632515332336\n",
      "\n",
      "\n"
     ]
    }
   ],
   "source": [
    "for cluster in range(len(ny['Clusters'].unique())):\n",
    "    print(ny_results[f'cluster{cluster}_RMSE'])\n",
    "    print(ny_results[f'cluster{cluster}_test_score'])\n",
    "    print('\\n')\n",
    "    "
   ]
  },
  {
   "cell_type": "code",
   "execution_count": 60,
   "id": "responsible-contamination",
   "metadata": {},
   "outputs": [
    {
     "name": "stdout",
     "output_type": "stream",
     "text": [
      "139.9956290788516\n",
      "0.8941158799783554\n",
      "\n",
      "\n",
      "196.96533930681326\n",
      "0.5859173661092512\n",
      "\n",
      "\n"
     ]
    }
   ],
   "source": [
    "for cluster in range(len(sf['Clusters'].unique())):\n",
    "    print(sf_results[f'cluster{cluster}_RMSE'])\n",
    "    print(sf_results[f'cluster{cluster}_test_score'])\n",
    "    print('\\n')\n",
    "    "
   ]
  },
  {
   "cell_type": "code",
   "execution_count": 61,
   "id": "remarkable-venice",
   "metadata": {},
   "outputs": [
    {
     "name": "stdout",
     "output_type": "stream",
     "text": [
      "74.59826935260949\n",
      "0.8020786441507558\n",
      "\n",
      "\n",
      "62.72626281393348\n",
      "0.8439187045133633\n",
      "\n",
      "\n",
      "56.69939623337043\n",
      "0.9268715658790411\n",
      "\n",
      "\n",
      "102.46679915794928\n",
      "0.7306784674276888\n",
      "\n",
      "\n"
     ]
    }
   ],
   "source": [
    "for cluster in range(len(mi['Clusters'].unique())):\n",
    "    print(mi_results[f'cluster{cluster}_RMSE'])\n",
    "    print(mi_results[f'cluster{cluster}_test_score'])\n",
    "    print('\\n')\n",
    "    "
   ]
  },
  {
   "cell_type": "code",
   "execution_count": 62,
   "id": "approximate-rover",
   "metadata": {},
   "outputs": [
    {
     "name": "stdout",
     "output_type": "stream",
     "text": [
      "110.55540316335956\n",
      "0.2520589465629679\n",
      "\n",
      "\n",
      "113.85004845111578\n",
      "0.8724220412672044\n",
      "\n",
      "\n"
     ]
    }
   ],
   "source": [
    "for cluster in range(len(atx['Clusters'].unique())):\n",
    "    print(atx_results[f'cluster{cluster}_RMSE'])\n",
    "    print(atx_results[f'cluster{cluster}_test_score'])\n",
    "    print('\\n')\n",
    "    "
   ]
  },
  {
   "cell_type": "code",
   "execution_count": 63,
   "id": "liable-color",
   "metadata": {},
   "outputs": [
    {
     "data": {
      "text/plain": [
       "2    1098\n",
       "0     915\n",
       "1     854\n",
       "3     793\n",
       "Name: Clusters, dtype: int64"
      ]
     },
     "execution_count": 63,
     "metadata": {},
     "output_type": "execute_result"
    }
   ],
   "source": [
    "mi['Clusters'].value_counts()"
   ]
  },
  {
   "cell_type": "markdown",
   "id": "controlled-graphics",
   "metadata": {},
   "source": [
    "# Comparing model predictions for NY zip code"
   ]
  },
  {
   "cell_type": "code",
   "execution_count": 64,
   "id": "charitable-astronomy",
   "metadata": {},
   "outputs": [],
   "source": [
    "park_train = zillow_data.loc[(zillow_data.index <'2018-08-01')&(zillow_data['Zipcode']=='10016')]\n",
    "park_test = zillow_data.loc[(zillow_data.index >='2018-08-01')&(zillow_data['Zipcode']=='10016')]"
   ]
  },
  {
   "cell_type": "code",
   "execution_count": null,
   "id": "medium-memorabilia",
   "metadata": {},
   "outputs": [],
   "source": []
  },
  {
   "cell_type": "code",
   "execution_count": 68,
   "id": "starting-portsmouth",
   "metadata": {},
   "outputs": [
    {
     "data": {
      "text/plain": [
       "(18, 16)"
      ]
     },
     "execution_count": 68,
     "metadata": {},
     "output_type": "execute_result"
    }
   ],
   "source": [
    "park_train_rent = park_train['Rent']\n",
    "park_test_rent = park_test['Rent']\n",
    "park_features = park_test[features.columns].copy()\n",
    "park_features.shape"
   ]
  },
  {
   "cell_type": "code",
   "execution_count": 69,
   "id": "genuine-practice",
   "metadata": {},
   "outputs": [
    {
     "data": {
      "text/plain": [
       "(18, 16)"
      ]
     },
     "execution_count": 69,
     "metadata": {},
     "output_type": "execute_result"
    }
   ],
   "source": [
    "park_features.shape"
   ]
  },
  {
   "cell_type": "code",
   "execution_count": 71,
   "id": "adult-damages",
   "metadata": {},
   "outputs": [],
   "source": [
    "park_predictions = pd.Series(rfc.predict(park_features), index = park_test_rent.index)\n"
   ]
  },
  {
   "cell_type": "code",
   "execution_count": 74,
   "id": "ultimate-nickname",
   "metadata": {},
   "outputs": [
    {
     "data": {
      "text/plain": [
       "71.46944365144851"
      ]
     },
     "execution_count": 74,
     "metadata": {},
     "output_type": "execute_result"
    }
   ],
   "source": [
    "mean_squared_error(park_test_rent,np.exp(park_predictions), squared = False)"
   ]
  },
  {
   "cell_type": "markdown",
   "id": "critical-secretary",
   "metadata": {},
   "source": [
    "## Run get randomforest predictions using PCA results"
   ]
  },
  {
   "cell_type": "code",
   "execution_count": 75,
   "id": "defined-electron",
   "metadata": {},
   "outputs": [],
   "source": [
    "zillow_pca = pd.read_csv('../../data/zillow_withPCA.csv',dtype = {'Zipcode':str})"
   ]
  },
  {
   "cell_type": "code",
   "execution_count": 76,
   "id": "pretty-strength",
   "metadata": {},
   "outputs": [],
   "source": [
    "zillow_pca.set_index('Date', inplace = True)"
   ]
  },
  {
   "cell_type": "code",
   "execution_count": 77,
   "id": "composed-information",
   "metadata": {},
   "outputs": [],
   "source": [
    "y = np.log(zillow_pca['Rent'])\n",
    "X = zillow_pca.drop(['Zipcode','Rent'],axis = 1)\n",
    "\n",
    "Xtrain = X.loc[X.index <'2018-08-01']\n",
    "train_index = Xtrain.shape[0]\n",
    "Xtest = X[train_index:]\n",
    "ytrain = y[:train_index]\n",
    "ytest = y[train_index:]\n",
    "\n",
    "rfc_pca = RandomForestRegressor(n_estimators=600)\n",
    "\n",
    "rfc_pca.fit(Xtrain,ytrain)\n",
    "park_pca_test = zillow_pca.loc[(zillow_pca.index >='2018-08-01')&(zillow_pca['Zipcode']=='10016')].copy()\n",
    "park_pca_test.drop(['Zipcode','Rent'],axis = 1, inplace = True)"
   ]
  },
  {
   "cell_type": "code",
   "execution_count": 78,
   "id": "virtual-apache",
   "metadata": {},
   "outputs": [
    {
     "data": {
      "text/plain": [
       "71.68531293768575"
      ]
     },
     "execution_count": 78,
     "metadata": {},
     "output_type": "execute_result"
    }
   ],
   "source": [
    "pca_predictors = pd.Series(rfc_pca.predict(park_pca_test), index = park_test_rent.index)\n",
    "mean_squared_error(park_test_rent,np.exp(pca_predictors), squared = False)"
   ]
  },
  {
   "cell_type": "markdown",
   "id": "hindu-stevens",
   "metadata": {},
   "source": [
    "## Arima model for NY zipcode"
   ]
  },
  {
   "cell_type": "code",
   "execution_count": 79,
   "id": "moved-decision",
   "metadata": {},
   "outputs": [
    {
     "name": "stdout",
     "output_type": "stream",
     "text": [
      "Date\n",
      "2015-01-01            NaN\n",
      "2015-02-01            NaN\n",
      "2015-03-01    3426.000000\n",
      "2015-04-01    3443.000000\n",
      "2015-05-01    3455.666667\n",
      "2015-06-01    3479.000000\n",
      "2015-07-01    3521.000000\n",
      "2015-08-01    3568.333333\n",
      "2015-09-01    3617.333333\n",
      "2015-10-01    3638.000000\n",
      "Name: Rent, dtype: float64\n"
     ]
    },
    {
     "data": {
      "text/plain": [
       "[<matplotlib.lines.Line2D at 0x7fb848a5c8d0>]"
      ]
     },
     "execution_count": 79,
     "metadata": {},
     "output_type": "execute_result"
    },
    {
     "data": {
      "image/png": "[encoded data removed]",
      "text/plain": [
       "<Figure size 432x288 with 1 Axes>"
      ]
     },
     "metadata": {
      "needs_background": "light"
     },
     "output_type": "display_data"
    }
   ],
   "source": [
    "print(park_train_rent.rolling(3).mean().head(10))\n",
    "plt.plot(park_train_rent)"
   ]
  },
  {
   "cell_type": "code",
   "execution_count": 80,
   "id": "victorian-champagne",
   "metadata": {},
   "outputs": [
    {
     "data": {
      "text/plain": [
       "(0.0, 0.5)"
      ]
     },
     "execution_count": 80,
     "metadata": {},
     "output_type": "execute_result"
    },
    {
     "data": {
      "image/png": "[encoded data removed]",
      "text/plain": [
       "<Figure size 1080x720 with 1 Axes>"
      ]
     },
     "metadata": {
      "needs_background": "light"
     },
     "output_type": "display_data"
    }
   ],
   "source": [
    "from pandas.plotting import autocorrelation_plot\n",
    "plt.figure(figsize = (15,10))\n",
    "autocorrelation_plot(park_train_rent)\n",
    "plt.ylim([0,0.5])"
   ]
  },
  {
   "cell_type": "code",
   "execution_count": 81,
   "id": "closing-february",
   "metadata": {},
   "outputs": [],
   "source": [
    "from statsmodels.tsa.arima.model import ARIMA"
   ]
  },
  {
   "cell_type": "code",
   "execution_count": 82,
   "id": "pretty-stone",
   "metadata": {},
   "outputs": [],
   "source": [
    "training_rent = park_train_rent.copy()\n",
    "training_rent.index = training_rent.index.to_period('M')\n",
    "model = ARIMA(training_rent, order = (15,1,0))"
   ]
  },
  {
   "cell_type": "code",
   "execution_count": 83,
   "id": "christian-chemical",
   "metadata": {},
   "outputs": [
    {
     "name": "stdout",
     "output_type": "stream",
     "text": [
      "                               SARIMAX Results                                \n",
      "==============================================================================\n",
      "Dep. Variable:                   Rent   No. Observations:                   43\n",
      "Model:                ARIMA(15, 1, 0)   Log Likelihood                -190.894\n",
      "Date:                Mon, 29 Mar 2021   AIC                            413.788\n",
      "Time:                        19:03:28   BIC                            441.590\n",
      "Sample:                    01-31-2015   HQIC                           423.979\n",
      "                         - 07-31-2018                                         \n",
      "Covariance Type:                  opg                                         \n",
      "==============================================================================\n",
      "                 coef    std err          z      P>|z|      [0.025      0.975]\n",
      "------------------------------------------------------------------------------\n",
      "ar.L1          0.3898      0.247      1.579      0.114      -0.094       0.874\n",
      "ar.L2          0.4001      0.268      1.493      0.135      -0.125       0.925\n",
      "ar.L3         -0.3158      0.324     -0.976      0.329      -0.950       0.318\n",
      "ar.L4         -0.2133      0.462     -0.462      0.644      -1.119       0.692\n",
      "ar.L5          0.3267      0.329      0.992      0.321      -0.319       0.972\n",
      "ar.L6          0.1423      0.458      0.311      0.756      -0.755       1.039\n",
      "ar.L7         -0.2656      0.429     -0.619      0.536      -1.107       0.575\n",
      "ar.L8         -0.3811      0.255     -1.494      0.135      -0.881       0.119\n",
      "ar.L9          0.3449      0.191      1.807      0.071      -0.029       0.719\n",
      "ar.L10         0.3260      0.277      1.176      0.240      -0.217       0.869\n",
      "ar.L11        -0.2587      0.216     -1.201      0.230      -0.681       0.164\n",
      "ar.L12         0.0288      0.398      0.072      0.942      -0.751       0.809\n",
      "ar.L13         0.1635      0.382      0.428      0.669      -0.586       0.913\n",
      "ar.L14        -0.1096      0.421     -0.260      0.795      -0.935       0.716\n",
      "ar.L15        -0.1220      0.516     -0.237      0.813      -1.132       0.889\n",
      "sigma2       473.5184    149.056      3.177      0.001     181.374     765.662\n",
      "===================================================================================\n",
      "Ljung-Box (L1) (Q):                   0.01   Jarque-Bera (JB):                 0.44\n",
      "Prob(Q):                              0.93   Prob(JB):                         0.80\n",
      "Heteroskedasticity (H):               1.24   Skew:                            -0.05\n",
      "Prob(H) (two-sided):                  0.69   Kurtosis:                         3.49\n",
      "===================================================================================\n",
      "\n",
      "Warnings:\n",
      "[1] Covariance matrix calculated using the outer product of gradients (complex-step).\n"
     ]
    }
   ],
   "source": [
    "model_fit = model.fit()\n",
    "print(model_fit.summary())"
   ]
  },
  {
   "cell_type": "code",
   "execution_count": 84,
   "id": "applicable-entrance",
   "metadata": {},
   "outputs": [],
   "source": [
    "from statsmodels.tsa.stattools import adfuller\n",
    "dftest = adfuller(park_train_rent, autolag='AIC', maxlag = 15 )\n",
    "dfoutput = pd.Series(dftest[0:4], index=['Test Statistic','p-value','#Lags Used','Number of Observations Used'])"
   ]
  },
  {
   "cell_type": "code",
   "execution_count": 85,
   "id": "hawaiian-wagner",
   "metadata": {},
   "outputs": [
    {
     "name": "stdout",
     "output_type": "stream",
     "text": [
      "Test Statistic                 -2.674761\n",
      "p-value                         0.078508\n",
      "#Lags Used                      1.000000\n",
      "Number of Observations Used    41.000000\n",
      "dtype: float64\n",
      "Dickey-Fuller results indicate time series is non-stationary.\n"
     ]
    }
   ],
   "source": [
    "print(dfoutput)\n",
    "print('Dickey-Fuller results indicate time series is non-stationary.')"
   ]
  },
  {
   "cell_type": "code",
   "execution_count": 86,
   "id": "informational-supply",
   "metadata": {},
   "outputs": [],
   "source": [
    "first_diff = np.diff(park_train_rent)\n",
    "dftest = adfuller(first_diff, autolag='AIC', maxlag = 15 )\n",
    "dfoutput = pd.Series(dftest[0:4], index=['Test Statistic','p-value','#Lags Used','Number of Observations Used'])"
   ]
  },
  {
   "cell_type": "code",
   "execution_count": 87,
   "id": "bizarre-isaac",
   "metadata": {},
   "outputs": [
    {
     "name": "stdout",
     "output_type": "stream",
     "text": [
      "Test Statistic                 -3.815252\n",
      "p-value                         0.002755\n",
      "#Lags Used                      0.000000\n",
      "Number of Observations Used    41.000000\n",
      "dtype: float64\n",
      "Taking first derivative makes it stationary\n"
     ]
    },
    {
     "data": {
      "text/html": [
       "<div>\n",
       "<style scoped>\n",
       "    .dataframe tbody tr th:only-of-type {\n",
       "        vertical-align: middle;\n",
       "    }\n",
       "\n",
       "    .dataframe tbody tr th {\n",
       "        vertical-align: top;\n",
       "    }\n",
       "\n",
       "    .dataframe thead th {\n",
       "        text-align: right;\n",
       "    }\n",
       "</style>\n",
       "<table border=\"1\" class=\"dataframe\">\n",
       "  <thead>\n",
       "    <tr style=\"text-align: right;\">\n",
       "      <th></th>\n",
       "      <th>0</th>\n",
       "    </tr>\n",
       "  </thead>\n",
       "  <tbody>\n",
       "    <tr>\n",
       "      <th>count</th>\n",
       "      <td>43.000000</td>\n",
       "    </tr>\n",
       "    <tr>\n",
       "      <th>mean</th>\n",
       "      <td>81.273007</td>\n",
       "    </tr>\n",
       "    <tr>\n",
       "      <th>std</th>\n",
       "      <td>519.429800</td>\n",
       "    </tr>\n",
       "    <tr>\n",
       "      <th>min</th>\n",
       "      <td>-50.587052</td>\n",
       "    </tr>\n",
       "    <tr>\n",
       "      <th>25%</th>\n",
       "      <td>-11.161825</td>\n",
       "    </tr>\n",
       "    <tr>\n",
       "      <th>50%</th>\n",
       "      <td>2.268029</td>\n",
       "    </tr>\n",
       "    <tr>\n",
       "      <th>75%</th>\n",
       "      <td>13.921369</td>\n",
       "    </tr>\n",
       "    <tr>\n",
       "      <th>max</th>\n",
       "      <td>3405.000000</td>\n",
       "    </tr>\n",
       "  </tbody>\n",
       "</table>\n",
       "</div>"
      ],
      "text/plain": [
       "                 0\n",
       "count    43.000000\n",
       "mean     81.273007\n",
       "std     519.429800\n",
       "min     -50.587052\n",
       "25%     -11.161825\n",
       "50%       2.268029\n",
       "75%      13.921369\n",
       "max    3405.000000"
      ]
     },
     "execution_count": 87,
     "metadata": {},
     "output_type": "execute_result"
    },
    {
     "data": {
      "image/png": "[encoded data removed]",
      "text/plain": [
       "<Figure size 432x288 with 1 Axes>"
      ]
     },
     "metadata": {
      "needs_background": "light"
     },
     "output_type": "display_data"
    },
    {
     "data": {
      "image/png": "[encoded data removed]",
      "text/plain": [
       "<Figure size 432x288 with 1 Axes>"
      ]
     },
     "metadata": {
      "needs_background": "light"
     },
     "output_type": "display_data"
    }
   ],
   "source": [
    "print(dfoutput)\n",
    "print('Taking first derivative makes it stationary')\n",
    "\n",
    "residuals = pd.DataFrame(model_fit.resid)\n",
    "residuals.plot()\n",
    "\n",
    "plt.ylim([-50,50])\n",
    "\n",
    "residuals.plot(kind='kde')\n",
    "\n",
    "residuals.describe()"
   ]
  },
  {
   "cell_type": "code",
   "execution_count": 104,
   "id": "dirty-bobby",
   "metadata": {},
   "outputs": [],
   "source": [
    "# split into train and test sets\n",
    "from sklearn.metrics import mean_squared_error\n",
    "X = park_train_rent.values\n",
    "size = int(len(X) * 0.75)\n",
    "train, test = park_train_rent.values, park_test_rent.values\n",
    "history = [x for x in train]\n",
    "predictions = list()\n",
    "# walk-forward validation\n",
    "# for t in range(len(test)):\n",
    "#     model = ARIMA(history, order=(5,1,0))\n",
    "#     model_fit = model.fit()\n",
    "#     output = model_fit.forecast(typ = 'levels') # steps = len(test)\n",
    "#     yhat = output[0]\n",
    "#     predictions.append(yhat)\n",
    "#     obs = test[t]\n",
    "#     history.append(obs) # issue is that we add one step after\n",
    "#     print('predicted=%f, expected=%f' % (yhat, obs))\n",
    "    \n",
    "\n",
    "model = ARIMA(history, order=(15,1,0))\n",
    "model_fit = model.fit()\n",
    "forecast = model_fit.forecast(typ = 'levels', steps = len(test)) # steps = len(test)\n",
    "# yhat = output[0]\n",
    "# predictions.append(yhat)\n",
    "# obs = test[t]\n",
    "# history.append(obs) # issue is that we add one step after\n",
    "# print('predicted=%f, expected=%f' % (yhat, obs))\n",
    "\n",
    "for yhat in forecast:\n",
    "    predictions.append(yhat)"
   ]
  },
  {
   "cell_type": "code",
   "execution_count": 108,
   "id": "mediterranean-dominican",
   "metadata": {},
   "outputs": [
    {
     "name": "stdout",
     "output_type": "stream",
     "text": [
      "Test RMSE: 52.734\n"
     ]
    },
    {
     "data": {
      "image/png": "[encoded data removed]",
      "text/plain": [
       "<Figure size 432x288 with 1 Axes>"
      ]
     },
     "metadata": {
      "needs_background": "light"
     },
     "output_type": "display_data"
    }
   ],
   "source": [
    "# evaluate forecasts\n",
    "rmse = mean_squared_error(park_test_rent, predictions,squared = False)\n",
    "print('Test RMSE: %.3f' % rmse)\n",
    "# plot forecasts against actual outcomes\n",
    "plt.plot(test, color = 'blue')\n",
    "plt.plot(predictions, color='red')\n",
    "plt.legend(['actual','forecast'])\n",
    "plt.show()"
   ]
  },
  {
   "cell_type": "code",
   "execution_count": 101,
   "id": "apart-tuition",
   "metadata": {},
   "outputs": [
    {
     "data": {
      "text/plain": [
       "(3450.0, 3750.0)"
      ]
     },
     "execution_count": 101,
     "metadata": {},
     "output_type": "execute_result"
    },
    {
     "data": {
      "image/png": "[encoded data removed]",
      "text/plain": [
       "<Figure size 1080x720 with 1 Axes>"
      ]
     },
     "metadata": {
      "needs_background": "light"
     },
     "output_type": "display_data"
    }
   ],
   "source": [
    "plt.figure(figsize = (15,10))\n",
    "plt.plot(park_train_rent,'b')\n",
    "plt.plot(park_test_rent,'b--')\n",
    "plt.plot(np.exp(park_predictions),'k:')\n",
    "plt.plot(np.exp(pca_predictors),'r:')\n",
    "plt.plot(pd.Series(predictions,index = park_test_rent.index),'g:')\n",
    "\n",
    "plt.legend(['Training set rents','Actual rents',\n",
    "            'Random Forest predictions',\n",
    "            'Random Forest w/ PCA predictions','ARIMA forecasting (1.5 years Out-of-Sample)'])\n",
    "plt.title('Predicting rent index for zip code 10016', fontsize = 18, fontweight = 'bold')\n",
    "plt.xlabel('Date')\n",
    "plt.ylabel('Rent index (USD)')\n",
    "plt.ylim([3450,3750])"
   ]
  },
  {
   "cell_type": "code",
   "execution_count": null,
   "id": "packed-closer",
   "metadata": {},
   "outputs": [],
   "source": []
  }
 ],
 "metadata": {
  "kernelspec": {
   "display_name": "Python 3",
   "language": "python",
   "name": "python3"
  },
  "language_info": {
   "codemirror_mode": {
    "name": "ipython",
    "version": 3
   },
   "file_extension": ".py",
   "mimetype": "text/x-python",
   "name": "python",
   "nbconvert_exporter": "python",
   "pygments_lexer": "ipython3",
   "version": "3.7.2"
  }
 },
 "nbformat": 4,
 "nbformat_minor": 5
}
