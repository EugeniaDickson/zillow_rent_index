{
 "cells": [
  {
   "cell_type": "code",
   "execution_count": 1,
   "metadata": {},
   "outputs": [],
   "source": [
    "import pandas as pd\n",
    "import numpy as np\n",
    "from itertools import repeat\n",
    "from statistics import median\n",
    "from scipy.stats import kurtosis\n",
    "from scipy.stats import skew"
   ]
  },
  {
   "cell_type": "code",
   "execution_count": 2,
   "metadata": {},
   "outputs": [],
   "source": [
    "good_state_ids = ['NY','FL','CA','TX']"
   ]
  },
  {
   "cell_type": "code",
   "execution_count": 3,
   "metadata": {},
   "outputs": [],
   "source": [
    "df_initial = pd.read_csv('census_data.csv')"
   ]
  },
  {
   "cell_type": "code",
   "execution_count": 4,
   "metadata": {},
   "outputs": [],
   "source": [
    "df = df_initial.copy()\n",
    "df['geo_id'] = df['geo_id'].astype(str)\n",
    "geo_map = {'36':'NY',\n",
    "           '12':'FL',\n",
    "           '6':'CA',\n",
    "           '48':'TX'\n",
    "          }\n",
    "df['geo'] = df['geo_id'].apply(lambda x: geo_map[x] if x in geo_map else x)"
   ]
  },
  {
   "cell_type": "code",
   "execution_count": null,
   "metadata": {},
   "outputs": [],
   "source": []
  },
  {
   "cell_type": "code",
   "execution_count": 5,
   "metadata": {},
   "outputs": [],
   "source": [
    "#mean by state\n",
    "state_mean_df = df[['geo','income_per_capita']]\n",
    "state_mean_df = state_mean_df[state_mean_df['geo'].isin(good_state_ids)]\n",
    "state_mean_dict = dict(zip(state_mean_df.geo, state_mean_df.income_per_capita))"
   ]
  },
  {
   "cell_type": "code",
   "execution_count": 6,
   "metadata": {},
   "outputs": [],
   "source": [
    "#mean entire country\n",
    "total_mean = sum(df['total_pop'] * df['income_per_capita']) / df['total_pop'].sum()"
   ]
  },
  {
   "cell_type": "code",
   "execution_count": 7,
   "metadata": {},
   "outputs": [],
   "source": [
    "keep_cols = ['geo','geo_id','total_pop']\n",
    "income_cols = []\n",
    "for i in df.columns:\n",
    "    if 'income' in i:\n",
    "        keep_cols.append(i)\n",
    "        if '00' in i:\n",
    "            income_cols.append(i)"
   ]
  },
  {
   "cell_type": "code",
   "execution_count": 8,
   "metadata": {},
   "outputs": [],
   "source": [
    "df = df[keep_cols]"
   ]
  },
  {
   "cell_type": "code",
   "execution_count": 9,
   "metadata": {},
   "outputs": [],
   "source": [
    "all_incomes = []\n",
    "all_geos = []\n",
    "by_state_dict = {}\n",
    "\n",
    "#get a list of all incomes in data set (all_incomes)  and get that by state (by_state_dict)\n",
    "for temp_id in df['geo'].unique():\n",
    "    state_vals = []\n",
    "    temp = df.copy()\n",
    "    temp = temp[temp['geo']==temp_id]\n",
    "    for income_col in income_cols:\n",
    "        val = income_col.split('_')[-1]\n",
    "        if val == 'more':\n",
    "            val = 250000\n",
    "        val = int(val)\n",
    "        \n",
    "        count = temp[income_col].min()\n",
    "        all_incomes.extend(repeat(val, count))\n",
    "        state_vals.extend(repeat(val, count))\n",
    "        all_geos.extend(repeat(temp_id,count))\n",
    "    by_state_dict[temp_id] = state_vals\n",
    "#         income_lev_df = pd.DataFrame({'geo':[temp_id],\n",
    "#                                       'income':[val]\n",
    "#                                      })\n",
    "        \n",
    "#         income_lev_df = income_lev_df.append([income_lev_df]*(count-1),ignore_index=True)\n",
    "#         final_df = final_df.append([income_lev_df])"
   ]
  },
  {
   "cell_type": "code",
   "execution_count": 10,
   "metadata": {},
   "outputs": [],
   "source": [
    "# all_df = pd.DataFrame({'geo':all_geos,\n",
    "#                        'income':all_incomes,\n",
    "#                       })    "
   ]
  },
  {
   "cell_type": "code",
   "execution_count": 11,
   "metadata": {},
   "outputs": [],
   "source": [
    "def get_median_skew(income_list):\n",
    "    #get median from list\n",
    "    med_val = int(median(income_list))\n",
    "    \n",
    "    #get # items in list\n",
    "    num_vals = len(income_list)\n",
    "    \n",
    "    #get median index\n",
    "    median_loc = (num_vals + 1)/2\n",
    "    \n",
    "    #get number items below median val\n",
    "    num_below_med = len([i for i in income_list if i < med_val])\n",
    "    \n",
    "    #get number of values = to median\n",
    "    num_at_med = len([i for i in income_list if i == med_val])\n",
    "    \n",
    "    #calculate how many items into \n",
    "    num_into_med = (median_loc - num_below_med) / num_at_med\n",
    "    \n",
    "    #calculate % into median range\n",
    "    range_start = int(str(med_val).replace('999','') + '000')\n",
    "    final_med = range_start + ((med_val-range_start)*num_into_med)\n",
    "    \n",
    "    #get skew\n",
    "    skew_val = skew(income_list)\n",
    "    \n",
    "    return {'Skew':skew_val,\n",
    "            'Median':final_med\n",
    "           }"
   ]
  },
  {
   "cell_type": "code",
   "execution_count": 12,
   "metadata": {},
   "outputs": [],
   "source": [
    "#country median/skew\n",
    "total_med_skew_mean = get_median_skew(all_incomes)\n",
    "total_med_skew_mean['mean'] = total_mean"
   ]
  },
  {
   "cell_type": "code",
   "execution_count": 13,
   "metadata": {},
   "outputs": [
    {
     "data": {
      "text/plain": [
       "{'Skew': 1.0459226727308006,\n",
       " 'Median': 59977.40914478211,\n",
       " 'mean': 32411.262103872632}"
      ]
     },
     "execution_count": 13,
     "metadata": {},
     "output_type": "execute_result"
    }
   ],
   "source": [
    "total_med_skew_mean"
   ]
  },
  {
   "cell_type": "code",
   "execution_count": 14,
   "metadata": {},
   "outputs": [
    {
     "name": "stdout",
     "output_type": "stream",
     "text": [
      "TX\n",
      "FL\n",
      "NY\n",
      "CA\n"
     ]
    }
   ],
   "source": [
    "#get median/skew for all states individually\n",
    "state_med_skew_mean_dict = {}\n",
    "for state,incomes in by_state_dict.items():\n",
    "    if state in good_state_ids:\n",
    "        print(state)\n",
    "        #print(len(incomes))\n",
    "        state_med_skew_mean_dict[state] = get_median_skew(incomes)"
   ]
  },
  {
   "cell_type": "code",
   "execution_count": 15,
   "metadata": {},
   "outputs": [],
   "source": [
    "for state,mean_val in state_mean_dict.items():\n",
    "    state_med_skew_mean_dict[state]['Mean'] = mean_val\n",
    "    \n",
    "state_med_skew_mean_dict['US'] = total_med_skew_mean"
   ]
  },
  {
   "cell_type": "code",
   "execution_count": 16,
   "metadata": {},
   "outputs": [
    {
     "data": {
      "text/plain": [
       "{'TX': {'Skew': 1.0549667228103075, 'Median': 59961.3843633655, 'Mean': 30143},\n",
       " 'FL': {'Skew': 1.262708304934096, 'Median': 59354.80037009153, 'Mean': 30197},\n",
       " 'NY': {'Skew': 0.8521439351930625, 'Median': 74386.1299736343, 'Mean': 37470},\n",
       " 'CA': {'Skew': 0.7608806099964737,\n",
       "  'Median': 74756.55312725568,\n",
       "  'Mean': 35021},\n",
       " 'US': {'Skew': 1.0459226727308006,\n",
       "  'Median': 59977.40914478211,\n",
       "  'mean': 32411.262103872632}}"
      ]
     },
     "execution_count": 16,
     "metadata": {},
     "output_type": "execute_result"
    }
   ],
   "source": [
    "state_med_skew_mean_dict"
   ]
  },
  {
   "cell_type": "code",
   "execution_count": 17,
   "metadata": {},
   "outputs": [
    {
     "name": "stdout",
     "output_type": "stream",
     "text": [
      "test print\n"
     ]
    }
   ],
   "source": [
    "print('test print')"
   ]
  },
  {
   "cell_type": "code",
   "execution_count": null,
   "metadata": {},
   "outputs": [],
   "source": []
  },
  {
   "cell_type": "code",
   "execution_count": null,
   "metadata": {},
   "outputs": [],
   "source": []
  },
  {
   "cell_type": "code",
   "execution_count": null,
   "metadata": {},
   "outputs": [],
   "source": []
  },
  {
   "cell_type": "markdown",
   "metadata": {},
   "source": [
    "Ignore Below Here"
   ]
  },
  {
   "cell_type": "code",
   "execution_count": null,
   "metadata": {},
   "outputs": [],
   "source": []
  },
  {
   "cell_type": "code",
   "execution_count": 40,
   "metadata": {},
   "outputs": [],
   "source": [
    "# med_val = median(all_incomes)\n",
    "# med_val"
   ]
  },
  {
   "cell_type": "code",
   "execution_count": 41,
   "metadata": {},
   "outputs": [],
   "source": [
    "# num_vals = len(all_incomes)\n",
    "# num_vals"
   ]
  },
  {
   "cell_type": "code",
   "execution_count": 42,
   "metadata": {},
   "outputs": [],
   "source": [
    "# median_loc = (num_vals + 1)/2\n",
    "# median_loc"
   ]
  },
  {
   "cell_type": "code",
   "execution_count": 43,
   "metadata": {},
   "outputs": [],
   "source": [
    "# num_below_med = len([i for i in all_incomes if i < med_val])\n",
    "# num_below_med"
   ]
  },
  {
   "cell_type": "code",
   "execution_count": 44,
   "metadata": {},
   "outputs": [],
   "source": [
    "# (median_loc - num_below_med)"
   ]
  },
  {
   "cell_type": "code",
   "execution_count": 45,
   "metadata": {},
   "outputs": [],
   "source": [
    "# num_at_med = len([i for i in all_incomes if i == med_val])\n",
    "# num_at_med"
   ]
  },
  {
   "cell_type": "code",
   "execution_count": 46,
   "metadata": {},
   "outputs": [],
   "source": [
    "# num_into_med = (median_loc - num_below_med) / num_at_med\n",
    "# num_into_med"
   ]
  },
  {
   "cell_type": "code",
   "execution_count": 47,
   "metadata": {},
   "outputs": [],
   "source": [
    "# 55000 + ((59999-55000)*num_into_med)"
   ]
  },
  {
   "cell_type": "code",
   "execution_count": 48,
   "metadata": {},
   "outputs": [],
   "source": [
    "# pd.Series(all_incomes).value_counts()"
   ]
  },
  {
   "cell_type": "code",
   "execution_count": 49,
   "metadata": {
    "scrolled": true
   },
   "outputs": [],
   "source": [
    "# set(all_incomes)"
   ]
  },
  {
   "cell_type": "code",
   "execution_count": 50,
   "metadata": {},
   "outputs": [],
   "source": [
    "# skew(all_incomes)"
   ]
  },
  {
   "cell_type": "code",
   "execution_count": null,
   "metadata": {},
   "outputs": [],
   "source": []
  }
 ],
 "metadata": {
  "kernelspec": {
   "display_name": "Python 3",
   "language": "python",
   "name": "python3"
  },
  "language_info": {
   "codemirror_mode": {
    "name": "ipython",
    "version": 3
   },
   "file_extension": ".py",
   "mimetype": "text/x-python",
   "name": "python",
   "nbconvert_exporter": "python",
   "pygments_lexer": "ipython3",
   "version": "3.8.3"
  }
 },
 "nbformat": 4,
 "nbformat_minor": 4
}
