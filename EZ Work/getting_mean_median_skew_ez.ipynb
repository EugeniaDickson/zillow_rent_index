{
 "cells": [
  {
   "cell_type": "code",
   "execution_count": 1,
   "metadata": {},
   "outputs": [],
   "source": [
    "import pandas as pd\n",
    "import numpy as np\n",
    "from itertools import repeat\n",
    "from statistics import median\n",
    "from scipy.stats import kurtosis\n",
    "from scipy.stats import skew"
   ]
  },
  {
   "cell_type": "code",
   "execution_count": 2,
   "metadata": {},
   "outputs": [],
   "source": [
    "good_state_ids = ['NY','FL','CA','TX']"
   ]
  },
  {
   "cell_type": "code",
   "execution_count": 3,
   "metadata": {},
   "outputs": [],
   "source": [
    "df_initial = pd.read_csv('census_data_2018_5yr.csv')"
   ]
  },
  {
   "cell_type": "code",
   "execution_count": 4,
   "metadata": {},
   "outputs": [],
   "source": [
    "df = df_initial.copy()\n",
    "df['geo_id'] = df['geo_id'].astype(str)\n",
    "geo_map = {'36':'NY',\n",
    "           '12':'FL',\n",
    "           '6':'CA',\n",
    "           '48':'TX'\n",
    "          }\n",
    "df['geo'] = df['geo_id'].apply(lambda x: geo_map[x] if x in geo_map else x)"
   ]
  },
  {
   "cell_type": "code",
   "execution_count": null,
   "metadata": {},
   "outputs": [],
   "source": []
  },
  {
   "cell_type": "code",
   "execution_count": null,
   "metadata": {},
   "outputs": [],
   "source": []
  },
  {
   "cell_type": "code",
   "execution_count": null,
   "metadata": {},
   "outputs": [],
   "source": []
  },
  {
   "cell_type": "code",
   "execution_count": 5,
   "metadata": {},
   "outputs": [],
   "source": [
    "multi_yr_df_initial = pd.DataFrame()\n",
    "years = ['2018','2017','2016','2015','2014','2013']\n",
    "for year in years:\n",
    "    fn = 'census_data_%s_1yr.csv'%year\n",
    "    temp = pd.read_csv(fn)\n",
    "    temp['year'] = year\n",
    "    multi_yr_df_initial = multi_yr_df_initial.append(temp)\n",
    "    \n",
    "multi_yr_df = multi_yr_df_initial.copy()\n",
    "multi_yr_df['geo_id'] = multi_yr_df['geo_id'].astype(str)\n",
    "multi_yr_df['geo'] = multi_yr_df['geo_id'].apply(lambda x: geo_map[x] if x in geo_map else x)"
   ]
  },
  {
   "cell_type": "code",
   "execution_count": 6,
   "metadata": {},
   "outputs": [],
   "source": [
    "# all_df_initial = df_initial.append([df_initial_2017,df_initial_2016,df_initial_2015,df_initial_2014,df_initial_2013])\n",
    "# all_df = all_df_initial.copy()\n",
    "# all_df['do_date'] = all_df['do_date'].astype(str)\n",
    "# date_year_map = {'2014-01-01':'2014',\n",
    "#                  '20132017':'2014',\n",
    "#                  '20122016':'2014',\n",
    "#                  '20112015':'2014',\n",
    "#                  '20092013':'2014',\n",
    "#                 }"
   ]
  },
  {
   "cell_type": "code",
   "execution_count": null,
   "metadata": {},
   "outputs": [],
   "source": []
  },
  {
   "cell_type": "code",
   "execution_count": 7,
   "metadata": {},
   "outputs": [],
   "source": [
    "#mean by state\n",
    "state_mean_df = df[['geo','income_per_capita']]\n",
    "state_mean_df = state_mean_df[state_mean_df['geo'].isin(good_state_ids)]\n",
    "state_mean_dict = dict(zip(state_mean_df.geo, state_mean_df.income_per_capita))"
   ]
  },
  {
   "cell_type": "code",
   "execution_count": 8,
   "metadata": {},
   "outputs": [],
   "source": [
    "#mean entire country\n",
    "total_mean = sum(df['total_pop'] * df['income_per_capita']) / df['total_pop'].sum()"
   ]
  },
  {
   "cell_type": "code",
   "execution_count": 9,
   "metadata": {},
   "outputs": [],
   "source": [
    "keep_cols = ['geo','geo_id','total_pop']\n",
    "income_cols = []\n",
    "for i in df.columns:\n",
    "    if 'income' in i:\n",
    "        keep_cols.append(i)\n",
    "        if '00' in i:\n",
    "            income_cols.append(i)"
   ]
  },
  {
   "cell_type": "code",
   "execution_count": 10,
   "metadata": {},
   "outputs": [],
   "source": [
    "df = df[keep_cols]"
   ]
  },
  {
   "cell_type": "code",
   "execution_count": 11,
   "metadata": {},
   "outputs": [],
   "source": [
    "def get_year_incomes(data_set):\n",
    "    all_incomes = []\n",
    "    all_geos = []\n",
    "    by_state_dict = {}\n",
    "\n",
    "    #get a list of all incomes in data set (all_incomes)  and get that by state (by_state_dict)\n",
    "    for temp_id in data_set['geo'].unique():\n",
    "        state_vals = []\n",
    "        temp = data_set.copy()\n",
    "        temp = temp[temp['geo']==temp_id]\n",
    "        for income_col in income_cols:\n",
    "            temp[income_col] = temp[income_col].astype(int)\n",
    "            val = income_col.split('_')[-1]\n",
    "            if val == 'more':\n",
    "                val = 250000\n",
    "            val = int(val)\n",
    "\n",
    "            count = temp[income_col].min()\n",
    "            all_incomes.extend(repeat(val, count))\n",
    "            state_vals.extend(repeat(val, count))\n",
    "            all_geos.extend(repeat(temp_id,count))\n",
    "        by_state_dict[temp_id] = state_vals\n",
    "    return all_incomes,by_state_dict"
   ]
  },
  {
   "cell_type": "code",
   "execution_count": 12,
   "metadata": {},
   "outputs": [],
   "source": [
    "all_incomes,by_state_dict = get_year_incomes(df)"
   ]
  },
  {
   "cell_type": "code",
   "execution_count": 14,
   "metadata": {},
   "outputs": [],
   "source": [
    "def get_median_skew(income_list):\n",
    "    #get median from list\n",
    "    med_val = int(median(income_list))\n",
    "    \n",
    "    #get # items in list\n",
    "    num_vals = len(income_list)\n",
    "    \n",
    "    #get median index\n",
    "    median_loc = (num_vals + 1)/2\n",
    "    \n",
    "    #get number items below median val\n",
    "    num_below_med = len([i for i in income_list if i < med_val])\n",
    "    \n",
    "    #get number of values = to median\n",
    "    num_at_med = len([i for i in income_list if i == med_val])\n",
    "    \n",
    "    #calculate how many items into \n",
    "    num_into_med = (median_loc - num_below_med) / num_at_med\n",
    "    \n",
    "    #calculate % into median range\n",
    "    for i in keep_cols:\n",
    "        if str(med_val) in i.split('_'):\n",
    "            #print(i)\n",
    "            range_start = i.split('_')[-2]\n",
    "    range_start = int(range_start)\n",
    "    #print(range_start)\n",
    "    final_med = range_start + ((med_val-range_start)*num_into_med)\n",
    "    \n",
    "    #get skew\n",
    "    skew_val = skew(income_list)\n",
    "    \n",
    "    return {'Skew':skew_val,\n",
    "            'Median':final_med\n",
    "           }"
   ]
  },
  {
   "cell_type": "code",
   "execution_count": 15,
   "metadata": {},
   "outputs": [],
   "source": [
    "#country median/skew\n",
    "total_med_skew_mean = get_median_skew(all_incomes)\n",
    "total_med_skew_mean['mean'] = total_mean"
   ]
  },
  {
   "cell_type": "code",
   "execution_count": 16,
   "metadata": {},
   "outputs": [
    {
     "data": {
      "text/plain": [
       "{'Skew': 1.0459226727308006,\n",
       " 'Median': 59782.89693561196,\n",
       " 'mean': 32411.262103872632}"
      ]
     },
     "execution_count": 16,
     "metadata": {},
     "output_type": "execute_result"
    }
   ],
   "source": [
    "total_med_skew_mean"
   ]
  },
  {
   "cell_type": "code",
   "execution_count": 17,
   "metadata": {},
   "outputs": [
    {
     "name": "stdout",
     "output_type": "stream",
     "text": [
      "TX\n",
      "FL\n",
      "NY\n",
      "CA\n"
     ]
    }
   ],
   "source": [
    "#get median/skew for all states individually\n",
    "state_med_skew_mean_dict = {}\n",
    "for state,incomes in by_state_dict.items():\n",
    "    if state in good_state_ids:\n",
    "        print(state)\n",
    "        #print(len(incomes))\n",
    "        state_med_skew_mean_dict[state] = get_median_skew(incomes)"
   ]
  },
  {
   "cell_type": "code",
   "execution_count": 18,
   "metadata": {},
   "outputs": [],
   "source": [
    "for state,mean_val in state_mean_dict.items():\n",
    "    state_med_skew_mean_dict[state]['Mean'] = mean_val\n",
    "    \n",
    "state_med_skew_mean_dict['US'] = total_med_skew_mean"
   ]
  },
  {
   "cell_type": "code",
   "execution_count": 19,
   "metadata": {},
   "outputs": [
    {
     "data": {
      "text/plain": [
       "{'TX': {'Skew': 1.0549667228103075,\n",
       "  'Median': 59622.50475404569,\n",
       "  'Mean': 30143},\n",
       " 'FL': {'Skew': 1.262708304934096,\n",
       "  'Median': 53551.200100645874,\n",
       "  'Mean': 30197},\n",
       " 'NY': {'Skew': 0.8521439351930625,\n",
       "  'Median': 65797.36083537628,\n",
       "  'Mean': 37470},\n",
       " 'CA': {'Skew': 0.7608806099964737,\n",
       "  'Median': 71358.89925496305,\n",
       "  'Mean': 35021},\n",
       " 'US': {'Skew': 1.0459226727308006,\n",
       "  'Median': 59782.89693561196,\n",
       "  'mean': 32411.262103872632}}"
      ]
     },
     "execution_count": 19,
     "metadata": {},
     "output_type": "execute_result"
    }
   ],
   "source": [
    "state_med_skew_mean_dict"
   ]
  },
  {
   "cell_type": "code",
   "execution_count": null,
   "metadata": {},
   "outputs": [],
   "source": []
  },
  {
   "cell_type": "code",
   "execution_count": null,
   "metadata": {},
   "outputs": [],
   "source": []
  },
  {
   "cell_type": "code",
   "execution_count": null,
   "metadata": {},
   "outputs": [],
   "source": []
  },
  {
   "cell_type": "code",
   "execution_count": null,
   "metadata": {},
   "outputs": [],
   "source": []
  },
  {
   "cell_type": "code",
   "execution_count": 20,
   "metadata": {},
   "outputs": [],
   "source": [
    "multi_yr_df['total_state_income'] = multi_yr_df['total_pop'] * multi_yr_df['income_per_capita']"
   ]
  },
  {
   "cell_type": "code",
   "execution_count": null,
   "metadata": {},
   "outputs": [],
   "source": []
  },
  {
   "cell_type": "code",
   "execution_count": 21,
   "metadata": {},
   "outputs": [
    {
     "name": "stdout",
     "output_type": "stream",
     "text": [
      "['2018']\n",
      "NY\n",
      "CA\n",
      "FL\n",
      "TX\n",
      "['2017']\n",
      "TX\n",
      "NY\n",
      "FL\n",
      "CA\n",
      "['2016']\n",
      "TX\n",
      "CA\n",
      "FL\n",
      "NY\n",
      "['2015']\n",
      "NY\n",
      "CA\n",
      "FL\n",
      "TX\n",
      "['2014']\n",
      "TX\n",
      "CA\n",
      "FL\n",
      "NY\n",
      "['2013']\n",
      "NY\n",
      "CA\n",
      "FL\n",
      "TX\n"
     ]
    }
   ],
   "source": [
    "agg_yr_df = pd.DataFrame()\n",
    "\n",
    "for year in multi_yr_df['year'].unique():\n",
    "    temp = multi_yr_df.copy()\n",
    "    temp = temp[temp['year']==year]\n",
    "    print(temp['year'].unique())\n",
    "    temp = temp[keep_cols]\n",
    "    year_incomes,year_state_income_dict = get_year_incomes(temp)\n",
    "    \n",
    "    for state,incomes in year_state_income_dict.items():\n",
    "        if state in good_state_ids:\n",
    "            print(state)\n",
    "            state_med_skew_dict = get_median_skew(incomes)\n",
    "            year_state_df = multi_yr_df.copy()\n",
    "            year_state_df = year_state_df[year_state_df['year']==year]\n",
    "            year_state_df = year_state_df[year_state_df['geo']==state]\n",
    "            \n",
    "            temp_df_row = pd.DataFrame({'year':[year],\n",
    "                                        'state':[state],\n",
    "                                        'median':[state_med_skew_dict['Median']],\n",
    "                                        'skew':[state_med_skew_dict['Skew']],\n",
    "                                        'mean':[year_state_df['income_per_capita'].min()]\n",
    "                                       })\n",
    "            agg_yr_df = agg_yr_df.append([temp_df_row])"
   ]
  },
  {
   "cell_type": "code",
   "execution_count": null,
   "metadata": {},
   "outputs": [],
   "source": []
  },
  {
   "cell_type": "code",
   "execution_count": 22,
   "metadata": {},
   "outputs": [],
   "source": [
    "agg_yr_df = agg_yr_df.sort_values(['state','year'],ascending=[True,True])\n",
    "agg_yr_df['year'] = agg_yr_df['year'].astype(int)"
   ]
  },
  {
   "cell_type": "code",
   "execution_count": 23,
   "metadata": {},
   "outputs": [],
   "source": [
    "yoy_df_final = pd.DataFrame()\n",
    "years = [2013,2014,2015,2016,2017,2018]\n",
    "for state in agg_yr_df['state'].unique():\n",
    "    state_df = agg_yr_df.copy()\n",
    "    state_df = state_df[state_df['state']==state]\n",
    "    for year in years:\n",
    "        if year == 2013:\n",
    "            yoy_dict = {'median':0,'mean':0,'skew':0}\n",
    "        else:\n",
    "            cur_yr_df = state_df[state_df['year']==year]\n",
    "            pri_yr_df = state_df[state_df['year']==year-1]\n",
    "            yoy_dict = {}\n",
    "            for col in ['mean','median','skew']:\n",
    "                pri_yr_val = pri_yr_df[col].min()\n",
    "                cur_yr_val = cur_yr_df[col].min()\n",
    "                \n",
    "                yoy_change = (cur_yr_val - pri_yr_val) / pri_yr_val * 100\n",
    "                yoy_dict[col] = yoy_change\n",
    "        df_row = pd.DataFrame({'state':[state],'year':[year],'median':[yoy_dict['median']],'mean':[yoy_dict['mean']],'skew':[yoy_dict['skew']]})\n",
    "        yoy_df_final = yoy_df_final.append([df_row])\n",
    "        "
   ]
  },
  {
   "cell_type": "code",
   "execution_count": 24,
   "metadata": {},
   "outputs": [],
   "source": [
    "import seaborn as sns\n",
    "from matplotlib import pyplot as plt\n",
    "plt.style.use('ggplot')"
   ]
  },
  {
   "cell_type": "code",
   "execution_count": 31,
   "metadata": {},
   "outputs": [
    {
     "data": {
      "text/html": [
       "<div>\n",
       "<style scoped>\n",
       "    .dataframe tbody tr th:only-of-type {\n",
       "        vertical-align: middle;\n",
       "    }\n",
       "\n",
       "    .dataframe tbody tr th {\n",
       "        vertical-align: top;\n",
       "    }\n",
       "\n",
       "    .dataframe thead th {\n",
       "        text-align: right;\n",
       "    }\n",
       "</style>\n",
       "<table border=\"1\" class=\"dataframe\">\n",
       "  <thead>\n",
       "    <tr style=\"text-align: right;\">\n",
       "      <th></th>\n",
       "      <th>year</th>\n",
       "      <th>state</th>\n",
       "      <th>median</th>\n",
       "      <th>skew</th>\n",
       "      <th>mean</th>\n",
       "    </tr>\n",
       "  </thead>\n",
       "  <tbody>\n",
       "    <tr>\n",
       "      <th>0</th>\n",
       "      <td>2013</td>\n",
       "      <td>CA</td>\n",
       "      <td>60265.645737</td>\n",
       "      <td>1.013367</td>\n",
       "      <td>29513.0</td>\n",
       "    </tr>\n",
       "    <tr>\n",
       "      <th>0</th>\n",
       "      <td>2014</td>\n",
       "      <td>CA</td>\n",
       "      <td>62629.493744</td>\n",
       "      <td>0.955213</td>\n",
       "      <td>30441.0</td>\n",
       "    </tr>\n",
       "    <tr>\n",
       "      <th>0</th>\n",
       "      <td>2015</td>\n",
       "      <td>CA</td>\n",
       "      <td>65211.103125</td>\n",
       "      <td>0.899626</td>\n",
       "      <td>31587.0</td>\n",
       "    </tr>\n",
       "    <tr>\n",
       "      <th>0</th>\n",
       "      <td>2016</td>\n",
       "      <td>CA</td>\n",
       "      <td>68403.935616</td>\n",
       "      <td>0.828102</td>\n",
       "      <td>33389.0</td>\n",
       "    </tr>\n",
       "    <tr>\n",
       "      <th>0</th>\n",
       "      <td>2017</td>\n",
       "      <td>CA</td>\n",
       "      <td>72192.331401</td>\n",
       "      <td>0.749500</td>\n",
       "      <td>35046.0</td>\n",
       "    </tr>\n",
       "    <tr>\n",
       "      <th>0</th>\n",
       "      <td>2018</td>\n",
       "      <td>CA</td>\n",
       "      <td>75350.665370</td>\n",
       "      <td>0.679174</td>\n",
       "      <td>37124.0</td>\n",
       "    </tr>\n",
       "    <tr>\n",
       "      <th>0</th>\n",
       "      <td>2013</td>\n",
       "      <td>FL</td>\n",
       "      <td>46150.915263</td>\n",
       "      <td>1.507673</td>\n",
       "      <td>25834.0</td>\n",
       "    </tr>\n",
       "    <tr>\n",
       "      <th>0</th>\n",
       "      <td>2014</td>\n",
       "      <td>FL</td>\n",
       "      <td>47654.794865</td>\n",
       "      <td>1.454619</td>\n",
       "      <td>26582.0</td>\n",
       "    </tr>\n",
       "    <tr>\n",
       "      <th>0</th>\n",
       "      <td>2015</td>\n",
       "      <td>FL</td>\n",
       "      <td>49509.617353</td>\n",
       "      <td>1.396825</td>\n",
       "      <td>27697.0</td>\n",
       "    </tr>\n",
       "    <tr>\n",
       "      <th>0</th>\n",
       "      <td>2016</td>\n",
       "      <td>FL</td>\n",
       "      <td>51172.706105</td>\n",
       "      <td>1.347606</td>\n",
       "      <td>28621.0</td>\n",
       "    </tr>\n",
       "    <tr>\n",
       "      <th>0</th>\n",
       "      <td>2017</td>\n",
       "      <td>FL</td>\n",
       "      <td>53406.159973</td>\n",
       "      <td>1.273506</td>\n",
       "      <td>29838.0</td>\n",
       "    </tr>\n",
       "    <tr>\n",
       "      <th>0</th>\n",
       "      <td>2018</td>\n",
       "      <td>FL</td>\n",
       "      <td>55982.924817</td>\n",
       "      <td>1.193458</td>\n",
       "      <td>31359.0</td>\n",
       "    </tr>\n",
       "    <tr>\n",
       "      <th>0</th>\n",
       "      <td>2013</td>\n",
       "      <td>NY</td>\n",
       "      <td>57902.270493</td>\n",
       "      <td>1.049214</td>\n",
       "      <td>32514.0</td>\n",
       "    </tr>\n",
       "    <tr>\n",
       "      <th>0</th>\n",
       "      <td>2014</td>\n",
       "      <td>NY</td>\n",
       "      <td>59084.765424</td>\n",
       "      <td>1.022519</td>\n",
       "      <td>33095.0</td>\n",
       "    </tr>\n",
       "    <tr>\n",
       "      <th>0</th>\n",
       "      <td>2015</td>\n",
       "      <td>NY</td>\n",
       "      <td>61249.920364</td>\n",
       "      <td>0.964448</td>\n",
       "      <td>34297.0</td>\n",
       "    </tr>\n",
       "    <tr>\n",
       "      <th>0</th>\n",
       "      <td>2016</td>\n",
       "      <td>NY</td>\n",
       "      <td>63612.502436</td>\n",
       "      <td>0.905425</td>\n",
       "      <td>35534.0</td>\n",
       "    </tr>\n",
       "    <tr>\n",
       "      <th>0</th>\n",
       "      <td>2017</td>\n",
       "      <td>NY</td>\n",
       "      <td>65539.029684</td>\n",
       "      <td>0.855516</td>\n",
       "      <td>37156.0</td>\n",
       "    </tr>\n",
       "    <tr>\n",
       "      <th>0</th>\n",
       "      <td>2018</td>\n",
       "      <td>NY</td>\n",
       "      <td>68363.132364</td>\n",
       "      <td>0.793876</td>\n",
       "      <td>38884.0</td>\n",
       "    </tr>\n",
       "    <tr>\n",
       "      <th>0</th>\n",
       "      <td>2013</td>\n",
       "      <td>TX</td>\n",
       "      <td>52290.402382</td>\n",
       "      <td>1.260389</td>\n",
       "      <td>26327.0</td>\n",
       "    </tr>\n",
       "    <tr>\n",
       "      <th>0</th>\n",
       "      <td>2014</td>\n",
       "      <td>TX</td>\n",
       "      <td>53895.026738</td>\n",
       "      <td>1.216072</td>\n",
       "      <td>27125.0</td>\n",
       "    </tr>\n",
       "    <tr>\n",
       "      <th>0</th>\n",
       "      <td>2015</td>\n",
       "      <td>TX</td>\n",
       "      <td>56199.630082</td>\n",
       "      <td>1.166253</td>\n",
       "      <td>28210.0</td>\n",
       "    </tr>\n",
       "    <tr>\n",
       "      <th>0</th>\n",
       "      <td>2016</td>\n",
       "      <td>TX</td>\n",
       "      <td>57236.448193</td>\n",
       "      <td>1.131690</td>\n",
       "      <td>28714.0</td>\n",
       "    </tr>\n",
       "    <tr>\n",
       "      <th>0</th>\n",
       "      <td>2017</td>\n",
       "      <td>TX</td>\n",
       "      <td>59405.124704</td>\n",
       "      <td>1.068896</td>\n",
       "      <td>29525.0</td>\n",
       "    </tr>\n",
       "    <tr>\n",
       "      <th>0</th>\n",
       "      <td>2018</td>\n",
       "      <td>TX</td>\n",
       "      <td>60921.923836</td>\n",
       "      <td>1.021325</td>\n",
       "      <td>30641.0</td>\n",
       "    </tr>\n",
       "  </tbody>\n",
       "</table>\n",
       "</div>"
      ],
      "text/plain": [
       "   year state        median      skew     mean\n",
       "0  2013    CA  60265.645737  1.013367  29513.0\n",
       "0  2014    CA  62629.493744  0.955213  30441.0\n",
       "0  2015    CA  65211.103125  0.899626  31587.0\n",
       "0  2016    CA  68403.935616  0.828102  33389.0\n",
       "0  2017    CA  72192.331401  0.749500  35046.0\n",
       "0  2018    CA  75350.665370  0.679174  37124.0\n",
       "0  2013    FL  46150.915263  1.507673  25834.0\n",
       "0  2014    FL  47654.794865  1.454619  26582.0\n",
       "0  2015    FL  49509.617353  1.396825  27697.0\n",
       "0  2016    FL  51172.706105  1.347606  28621.0\n",
       "0  2017    FL  53406.159973  1.273506  29838.0\n",
       "0  2018    FL  55982.924817  1.193458  31359.0\n",
       "0  2013    NY  57902.270493  1.049214  32514.0\n",
       "0  2014    NY  59084.765424  1.022519  33095.0\n",
       "0  2015    NY  61249.920364  0.964448  34297.0\n",
       "0  2016    NY  63612.502436  0.905425  35534.0\n",
       "0  2017    NY  65539.029684  0.855516  37156.0\n",
       "0  2018    NY  68363.132364  0.793876  38884.0\n",
       "0  2013    TX  52290.402382  1.260389  26327.0\n",
       "0  2014    TX  53895.026738  1.216072  27125.0\n",
       "0  2015    TX  56199.630082  1.166253  28210.0\n",
       "0  2016    TX  57236.448193  1.131690  28714.0\n",
       "0  2017    TX  59405.124704  1.068896  29525.0\n",
       "0  2018    TX  60921.923836  1.021325  30641.0"
      ]
     },
     "execution_count": 31,
     "metadata": {},
     "output_type": "execute_result"
    }
   ],
   "source": [
    "agg_yr_df"
   ]
  },
  {
   "cell_type": "code",
   "execution_count": 25,
   "metadata": {},
   "outputs": [
    {
     "data": {
      "text/plain": [
       "<matplotlib.legend.Legend at 0x7f8a56219b50>"
      ]
     },
     "execution_count": 25,
     "metadata": {},
     "output_type": "execute_result"
    },
    {
     "data": {
      "image/png": "[encoded data removed]",
      "text/plain": [
       "<Figure size 432x288 with 1 Axes>"
      ]
     },
     "metadata": {},
     "output_type": "display_data"
    }
   ],
   "source": [
    "state = 'CA'\n",
    "\n",
    "plt.plot( 'year', 'mean', data=yoy_df_final[yoy_df_final['state']==state], markersize=12, color='skyblue', label=\"mean\", linewidth=1)\n",
    "plt.plot( 'year', 'median', data=yoy_df_final[yoy_df_final['state']==state], markersize=12, color='red', label=\"median\", linewidth=1)\n",
    "plt.plot( 'year', 'skew', data=yoy_df_final[yoy_df_final['state']==state], markersize=12, color='green', label=\"skew\", linewidth=1)\n",
    "\n",
    "plt.xlabel(\"Year\")\n",
    "plt.ylabel(\"YoY % Change\")\n",
    "plt.title(state)\n",
    "\n",
    "plt.legend(loc='upper left',\n",
    "           ncol=1, borderaxespad=0.)"
   ]
  },
  {
   "cell_type": "code",
   "execution_count": 26,
   "metadata": {},
   "outputs": [
    {
     "data": {
      "text/plain": [
       "<matplotlib.legend.Legend at 0x7f8a5633d130>"
      ]
     },
     "execution_count": 26,
     "metadata": {},
     "output_type": "execute_result"
    },
    {
     "data": {
      "image/png": "[encoded data removed]",
      "text/plain": [
       "<Figure size 432x288 with 1 Axes>"
      ]
     },
     "metadata": {},
     "output_type": "display_data"
    }
   ],
   "source": [
    "state = 'NY'\n",
    "\n",
    "plt.plot( 'year', 'mean', data=yoy_df_final[yoy_df_final['state']==state], markersize=12, color='skyblue', label=\"mean\", linewidth=1)\n",
    "plt.plot( 'year', 'median', data=yoy_df_final[yoy_df_final['state']==state], markersize=12, color='red', label=\"median\", linewidth=1)\n",
    "plt.plot( 'year', 'skew', data=yoy_df_final[yoy_df_final['state']==state], markersize=12, color='green', label=\"skew\", linewidth=1)\n",
    "\n",
    "plt.xlabel(\"Year\")\n",
    "plt.ylabel(\"YoY % Change\")\n",
    "plt.title(state)\n",
    "\n",
    "plt.legend(loc='upper left',\n",
    "           ncol=1, borderaxespad=0.)"
   ]
  },
  {
   "cell_type": "code",
   "execution_count": null,
   "metadata": {},
   "outputs": [],
   "source": []
  },
  {
   "cell_type": "code",
   "execution_count": 28,
   "metadata": {},
   "outputs": [
    {
     "data": {
      "text/plain": [
       "<matplotlib.legend.Legend at 0x7f8a563e37f0>"
      ]
     },
     "execution_count": 28,
     "metadata": {},
     "output_type": "execute_result"
    },
    {
     "data": {
      "image/png": "[encoded data removed]",
      "text/plain": [
       "<Figure size 432x288 with 1 Axes>"
      ]
     },
     "metadata": {},
     "output_type": "display_data"
    }
   ],
   "source": [
    "state = 'FL'\n",
    "\n",
    "plt.plot( 'year', 'mean', data=yoy_df_final[yoy_df_final['state']==state], markersize=12, color='skyblue', label=\"mean\", linewidth=1)\n",
    "plt.plot( 'year', 'median', data=yoy_df_final[yoy_df_final['state']==state], markersize=12, color='red', label=\"median\", linewidth=1)\n",
    "plt.plot( 'year', 'skew', data=yoy_df_final[yoy_df_final['state']==state], markersize=12, color='green', label=\"skew\", linewidth=1)\n",
    "\n",
    "plt.xlabel(\"Year\")\n",
    "plt.ylabel(\"YoY % Change\")\n",
    "plt.title(state)\n",
    "\n",
    "plt.legend(loc='upper left',\n",
    "           ncol=1, borderaxespad=0.)"
   ]
  },
  {
   "cell_type": "code",
   "execution_count": null,
   "metadata": {},
   "outputs": [],
   "source": []
  },
  {
   "cell_type": "code",
   "execution_count": 29,
   "metadata": {},
   "outputs": [
    {
     "data": {
      "text/plain": [
       "<matplotlib.legend.Legend at 0x7f8a564e9070>"
      ]
     },
     "execution_count": 29,
     "metadata": {},
     "output_type": "execute_result"
    },
    {
     "data": {
      "image/png": "[encoded data removed]",
      "text/plain": [
       "<Figure size 432x288 with 1 Axes>"
      ]
     },
     "metadata": {},
     "output_type": "display_data"
    }
   ],
   "source": [
    "state = 'TX'\n",
    "\n",
    "plt.plot( 'year', 'mean', data=yoy_df_final[yoy_df_final['state']==state], markersize=12, color='skyblue', label=\"mean\", linewidth=1)\n",
    "plt.plot( 'year', 'median', data=yoy_df_final[yoy_df_final['state']==state], markersize=12, color='red', label=\"median\", linewidth=1)\n",
    "plt.plot( 'year', 'skew', data=yoy_df_final[yoy_df_final['state']==state], markersize=12, color='green', label=\"skew\", linewidth=1)\n",
    "\n",
    "plt.xlabel(\"Year\")\n",
    "plt.ylabel(\"YoY % Change\")\n",
    "plt.title(state)\n",
    "\n",
    "plt.legend(loc='upper left',\n",
    "           ncol=1, borderaxespad=0.)"
   ]
  },
  {
   "cell_type": "code",
   "execution_count": null,
   "metadata": {},
   "outputs": [],
   "source": []
  },
  {
   "cell_type": "code",
   "execution_count": null,
   "metadata": {},
   "outputs": [],
   "source": []
  }
 ],
 "metadata": {
  "kernelspec": {
   "display_name": "Python 3",
   "language": "python",
   "name": "python3"
  },
  "language_info": {
   "codemirror_mode": {
    "name": "ipython",
    "version": 3
   },
   "file_extension": ".py",
   "mimetype": "text/x-python",
   "name": "python",
   "nbconvert_exporter": "python",
   "pygments_lexer": "ipython3",
   "version": "3.8.3"
  }
 },
 "nbformat": 4,
 "nbformat_minor": 4
}
