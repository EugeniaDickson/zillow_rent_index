{
 "cells": [
  {
   "cell_type": "code",
   "execution_count": 1,
   "metadata": {},
   "outputs": [],
   "source": [
    "import numpy as np\n",
    "import pandas as pd\n",
    "import matplotlib.pyplot as plt\n",
    "%matplotlib inline\n",
    "import seaborn as sns"
   ]
  },
  {
   "cell_type": "code",
   "execution_count": 2,
   "metadata": {},
   "outputs": [
    {
     "name": "stdout",
     "output_type": "stream",
     "text": [
      "Your data is ready! Merged table name is zillow_full.\n"
     ]
    }
   ],
   "source": [
    "# load the dataset\n",
    "%run ../Jane/extract_data.py"
   ]
  },
  {
   "cell_type": "code",
   "execution_count": 3,
   "metadata": {},
   "outputs": [],
   "source": [
    "# drop the columns that should not be included\n",
    "zillow_full.drop(['AQIMean','PersonalIncome','Vol_moderate_income','Vol_low_income','State-County'],\n",
    "                 axis=1,inplace=True)"
   ]
  },
  {
   "cell_type": "markdown",
   "metadata": {},
   "source": [
    "# features i have engineered:\n",
    "- poverty\n",
    "- (un)employment\n",
    "- nightlife/entertainment\n",
    "- pct college\n",
    "- commute time\n",
    "- move within/ move new city\n",
    "- home density (pop/households)\n",
    "- housing avaialbility (n_units /households)\n"
   ]
  },
  {
   "cell_type": "code",
   "execution_count": 5,
   "metadata": {},
   "outputs": [
    {
     "data": {
      "text/plain": [
       "Index(['Zipcode', 'City', 'State', 'Metro', 'County', 'SizeRank', 'Date',\n",
       "       'Rent', 'Year', 'total_pop', 'households', 'median_age',\n",
       "       'median_income', 'income_per_capita', 'gini_index', 'pct_poverty',\n",
       "       'housing_availability', 'home_density', 'pct_employed',\n",
       "       'pct_jobs_nightlife', 'pct_unemployed', 'move_within_city',\n",
       "       'move_new_city', 'avg_commute_time', 'pct_college'],\n",
       "      dtype='object')"
      ]
     },
     "execution_count": 5,
     "metadata": {},
     "output_type": "execute_result"
    }
   ],
   "source": [
    "zillow_full.columns"
   ]
  },
  {
   "cell_type": "code",
   "execution_count": null,
   "metadata": {},
   "outputs": [],
   "source": []
  }
 ],
 "metadata": {
  "kernelspec": {
   "display_name": "Python 3",
   "language": "python",
   "name": "python3"
  },
  "language_info": {
   "codemirror_mode": {
    "name": "ipython",
    "version": 3
   },
   "file_extension": ".py",
   "mimetype": "text/x-python",
   "name": "python",
   "nbconvert_exporter": "python",
   "pygments_lexer": "ipython3",
   "version": "3.7.6"
  }
 },
 "nbformat": 4,
 "nbformat_minor": 4
}
