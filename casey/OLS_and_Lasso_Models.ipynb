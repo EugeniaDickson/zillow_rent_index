{
 "cells": [
  {
   "cell_type": "markdown",
   "metadata": {},
   "source": [
    "## Load and pre-process data"
   ]
  },
  {
   "cell_type": "code",
   "execution_count": 1,
   "metadata": {},
   "outputs": [],
   "source": [
    "import numpy as np\n",
    "import pandas as pd\n",
    "\n",
    "cluster_data = pd.read_csv('../../data/all_areas_clusters_hier.csv') # contains clustering groups\n",
    "PCdata = pd.read_csv('../../data/zillow_withPCA.csv') # contains prinicpal components"
   ]
  },
  {
   "cell_type": "code",
   "execution_count": 2,
   "metadata": {},
   "outputs": [],
   "source": [
    "clusters = cluster_data[['Zipcode','Date','Clusters']] # subset the cluster col + two to merge on\n",
    "pc_df = PCdata.drop(['City','State','Metro','County','SizeRank','State-County','Year'],axis=1) # the relevant PC columns"
   ]
  },
  {
   "cell_type": "code",
   "execution_count": 3,
   "metadata": {},
   "outputs": [
    {
     "data": {
      "text/plain": [
       "0    7747\n",
       "3    3965\n",
       "2    3477\n",
       "1    2562\n",
       "Name: Clusters, dtype: int64"
      ]
     },
     "execution_count": 3,
     "metadata": {},
     "output_type": "execute_result"
    }
   ],
   "source": [
    "# dummify cluster column\n",
    "clusters['Clusters'].value_counts() # we will drop the cluster 0 column bc its the largest of the groups"
   ]
  },
  {
   "cell_type": "code",
   "execution_count": 9,
   "metadata": {},
   "outputs": [],
   "source": [
    "cluster_dummy = pd.get_dummies(clusters['Clusters'],prefix=\"Cluster\",drop_first=True)\n",
    "clusters = pd.concat((clusters,cluster_dummy),axis=1)"
   ]
  },
  {
   "cell_type": "code",
   "execution_count": 10,
   "metadata": {},
   "outputs": [],
   "source": [
    "zillow_df = pc_df.merge(clusters, \"inner\", on = [\"Date\",\"Zipcode\"]) # merge on date + zipcode\n",
    "# make sure n_rows post-merge == 17751\n",
    "zillow_df.set_index('Date',inplace=True)"
   ]
  },
  {
   "cell_type": "code",
   "execution_count": 11,
   "metadata": {},
   "outputs": [
    {
     "data": {
      "text/html": [
       "<div>\n",
       "<style scoped>\n",
       "    .dataframe tbody tr th:only-of-type {\n",
       "        vertical-align: middle;\n",
       "    }\n",
       "\n",
       "    .dataframe tbody tr th {\n",
       "        vertical-align: top;\n",
       "    }\n",
       "\n",
       "    .dataframe thead th {\n",
       "        text-align: right;\n",
       "    }\n",
       "</style>\n",
       "<table border=\"1\" class=\"dataframe\">\n",
       "  <thead>\n",
       "    <tr style=\"text-align: right;\">\n",
       "      <th></th>\n",
       "      <th>Zipcode</th>\n",
       "      <th>Rent</th>\n",
       "      <th>median_age</th>\n",
       "      <th>gini_index</th>\n",
       "      <th>housing_availability</th>\n",
       "      <th>move_within_city</th>\n",
       "      <th>cityPC1</th>\n",
       "      <th>cityPC2</th>\n",
       "      <th>econPC1</th>\n",
       "      <th>econPC2</th>\n",
       "      <th>econPC3</th>\n",
       "      <th>Clusters</th>\n",
       "      <th>Cluster_1</th>\n",
       "      <th>Cluster_2</th>\n",
       "      <th>Cluster_3</th>\n",
       "    </tr>\n",
       "    <tr>\n",
       "      <th>Date</th>\n",
       "      <th></th>\n",
       "      <th></th>\n",
       "      <th></th>\n",
       "      <th></th>\n",
       "      <th></th>\n",
       "      <th></th>\n",
       "      <th></th>\n",
       "      <th></th>\n",
       "      <th></th>\n",
       "      <th></th>\n",
       "      <th></th>\n",
       "      <th></th>\n",
       "      <th></th>\n",
       "      <th></th>\n",
       "      <th></th>\n",
       "    </tr>\n",
       "  </thead>\n",
       "  <tbody>\n",
       "    <tr>\n",
       "      <th>2015-01-01</th>\n",
       "      <td>10025</td>\n",
       "      <td>3566.0</td>\n",
       "      <td>0.008120</td>\n",
       "      <td>0.009306</td>\n",
       "      <td>0.007598</td>\n",
       "      <td>0.008591</td>\n",
       "      <td>-0.007053</td>\n",
       "      <td>0.009281</td>\n",
       "      <td>0.003816</td>\n",
       "      <td>0.002187</td>\n",
       "      <td>0.002316</td>\n",
       "      <td>2</td>\n",
       "      <td>0</td>\n",
       "      <td>1</td>\n",
       "      <td>0</td>\n",
       "    </tr>\n",
       "    <tr>\n",
       "      <th>2015-01-01</th>\n",
       "      <td>10023</td>\n",
       "      <td>3413.0</td>\n",
       "      <td>0.008513</td>\n",
       "      <td>0.008738</td>\n",
       "      <td>0.008109</td>\n",
       "      <td>0.007416</td>\n",
       "      <td>-0.004638</td>\n",
       "      <td>0.004340</td>\n",
       "      <td>0.012160</td>\n",
       "      <td>0.003883</td>\n",
       "      <td>0.002966</td>\n",
       "      <td>1</td>\n",
       "      <td>1</td>\n",
       "      <td>0</td>\n",
       "      <td>0</td>\n",
       "    </tr>\n",
       "    <tr>\n",
       "      <th>2015-01-01</th>\n",
       "      <td>10002</td>\n",
       "      <td>3508.0</td>\n",
       "      <td>0.008572</td>\n",
       "      <td>0.009103</td>\n",
       "      <td>0.007013</td>\n",
       "      <td>0.005223</td>\n",
       "      <td>-0.007252</td>\n",
       "      <td>0.004014</td>\n",
       "      <td>-0.005684</td>\n",
       "      <td>0.004695</td>\n",
       "      <td>-0.002163</td>\n",
       "      <td>2</td>\n",
       "      <td>0</td>\n",
       "      <td>1</td>\n",
       "      <td>0</td>\n",
       "    </tr>\n",
       "    <tr>\n",
       "      <th>2015-01-01</th>\n",
       "      <td>11226</td>\n",
       "      <td>1876.0</td>\n",
       "      <td>0.006822</td>\n",
       "      <td>0.007221</td>\n",
       "      <td>0.007228</td>\n",
       "      <td>0.004562</td>\n",
       "      <td>-0.010629</td>\n",
       "      <td>0.005907</td>\n",
       "      <td>-0.003696</td>\n",
       "      <td>-0.001239</td>\n",
       "      <td>0.000227</td>\n",
       "      <td>2</td>\n",
       "      <td>0</td>\n",
       "      <td>1</td>\n",
       "      <td>0</td>\n",
       "    </tr>\n",
       "    <tr>\n",
       "      <th>2015-01-01</th>\n",
       "      <td>10467</td>\n",
       "      <td>1442.0</td>\n",
       "      <td>0.006625</td>\n",
       "      <td>0.007500</td>\n",
       "      <td>0.006907</td>\n",
       "      <td>0.009433</td>\n",
       "      <td>-0.011097</td>\n",
       "      <td>0.006011</td>\n",
       "      <td>-0.009925</td>\n",
       "      <td>0.001891</td>\n",
       "      <td>0.003597</td>\n",
       "      <td>2</td>\n",
       "      <td>0</td>\n",
       "      <td>1</td>\n",
       "      <td>0</td>\n",
       "    </tr>\n",
       "  </tbody>\n",
       "</table>\n",
       "</div>"
      ],
      "text/plain": [
       "            Zipcode    Rent  median_age  gini_index  housing_availability  \\\n",
       "Date                                                                        \n",
       "2015-01-01    10025  3566.0    0.008120    0.009306              0.007598   \n",
       "2015-01-01    10023  3413.0    0.008513    0.008738              0.008109   \n",
       "2015-01-01    10002  3508.0    0.008572    0.009103              0.007013   \n",
       "2015-01-01    11226  1876.0    0.006822    0.007221              0.007228   \n",
       "2015-01-01    10467  1442.0    0.006625    0.007500              0.006907   \n",
       "\n",
       "            move_within_city   cityPC1   cityPC2   econPC1   econPC2  \\\n",
       "Date                                                                   \n",
       "2015-01-01          0.008591 -0.007053  0.009281  0.003816  0.002187   \n",
       "2015-01-01          0.007416 -0.004638  0.004340  0.012160  0.003883   \n",
       "2015-01-01          0.005223 -0.007252  0.004014 -0.005684  0.004695   \n",
       "2015-01-01          0.004562 -0.010629  0.005907 -0.003696 -0.001239   \n",
       "2015-01-01          0.009433 -0.011097  0.006011 -0.009925  0.001891   \n",
       "\n",
       "             econPC3  Clusters  Cluster_1  Cluster_2  Cluster_3  \n",
       "Date                                                             \n",
       "2015-01-01  0.002316         2          0          1          0  \n",
       "2015-01-01  0.002966         1          1          0          0  \n",
       "2015-01-01 -0.002163         2          0          1          0  \n",
       "2015-01-01  0.000227         2          0          1          0  \n",
       "2015-01-01  0.003597         2          0          1          0  "
      ]
     },
     "execution_count": 11,
     "metadata": {},
     "output_type": "execute_result"
    }
   ],
   "source": [
    "zillow_df.head()"
   ]
  },
  {
   "cell_type": "code",
   "execution_count": 12,
   "metadata": {},
   "outputs": [],
   "source": [
    "# separate target from features\n",
    "y = np.log(zillow_df['Rent']) # log-scaled\n",
    "X = zillow_df.drop('Rent',axis=1)"
   ]
  },
  {
   "cell_type": "code",
   "execution_count": 13,
   "metadata": {},
   "outputs": [],
   "source": [
    "# remove other features from X that will not go into the regression model\n",
    "X.drop(['Zipcode'],axis=1,inplace=True)"
   ]
  },
  {
   "cell_type": "code",
   "execution_count": 14,
   "metadata": {},
   "outputs": [],
   "source": [
    "from PCARandomForest import train_test\n",
    "Xtrain,Xtest,ytrain,ytest = train_test(X,y)"
   ]
  },
  {
   "cell_type": "markdown",
   "metadata": {},
   "source": [
    "## OLS"
   ]
  },
  {
   "cell_type": "code",
   "execution_count": 15,
   "metadata": {},
   "outputs": [],
   "source": [
    "from sklearn.linear_model import LinearRegression\n",
    "from sklearn.metrics import mean_squared_error\n",
    "\n",
    "ols = LinearRegression()"
   ]
  },
  {
   "cell_type": "code",
   "execution_count": 16,
   "metadata": {},
   "outputs": [],
   "source": [
    "def OLSRegression(model,Xtrain,Xtest,ytrain,ytest):\n",
    "    '''\n",
    "    Input a (tuned) model, X and y train/test df's.\n",
    "    This function will output test and training R2 as well as RMSE\n",
    "    Reminder-to-self: This is just to play around. use statsmodels to check AIC, VIF, etc.\n",
    "    '''\n",
    "    model.fit(Xtrain,ytrain)\n",
    "    print(f'training R2: {model.score(Xtrain,ytrain)}')\n",
    "    print(f'test R2: {model.score(Xtest,ytest)}')\n",
    "    \n",
    "    ypred = model.predict(Xtest)\n",
    "    RMSE = mean_squared_error(ytest,ypred,squared=False)\n",
    "    print(f'RMSE: {RMSE}')"
   ]
  },
  {
   "cell_type": "markdown",
   "metadata": {},
   "source": [
    "### Model 1\n",
    "Trying just the PCs"
   ]
  },
  {
   "cell_type": "code",
   "execution_count": 17,
   "metadata": {},
   "outputs": [],
   "source": [
    "pc_train = Xtrain.filter(regex='PC')\n",
    "pc_test = Xtest.filter(regex='PC')"
   ]
  },
  {
   "cell_type": "code",
   "execution_count": 18,
   "metadata": {},
   "outputs": [
    {
     "name": "stdout",
     "output_type": "stream",
     "text": [
      "training R2: 0.48202084944712686\n",
      "test R2: 0.4441023303339105\n",
      "RMSE: 0.211323505558185\n"
     ]
    }
   ],
   "source": [
    "OLSRegression(ols,pc_train,pc_test,ytrain,ytest) # yikes"
   ]
  },
  {
   "cell_type": "markdown",
   "metadata": {},
   "source": [
    "### Model 2\n",
    "Trying with clustering cols"
   ]
  },
  {
   "cell_type": "code",
   "execution_count": 19,
   "metadata": {},
   "outputs": [
    {
     "name": "stdout",
     "output_type": "stream",
     "text": [
      "training R2: 0.5048337034382637\n",
      "test R2: 0.46929249135311535\n",
      "RMSE: 0.20648000202099204\n"
     ]
    }
   ],
   "source": [
    "OLSRegression(model = ols, Xtrain = Xtrain.filter(regex='Cluster|PC'), Xtest = Xtest.filter(regex='Cluster|PC'),\n",
    "             ytrain = ytrain, ytest = ytest)\n",
    "\n",
    "# performs better with lower RMSE when including the cluster cols"
   ]
  },
  {
   "cell_type": "markdown",
   "metadata": {},
   "source": [
    "### Model 3\n",
    "Try everything"
   ]
  },
  {
   "cell_type": "code",
   "execution_count": 20,
   "metadata": {},
   "outputs": [
    {
     "name": "stdout",
     "output_type": "stream",
     "text": [
      "training R2: 0.5724424148883809\n",
      "test R2: 0.5436446906166782\n",
      "RMSE: 0.19147052737331083\n"
     ]
    }
   ],
   "source": [
    "OLSRegression(ols,Xtrain,Xtest,ytrain,ytest) # best performance but still poor"
   ]
  },
  {
   "cell_type": "markdown",
   "metadata": {},
   "source": [
    "## Trying a lasso"
   ]
  },
  {
   "cell_type": "code",
   "execution_count": 21,
   "metadata": {},
   "outputs": [],
   "source": [
    "from sklearn.linear_model import Lasso\n",
    "from sklearn.model_selection import GridSearchCV"
   ]
  },
  {
   "cell_type": "code",
   "execution_count": 22,
   "metadata": {},
   "outputs": [],
   "source": [
    "lasso = Lasso()\n",
    "params = {\"alpha\":[0.000001, 0.0001, 0.001, 0.005, 0.01, 0.03, 0.05, 0.08, 0.1, 0.25, 0.5]}\n",
    "grid = GridSearchCV(lasso,param_grid=params, return_train_score=True)"
   ]
  },
  {
   "cell_type": "code",
   "execution_count": 24,
   "metadata": {},
   "outputs": [
    {
     "data": {
      "text/plain": [
       "GridSearchCV(cv=None, error_score=nan,\n",
       "             estimator=Lasso(alpha=1.0, copy_X=True, fit_intercept=True,\n",
       "                             max_iter=1000, normalize=False, positive=False,\n",
       "                             precompute=False, random_state=None,\n",
       "                             selection='cyclic', tol=0.0001, warm_start=False),\n",
       "             iid='deprecated', n_jobs=None,\n",
       "             param_grid={'alpha': [1e-06, 0.0001, 0.001, 0.005, 0.01, 0.03,\n",
       "                                   0.05, 0.08, 0.1, 0.25, 0.5]},\n",
       "             pre_dispatch='2*n_jobs', refit=True, return_train_score=True,\n",
       "             scoring=None, verbose=0)"
      ]
     },
     "execution_count": 24,
     "metadata": {},
     "output_type": "execute_result"
    }
   ],
   "source": [
    "grid.fit(Xtrain,ytrain)"
   ]
  },
  {
   "cell_type": "code",
   "execution_count": 25,
   "metadata": {},
   "outputs": [
    {
     "data": {
      "text/plain": [
       "{'mean_fit_time': array([0.01058841, 0.00762119, 0.00454865, 0.00455823, 0.00467553,\n",
       "        0.00455475, 0.00489941, 0.00526156, 0.00463109, 0.00496836,\n",
       "        0.00472212]),\n",
       " 'std_fit_time': array([3.38331329e-03, 8.54401719e-04, 2.66469241e-04, 3.61591896e-04,\n",
       "        5.22809270e-05, 4.01630572e-04, 2.71682113e-04, 4.54439036e-04,\n",
       "        2.26334835e-04, 3.36505756e-04, 2.31875668e-04]),\n",
       " 'mean_score_time': array([0.00235152, 0.00164795, 0.00155025, 0.00166173, 0.00193863,\n",
       "        0.00166454, 0.00172319, 0.00189466, 0.00174823, 0.00187573,\n",
       "        0.00166359]),\n",
       " 'std_score_time': array([6.99728432e-04, 1.10293682e-04, 4.66456430e-05, 1.38809205e-04,\n",
       "        2.79812514e-04, 1.86144218e-04, 1.42908470e-04, 1.70430392e-04,\n",
       "        1.03323537e-04, 1.26946608e-04, 6.17051235e-05]),\n",
       " 'param_alpha': masked_array(data=[1e-06, 0.0001, 0.001, 0.005, 0.01, 0.03, 0.05, 0.08,\n",
       "                    0.1, 0.25, 0.5],\n",
       "              mask=[False, False, False, False, False, False, False, False,\n",
       "                    False, False, False],\n",
       "        fill_value='?',\n",
       "             dtype=object),\n",
       " 'params': [{'alpha': 1e-06},\n",
       "  {'alpha': 0.0001},\n",
       "  {'alpha': 0.001},\n",
       "  {'alpha': 0.005},\n",
       "  {'alpha': 0.01},\n",
       "  {'alpha': 0.03},\n",
       "  {'alpha': 0.05},\n",
       "  {'alpha': 0.08},\n",
       "  {'alpha': 0.1},\n",
       "  {'alpha': 0.25},\n",
       "  {'alpha': 0.5}],\n",
       " 'split0_test_score': array([ 0.5501227 ,  0.40476792,  0.18011684,  0.1723558 ,  0.15864948,\n",
       "         0.05932383, -0.04591064, -0.04591064, -0.04591064, -0.04591064,\n",
       "        -0.04591064]),\n",
       " 'split1_test_score': array([ 5.74617596e-01,  4.27196599e-01,  2.02697414e-01,  1.98795392e-01,\n",
       "         1.89671193e-01,  1.05988918e-01, -1.05181625e-05, -1.05181625e-05,\n",
       "        -1.05181625e-05, -1.05181625e-05, -1.05181625e-05]),\n",
       " 'split2_test_score': array([ 0.57288313,  0.41559602,  0.18330418,  0.18217323,  0.17625389,\n",
       "         0.10251313, -0.0063131 , -0.0063131 , -0.0063131 , -0.0063131 ,\n",
       "        -0.0063131 ]),\n",
       " 'split3_test_score': array([ 0.56792767,  0.41821912,  0.18788003,  0.18741873,  0.1821235 ,\n",
       "         0.10851389, -0.00458457, -0.00458457, -0.00458457, -0.00458457,\n",
       "        -0.00458457]),\n",
       " 'split4_test_score': array([ 0.53762009,  0.39398408,  0.16965646,  0.17242508,  0.17076854,\n",
       "         0.1072834 , -0.00808074, -0.00808074, -0.00808074, -0.00808074,\n",
       "        -0.00808074]),\n",
       " 'mean_test_score': array([ 0.56063424,  0.41195275,  0.18473098,  0.18263365,  0.17549332,\n",
       "         0.09672463, -0.01297991, -0.01297991, -0.01297991, -0.01297991,\n",
       "        -0.01297991]),\n",
       " 'std_test_score': array([0.01441463, 0.01148399, 0.01080071, 0.00994143, 0.01050322,\n",
       "        0.01880759, 0.01668273, 0.01668273, 0.01668273, 0.01668273,\n",
       "        0.01668273]),\n",
       " 'rank_test_score': array([1, 2, 3, 4, 5, 6, 7, 7, 7, 7, 7], dtype=int32),\n",
       " 'split0_train_score': array([0.57071798, 0.4157604 , 0.19153633, 0.18907838, 0.18139734,\n",
       "        0.09946638, 0.        , 0.        , 0.        , 0.        ,\n",
       "        0.        ]),\n",
       " 'split1_train_score': array([0.57155281, 0.42268418, 0.19689513, 0.19448409, 0.18694963,\n",
       "        0.10658225, 0.        , 0.        , 0.        , 0.        ,\n",
       "        0.        ]),\n",
       " 'split2_train_score': array([0.57122751, 0.42547734, 0.20062379, 0.19826303, 0.19088571,\n",
       "        0.11219443, 0.        , 0.        , 0.        , 0.        ,\n",
       "        0.        ]),\n",
       " 'split3_train_score': array([0.57266358, 0.42729762, 0.19981838, 0.19748139, 0.19017834,\n",
       "        0.11227935, 0.        , 0.        , 0.        , 0.        ,\n",
       "        0.        ]),\n",
       " 'split4_train_score': array([0.57833029, 0.43435104, 0.20295327, 0.20064577, 0.19343483,\n",
       "        0.11651814, 0.        , 0.        , 0.        , 0.        ,\n",
       "        0.        ]),\n",
       " 'mean_train_score': array([0.57289843, 0.42511412, 0.19836538, 0.19599053, 0.18856917,\n",
       "        0.10940811, 0.        , 0.        , 0.        , 0.        ,\n",
       "        0.        ]),\n",
       " 'std_train_score': array([0.00278988, 0.00605999, 0.00392576, 0.00397757, 0.00413977,\n",
       "        0.00588869, 0.        , 0.        , 0.        , 0.        ,\n",
       "        0.        ])}"
      ]
     },
     "execution_count": 25,
     "metadata": {},
     "output_type": "execute_result"
    }
   ],
   "source": [
    "grid.cv_results_"
   ]
  },
  {
   "cell_type": "code",
   "execution_count": 29,
   "metadata": {},
   "outputs": [
    {
     "data": {
      "text/plain": [
       "0.5606342377914968"
      ]
     },
     "execution_count": 29,
     "metadata": {},
     "output_type": "execute_result"
    }
   ],
   "source": [
    "grid.best_score_ # not ideal"
   ]
  }
 ],
 "metadata": {
  "kernelspec": {
   "display_name": "Python 3",
   "language": "python",
   "name": "python3"
  },
  "language_info": {
   "codemirror_mode": {
    "name": "ipython",
    "version": 3
   },
   "file_extension": ".py",
   "mimetype": "text/x-python",
   "name": "python",
   "nbconvert_exporter": "python",
   "pygments_lexer": "ipython3",
   "version": "3.7.6"
  }
 },
 "nbformat": 4,
 "nbformat_minor": 4
}
