{
 "cells": [
  {
   "cell_type": "markdown",
   "metadata": {},
   "source": [
    "#### Using the 2018 American Community Survey Data to Feature Engineer:\n",
    "#### SQL code for retrival can be seen here:\n",
    "\n",
    "'''\n",
    "\n",
    "`WITH acs_2018 AS (\n",
    "  SELECT geo_id, total_pop, housing_units, aggregate_travel_time_to_work, gini_index,\n",
    "    bachelors_degree_or_higher_25_64, median_income\n",
    "\n",
    "  FROM `bigquery-public-data.census_bureau_acs.zip_codes_2018_5yr`\n",
    "),\n",
    "\n",
    "\n",
    "acs_zipcode AS (\n",
    "  SELECT *\n",
    "  FROM acs_2018 a18\n",
    "  JOIN `bigquery-public-data.geo_us_boundaries.zip_codes` geo\n",
    "  ON a18.geo_id = geo.zip_code\n",
    ") \n",
    "\n",
    "SELECT geo_id, zip_code, total_pop, housing_units, aggregate_travel_time_to_work, gini_index,\n",
    "  bachelors_degree_or_higher_25_64, median_income\n",
    "FROM acs_zipcode `\n",
    "\n",
    "'''"
   ]
  },
  {
   "cell_type": "code",
   "execution_count": 2,
   "metadata": {},
   "outputs": [],
   "source": [
    "import numpy as np\n",
    "import pandas as pd\n",
    "acs = pd.read_csv('~/Desktop/NYCDSA/Capstone/data/census_feats.csv')"
   ]
  },
  {
   "cell_type": "code",
   "execution_count": 6,
   "metadata": {},
   "outputs": [],
   "source": [
    "# total units for housing in zip code / total population\n",
    "acs['per_person_housing'] = acs['housing_units'] / acs['total_pop'] \n",
    "# total commute time for people in zip / total population\n",
    "acs['mean_commute_time'] = acs['aggregate_travel_time_to_work'] / acs['total_pop']\n",
    "# number of people in the zip code with a bachelors or higher / total population\n",
    "acs['bachelors_ormore'] = acs['bachelors_degree_or_higher_25_64'] / acs['total_pop']"
   ]
  },
  {
   "cell_type": "code",
   "execution_count": 8,
   "metadata": {},
   "outputs": [],
   "source": [
    "acs = acs.drop('housing_units',axis=1).drop('aggregate_travel_time_to_work',axis=1).\\\n",
    "drop('bachelors_degree_or_higher_25_64',axis=1)"
   ]
  },
  {
   "cell_type": "code",
   "execution_count": 10,
   "metadata": {},
   "outputs": [],
   "source": [
    "zillow = pd.read_csv('~/Desktop/NYCDSA/Capstone/data/zillow-long-multifamily.csv')"
   ]
  },
  {
   "cell_type": "code",
   "execution_count": 26,
   "metadata": {},
   "outputs": [
    {
     "data": {
      "text/html": [
       "<div>\n",
       "<style scoped>\n",
       "    .dataframe tbody tr th:only-of-type {\n",
       "        vertical-align: middle;\n",
       "    }\n",
       "\n",
       "    .dataframe tbody tr th {\n",
       "        vertical-align: top;\n",
       "    }\n",
       "\n",
       "    .dataframe thead th {\n",
       "        text-align: right;\n",
       "    }\n",
       "</style>\n",
       "<table border=\"1\" class=\"dataframe\">\n",
       "  <thead>\n",
       "    <tr style=\"text-align: right;\">\n",
       "      <th></th>\n",
       "      <th>RegionID</th>\n",
       "      <th>SizeRank</th>\n",
       "      <th>State</th>\n",
       "      <th>City</th>\n",
       "      <th>Metro</th>\n",
       "      <th>CountyName</th>\n",
       "      <th>zipcodes</th>\n",
       "      <th>date</th>\n",
       "      <th>rent</th>\n",
       "    </tr>\n",
       "  </thead>\n",
       "  <tbody>\n",
       "    <tr>\n",
       "      <th>0</th>\n",
       "      <td>61639</td>\n",
       "      <td>1</td>\n",
       "      <td>NY</td>\n",
       "      <td>New York</td>\n",
       "      <td>New York-Newark-Jersey City</td>\n",
       "      <td>New York County</td>\n",
       "      <td>10025</td>\n",
       "      <td>2010-09</td>\n",
       "      <td>2930.00</td>\n",
       "    </tr>\n",
       "    <tr>\n",
       "      <th>1</th>\n",
       "      <td>84654</td>\n",
       "      <td>2</td>\n",
       "      <td>IL</td>\n",
       "      <td>Chicago</td>\n",
       "      <td>Chicago-Naperville-Elgin</td>\n",
       "      <td>Cook County</td>\n",
       "      <td>60657</td>\n",
       "      <td>2010-09</td>\n",
       "      <td>1447.00</td>\n",
       "    </tr>\n",
       "    <tr>\n",
       "      <th>2</th>\n",
       "      <td>61637</td>\n",
       "      <td>3</td>\n",
       "      <td>NY</td>\n",
       "      <td>New York</td>\n",
       "      <td>New York-Newark-Jersey City</td>\n",
       "      <td>New York County</td>\n",
       "      <td>10023</td>\n",
       "      <td>2010-09</td>\n",
       "      <td>2797.00</td>\n",
       "    </tr>\n",
       "    <tr>\n",
       "      <th>3</th>\n",
       "      <td>91982</td>\n",
       "      <td>4</td>\n",
       "      <td>TX</td>\n",
       "      <td>Katy</td>\n",
       "      <td>Houston-The Woodlands-Sugar Land</td>\n",
       "      <td>Harris County</td>\n",
       "      <td>77494</td>\n",
       "      <td>2010-09</td>\n",
       "      <td>NaN</td>\n",
       "    </tr>\n",
       "    <tr>\n",
       "      <th>4</th>\n",
       "      <td>84616</td>\n",
       "      <td>5</td>\n",
       "      <td>IL</td>\n",
       "      <td>Chicago</td>\n",
       "      <td>Chicago-Naperville-Elgin</td>\n",
       "      <td>Cook County</td>\n",
       "      <td>60614</td>\n",
       "      <td>2010-09</td>\n",
       "      <td>1437.00</td>\n",
       "    </tr>\n",
       "    <tr>\n",
       "      <th>...</th>\n",
       "      <td>...</td>\n",
       "      <td>...</td>\n",
       "      <td>...</td>\n",
       "      <td>...</td>\n",
       "      <td>...</td>\n",
       "      <td>...</td>\n",
       "      <td>...</td>\n",
       "      <td>...</td>\n",
       "      <td>...</td>\n",
       "    </tr>\n",
       "    <tr>\n",
       "      <th>210288</th>\n",
       "      <td>90755</td>\n",
       "      <td>1857</td>\n",
       "      <td>TX</td>\n",
       "      <td>Dallas</td>\n",
       "      <td>Dallas-Fort Worth-Arlington</td>\n",
       "      <td>Dallas County</td>\n",
       "      <td>75202</td>\n",
       "      <td>2020-01</td>\n",
       "      <td>NaN</td>\n",
       "    </tr>\n",
       "    <tr>\n",
       "      <th>210289</th>\n",
       "      <td>94610</td>\n",
       "      <td>1858</td>\n",
       "      <td>UT</td>\n",
       "      <td>Ephraim</td>\n",
       "      <td>NaN</td>\n",
       "      <td>Sanpete County</td>\n",
       "      <td>84627</td>\n",
       "      <td>2020-01</td>\n",
       "      <td>1296.48</td>\n",
       "    </tr>\n",
       "    <tr>\n",
       "      <th>210290</th>\n",
       "      <td>84452</td>\n",
       "      <td>1859</td>\n",
       "      <td>IL</td>\n",
       "      <td>Oak Park</td>\n",
       "      <td>Chicago-Naperville-Elgin</td>\n",
       "      <td>Cook County</td>\n",
       "      <td>60301</td>\n",
       "      <td>2020-01</td>\n",
       "      <td>NaN</td>\n",
       "    </tr>\n",
       "    <tr>\n",
       "      <th>210291</th>\n",
       "      <td>94629</td>\n",
       "      <td>1860</td>\n",
       "      <td>UT</td>\n",
       "      <td>Mount Pleasant</td>\n",
       "      <td>NaN</td>\n",
       "      <td>Sanpete County</td>\n",
       "      <td>84647</td>\n",
       "      <td>2020-01</td>\n",
       "      <td>1221.00</td>\n",
       "    </tr>\n",
       "    <tr>\n",
       "      <th>210292</th>\n",
       "      <td>91695</td>\n",
       "      <td>1861</td>\n",
       "      <td>TX</td>\n",
       "      <td>Houston</td>\n",
       "      <td>Houston-The Woodlands-Sugar Land</td>\n",
       "      <td>Harris County</td>\n",
       "      <td>77046</td>\n",
       "      <td>2020-01</td>\n",
       "      <td>NaN</td>\n",
       "    </tr>\n",
       "  </tbody>\n",
       "</table>\n",
       "<p>210293 rows × 9 columns</p>\n",
       "</div>"
      ],
      "text/plain": [
       "        RegionID  SizeRank State            City  \\\n",
       "0          61639         1    NY        New York   \n",
       "1          84654         2    IL         Chicago   \n",
       "2          61637         3    NY        New York   \n",
       "3          91982         4    TX            Katy   \n",
       "4          84616         5    IL         Chicago   \n",
       "...          ...       ...   ...             ...   \n",
       "210288     90755      1857    TX          Dallas   \n",
       "210289     94610      1858    UT         Ephraim   \n",
       "210290     84452      1859    IL        Oak Park   \n",
       "210291     94629      1860    UT  Mount Pleasant   \n",
       "210292     91695      1861    TX         Houston   \n",
       "\n",
       "                                   Metro       CountyName  zipcodes     date  \\\n",
       "0            New York-Newark-Jersey City  New York County     10025  2010-09   \n",
       "1               Chicago-Naperville-Elgin      Cook County     60657  2010-09   \n",
       "2            New York-Newark-Jersey City  New York County     10023  2010-09   \n",
       "3       Houston-The Woodlands-Sugar Land    Harris County     77494  2010-09   \n",
       "4               Chicago-Naperville-Elgin      Cook County     60614  2010-09   \n",
       "...                                  ...              ...       ...      ...   \n",
       "210288       Dallas-Fort Worth-Arlington    Dallas County     75202  2020-01   \n",
       "210289                               NaN   Sanpete County     84627  2020-01   \n",
       "210290          Chicago-Naperville-Elgin      Cook County     60301  2020-01   \n",
       "210291                               NaN   Sanpete County     84647  2020-01   \n",
       "210292  Houston-The Woodlands-Sugar Land    Harris County     77046  2020-01   \n",
       "\n",
       "           rent  \n",
       "0       2930.00  \n",
       "1       1447.00  \n",
       "2       2797.00  \n",
       "3           NaN  \n",
       "4       1437.00  \n",
       "...         ...  \n",
       "210288      NaN  \n",
       "210289  1296.48  \n",
       "210290      NaN  \n",
       "210291  1221.00  \n",
       "210292      NaN  \n",
       "\n",
       "[210293 rows x 9 columns]"
      ]
     },
     "execution_count": 26,
     "metadata": {},
     "output_type": "execute_result"
    }
   ],
   "source": [
    "zillow"
   ]
  },
  {
   "cell_type": "code",
   "execution_count": 44,
   "metadata": {},
   "outputs": [],
   "source": [
    "df = zillow.merge(acs,how='left',left_on='zipcodes',right_on='zip_code')"
   ]
  },
  {
   "cell_type": "code",
   "execution_count": 45,
   "metadata": {},
   "outputs": [],
   "source": [
    "nyc = df[df.City == 'New York']"
   ]
  },
  {
   "cell_type": "code",
   "execution_count": 46,
   "metadata": {},
   "outputs": [],
   "source": [
    "# limit to one point in time just to assess features\n",
    "nyc = nyc[nyc.date == '2018-01']\n",
    "nyc = nyc.drop('Metro', axis =1).drop('City',axis=1).drop('State',axis=1)"
   ]
  },
  {
   "cell_type": "code",
   "execution_count": 49,
   "metadata": {},
   "outputs": [],
   "source": [
    "nyc.CountyName = [x.replace(\" County\",\"\") for x in nyc.CountyName]"
   ]
  },
  {
   "cell_type": "code",
   "execution_count": 68,
   "metadata": {},
   "outputs": [],
   "source": [
    "nyc.set_index('zipcodes',inplace=True)"
   ]
  },
  {
   "cell_type": "code",
   "execution_count": 51,
   "metadata": {},
   "outputs": [],
   "source": [
    "from sklearn.linear_model import LinearRegression\n",
    "ols = LinearRegression()"
   ]
  },
  {
   "cell_type": "code",
   "execution_count": 79,
   "metadata": {},
   "outputs": [],
   "source": [
    "nyc = nyc.dropna(axis=0, how='any', thresh=None, subset=None)"
   ]
  },
  {
   "cell_type": "code",
   "execution_count": 80,
   "metadata": {},
   "outputs": [],
   "source": [
    "from sklearn.model_selection import train_test_split"
   ]
  },
  {
   "cell_type": "code",
   "execution_count": 81,
   "metadata": {},
   "outputs": [],
   "source": [
    "target =  nyc['rent']\n",
    "feats = nyc[['total_pop','gini_index','mean_commute_time','bachelors_ormore','median_income']]"
   ]
  },
  {
   "cell_type": "code",
   "execution_count": 82,
   "metadata": {},
   "outputs": [],
   "source": [
    "Xtrain, Xtest, ytrain, ytest = train_test_split(feats,target)"
   ]
  },
  {
   "cell_type": "code",
   "execution_count": 83,
   "metadata": {},
   "outputs": [
    {
     "name": "stdout",
     "output_type": "stream",
     "text": [
      "Training R2: 0.7728663554603283\n",
      "Test R2: 0.7685017978563359\n"
     ]
    }
   ],
   "source": [
    "ols.fit(Xtrain,ytrain)\n",
    "print(f\"Training R2: {ols.score(Xtrain,ytrain)}\")\n",
    "print(f\"Test R2: {ols.score(Xtest,ytest)}\")"
   ]
  },
  {
   "cell_type": "code",
   "execution_count": 86,
   "metadata": {},
   "outputs": [
    {
     "data": {
      "text/plain": [
       "['total_pop',\n",
       " 'gini_index',\n",
       " 'mean_commute_time',\n",
       " 'bachelors_ormore',\n",
       " 'median_income']"
      ]
     },
     "execution_count": 86,
     "metadata": {},
     "output_type": "execute_result"
    }
   ],
   "source": [
    "Xtrain.columns.to_list()"
   ]
  },
  {
   "cell_type": "code",
   "execution_count": 87,
   "metadata": {},
   "outputs": [],
   "source": [
    "# code to check features for multicollinearity and plot:\n",
    "\n",
    "\n",
    "continuous_features = Xtrain.columns.to_list()\n",
    "scores = {}\n",
    "ols = LinearRegression()\n",
    "from sklearn.metrics import r2_score\n",
    "for feature_name in continuous_features:\n",
    "                df2     = Xtrain.copy()\n",
    "                feature = df2[feature_name].copy()\n",
    "                df2.drop(feature_name, axis=1, inplace=True)\n",
    "                ols.fit(df2, feature)\n",
    "                scores[feature_name] = ols.score(df2, feature)   "
   ]
  },
  {
   "cell_type": "code",
   "execution_count": 96,
   "metadata": {},
   "outputs": [
    {
     "data": {
      "text/plain": [
       "(array([0, 1, 2, 3, 4]), <a list of 5 Text xticklabel objects>)"
      ]
     },
     "execution_count": 96,
     "metadata": {},
     "output_type": "execute_result"
    },
    {
     "data": {
      "image/png": "[encoded data removed]",
      "text/plain": [
       "<Figure size 432x288 with 1 Axes>"
      ]
     },
     "metadata": {
      "needs_background": "light"
     },
     "output_type": "display_data"
    }
   ],
   "source": [
    "import seaborn as sns\n",
    "sns.barplot(x='index', y='R2', data=pd.DataFrame(scores, index=['R2']).T.reset_index())\n",
    "plt.title('$R^2$ of a continuous feature against the other features')\n",
    "plt.xticks(rotation = 90)\n",
    "# we might have some multicollinearity"
   ]
  },
  {
   "cell_type": "code",
   "execution_count": 97,
   "metadata": {},
   "outputs": [],
   "source": [
    "from sklearn.linear_model import Lasso\n",
    "lasso = Lasso()\n",
    "target =  nyc['rent']\n",
    "feats = nyc[['total_pop','gini_index','mean_commute_time','bachelors_ormore','median_income']]"
   ]
  },
  {
   "cell_type": "code",
   "execution_count": 112,
   "metadata": {},
   "outputs": [],
   "source": [
    "dummy_cols = pd.get_dummies(nyc['CountyName']).drop('Queens',axis=1)"
   ]
  },
  {
   "cell_type": "code",
   "execution_count": 117,
   "metadata": {},
   "outputs": [],
   "source": [
    "feats2 = pd.concat((feats,dummy_cols), axis=1)"
   ]
  },
  {
   "cell_type": "code",
   "execution_count": 121,
   "metadata": {},
   "outputs": [
    {
     "data": {
      "text/plain": [
       "Lasso(alpha=1.0, copy_X=True, fit_intercept=True, max_iter=10000,\n",
       "      normalize=True, positive=False, precompute=False, random_state=None,\n",
       "      selection='cyclic', tol=0.0001, warm_start=False)"
      ]
     },
     "execution_count": 121,
     "metadata": {},
     "output_type": "execute_result"
    }
   ],
   "source": [
    "lasso.set_params(max_iter=10000, normalize=True)"
   ]
  },
  {
   "cell_type": "code",
   "execution_count": 123,
   "metadata": {},
   "outputs": [
    {
     "data": {
      "text/plain": [
       "GridSearchCV(cv=5, error_score=nan,\n",
       "             estimator=Lasso(alpha=1.0, copy_X=True, fit_intercept=True,\n",
       "                             max_iter=10000, normalize=True, positive=False,\n",
       "                             precompute=False, random_state=None,\n",
       "                             selection='cyclic', tol=0.0001, warm_start=False),\n",
       "             iid='deprecated', n_jobs=None,\n",
       "             param_grid=[{'alpha': [0.0001, 0.001, 0.01, 0.05, 0.1, 0.5, 1, 10,\n",
       "                                    100]}],\n",
       "             pre_dispatch='2*n_jobs', refit=True, return_train_score=True,\n",
       "             scoring=None, verbose=0)"
      ]
     },
     "execution_count": 123,
     "metadata": {},
     "output_type": "execute_result"
    }
   ],
   "source": [
    "from sklearn.model_selection import GridSearchCV\n",
    "grid_param = [{'alpha': [0.0001, 0.001, 0.01, 0.05, 0.1, 0.5, 1, 10, 100]}]\n",
    "grid = GridSearchCV(estimator=lasso, param_grid=grid_param, cv=5, return_train_score=True)\n",
    "# you can pass a number into CV or a cross-val object such as kfold\n",
    "grid.fit(feats2,target)"
   ]
  },
  {
   "cell_type": "code",
   "execution_count": 158,
   "metadata": {},
   "outputs": [],
   "source": [
    "grid_results = pd.DataFrame({'mean_test_R2':grid.cv_results_['mean_test_score'],\n",
    "                             'mean_train_R2':grid.cv_results_['mean_train_score'],\n",
    "                             'alpha':grid.cv_results_['param_alpha'],\n",
    "                             'rank':grid.cv_results_['rank_test_score']\n",
    "             })"
   ]
  },
  {
   "cell_type": "code",
   "execution_count": 167,
   "metadata": {},
   "outputs": [
    {
     "data": {
      "text/html": [
       "<div>\n",
       "<style scoped>\n",
       "    .dataframe tbody tr th:only-of-type {\n",
       "        vertical-align: middle;\n",
       "    }\n",
       "\n",
       "    .dataframe tbody tr th {\n",
       "        vertical-align: top;\n",
       "    }\n",
       "\n",
       "    .dataframe thead th {\n",
       "        text-align: right;\n",
       "    }\n",
       "</style>\n",
       "<table border=\"1\" class=\"dataframe\">\n",
       "  <thead>\n",
       "    <tr style=\"text-align: right;\">\n",
       "      <th></th>\n",
       "      <th>mean_test_R2</th>\n",
       "      <th>mean_train_R2</th>\n",
       "      <th>alpha</th>\n",
       "      <th>rank</th>\n",
       "    </tr>\n",
       "  </thead>\n",
       "  <tbody>\n",
       "    <tr>\n",
       "      <th>6</th>\n",
       "      <td>0.813644</td>\n",
       "      <td>0.861956</td>\n",
       "      <td>1</td>\n",
       "      <td>1</td>\n",
       "    </tr>\n",
       "  </tbody>\n",
       "</table>\n",
       "</div>"
      ],
      "text/plain": [
       "   mean_test_R2  mean_train_R2 alpha  rank\n",
       "6      0.813644       0.861956     1     1"
      ]
     },
     "execution_count": 167,
     "metadata": {},
     "output_type": "execute_result"
    }
   ],
   "source": [
    "grid_results[grid_results['rank'] == 1]"
   ]
  },
  {
   "cell_type": "code",
   "execution_count": 170,
   "metadata": {},
   "outputs": [
    {
     "data": {
      "text/html": [
       "<div>\n",
       "<style scoped>\n",
       "    .dataframe tbody tr th:only-of-type {\n",
       "        vertical-align: middle;\n",
       "    }\n",
       "\n",
       "    .dataframe tbody tr th {\n",
       "        vertical-align: top;\n",
       "    }\n",
       "\n",
       "    .dataframe thead th {\n",
       "        text-align: right;\n",
       "    }\n",
       "</style>\n",
       "<table border=\"1\" class=\"dataframe\">\n",
       "  <thead>\n",
       "    <tr style=\"text-align: right;\">\n",
       "      <th></th>\n",
       "      <th>total_pop</th>\n",
       "      <th>gini_index</th>\n",
       "      <th>mean_commute_time</th>\n",
       "      <th>bachelors_ormore</th>\n",
       "      <th>median_income</th>\n",
       "      <th>Bronx</th>\n",
       "      <th>Kings</th>\n",
       "      <th>New York</th>\n",
       "      <th>Richmond</th>\n",
       "    </tr>\n",
       "    <tr>\n",
       "      <th>zipcodes</th>\n",
       "      <th></th>\n",
       "      <th></th>\n",
       "      <th></th>\n",
       "      <th></th>\n",
       "      <th></th>\n",
       "      <th></th>\n",
       "      <th></th>\n",
       "      <th></th>\n",
       "      <th></th>\n",
       "    </tr>\n",
       "  </thead>\n",
       "  <tbody>\n",
       "    <tr>\n",
       "      <th>10025</th>\n",
       "      <td>11.438256</td>\n",
       "      <td>0.5968</td>\n",
       "      <td>15.548031</td>\n",
       "      <td>0.397446</td>\n",
       "      <td>11.361288</td>\n",
       "      <td>0</td>\n",
       "      <td>0</td>\n",
       "      <td>1</td>\n",
       "      <td>0</td>\n",
       "    </tr>\n",
       "    <tr>\n",
       "      <th>10023</th>\n",
       "      <td>11.041881</td>\n",
       "      <td>0.5604</td>\n",
       "      <td>15.426283</td>\n",
       "      <td>0.501241</td>\n",
       "      <td>11.778761</td>\n",
       "      <td>0</td>\n",
       "      <td>0</td>\n",
       "      <td>1</td>\n",
       "      <td>0</td>\n",
       "    </tr>\n",
       "    <tr>\n",
       "      <th>10002</th>\n",
       "      <td>11.225150</td>\n",
       "      <td>0.5838</td>\n",
       "      <td>13.679810</td>\n",
       "      <td>0.240609</td>\n",
       "      <td>10.487350</td>\n",
       "      <td>0</td>\n",
       "      <td>0</td>\n",
       "      <td>1</td>\n",
       "      <td>0</td>\n",
       "    </tr>\n",
       "    <tr>\n",
       "      <th>11226</th>\n",
       "      <td>11.515692</td>\n",
       "      <td>0.4631</td>\n",
       "      <td>20.663362</td>\n",
       "      <td>0.175414</td>\n",
       "      <td>10.859998</td>\n",
       "      <td>0</td>\n",
       "      <td>1</td>\n",
       "      <td>0</td>\n",
       "      <td>0</td>\n",
       "    </tr>\n",
       "    <tr>\n",
       "      <th>10467</th>\n",
       "      <td>11.549566</td>\n",
       "      <td>0.4810</td>\n",
       "      <td>18.367283</td>\n",
       "      <td>0.110043</td>\n",
       "      <td>10.519079</td>\n",
       "      <td>1</td>\n",
       "      <td>0</td>\n",
       "      <td>0</td>\n",
       "      <td>0</td>\n",
       "    </tr>\n",
       "  </tbody>\n",
       "</table>\n",
       "</div>"
      ],
      "text/plain": [
       "          total_pop  gini_index  mean_commute_time  bachelors_ormore  \\\n",
       "zipcodes                                                               \n",
       "10025     11.438256      0.5968          15.548031          0.397446   \n",
       "10023     11.041881      0.5604          15.426283          0.501241   \n",
       "10002     11.225150      0.5838          13.679810          0.240609   \n",
       "11226     11.515692      0.4631          20.663362          0.175414   \n",
       "10467     11.549566      0.4810          18.367283          0.110043   \n",
       "\n",
       "          median_income  Bronx  Kings  New York  Richmond  \n",
       "zipcodes                                                   \n",
       "10025         11.361288      0      0         1         0  \n",
       "10023         11.778761      0      0         1         0  \n",
       "10002         10.487350      0      0         1         0  \n",
       "11226         10.859998      0      1         0         0  \n",
       "10467         10.519079      1      0         0         0  "
      ]
     },
     "execution_count": 170,
     "metadata": {},
     "output_type": "execute_result"
    }
   ],
   "source": [
    "feats3 = feats2.copy()\n",
    "feats3['total_pop'] = np.log(feats3['total_pop'])\n",
    "feats3['median_income'] = np.log(feats3['median_income'])\n",
    "feats3.head()"
   ]
  },
  {
   "cell_type": "code",
   "execution_count": 171,
   "metadata": {},
   "outputs": [
    {
     "data": {
      "text/plain": [
       "GridSearchCV(cv=5, error_score=nan,\n",
       "             estimator=Lasso(alpha=1.0, copy_X=True, fit_intercept=True,\n",
       "                             max_iter=1000, normalize=False, positive=False,\n",
       "                             precompute=False, random_state=None,\n",
       "                             selection='cyclic', tol=0.0001, warm_start=False),\n",
       "             iid='deprecated', n_jobs=None,\n",
       "             param_grid=[{'alpha': [0.0001, 0.001, 0.01, 0.05, 0.1, 0.5, 1, 10,\n",
       "                                    100]}],\n",
       "             pre_dispatch='2*n_jobs', refit=True, return_train_score=True,\n",
       "             scoring=None, verbose=0)"
      ]
     },
     "execution_count": 171,
     "metadata": {},
     "output_type": "execute_result"
    }
   ],
   "source": [
    "from sklearn.model_selection import GridSearchCV\n",
    "lasso = Lasso()\n",
    "grid_param = [{'alpha': [0.0001, 0.001, 0.01, 0.05, 0.1, 0.5, 1, 10, 100]}]\n",
    "grid = GridSearchCV(estimator=lasso, param_grid=grid_param, cv=5, return_train_score=True)\n",
    "\n",
    "grid.fit(feats3,target)"
   ]
  },
  {
   "cell_type": "code",
   "execution_count": 172,
   "metadata": {},
   "outputs": [],
   "source": [
    "grid_results = pd.DataFrame({'mean_test_R2':grid.cv_results_['mean_test_score'],\n",
    "                             'mean_train_R2':grid.cv_results_['mean_train_score'],\n",
    "                             'alpha':grid.cv_results_['param_alpha'],\n",
    "                             'rank':grid.cv_results_['rank_test_score']\n",
    "             })"
   ]
  },
  {
   "cell_type": "code",
   "execution_count": 174,
   "metadata": {},
   "outputs": [
    {
     "data": {
      "text/html": [
       "<div>\n",
       "<style scoped>\n",
       "    .dataframe tbody tr th:only-of-type {\n",
       "        vertical-align: middle;\n",
       "    }\n",
       "\n",
       "    .dataframe tbody tr th {\n",
       "        vertical-align: top;\n",
       "    }\n",
       "\n",
       "    .dataframe thead th {\n",
       "        text-align: right;\n",
       "    }\n",
       "</style>\n",
       "<table border=\"1\" class=\"dataframe\">\n",
       "  <thead>\n",
       "    <tr style=\"text-align: right;\">\n",
       "      <th></th>\n",
       "      <th>mean_test_R2</th>\n",
       "      <th>mean_train_R2</th>\n",
       "      <th>alpha</th>\n",
       "      <th>rank</th>\n",
       "    </tr>\n",
       "  </thead>\n",
       "  <tbody>\n",
       "    <tr>\n",
       "      <th>4</th>\n",
       "      <td>0.80989</td>\n",
       "      <td>0.865007</td>\n",
       "      <td>0.1</td>\n",
       "      <td>1</td>\n",
       "    </tr>\n",
       "  </tbody>\n",
       "</table>\n",
       "</div>"
      ],
      "text/plain": [
       "   mean_test_R2  mean_train_R2 alpha  rank\n",
       "4       0.80989       0.865007   0.1     1"
      ]
     },
     "execution_count": 174,
     "metadata": {},
     "output_type": "execute_result"
    }
   ],
   "source": [
    "grid_results[grid_results['rank'] == 1]"
   ]
  }
 ],
 "metadata": {
  "kernelspec": {
   "display_name": "Python 3",
   "language": "python",
   "name": "python3"
  },
  "language_info": {
   "codemirror_mode": {
    "name": "ipython",
    "version": 3
   },
   "file_extension": ".py",
   "mimetype": "text/x-python",
   "name": "python",
   "nbconvert_exporter": "python",
   "pygments_lexer": "ipython3",
   "version": "3.7.6"
  }
 },
 "nbformat": 4,
 "nbformat_minor": 4
}
