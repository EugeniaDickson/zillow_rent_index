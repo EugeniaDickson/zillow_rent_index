{
 "cells": [
  {
   "cell_type": "code",
   "execution_count": 10,
   "metadata": {},
   "outputs": [],
   "source": [
    "import numpy as np\n",
    "import pandas as pd\n",
    "pd.set_option('display.max_columns', 100)\n",
    "import matplotlib.pyplot as plt\n",
    "\n",
    "zillow = pd.read_csv('~/Desktop/NYCDSA/Capstone/data/zillow-long.csv')\n",
    "acs_zip = pd.read_csv('~/Desktop/NYCDSA/Capstone/data/zipcode_census_data_2018_5yr.csv')\n",
    "acs2 = pd.read_csv('~/Desktop/NYCDSA/Capstone/data/zipcode_2.csv')"
   ]
  },
  {
   "cell_type": "code",
   "execution_count": 11,
   "metadata": {},
   "outputs": [
    {
     "data": {
      "text/html": [
       "<div>\n",
       "<style scoped>\n",
       "    .dataframe tbody tr th:only-of-type {\n",
       "        vertical-align: middle;\n",
       "    }\n",
       "\n",
       "    .dataframe tbody tr th {\n",
       "        vertical-align: top;\n",
       "    }\n",
       "\n",
       "    .dataframe thead th {\n",
       "        text-align: right;\n",
       "    }\n",
       "</style>\n",
       "<table border=\"1\" class=\"dataframe\">\n",
       "  <thead>\n",
       "    <tr style=\"text-align: right;\">\n",
       "      <th></th>\n",
       "      <th>RegionID</th>\n",
       "      <th>SizeRank</th>\n",
       "      <th>State</th>\n",
       "      <th>City</th>\n",
       "      <th>zipcodes</th>\n",
       "      <th>date</th>\n",
       "      <th>rent</th>\n",
       "    </tr>\n",
       "  </thead>\n",
       "  <tbody>\n",
       "    <tr>\n",
       "      <th>0</th>\n",
       "      <td>61639</td>\n",
       "      <td>1</td>\n",
       "      <td>NY</td>\n",
       "      <td>New York</td>\n",
       "      <td>10025</td>\n",
       "      <td>2014-01</td>\n",
       "      <td>3062.0</td>\n",
       "    </tr>\n",
       "    <tr>\n",
       "      <th>1</th>\n",
       "      <td>84654</td>\n",
       "      <td>2</td>\n",
       "      <td>IL</td>\n",
       "      <td>Chicago</td>\n",
       "      <td>60657</td>\n",
       "      <td>2014-01</td>\n",
       "      <td>1544.0</td>\n",
       "    </tr>\n",
       "    <tr>\n",
       "      <th>2</th>\n",
       "      <td>61637</td>\n",
       "      <td>3</td>\n",
       "      <td>NY</td>\n",
       "      <td>New York</td>\n",
       "      <td>10023</td>\n",
       "      <td>2014-01</td>\n",
       "      <td>3104.0</td>\n",
       "    </tr>\n",
       "    <tr>\n",
       "      <th>3</th>\n",
       "      <td>91982</td>\n",
       "      <td>4</td>\n",
       "      <td>TX</td>\n",
       "      <td>Houston</td>\n",
       "      <td>77494</td>\n",
       "      <td>2014-01</td>\n",
       "      <td>1738.0</td>\n",
       "    </tr>\n",
       "    <tr>\n",
       "      <th>4</th>\n",
       "      <td>84616</td>\n",
       "      <td>5</td>\n",
       "      <td>IL</td>\n",
       "      <td>Chicago</td>\n",
       "      <td>60614</td>\n",
       "      <td>2014-01</td>\n",
       "      <td>1702.0</td>\n",
       "    </tr>\n",
       "  </tbody>\n",
       "</table>\n",
       "</div>"
      ],
      "text/plain": [
       "   RegionID  SizeRank State      City  zipcodes     date    rent\n",
       "0     61639         1    NY  New York     10025  2014-01  3062.0\n",
       "1     84654         2    IL   Chicago     60657  2014-01  1544.0\n",
       "2     61637         3    NY  New York     10023  2014-01  3104.0\n",
       "3     91982         4    TX   Houston     77494  2014-01  1738.0\n",
       "4     84616         5    IL   Chicago     60614  2014-01  1702.0"
      ]
     },
     "execution_count": 11,
     "metadata": {},
     "output_type": "execute_result"
    }
   ],
   "source": [
    "zillow.head()"
   ]
  },
  {
   "cell_type": "code",
   "execution_count": 18,
   "metadata": {},
   "outputs": [],
   "source": [
    "zipcodes = acs2['geo_id'].astype(str)\n",
    "zipcodes = ['0'+x if len(x) == 4 else x for x in zipcodes]\n",
    "zipcodes = ['00'+x if len(x) == 3 else x for x in zipcodes]\n",
    "acs2['geo_id'] = zipcodes"
   ]
  },
  {
   "cell_type": "code",
   "execution_count": 37,
   "metadata": {},
   "outputs": [
    {
     "data": {
      "text/plain": [
       "['median_income',\n",
       " 'income_per_capita',\n",
       " 'income_less_10000',\n",
       " 'income_10000_14999',\n",
       " 'income_15000_19999',\n",
       " 'income_20000_24999',\n",
       " 'income_25000_29999',\n",
       " 'income_30000_34999',\n",
       " 'income_35000_39999',\n",
       " 'income_40000_44999',\n",
       " 'income_45000_49999',\n",
       " 'income_50000_59999',\n",
       " 'income_60000_74999',\n",
       " 'income_75000_99999',\n",
       " 'income_100000_124999',\n",
       " 'income_125000_149999',\n",
       " 'income_150000_199999',\n",
       " 'income_200000_or_more']"
      ]
     },
     "execution_count": 37,
     "metadata": {},
     "output_type": "execute_result"
    }
   ],
   "source": [
    "acs2.columns.to_list()[81:99]"
   ]
  },
  {
   "cell_type": "code",
   "execution_count": 43,
   "metadata": {},
   "outputs": [],
   "source": [
    "zipcodes = zillow['zipcodes'].astype(str)\n",
    "zipcodes = ['0'+x if len(x) == 4 else x for x in zipcodes]\n",
    "zillow['zipcodes'] = zipcodes"
   ]
  },
  {
   "cell_type": "code",
   "execution_count": 48,
   "metadata": {},
   "outputs": [],
   "source": [
    "df = zillow[['State','City','zipcodes','date','rent']].copy()"
   ]
  },
  {
   "cell_type": "code",
   "execution_count": 59,
   "metadata": {},
   "outputs": [
    {
     "data": {
      "text/html": [
       "<div>\n",
       "<style scoped>\n",
       "    .dataframe tbody tr th:only-of-type {\n",
       "        vertical-align: middle;\n",
       "    }\n",
       "\n",
       "    .dataframe tbody tr th {\n",
       "        vertical-align: top;\n",
       "    }\n",
       "\n",
       "    .dataframe thead th {\n",
       "        text-align: right;\n",
       "    }\n",
       "</style>\n",
       "<table border=\"1\" class=\"dataframe\">\n",
       "  <thead>\n",
       "    <tr style=\"text-align: right;\">\n",
       "      <th></th>\n",
       "      <th>State</th>\n",
       "      <th>City</th>\n",
       "      <th>zipcodes</th>\n",
       "      <th>rent</th>\n",
       "    </tr>\n",
       "  </thead>\n",
       "  <tbody>\n",
       "    <tr>\n",
       "      <th>0</th>\n",
       "      <td>NY</td>\n",
       "      <td>New York</td>\n",
       "      <td>10025</td>\n",
       "      <td>3062.0</td>\n",
       "    </tr>\n",
       "    <tr>\n",
       "      <th>1</th>\n",
       "      <td>IL</td>\n",
       "      <td>Chicago</td>\n",
       "      <td>60657</td>\n",
       "      <td>1544.0</td>\n",
       "    </tr>\n",
       "    <tr>\n",
       "      <th>2</th>\n",
       "      <td>NY</td>\n",
       "      <td>New York</td>\n",
       "      <td>10023</td>\n",
       "      <td>3104.0</td>\n",
       "    </tr>\n",
       "    <tr>\n",
       "      <th>3</th>\n",
       "      <td>TX</td>\n",
       "      <td>Houston</td>\n",
       "      <td>77494</td>\n",
       "      <td>1738.0</td>\n",
       "    </tr>\n",
       "    <tr>\n",
       "      <th>4</th>\n",
       "      <td>IL</td>\n",
       "      <td>Chicago</td>\n",
       "      <td>60614</td>\n",
       "      <td>1702.0</td>\n",
       "    </tr>\n",
       "  </tbody>\n",
       "</table>\n",
       "</div>"
      ],
      "text/plain": [
       "  State      City zipcodes    rent\n",
       "0    NY  New York    10025  3062.0\n",
       "1    IL   Chicago    60657  1544.0\n",
       "2    NY  New York    10023  3104.0\n",
       "3    TX   Houston    77494  1738.0\n",
       "4    IL   Chicago    60614  1702.0"
      ]
     },
     "execution_count": 59,
     "metadata": {},
     "output_type": "execute_result"
    }
   ],
   "source": [
    "df2 = df[df.date == '2014-01']\n",
    "df2 = df2.drop('date',axis=1)\n",
    "df2.head()"
   ]
  },
  {
   "cell_type": "code",
   "execution_count": 144,
   "metadata": {},
   "outputs": [],
   "source": [
    "acs = acs2[['geo_id','do_date','total_pop','median_age','median_income']]"
   ]
  },
  {
   "cell_type": "code",
   "execution_count": 145,
   "metadata": {},
   "outputs": [],
   "source": [
    "census = df2.merge(right = acs, how = 'left', left_on = 'zipcodes', right_on = 'geo_id')"
   ]
  },
  {
   "cell_type": "code",
   "execution_count": 146,
   "metadata": {},
   "outputs": [],
   "source": [
    "census = census.drop('geo_id',axis=1).drop('do_date',axis=1)"
   ]
  },
  {
   "cell_type": "code",
   "execution_count": 147,
   "metadata": {},
   "outputs": [],
   "source": [
    "census.dropna(axis=0, how='any', thresh=None, subset=None, inplace=True)"
   ]
  },
  {
   "cell_type": "code",
   "execution_count": 148,
   "metadata": {},
   "outputs": [
    {
     "data": {
      "text/html": [
       "<div>\n",
       "<style scoped>\n",
       "    .dataframe tbody tr th:only-of-type {\n",
       "        vertical-align: middle;\n",
       "    }\n",
       "\n",
       "    .dataframe tbody tr th {\n",
       "        vertical-align: top;\n",
       "    }\n",
       "\n",
       "    .dataframe thead th {\n",
       "        text-align: right;\n",
       "    }\n",
       "</style>\n",
       "<table border=\"1\" class=\"dataframe\">\n",
       "  <thead>\n",
       "    <tr style=\"text-align: right;\">\n",
       "      <th></th>\n",
       "      <th>State</th>\n",
       "      <th>City</th>\n",
       "      <th>zipcodes</th>\n",
       "      <th>rent</th>\n",
       "      <th>total_pop</th>\n",
       "      <th>median_age</th>\n",
       "      <th>median_income</th>\n",
       "    </tr>\n",
       "  </thead>\n",
       "  <tbody>\n",
       "    <tr>\n",
       "      <th>0</th>\n",
       "      <td>NY</td>\n",
       "      <td>New York</td>\n",
       "      <td>10025</td>\n",
       "      <td>3062.00</td>\n",
       "      <td>92805.0</td>\n",
       "      <td>41.3</td>\n",
       "      <td>85930.0</td>\n",
       "    </tr>\n",
       "    <tr>\n",
       "      <th>1</th>\n",
       "      <td>IL</td>\n",
       "      <td>Chicago</td>\n",
       "      <td>60657</td>\n",
       "      <td>1544.00</td>\n",
       "      <td>70052.0</td>\n",
       "      <td>31.2</td>\n",
       "      <td>92295.0</td>\n",
       "    </tr>\n",
       "    <tr>\n",
       "      <th>2</th>\n",
       "      <td>NY</td>\n",
       "      <td>New York</td>\n",
       "      <td>10023</td>\n",
       "      <td>3104.00</td>\n",
       "      <td>62435.0</td>\n",
       "      <td>43.3</td>\n",
       "      <td>130452.0</td>\n",
       "    </tr>\n",
       "    <tr>\n",
       "      <th>3</th>\n",
       "      <td>TX</td>\n",
       "      <td>Houston</td>\n",
       "      <td>77494</td>\n",
       "      <td>1738.00</td>\n",
       "      <td>114989.0</td>\n",
       "      <td>34.9</td>\n",
       "      <td>139669.0</td>\n",
       "    </tr>\n",
       "    <tr>\n",
       "      <th>4</th>\n",
       "      <td>IL</td>\n",
       "      <td>Chicago</td>\n",
       "      <td>60614</td>\n",
       "      <td>1702.00</td>\n",
       "      <td>71308.0</td>\n",
       "      <td>30.3</td>\n",
       "      <td>107461.0</td>\n",
       "    </tr>\n",
       "    <tr>\n",
       "      <th>...</th>\n",
       "      <td>...</td>\n",
       "      <td>...</td>\n",
       "      <td>...</td>\n",
       "      <td>...</td>\n",
       "      <td>...</td>\n",
       "      <td>...</td>\n",
       "      <td>...</td>\n",
       "    </tr>\n",
       "    <tr>\n",
       "      <th>2603</th>\n",
       "      <td>MA</td>\n",
       "      <td>Boston</td>\n",
       "      <td>02108</td>\n",
       "      <td>2484.00</td>\n",
       "      <td>4082.0</td>\n",
       "      <td>35.1</td>\n",
       "      <td>136667.0</td>\n",
       "    </tr>\n",
       "    <tr>\n",
       "      <th>2604</th>\n",
       "      <td>CA</td>\n",
       "      <td>Los Angeles-Long Beach-Anaheim</td>\n",
       "      <td>90067</td>\n",
       "      <td>7832.89</td>\n",
       "      <td>2314.0</td>\n",
       "      <td>61.8</td>\n",
       "      <td>129306.0</td>\n",
       "    </tr>\n",
       "    <tr>\n",
       "      <th>2605</th>\n",
       "      <td>MA</td>\n",
       "      <td>Boston</td>\n",
       "      <td>02110</td>\n",
       "      <td>4014.00</td>\n",
       "      <td>2449.0</td>\n",
       "      <td>53.8</td>\n",
       "      <td>116932.0</td>\n",
       "    </tr>\n",
       "    <tr>\n",
       "      <th>2606</th>\n",
       "      <td>DC</td>\n",
       "      <td>Washington</td>\n",
       "      <td>20004</td>\n",
       "      <td>2213.07</td>\n",
       "      <td>1975.0</td>\n",
       "      <td>40.7</td>\n",
       "      <td>147522.0</td>\n",
       "    </tr>\n",
       "    <tr>\n",
       "      <th>2607</th>\n",
       "      <td>IL</td>\n",
       "      <td>Chicago</td>\n",
       "      <td>60602</td>\n",
       "      <td>2377.00</td>\n",
       "      <td>1244.0</td>\n",
       "      <td>30.6</td>\n",
       "      <td>157125.0</td>\n",
       "    </tr>\n",
       "  </tbody>\n",
       "</table>\n",
       "<p>2603 rows × 7 columns</p>\n",
       "</div>"
      ],
      "text/plain": [
       "     State                            City zipcodes     rent  total_pop  \\\n",
       "0       NY                        New York    10025  3062.00    92805.0   \n",
       "1       IL                         Chicago    60657  1544.00    70052.0   \n",
       "2       NY                        New York    10023  3104.00    62435.0   \n",
       "3       TX                         Houston    77494  1738.00   114989.0   \n",
       "4       IL                         Chicago    60614  1702.00    71308.0   \n",
       "...    ...                             ...      ...      ...        ...   \n",
       "2603    MA                          Boston    02108  2484.00     4082.0   \n",
       "2604    CA  Los Angeles-Long Beach-Anaheim    90067  7832.89     2314.0   \n",
       "2605    MA                          Boston    02110  4014.00     2449.0   \n",
       "2606    DC                      Washington    20004  2213.07     1975.0   \n",
       "2607    IL                         Chicago    60602  2377.00     1244.0   \n",
       "\n",
       "      median_age  median_income  \n",
       "0           41.3        85930.0  \n",
       "1           31.2        92295.0  \n",
       "2           43.3       130452.0  \n",
       "3           34.9       139669.0  \n",
       "4           30.3       107461.0  \n",
       "...          ...            ...  \n",
       "2603        35.1       136667.0  \n",
       "2604        61.8       129306.0  \n",
       "2605        53.8       116932.0  \n",
       "2606        40.7       147522.0  \n",
       "2607        30.6       157125.0  \n",
       "\n",
       "[2603 rows x 7 columns]"
      ]
     },
     "execution_count": 148,
     "metadata": {},
     "output_type": "execute_result"
    }
   ],
   "source": [
    "census"
   ]
  },
  {
   "cell_type": "code",
   "execution_count": 106,
   "metadata": {},
   "outputs": [],
   "source": [
    "target = np.array(np.log(census.rent)).reshape(-1, 1)\n",
    "features = np.array(np.log(census.median_income)).reshape(-1, 1)"
   ]
  },
  {
   "cell_type": "code",
   "execution_count": 99,
   "metadata": {},
   "outputs": [
    {
     "name": "stdout",
     "output_type": "stream",
     "text": [
      "[[0.61239893]]\n",
      "[0.35804497]\n",
      "0.48458258148674127\n"
     ]
    }
   ],
   "source": [
    "from sklearn.linear_model import LinearRegression\n",
    "ols = LinearRegression() # another way to import this module\n",
    "\n",
    "'''FIT THE MODEL'''\n",
    "\n",
    "\n",
    "ols.fit(features,target) # may need to np.reshape(-1,1)\n",
    "\n",
    "'''ONCE FIT, NEW OUTPUT'''\n",
    "print(ols.coef_) # coefficient\n",
    "print(ols.intercept_) # intercept\n",
    "\n",
    "print(ols.score(features,target))"
   ]
  },
  {
   "cell_type": "code",
   "execution_count": 101,
   "metadata": {},
   "outputs": [
    {
     "data": {
      "text/plain": [
       "<matplotlib.collections.PathCollection at 0x7fd37ff38d10>"
      ]
     },
     "execution_count": 101,
     "metadata": {},
     "output_type": "execute_result"
    },
    {
     "data": {
      "image/png": "[encoded data removed]",
      "text/plain": [
       "<Figure size 432x288 with 1 Axes>"
      ]
     },
     "metadata": {
      "needs_background": "light"
     },
     "output_type": "display_data"
    }
   ],
   "source": [
    "plt.scatter(target,features)"
   ]
  },
  {
   "cell_type": "code",
   "execution_count": 102,
   "metadata": {},
   "outputs": [
    {
     "data": {
      "text/plain": [
       "<matplotlib.collections.PathCollection at 0x7fd37ff4a310>"
      ]
     },
     "execution_count": 102,
     "metadata": {},
     "output_type": "execute_result"
    },
    {
     "data": {
      "image/png": "[encoded data removed]",
      "text/plain": [
       "<Figure size 432x288 with 1 Axes>"
      ]
     },
     "metadata": {
      "needs_background": "light"
     },
     "output_type": "display_data"
    }
   ],
   "source": [
    "plt.scatter(ols.predict(features),target)"
   ]
  },
  {
   "cell_type": "code",
   "execution_count": 116,
   "metadata": {},
   "outputs": [],
   "source": [
    "features2 = census[['median_income','median_age','total_pop']].copy()\n",
    "features2['median_income'] = np.log(features2['median_income'])"
   ]
  },
  {
   "cell_type": "code",
   "execution_count": 119,
   "metadata": {},
   "outputs": [
    {
     "data": {
      "text/plain": [
       "0.48712692935895846"
      ]
     },
     "execution_count": 119,
     "metadata": {},
     "output_type": "execute_result"
    }
   ],
   "source": [
    "ols.fit(features2,target)\n",
    "ols.score(features2,target)"
   ]
  },
  {
   "cell_type": "code",
   "execution_count": 120,
   "metadata": {},
   "outputs": [
    {
     "data": {
      "text/plain": [
       "<matplotlib.collections.PathCollection at 0x7fd37ffa6e90>"
      ]
     },
     "execution_count": 120,
     "metadata": {},
     "output_type": "execute_result"
    },
    {
     "data": {
      "image/png": "[encoded data removed]",
      "text/plain": [
       "<Figure size 432x288 with 1 Axes>"
      ]
     },
     "metadata": {
      "needs_background": "light"
     },
     "output_type": "display_data"
    }
   ],
   "source": [
    "plt.scatter(ols.predict(features2),target)"
   ]
  },
  {
   "cell_type": "markdown",
   "metadata": {},
   "source": [
    "# with ethan's df"
   ]
  },
  {
   "cell_type": "code",
   "execution_count": 129,
   "metadata": {},
   "outputs": [],
   "source": [
    "acs_final = acs_zip[['geo_id','total_pop','median_age','median_income']].copy()\n",
    "zipcodes = acs_zip['geo_id'].astype(str)\n",
    "zipcodes = ['0'+x if len(x) == 4 else x for x in zipcodes]\n",
    "zipcodes = ['00'+x if len(x) == 3 else x for x in zipcodes]\n",
    "acs_final['geo_id'] = zipcodes"
   ]
  },
  {
   "cell_type": "code",
   "execution_count": 150,
   "metadata": {},
   "outputs": [
    {
     "data": {
      "text/html": [
       "<div>\n",
       "<style scoped>\n",
       "    .dataframe tbody tr th:only-of-type {\n",
       "        vertical-align: middle;\n",
       "    }\n",
       "\n",
       "    .dataframe tbody tr th {\n",
       "        vertical-align: top;\n",
       "    }\n",
       "\n",
       "    .dataframe thead th {\n",
       "        text-align: right;\n",
       "    }\n",
       "</style>\n",
       "<table border=\"1\" class=\"dataframe\">\n",
       "  <thead>\n",
       "    <tr style=\"text-align: right;\">\n",
       "      <th></th>\n",
       "      <th>geo_id</th>\n",
       "      <th>total_pop</th>\n",
       "      <th>median_age</th>\n",
       "      <th>median_income</th>\n",
       "    </tr>\n",
       "  </thead>\n",
       "  <tbody>\n",
       "    <tr>\n",
       "      <th>0</th>\n",
       "      <td>87537</td>\n",
       "      <td>2510.0</td>\n",
       "      <td>42.1</td>\n",
       "      <td>NaN</td>\n",
       "    </tr>\n",
       "    <tr>\n",
       "      <th>1</th>\n",
       "      <td>87017</td>\n",
       "      <td>346.0</td>\n",
       "      <td>50.9</td>\n",
       "      <td>NaN</td>\n",
       "    </tr>\n",
       "    <tr>\n",
       "      <th>2</th>\n",
       "      <td>87528</td>\n",
       "      <td>3505.0</td>\n",
       "      <td>27.9</td>\n",
       "      <td>NaN</td>\n",
       "    </tr>\n",
       "    <tr>\n",
       "      <th>3</th>\n",
       "      <td>87533</td>\n",
       "      <td>133.0</td>\n",
       "      <td>25.8</td>\n",
       "      <td>NaN</td>\n",
       "    </tr>\n",
       "    <tr>\n",
       "      <th>4</th>\n",
       "      <td>87511</td>\n",
       "      <td>2896.0</td>\n",
       "      <td>36.0</td>\n",
       "      <td>NaN</td>\n",
       "    </tr>\n",
       "    <tr>\n",
       "      <th>...</th>\n",
       "      <td>...</td>\n",
       "      <td>...</td>\n",
       "      <td>...</td>\n",
       "      <td>...</td>\n",
       "    </tr>\n",
       "    <tr>\n",
       "      <th>4082</th>\n",
       "      <td>80809</td>\n",
       "      <td>1185.0</td>\n",
       "      <td>54.1</td>\n",
       "      <td>58813.0</td>\n",
       "    </tr>\n",
       "    <tr>\n",
       "      <th>4083</th>\n",
       "      <td>62340</td>\n",
       "      <td>1894.0</td>\n",
       "      <td>43.1</td>\n",
       "      <td>51932.0</td>\n",
       "    </tr>\n",
       "    <tr>\n",
       "      <th>4084</th>\n",
       "      <td>13343</td>\n",
       "      <td>1772.0</td>\n",
       "      <td>46.6</td>\n",
       "      <td>59167.0</td>\n",
       "    </tr>\n",
       "    <tr>\n",
       "      <th>4085</th>\n",
       "      <td>95421</td>\n",
       "      <td>1681.0</td>\n",
       "      <td>56.6</td>\n",
       "      <td>55833.0</td>\n",
       "    </tr>\n",
       "    <tr>\n",
       "      <th>4086</th>\n",
       "      <td>13304</td>\n",
       "      <td>1593.0</td>\n",
       "      <td>46.7</td>\n",
       "      <td>77813.0</td>\n",
       "    </tr>\n",
       "  </tbody>\n",
       "</table>\n",
       "<p>4087 rows × 4 columns</p>\n",
       "</div>"
      ],
      "text/plain": [
       "     geo_id  total_pop  median_age  median_income\n",
       "0     87537     2510.0        42.1            NaN\n",
       "1     87017      346.0        50.9            NaN\n",
       "2     87528     3505.0        27.9            NaN\n",
       "3     87533      133.0        25.8            NaN\n",
       "4     87511     2896.0        36.0            NaN\n",
       "...     ...        ...         ...            ...\n",
       "4082  80809     1185.0        54.1        58813.0\n",
       "4083  62340     1894.0        43.1        51932.0\n",
       "4084  13343     1772.0        46.6        59167.0\n",
       "4085  95421     1681.0        56.6        55833.0\n",
       "4086  13304     1593.0        46.7        77813.0\n",
       "\n",
       "[4087 rows x 4 columns]"
      ]
     },
     "execution_count": 150,
     "metadata": {},
     "output_type": "execute_result"
    }
   ],
   "source": [
    "acs_final"
   ]
  },
  {
   "cell_type": "code",
   "execution_count": 141,
   "metadata": {},
   "outputs": [
    {
     "data": {
      "text/html": [
       "<div>\n",
       "<style scoped>\n",
       "    .dataframe tbody tr th:only-of-type {\n",
       "        vertical-align: middle;\n",
       "    }\n",
       "\n",
       "    .dataframe tbody tr th {\n",
       "        vertical-align: top;\n",
       "    }\n",
       "\n",
       "    .dataframe thead th {\n",
       "        text-align: right;\n",
       "    }\n",
       "</style>\n",
       "<table border=\"1\" class=\"dataframe\">\n",
       "  <thead>\n",
       "    <tr style=\"text-align: right;\">\n",
       "      <th></th>\n",
       "      <th>State</th>\n",
       "      <th>City</th>\n",
       "      <th>zipcodes</th>\n",
       "      <th>rent</th>\n",
       "    </tr>\n",
       "  </thead>\n",
       "  <tbody>\n",
       "    <tr>\n",
       "      <th>0</th>\n",
       "      <td>NY</td>\n",
       "      <td>New York</td>\n",
       "      <td>10025</td>\n",
       "      <td>3062.00</td>\n",
       "    </tr>\n",
       "    <tr>\n",
       "      <th>1</th>\n",
       "      <td>IL</td>\n",
       "      <td>Chicago</td>\n",
       "      <td>60657</td>\n",
       "      <td>1544.00</td>\n",
       "    </tr>\n",
       "    <tr>\n",
       "      <th>2</th>\n",
       "      <td>NY</td>\n",
       "      <td>New York</td>\n",
       "      <td>10023</td>\n",
       "      <td>3104.00</td>\n",
       "    </tr>\n",
       "    <tr>\n",
       "      <th>3</th>\n",
       "      <td>TX</td>\n",
       "      <td>Houston</td>\n",
       "      <td>77494</td>\n",
       "      <td>1738.00</td>\n",
       "    </tr>\n",
       "    <tr>\n",
       "      <th>4</th>\n",
       "      <td>IL</td>\n",
       "      <td>Chicago</td>\n",
       "      <td>60614</td>\n",
       "      <td>1702.00</td>\n",
       "    </tr>\n",
       "    <tr>\n",
       "      <th>...</th>\n",
       "      <td>...</td>\n",
       "      <td>...</td>\n",
       "      <td>...</td>\n",
       "      <td>...</td>\n",
       "    </tr>\n",
       "    <tr>\n",
       "      <th>2603</th>\n",
       "      <td>MA</td>\n",
       "      <td>Boston</td>\n",
       "      <td>02108</td>\n",
       "      <td>2484.00</td>\n",
       "    </tr>\n",
       "    <tr>\n",
       "      <th>2604</th>\n",
       "      <td>CA</td>\n",
       "      <td>Los Angeles-Long Beach-Anaheim</td>\n",
       "      <td>90067</td>\n",
       "      <td>7832.89</td>\n",
       "    </tr>\n",
       "    <tr>\n",
       "      <th>2605</th>\n",
       "      <td>MA</td>\n",
       "      <td>Boston</td>\n",
       "      <td>02110</td>\n",
       "      <td>4014.00</td>\n",
       "    </tr>\n",
       "    <tr>\n",
       "      <th>2606</th>\n",
       "      <td>DC</td>\n",
       "      <td>Washington</td>\n",
       "      <td>20004</td>\n",
       "      <td>2213.07</td>\n",
       "    </tr>\n",
       "    <tr>\n",
       "      <th>2607</th>\n",
       "      <td>IL</td>\n",
       "      <td>Chicago</td>\n",
       "      <td>60602</td>\n",
       "      <td>2377.00</td>\n",
       "    </tr>\n",
       "  </tbody>\n",
       "</table>\n",
       "<p>2608 rows × 4 columns</p>\n",
       "</div>"
      ],
      "text/plain": [
       "     State                            City zipcodes     rent\n",
       "0       NY                        New York    10025  3062.00\n",
       "1       IL                         Chicago    60657  1544.00\n",
       "2       NY                        New York    10023  3104.00\n",
       "3       TX                         Houston    77494  1738.00\n",
       "4       IL                         Chicago    60614  1702.00\n",
       "...    ...                             ...      ...      ...\n",
       "2603    MA                          Boston    02108  2484.00\n",
       "2604    CA  Los Angeles-Long Beach-Anaheim    90067  7832.89\n",
       "2605    MA                          Boston    02110  4014.00\n",
       "2606    DC                      Washington    20004  2213.07\n",
       "2607    IL                         Chicago    60602  2377.00\n",
       "\n",
       "[2608 rows x 4 columns]"
      ]
     },
     "execution_count": 141,
     "metadata": {},
     "output_type": "execute_result"
    }
   ],
   "source": [
    "df3 = df2.copy()\n",
    "df3"
   ]
  },
  {
   "cell_type": "code",
   "execution_count": 149,
   "metadata": {},
   "outputs": [
    {
     "data": {
      "text/html": [
       "<div>\n",
       "<style scoped>\n",
       "    .dataframe tbody tr th:only-of-type {\n",
       "        vertical-align: middle;\n",
       "    }\n",
       "\n",
       "    .dataframe tbody tr th {\n",
       "        vertical-align: top;\n",
       "    }\n",
       "\n",
       "    .dataframe thead th {\n",
       "        text-align: right;\n",
       "    }\n",
       "</style>\n",
       "<table border=\"1\" class=\"dataframe\">\n",
       "  <thead>\n",
       "    <tr style=\"text-align: right;\">\n",
       "      <th></th>\n",
       "      <th>State</th>\n",
       "      <th>City</th>\n",
       "      <th>zipcodes</th>\n",
       "      <th>rent</th>\n",
       "      <th>geo_id</th>\n",
       "      <th>total_pop</th>\n",
       "      <th>median_age</th>\n",
       "      <th>median_income</th>\n",
       "    </tr>\n",
       "  </thead>\n",
       "  <tbody>\n",
       "    <tr>\n",
       "      <th>0</th>\n",
       "      <td>NY</td>\n",
       "      <td>New York</td>\n",
       "      <td>10025</td>\n",
       "      <td>3062.00</td>\n",
       "      <td>NaN</td>\n",
       "      <td>NaN</td>\n",
       "      <td>NaN</td>\n",
       "      <td>NaN</td>\n",
       "    </tr>\n",
       "    <tr>\n",
       "      <th>1</th>\n",
       "      <td>IL</td>\n",
       "      <td>Chicago</td>\n",
       "      <td>60657</td>\n",
       "      <td>1544.00</td>\n",
       "      <td>NaN</td>\n",
       "      <td>NaN</td>\n",
       "      <td>NaN</td>\n",
       "      <td>NaN</td>\n",
       "    </tr>\n",
       "    <tr>\n",
       "      <th>2</th>\n",
       "      <td>NY</td>\n",
       "      <td>New York</td>\n",
       "      <td>10023</td>\n",
       "      <td>3104.00</td>\n",
       "      <td>NaN</td>\n",
       "      <td>NaN</td>\n",
       "      <td>NaN</td>\n",
       "      <td>NaN</td>\n",
       "    </tr>\n",
       "    <tr>\n",
       "      <th>3</th>\n",
       "      <td>TX</td>\n",
       "      <td>Houston</td>\n",
       "      <td>77494</td>\n",
       "      <td>1738.00</td>\n",
       "      <td>NaN</td>\n",
       "      <td>NaN</td>\n",
       "      <td>NaN</td>\n",
       "      <td>NaN</td>\n",
       "    </tr>\n",
       "    <tr>\n",
       "      <th>4</th>\n",
       "      <td>IL</td>\n",
       "      <td>Chicago</td>\n",
       "      <td>60614</td>\n",
       "      <td>1702.00</td>\n",
       "      <td>NaN</td>\n",
       "      <td>NaN</td>\n",
       "      <td>NaN</td>\n",
       "      <td>NaN</td>\n",
       "    </tr>\n",
       "    <tr>\n",
       "      <th>...</th>\n",
       "      <td>...</td>\n",
       "      <td>...</td>\n",
       "      <td>...</td>\n",
       "      <td>...</td>\n",
       "      <td>...</td>\n",
       "      <td>...</td>\n",
       "      <td>...</td>\n",
       "      <td>...</td>\n",
       "    </tr>\n",
       "    <tr>\n",
       "      <th>2603</th>\n",
       "      <td>MA</td>\n",
       "      <td>Boston</td>\n",
       "      <td>02108</td>\n",
       "      <td>2484.00</td>\n",
       "      <td>NaN</td>\n",
       "      <td>NaN</td>\n",
       "      <td>NaN</td>\n",
       "      <td>NaN</td>\n",
       "    </tr>\n",
       "    <tr>\n",
       "      <th>2604</th>\n",
       "      <td>CA</td>\n",
       "      <td>Los Angeles-Long Beach-Anaheim</td>\n",
       "      <td>90067</td>\n",
       "      <td>7832.89</td>\n",
       "      <td>NaN</td>\n",
       "      <td>NaN</td>\n",
       "      <td>NaN</td>\n",
       "      <td>NaN</td>\n",
       "    </tr>\n",
       "    <tr>\n",
       "      <th>2605</th>\n",
       "      <td>MA</td>\n",
       "      <td>Boston</td>\n",
       "      <td>02110</td>\n",
       "      <td>4014.00</td>\n",
       "      <td>NaN</td>\n",
       "      <td>NaN</td>\n",
       "      <td>NaN</td>\n",
       "      <td>NaN</td>\n",
       "    </tr>\n",
       "    <tr>\n",
       "      <th>2606</th>\n",
       "      <td>DC</td>\n",
       "      <td>Washington</td>\n",
       "      <td>20004</td>\n",
       "      <td>2213.07</td>\n",
       "      <td>NaN</td>\n",
       "      <td>NaN</td>\n",
       "      <td>NaN</td>\n",
       "      <td>NaN</td>\n",
       "    </tr>\n",
       "    <tr>\n",
       "      <th>2607</th>\n",
       "      <td>IL</td>\n",
       "      <td>Chicago</td>\n",
       "      <td>60602</td>\n",
       "      <td>2377.00</td>\n",
       "      <td>60602</td>\n",
       "      <td>1244.0</td>\n",
       "      <td>30.6</td>\n",
       "      <td>157125.0</td>\n",
       "    </tr>\n",
       "  </tbody>\n",
       "</table>\n",
       "<p>2608 rows × 8 columns</p>\n",
       "</div>"
      ],
      "text/plain": [
       "     State                            City zipcodes     rent geo_id  \\\n",
       "0       NY                        New York    10025  3062.00    NaN   \n",
       "1       IL                         Chicago    60657  1544.00    NaN   \n",
       "2       NY                        New York    10023  3104.00    NaN   \n",
       "3       TX                         Houston    77494  1738.00    NaN   \n",
       "4       IL                         Chicago    60614  1702.00    NaN   \n",
       "...    ...                             ...      ...      ...    ...   \n",
       "2603    MA                          Boston    02108  2484.00    NaN   \n",
       "2604    CA  Los Angeles-Long Beach-Anaheim    90067  7832.89    NaN   \n",
       "2605    MA                          Boston    02110  4014.00    NaN   \n",
       "2606    DC                      Washington    20004  2213.07    NaN   \n",
       "2607    IL                         Chicago    60602  2377.00  60602   \n",
       "\n",
       "      total_pop  median_age  median_income  \n",
       "0           NaN         NaN            NaN  \n",
       "1           NaN         NaN            NaN  \n",
       "2           NaN         NaN            NaN  \n",
       "3           NaN         NaN            NaN  \n",
       "4           NaN         NaN            NaN  \n",
       "...         ...         ...            ...  \n",
       "2603        NaN         NaN            NaN  \n",
       "2604        NaN         NaN            NaN  \n",
       "2605        NaN         NaN            NaN  \n",
       "2606        NaN         NaN            NaN  \n",
       "2607     1244.0        30.6       157125.0  \n",
       "\n",
       "[2608 rows x 8 columns]"
      ]
     },
     "execution_count": 149,
     "metadata": {},
     "output_type": "execute_result"
    }
   ],
   "source": [
    "df3.merge(acs_final, \"left\", left_on='zipcodes', right_on='geo_id')"
   ]
  },
  {
   "cell_type": "markdown",
   "metadata": {},
   "source": [
    "# new query"
   ]
  },
  {
   "cell_type": "code",
   "execution_count": 156,
   "metadata": {},
   "outputs": [],
   "source": [
    "acs_new = pd.read_csv('~/Desktop/NYCDSA/Capstone/data/zipcodes_correct.csv')\n",
    "acs_new = acs_new.drop('geo_id',axis=1)"
   ]
  },
  {
   "cell_type": "code",
   "execution_count": 179,
   "metadata": {},
   "outputs": [],
   "source": [
    "acs_new = acs_new[acs_new['state_code'] != 'PR'].copy()"
   ]
  },
  {
   "cell_type": "code",
   "execution_count": 187,
   "metadata": {},
   "outputs": [],
   "source": [
    "acs_new['zip_code'] = ['0'+x if len(x) == 4 else x for x in acs_new['zip_code'].astype(str)]"
   ]
  },
  {
   "cell_type": "code",
   "execution_count": 190,
   "metadata": {},
   "outputs": [],
   "source": [
    "df3 = df3.merge(acs_new, 'left', left_on = 'zipcodes', right_on ='zip_code')"
   ]
  },
  {
   "cell_type": "code",
   "execution_count": 203,
   "metadata": {},
   "outputs": [],
   "source": [
    "#df3[df3.isnull().any(axis=1)]\n",
    "df3.dropna(axis=0, how='any', thresh=None, subset=None, inplace=True)"
   ]
  },
  {
   "cell_type": "code",
   "execution_count": 204,
   "metadata": {},
   "outputs": [],
   "source": [
    "target = np.array(df3['rent']).reshape(-1,1)\n",
    "feat1 = np.array(df3['median_income']).reshape(-1,1)\n",
    "features = df3[['median_income','median_age','total_pop']]"
   ]
  },
  {
   "cell_type": "code",
   "execution_count": 206,
   "metadata": {},
   "outputs": [
    {
     "data": {
      "text/plain": [
       "0.4609696380862834"
      ]
     },
     "execution_count": 206,
     "metadata": {},
     "output_type": "execute_result"
    }
   ],
   "source": [
    "ols.fit(feat1,target)\n",
    "ols.score(feat1, target)"
   ]
  },
  {
   "cell_type": "code",
   "execution_count": 211,
   "metadata": {},
   "outputs": [
    {
     "data": {
      "text/plain": [
       "<matplotlib.collections.PathCollection at 0x7fd38041e4d0>"
      ]
     },
     "execution_count": 211,
     "metadata": {},
     "output_type": "execute_result"
    },
    {
     "data": {
      "image/png": "[encoded data removed]",
      "text/plain": [
       "<Figure size 432x288 with 1 Axes>"
      ]
     },
     "metadata": {
      "needs_background": "light"
     },
     "output_type": "display_data"
    }
   ],
   "source": [
    "plt.scatter(feat1,target)"
   ]
  },
  {
   "cell_type": "code",
   "execution_count": 210,
   "metadata": {},
   "outputs": [
    {
     "data": {
      "text/plain": [
       "0.48458258148674127"
      ]
     },
     "execution_count": 210,
     "metadata": {},
     "output_type": "execute_result"
    }
   ],
   "source": [
    "ols.fit(np.log(feat1), np.log(target))\n",
    "ols.score(np.log(feat1), np.log(target))"
   ]
  },
  {
   "cell_type": "code",
   "execution_count": 209,
   "metadata": {},
   "outputs": [
    {
     "data": {
      "text/plain": [
       "<matplotlib.collections.PathCollection at 0x7fd380422350>"
      ]
     },
     "execution_count": 209,
     "metadata": {},
     "output_type": "execute_result"
    },
    {
     "data": {
      "image/png": "[encoded data removed]",
      "text/plain": [
       "<Figure size 432x288 with 1 Axes>"
      ]
     },
     "metadata": {
      "needs_background": "light"
     },
     "output_type": "display_data"
    }
   ],
   "source": [
    "plt.scatter(np.log(feat1),np.log(target))"
   ]
  }
 ],
 "metadata": {
  "kernelspec": {
   "display_name": "Python 3",
   "language": "python",
   "name": "python3"
  },
  "language_info": {
   "codemirror_mode": {
    "name": "ipython",
    "version": 3
   },
   "file_extension": ".py",
   "mimetype": "text/x-python",
   "name": "python",
   "nbconvert_exporter": "python",
   "pygments_lexer": "ipython3",
   "version": "3.7.6"
  }
 },
 "nbformat": 4,
 "nbformat_minor": 4
}
