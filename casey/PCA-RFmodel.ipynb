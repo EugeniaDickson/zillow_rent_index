{
 "cells": [
  {
   "cell_type": "markdown",
   "metadata": {},
   "source": [
    "# PCA"
   ]
  },
  {
   "cell_type": "code",
   "execution_count": 1,
   "metadata": {},
   "outputs": [
    {
     "name": "stdout",
     "output_type": "stream",
     "text": [
      "Your data is ready! Merged table name is zillow_full.\n"
     ]
    }
   ],
   "source": [
    "import numpy as np\n",
    "import pandas as pd\n",
    "import matplotlib.pyplot as plt\n",
    "import seaborn as sns\n",
    "%matplotlib inline\n",
    "\n",
    "from sklearn.preprocessing import StandardScaler, LabelEncoder\n",
    "from sklearn.decomposition import PCA\n",
    "from sklearn.ensemble import RandomForestRegressor\n",
    "from sklearn.metrics import mean_squared_error\n",
    "\n",
    "from sklearn.model_selection import GridSearchCV"
   ]
  },
  {
   "cell_type": "code",
   "execution_count": null,
   "metadata": {},
   "outputs": [],
   "source": [
    "%run ../Jane/extract_data.py"
   ]
  },
  {
   "cell_type": "code",
   "execution_count": 2,
   "metadata": {},
   "outputs": [],
   "source": [
    "zillow_full = zillow_full.drop(['PersonalIncome','AQIMean','Vol_moderate_income','Vol_low_income'],axis=1)"
   ]
  },
  {
   "cell_type": "code",
   "execution_count": 3,
   "metadata": {},
   "outputs": [
    {
     "data": {
      "text/html": [
       "<div>\n",
       "<style scoped>\n",
       "    .dataframe tbody tr th:only-of-type {\n",
       "        vertical-align: middle;\n",
       "    }\n",
       "\n",
       "    .dataframe tbody tr th {\n",
       "        vertical-align: top;\n",
       "    }\n",
       "\n",
       "    .dataframe thead th {\n",
       "        text-align: right;\n",
       "    }\n",
       "</style>\n",
       "<table border=\"1\" class=\"dataframe\">\n",
       "  <thead>\n",
       "    <tr style=\"text-align: right;\">\n",
       "      <th></th>\n",
       "      <th>Zipcode</th>\n",
       "      <th>City</th>\n",
       "      <th>State</th>\n",
       "      <th>Metro</th>\n",
       "      <th>County</th>\n",
       "      <th>SizeRank</th>\n",
       "      <th>Date</th>\n",
       "      <th>Rent</th>\n",
       "      <th>Year</th>\n",
       "      <th>State-County</th>\n",
       "      <th>...</th>\n",
       "      <th>pct_poverty</th>\n",
       "      <th>housing_availability</th>\n",
       "      <th>home_density</th>\n",
       "      <th>pct_employed</th>\n",
       "      <th>pct_jobs_nightlife</th>\n",
       "      <th>pct_unemployed</th>\n",
       "      <th>move_within_city</th>\n",
       "      <th>move_new_city</th>\n",
       "      <th>avg_commute_time</th>\n",
       "      <th>pct_college</th>\n",
       "    </tr>\n",
       "  </thead>\n",
       "  <tbody>\n",
       "    <tr>\n",
       "      <th>13559</th>\n",
       "      <td>11365</td>\n",
       "      <td>New York</td>\n",
       "      <td>NY</td>\n",
       "      <td>New York-Newark-Jersey City</td>\n",
       "      <td>Queens County</td>\n",
       "      <td>915</td>\n",
       "      <td>2018-11-01</td>\n",
       "      <td>2226.0</td>\n",
       "      <td>2018</td>\n",
       "      <td>NY-Queens County</td>\n",
       "      <td>...</td>\n",
       "      <td>0.118737</td>\n",
       "      <td>1.042836</td>\n",
       "      <td>2.888896</td>\n",
       "      <td>0.909333</td>\n",
       "      <td>0.094225</td>\n",
       "      <td>0.090667</td>\n",
       "      <td>0.059778</td>\n",
       "      <td>0.01983</td>\n",
       "      <td>43.777289</td>\n",
       "      <td>0.160483</td>\n",
       "    </tr>\n",
       "  </tbody>\n",
       "</table>\n",
       "<p>1 rows × 26 columns</p>\n",
       "</div>"
      ],
      "text/plain": [
       "      Zipcode      City State                        Metro         County  \\\n",
       "13559   11365  New York    NY  New York-Newark-Jersey City  Queens County   \n",
       "\n",
       "       SizeRank       Date    Rent  Year      State-County  ...  pct_poverty  \\\n",
       "13559       915 2018-11-01  2226.0  2018  NY-Queens County  ...     0.118737   \n",
       "\n",
       "       housing_availability  home_density  pct_employed  pct_jobs_nightlife  \\\n",
       "13559              1.042836      2.888896      0.909333            0.094225   \n",
       "\n",
       "       pct_unemployed  move_within_city  move_new_city  avg_commute_time  \\\n",
       "13559        0.090667          0.059778        0.01983         43.777289   \n",
       "\n",
       "       pct_college  \n",
       "13559     0.160483  \n",
       "\n",
       "[1 rows x 26 columns]"
      ]
     },
     "execution_count": 3,
     "metadata": {},
     "output_type": "execute_result"
    }
   ],
   "source": [
    "zillow_full.sample()"
   ]
  },
  {
   "cell_type": "code",
   "execution_count": 4,
   "metadata": {},
   "outputs": [],
   "source": [
    "# separate the cols that won't go into the pca\n",
    "zillow = zillow_full[['Zipcode','City','State','Metro','County','SizeRank','Date','Rent','Year','State-County']]\n",
    "features = zillow_full.drop(['Zipcode','City','State','Metro','County','SizeRank','Date','Rent',\n",
    "                             'Year','State-County'], axis = 1).copy()"
   ]
  },
  {
   "cell_type": "code",
   "execution_count": 6,
   "metadata": {},
   "outputs": [
    {
     "data": {
      "text/html": [
       "<div>\n",
       "<style scoped>\n",
       "    .dataframe tbody tr th:only-of-type {\n",
       "        vertical-align: middle;\n",
       "    }\n",
       "\n",
       "    .dataframe tbody tr th {\n",
       "        vertical-align: top;\n",
       "    }\n",
       "\n",
       "    .dataframe thead th {\n",
       "        text-align: right;\n",
       "    }\n",
       "</style>\n",
       "<table border=\"1\" class=\"dataframe\">\n",
       "  <thead>\n",
       "    <tr style=\"text-align: right;\">\n",
       "      <th></th>\n",
       "      <th>total_pop</th>\n",
       "      <th>households</th>\n",
       "      <th>median_age</th>\n",
       "      <th>median_income</th>\n",
       "      <th>income_per_capita</th>\n",
       "      <th>gini_index</th>\n",
       "      <th>pct_poverty</th>\n",
       "      <th>housing_availability</th>\n",
       "      <th>home_density</th>\n",
       "      <th>pct_employed</th>\n",
       "      <th>pct_jobs_nightlife</th>\n",
       "      <th>pct_unemployed</th>\n",
       "      <th>move_within_city</th>\n",
       "      <th>move_new_city</th>\n",
       "      <th>avg_commute_time</th>\n",
       "      <th>pct_college</th>\n",
       "    </tr>\n",
       "  </thead>\n",
       "  <tbody>\n",
       "    <tr>\n",
       "      <th>0</th>\n",
       "      <td>2.052326</td>\n",
       "      <td>3.096986</td>\n",
       "      <td>0.677914</td>\n",
       "      <td>0.395570</td>\n",
       "      <td>1.127500</td>\n",
       "      <td>2.090545</td>\n",
       "      <td>-0.116861</td>\n",
       "      <td>0.165373</td>\n",
       "      <td>-0.951186</td>\n",
       "      <td>-0.203258</td>\n",
       "      <td>-0.502295</td>\n",
       "      <td>0.218105</td>\n",
       "      <td>0.557787</td>\n",
       "      <td>-0.131412</td>\n",
       "      <td>-0.253440</td>\n",
       "      <td>0.459031</td>\n",
       "    </tr>\n",
       "    <tr>\n",
       "      <th>1</th>\n",
       "      <td>0.708930</td>\n",
       "      <td>2.065297</td>\n",
       "      <td>1.069040</td>\n",
       "      <td>1.794826</td>\n",
       "      <td>2.899726</td>\n",
       "      <td>1.450117</td>\n",
       "      <td>-0.854462</td>\n",
       "      <td>0.768800</td>\n",
       "      <td>-1.658710</td>\n",
       "      <td>0.635772</td>\n",
       "      <td>-0.646796</td>\n",
       "      <td>-0.606914</td>\n",
       "      <td>0.220614</td>\n",
       "      <td>-0.386784</td>\n",
       "      <td>-0.603104</td>\n",
       "      <td>1.019498</td>\n",
       "    </tr>\n",
       "    <tr>\n",
       "      <th>2</th>\n",
       "      <td>1.264424</td>\n",
       "      <td>2.046087</td>\n",
       "      <td>1.127709</td>\n",
       "      <td>-1.178083</td>\n",
       "      <td>-0.401966</td>\n",
       "      <td>1.861821</td>\n",
       "      <td>1.410115</td>\n",
       "      <td>-0.524889</td>\n",
       "      <td>-0.909010</td>\n",
       "      <td>-0.314296</td>\n",
       "      <td>1.564514</td>\n",
       "      <td>0.339607</td>\n",
       "      <td>-0.408679</td>\n",
       "      <td>-0.828548</td>\n",
       "      <td>-0.196208</td>\n",
       "      <td>-0.075481</td>\n",
       "    </tr>\n",
       "    <tr>\n",
       "      <th>3</th>\n",
       "      <td>2.382845</td>\n",
       "      <td>2.446985</td>\n",
       "      <td>-0.612804</td>\n",
       "      <td>-0.669162</td>\n",
       "      <td>-0.655060</td>\n",
       "      <td>-0.261799</td>\n",
       "      <td>0.216671</td>\n",
       "      <td>-0.271246</td>\n",
       "      <td>0.058214</td>\n",
       "      <td>-0.382420</td>\n",
       "      <td>-0.115327</td>\n",
       "      <td>0.407477</td>\n",
       "      <td>-0.598288</td>\n",
       "      <td>-0.990002</td>\n",
       "      <td>1.160614</td>\n",
       "      <td>-0.619263</td>\n",
       "    </tr>\n",
       "    <tr>\n",
       "      <th>4</th>\n",
       "      <td>2.535674</td>\n",
       "      <td>2.446860</td>\n",
       "      <td>-0.808367</td>\n",
       "      <td>-1.141751</td>\n",
       "      <td>-0.920356</td>\n",
       "      <td>0.053137</td>\n",
       "      <td>1.436812</td>\n",
       "      <td>-0.650615</td>\n",
       "      <td>0.242537</td>\n",
       "      <td>-2.372156</td>\n",
       "      <td>0.573144</td>\n",
       "      <td>2.389787</td>\n",
       "      <td>0.799210</td>\n",
       "      <td>-1.038250</td>\n",
       "      <td>1.299683</td>\n",
       "      <td>-1.127515</td>\n",
       "    </tr>\n",
       "  </tbody>\n",
       "</table>\n",
       "</div>"
      ],
      "text/plain": [
       "   total_pop  households  median_age  median_income  income_per_capita  \\\n",
       "0   2.052326    3.096986    0.677914       0.395570           1.127500   \n",
       "1   0.708930    2.065297    1.069040       1.794826           2.899726   \n",
       "2   1.264424    2.046087    1.127709      -1.178083          -0.401966   \n",
       "3   2.382845    2.446985   -0.612804      -0.669162          -0.655060   \n",
       "4   2.535674    2.446860   -0.808367      -1.141751          -0.920356   \n",
       "\n",
       "   gini_index  pct_poverty  housing_availability  home_density  pct_employed  \\\n",
       "0    2.090545    -0.116861              0.165373     -0.951186     -0.203258   \n",
       "1    1.450117    -0.854462              0.768800     -1.658710      0.635772   \n",
       "2    1.861821     1.410115             -0.524889     -0.909010     -0.314296   \n",
       "3   -0.261799     0.216671             -0.271246      0.058214     -0.382420   \n",
       "4    0.053137     1.436812             -0.650615      0.242537     -2.372156   \n",
       "\n",
       "   pct_jobs_nightlife  pct_unemployed  move_within_city  move_new_city  \\\n",
       "0           -0.502295        0.218105          0.557787      -0.131412   \n",
       "1           -0.646796       -0.606914          0.220614      -0.386784   \n",
       "2            1.564514        0.339607         -0.408679      -0.828548   \n",
       "3           -0.115327        0.407477         -0.598288      -0.990002   \n",
       "4            0.573144        2.389787          0.799210      -1.038250   \n",
       "\n",
       "   avg_commute_time  pct_college  \n",
       "0         -0.253440     0.459031  \n",
       "1         -0.603104     1.019498  \n",
       "2         -0.196208    -0.075481  \n",
       "3          1.160614    -0.619263  \n",
       "4          1.299683    -1.127515  "
      ]
     },
     "execution_count": 6,
     "metadata": {},
     "output_type": "execute_result"
    }
   ],
   "source": [
    "scaler = StandardScaler()\n",
    "\n",
    "features = pd.DataFrame(scaler.fit_transform(features),columns=features.columns)\n",
    "features.head()"
   ]
  },
  {
   "cell_type": "code",
   "execution_count": 7,
   "metadata": {},
   "outputs": [
    {
     "data": {
      "image/png": "[encoded data removed]",
      "text/plain": [
       "<Figure size 1152x720 with 2 Axes>"
      ]
     },
     "metadata": {
      "needs_background": "light"
     },
     "output_type": "display_data"
    }
   ],
   "source": [
    "# # try a correlation heat map to assess for multicollinearity\n",
    "plt.figure(figsize=(16, 10)) # larger for ease of viewing\n",
    "\n",
    "heatmap = sns.heatmap(features.corr(), vmin=-1, vmax=1, annot=True)\n",
    "heatmap.set_title('Feature Correlation Heatmap', fontdict={'fontsize':12}, pad=12);"
   ]
  },
  {
   "cell_type": "code",
   "execution_count": 24,
   "metadata": {},
   "outputs": [
    {
     "data": {
      "image/png": "[encoded data removed]",
      "text/plain": [
       "<Figure size 432x288 with 2 Axes>"
      ]
     },
     "metadata": {
      "needs_background": "light"
     },
     "output_type": "display_data"
    }
   ],
   "source": [
    "socioeconomic = features[['pct_college','median_income','income_per_capita','pct_unemployed','pct_poverty',\n",
    "                          'pct_jobs_nightlife','home_density']]\n",
    "heatmap = sns.heatmap(socioeconomic.corr(), vmin=-1, vmax=1, annot=True)\n",
    "heatmap.set_title('SES Features Correlation Heatmap', fontdict={'fontsize':12}, pad=12);"
   ]
  },
  {
   "cell_type": "code",
   "execution_count": 120,
   "metadata": {},
   "outputs": [
    {
     "data": {
      "text/html": [
       "<div>\n",
       "<style scoped>\n",
       "    .dataframe tbody tr th:only-of-type {\n",
       "        vertical-align: middle;\n",
       "    }\n",
       "\n",
       "    .dataframe tbody tr th {\n",
       "        vertical-align: top;\n",
       "    }\n",
       "\n",
       "    .dataframe thead th {\n",
       "        text-align: right;\n",
       "    }\n",
       "</style>\n",
       "<table border=\"1\" class=\"dataframe\">\n",
       "  <thead>\n",
       "    <tr style=\"text-align: right;\">\n",
       "      <th></th>\n",
       "      <th>pct_college</th>\n",
       "      <th>median_income</th>\n",
       "      <th>income_per_capita</th>\n",
       "      <th>pct_unemployed</th>\n",
       "      <th>pct_poverty</th>\n",
       "      <th>pct_jobs_nightlife</th>\n",
       "      <th>home_density</th>\n",
       "    </tr>\n",
       "  </thead>\n",
       "  <tbody>\n",
       "    <tr>\n",
       "      <th>1505</th>\n",
       "      <td>2.032516</td>\n",
       "      <td>1.627879</td>\n",
       "      <td>2.927411</td>\n",
       "      <td>-1.301399</td>\n",
       "      <td>-1.226165</td>\n",
       "      <td>-1.190781</td>\n",
       "      <td>-1.590856</td>\n",
       "    </tr>\n",
       "  </tbody>\n",
       "</table>\n",
       "</div>"
      ],
      "text/plain": [
       "      pct_college  median_income  income_per_capita  pct_unemployed  \\\n",
       "1505     2.032516       1.627879           2.927411       -1.301399   \n",
       "\n",
       "      pct_poverty  pct_jobs_nightlife  home_density  \n",
       "1505    -1.226165           -1.190781     -1.590856  "
      ]
     },
     "execution_count": 120,
     "metadata": {},
     "output_type": "execute_result"
    }
   ],
   "source": [
    "socioeconomic.sample()"
   ]
  },
  {
   "cell_type": "code",
   "execution_count": 121,
   "metadata": {},
   "outputs": [],
   "source": [
    "def screePlot(df):\n",
    "    pca = PCA(n_components=df.shape[1]) \n",
    "    pca.fit(df)\n",
    "    print(pca.explained_variance_ratio_)\n",
    "    plt.plot((np.arange(pca.n_components_)+1), pca.explained_variance_ratio_, 'ro-', linewidth=2)\n",
    "    plt.title('Scree Plot')\n",
    "    plt.xlabel('# Principal Components')\n",
    "    plt.ylabel('% of Variance Explained')\n",
    "    plt.show()"
   ]
  },
  {
   "cell_type": "code",
   "execution_count": 122,
   "metadata": {},
   "outputs": [
    {
     "name": "stdout",
     "output_type": "stream",
     "text": [
      "[0.6307501  0.15998221 0.0933639  0.05347054 0.03849601 0.01508871\n",
      " 0.00884853]\n"
     ]
    },
    {
     "data": {
      "image/png": "[encoded data removed]",
      "text/plain": [
       "<Figure size 432x288 with 1 Axes>"
      ]
     },
     "metadata": {
      "needs_background": "light"
     },
     "output_type": "display_data"
    }
   ],
   "source": [
    "screePlot(socioeconomic) # take 3 pcs"
   ]
  },
  {
   "cell_type": "code",
   "execution_count": 202,
   "metadata": {},
   "outputs": [
    {
     "data": {
      "text/plain": [
       "(17751, 7)"
      ]
     },
     "execution_count": 202,
     "metadata": {},
     "output_type": "execute_result"
    }
   ],
   "source": [
    "pca = PCA(n_components=7)\n",
    "pca.fit_transform(socioeconomic).shape"
   ]
  },
  {
   "cell_type": "code",
   "execution_count": 33,
   "metadata": {},
   "outputs": [],
   "source": [
    "pca = PCA(n_components=3) \n",
    "econPC = pd.DataFrame(pca.fit_transform(socioeconomic),columns=['econPC1','econPC2','econPC3'])"
   ]
  },
  {
   "cell_type": "markdown",
   "metadata": {},
   "source": [
    "### remove features involved in the above PCA"
   ]
  },
  {
   "cell_type": "code",
   "execution_count": 34,
   "metadata": {},
   "outputs": [],
   "source": [
    "features = features.drop(['pct_college','median_income','income_per_capita','pct_unemployed','pct_poverty',\n",
    "                          'pct_jobs_nightlife','home_density'],axis=1)"
   ]
  },
  {
   "cell_type": "code",
   "execution_count": 62,
   "metadata": {},
   "outputs": [],
   "source": [
    "features = features.drop(['pct_employed'],axis=1)"
   ]
  },
  {
   "cell_type": "code",
   "execution_count": 102,
   "metadata": {},
   "outputs": [
    {
     "data": {
      "image/png": "[encoded data removed]",
      "text/plain": [
       "<Figure size 432x288 with 2 Axes>"
      ]
     },
     "metadata": {
      "needs_background": "light"
     },
     "output_type": "display_data"
    }
   ],
   "source": [
    "cityfeats = features[['avg_commute_time','move_new_city','total_pop','households']]\n",
    "heatmap = sns.heatmap(cityfeats.corr(), vmin=-1, vmax=1, annot=True)"
   ]
  },
  {
   "cell_type": "code",
   "execution_count": 103,
   "metadata": {},
   "outputs": [
    {
     "name": "stdout",
     "output_type": "stream",
     "text": [
      "[0.62361709 0.30134057 0.05814203 0.01690031]\n"
     ]
    },
    {
     "data": {
      "image/png": "[encoded data removed]",
      "text/plain": [
       "<Figure size 432x288 with 1 Axes>"
      ]
     },
     "metadata": {
      "needs_background": "light"
     },
     "output_type": "display_data"
    }
   ],
   "source": [
    "screePlot(cityfeats) # 2PCs"
   ]
  },
  {
   "cell_type": "code",
   "execution_count": 208,
   "metadata": {},
   "outputs": [
    {
     "data": {
      "image/png": "[encoded data removed]",
      "text/plain": [
       "<Figure size 432x288 with 2 Axes>"
      ]
     },
     "metadata": {
      "needs_background": "light"
     },
     "output_type": "display_data"
    }
   ],
   "source": [
    "pca = PCA(n_components=7)\n",
    "pca.fit_transform(socioeconomic)\n",
    "idx = socioeconomic.columns.to_list()\n",
    "idx\n",
    "dotprod_df = pd.DataFrame(np.dot(socioeconomic.T,pca.fit_transform(socioeconomic)),columns=['PC1','PC2','PC3','PC4','PC5',\n",
    "                                                                                   'PC6','PC7'])\n",
    "dotprod_df.index = idx\n",
    "df_norm = (dotprod_df.copy()-dotprod_df.mean())/dotprod_df.std()\n",
    "df_abs = df_norm.copy().abs().set_index(df_norm.index)\n",
    "\n",
    "plt.figure()\n",
    "ax_abs = sns.heatmap(df_abs, cmap=\"Purples\")\n",
    "ax_abs.set_title(\"|Z-Normalized| Feature Importances for SES PCA\")\n",
    "plt.show()"
   ]
  },
  {
   "cell_type": "code",
   "execution_count": 204,
   "metadata": {},
   "outputs": [
    {
     "data": {
      "text/plain": [
       "['avg_commute_time', 'move_new_city', 'total_pop', 'households']"
      ]
     },
     "execution_count": 204,
     "metadata": {},
     "output_type": "execute_result"
    }
   ],
   "source": [
    "pca = PCA(n_components=4)\n",
    "pca.fit_transform(cityfeats)\n",
    "idx = cityfeats.columns.to_list()\n",
    "idx"
   ]
  },
  {
   "cell_type": "code",
   "execution_count": 205,
   "metadata": {},
   "outputs": [],
   "source": [
    "dotprod_df = pd.DataFrame(np.dot(cityfeats.T,pca.fit_transform(cityfeats)),columns=['PC1','PC2','PC3','PC4'])\n",
    "dotprod_df.index = idx\n",
    "df_norm = (dotprod_df.copy()-dotprod_df.mean())/dotprod_df.std()\n",
    "df_abs = df_norm.copy().abs().set_index(df_norm.index)"
   ]
  },
  {
   "cell_type": "code",
   "execution_count": 206,
   "metadata": {},
   "outputs": [
    {
     "data": {
      "image/png": "[encoded data removed]",
      "text/plain": [
       "<Figure size 432x288 with 2 Axes>"
      ]
     },
     "metadata": {
      "needs_background": "light"
     },
     "output_type": "display_data"
    }
   ],
   "source": [
    "plt.figure()\n",
    "ax_abs = sns.heatmap(df_abs, cmap=\"Purples\")\n",
    "ax_abs.set_title(\"|Z-Normalized| Feature Importances for SES PCA\")\n",
    "plt.show()"
   ]
  },
  {
   "cell_type": "code",
   "execution_count": 104,
   "metadata": {},
   "outputs": [],
   "source": [
    "pca = PCA(n_components=2) \n",
    "cityPC = pd.DataFrame(pca.fit_transform(cityfeats),columns=['cityPC1','cityPC2'])"
   ]
  },
  {
   "cell_type": "code",
   "execution_count": 117,
   "metadata": {
    "scrolled": true
   },
   "outputs": [
    {
     "data": {
      "text/html": [
       "<div>\n",
       "<style scoped>\n",
       "    .dataframe tbody tr th:only-of-type {\n",
       "        vertical-align: middle;\n",
       "    }\n",
       "\n",
       "    .dataframe tbody tr th {\n",
       "        vertical-align: top;\n",
       "    }\n",
       "\n",
       "    .dataframe thead th {\n",
       "        text-align: right;\n",
       "    }\n",
       "</style>\n",
       "<table border=\"1\" class=\"dataframe\">\n",
       "  <thead>\n",
       "    <tr style=\"text-align: right;\">\n",
       "      <th></th>\n",
       "      <th>Zipcode</th>\n",
       "      <th>City</th>\n",
       "      <th>State</th>\n",
       "      <th>Metro</th>\n",
       "      <th>County</th>\n",
       "      <th>SizeRank</th>\n",
       "      <th>Rent</th>\n",
       "      <th>Year</th>\n",
       "      <th>State-County</th>\n",
       "      <th>median_age</th>\n",
       "      <th>gini_index</th>\n",
       "      <th>housing_availability</th>\n",
       "      <th>move_within_city</th>\n",
       "      <th>cityPC1</th>\n",
       "      <th>cityPC2</th>\n",
       "      <th>econPC1</th>\n",
       "      <th>econPC2</th>\n",
       "      <th>econPC3</th>\n",
       "    </tr>\n",
       "    <tr>\n",
       "      <th>Date</th>\n",
       "      <th></th>\n",
       "      <th></th>\n",
       "      <th></th>\n",
       "      <th></th>\n",
       "      <th></th>\n",
       "      <th></th>\n",
       "      <th></th>\n",
       "      <th></th>\n",
       "      <th></th>\n",
       "      <th></th>\n",
       "      <th></th>\n",
       "      <th></th>\n",
       "      <th></th>\n",
       "      <th></th>\n",
       "      <th></th>\n",
       "      <th></th>\n",
       "      <th></th>\n",
       "      <th></th>\n",
       "    </tr>\n",
       "  </thead>\n",
       "  <tbody>\n",
       "    <tr>\n",
       "      <th>2015-01-01</th>\n",
       "      <td>11356</td>\n",
       "      <td>New York</td>\n",
       "      <td>NY</td>\n",
       "      <td>New York-Newark-Jersey City</td>\n",
       "      <td>Queens County</td>\n",
       "      <td>1763</td>\n",
       "      <td>1962.0</td>\n",
       "      <td>2015</td>\n",
       "      <td>NY-Queens County</td>\n",
       "      <td>-0.143452</td>\n",
       "      <td>-0.794903</td>\n",
       "      <td>-0.249751</td>\n",
       "      <td>-0.626933</td>\n",
       "      <td>-0.366381</td>\n",
       "      <td>1.966017</td>\n",
       "      <td>-0.681528</td>\n",
       "      <td>-1.096247</td>\n",
       "      <td>-1.086131</td>\n",
       "    </tr>\n",
       "  </tbody>\n",
       "</table>\n",
       "</div>"
      ],
      "text/plain": [
       "           Zipcode      City State                        Metro  \\\n",
       "Date                                                              \n",
       "2015-01-01   11356  New York    NY  New York-Newark-Jersey City   \n",
       "\n",
       "                   County  SizeRank    Rent  Year      State-County  \\\n",
       "Date                                                                  \n",
       "2015-01-01  Queens County      1763  1962.0  2015  NY-Queens County   \n",
       "\n",
       "            median_age  gini_index  housing_availability  move_within_city  \\\n",
       "Date                                                                         \n",
       "2015-01-01   -0.143452   -0.794903             -0.249751         -0.626933   \n",
       "\n",
       "             cityPC1   cityPC2   econPC1   econPC2   econPC3  \n",
       "Date                                                          \n",
       "2015-01-01 -0.366381  1.966017 -0.681528 -1.096247 -1.086131  "
      ]
     },
     "execution_count": 117,
     "metadata": {},
     "output_type": "execute_result"
    }
   ],
   "source": [
    "zillow_withPCA = pd.concat((zillow,features,cityPC,econPC),axis=1)\n",
    "zillow_withPCA.set_index('Date',inplace=True)\n",
    "zillow_withPCA.sample()"
   ]
  },
  {
   "cell_type": "code",
   "execution_count": 227,
   "metadata": {},
   "outputs": [],
   "source": [
    "zillow_withPCA.to_csv('../../data/zillow_withPCA.csv')"
   ]
  },
  {
   "cell_type": "markdown",
   "metadata": {},
   "source": [
    "## random forest"
   ]
  },
  {
   "cell_type": "code",
   "execution_count": 223,
   "metadata": {},
   "outputs": [],
   "source": [
    "# all code moved to pcarandomforest.py"
   ]
  },
  {
   "cell_type": "code",
   "execution_count": 224,
   "metadata": {},
   "outputs": [],
   "source": [
    "X,y = preProc(zillow_withPCA,ytype='log')\n",
    "Xtrain,Xtest,ytrain,ytest = train_test(X,y)"
   ]
  },
  {
   "cell_type": "code",
   "execution_count": 225,
   "metadata": {},
   "outputs": [],
   "source": [
    "Xtrain = Xtrain.drop(['Zipcode','City','Metro','County','SizeRank','Year'],axis=1)\n",
    "Xtest = Xtest.drop(['Zipcode','City','Metro','County','SizeRank','Year'],axis=1)"
   ]
  },
  {
   "cell_type": "code",
   "execution_count": 226,
   "metadata": {},
   "outputs": [
    {
     "name": "stdout",
     "output_type": "stream",
     "text": [
      "training R2: 0.9759590138339153\n",
      "test R2: 0.947421210165156\n",
      "RMSE: 135.20093603257953\n"
     ]
    },
    {
     "data": {
      "text/html": [
       "<div>\n",
       "<style scoped>\n",
       "    .dataframe tbody tr th:only-of-type {\n",
       "        vertical-align: middle;\n",
       "    }\n",
       "\n",
       "    .dataframe tbody tr th {\n",
       "        vertical-align: top;\n",
       "    }\n",
       "\n",
       "    .dataframe thead th {\n",
       "        text-align: right;\n",
       "    }\n",
       "</style>\n",
       "<table border=\"1\" class=\"dataframe\">\n",
       "  <thead>\n",
       "    <tr style=\"text-align: right;\">\n",
       "      <th></th>\n",
       "      <th>Columns</th>\n",
       "      <th>Feature_importances</th>\n",
       "    </tr>\n",
       "  </thead>\n",
       "  <tbody>\n",
       "    <tr>\n",
       "      <th>6</th>\n",
       "      <td>econPC1</td>\n",
       "      <td>0.407102</td>\n",
       "    </tr>\n",
       "    <tr>\n",
       "      <th>1</th>\n",
       "      <td>gini_index</td>\n",
       "      <td>0.130022</td>\n",
       "    </tr>\n",
       "    <tr>\n",
       "      <th>2</th>\n",
       "      <td>housing_availability</td>\n",
       "      <td>0.106495</td>\n",
       "    </tr>\n",
       "    <tr>\n",
       "      <th>4</th>\n",
       "      <td>cityPC1</td>\n",
       "      <td>0.096303</td>\n",
       "    </tr>\n",
       "    <tr>\n",
       "      <th>3</th>\n",
       "      <td>move_within_city</td>\n",
       "      <td>0.091412</td>\n",
       "    </tr>\n",
       "    <tr>\n",
       "      <th>8</th>\n",
       "      <td>econPC3</td>\n",
       "      <td>0.079588</td>\n",
       "    </tr>\n",
       "    <tr>\n",
       "      <th>0</th>\n",
       "      <td>median_age</td>\n",
       "      <td>0.042162</td>\n",
       "    </tr>\n",
       "    <tr>\n",
       "      <th>7</th>\n",
       "      <td>econPC2</td>\n",
       "      <td>0.026000</td>\n",
       "    </tr>\n",
       "    <tr>\n",
       "      <th>5</th>\n",
       "      <td>cityPC2</td>\n",
       "      <td>0.020916</td>\n",
       "    </tr>\n",
       "  </tbody>\n",
       "</table>\n",
       "</div>"
      ],
      "text/plain": [
       "                Columns  Feature_importances\n",
       "6               econPC1             0.407102\n",
       "1            gini_index             0.130022\n",
       "2  housing_availability             0.106495\n",
       "4               cityPC1             0.096303\n",
       "3      move_within_city             0.091412\n",
       "8               econPC3             0.079588\n",
       "0            median_age             0.042162\n",
       "7               econPC2             0.026000\n",
       "5               cityPC2             0.020916"
      ]
     },
     "execution_count": 226,
     "metadata": {},
     "output_type": "execute_result"
    }
   ],
   "source": [
    "rfc = RandomForestRegressor(n_estimators=600)\n",
    "randForest(rfc,Xtrain,Xtest,ytrain,ytest)"
   ]
  },
  {
   "cell_type": "code",
   "execution_count": 129,
   "metadata": {},
   "outputs": [
    {
     "name": "stdout",
     "output_type": "stream",
     "text": [
      "training R2: 0.999435677448131\n",
      "test R2: 0.9839755073003001\n",
      "RMSE: 0.035879181285339075\n"
     ]
    },
    {
     "data": {
      "text/html": [
       "<div>\n",
       "<style scoped>\n",
       "    .dataframe tbody tr th:only-of-type {\n",
       "        vertical-align: middle;\n",
       "    }\n",
       "\n",
       "    .dataframe tbody tr th {\n",
       "        vertical-align: top;\n",
       "    }\n",
       "\n",
       "    .dataframe thead th {\n",
       "        text-align: right;\n",
       "    }\n",
       "</style>\n",
       "<table border=\"1\" class=\"dataframe\">\n",
       "  <thead>\n",
       "    <tr style=\"text-align: right;\">\n",
       "      <th></th>\n",
       "      <th>Columns</th>\n",
       "      <th>Feature_importances</th>\n",
       "    </tr>\n",
       "  </thead>\n",
       "  <tbody>\n",
       "    <tr>\n",
       "      <th>2</th>\n",
       "      <td>Metro</td>\n",
       "      <td>0.392328</td>\n",
       "    </tr>\n",
       "    <tr>\n",
       "      <th>14</th>\n",
       "      <td>econPC1</td>\n",
       "      <td>0.268005</td>\n",
       "    </tr>\n",
       "    <tr>\n",
       "      <th>0</th>\n",
       "      <td>Zipcode</td>\n",
       "      <td>0.136307</td>\n",
       "    </tr>\n",
       "    <tr>\n",
       "      <th>15</th>\n",
       "      <td>econPC2</td>\n",
       "      <td>0.068581</td>\n",
       "    </tr>\n",
       "    <tr>\n",
       "      <th>3</th>\n",
       "      <td>County</td>\n",
       "      <td>0.033059</td>\n",
       "    </tr>\n",
       "    <tr>\n",
       "      <th>16</th>\n",
       "      <td>econPC3</td>\n",
       "      <td>0.027631</td>\n",
       "    </tr>\n",
       "    <tr>\n",
       "      <th>6</th>\n",
       "      <td>PersonalIncome</td>\n",
       "      <td>0.014401</td>\n",
       "    </tr>\n",
       "    <tr>\n",
       "      <th>4</th>\n",
       "      <td>SizeRank</td>\n",
       "      <td>0.009501</td>\n",
       "    </tr>\n",
       "    <tr>\n",
       "      <th>9</th>\n",
       "      <td>cityPC1</td>\n",
       "      <td>0.009428</td>\n",
       "    </tr>\n",
       "    <tr>\n",
       "      <th>17</th>\n",
       "      <td>econPC4</td>\n",
       "      <td>0.009233</td>\n",
       "    </tr>\n",
       "    <tr>\n",
       "      <th>12</th>\n",
       "      <td>cityPC4</td>\n",
       "      <td>0.007450</td>\n",
       "    </tr>\n",
       "    <tr>\n",
       "      <th>10</th>\n",
       "      <td>cityPC2</td>\n",
       "      <td>0.006857</td>\n",
       "    </tr>\n",
       "    <tr>\n",
       "      <th>5</th>\n",
       "      <td>Year</td>\n",
       "      <td>0.005337</td>\n",
       "    </tr>\n",
       "    <tr>\n",
       "      <th>7</th>\n",
       "      <td>Vol_moderate_income</td>\n",
       "      <td>0.004866</td>\n",
       "    </tr>\n",
       "    <tr>\n",
       "      <th>11</th>\n",
       "      <td>cityPC3</td>\n",
       "      <td>0.002197</td>\n",
       "    </tr>\n",
       "    <tr>\n",
       "      <th>1</th>\n",
       "      <td>City</td>\n",
       "      <td>0.002188</td>\n",
       "    </tr>\n",
       "    <tr>\n",
       "      <th>13</th>\n",
       "      <td>cityPC5</td>\n",
       "      <td>0.001485</td>\n",
       "    </tr>\n",
       "    <tr>\n",
       "      <th>8</th>\n",
       "      <td>Vol_low_income</td>\n",
       "      <td>0.001147</td>\n",
       "    </tr>\n",
       "  </tbody>\n",
       "</table>\n",
       "</div>"
      ],
      "text/plain": [
       "                Columns  Feature_importances\n",
       "2                 Metro             0.392328\n",
       "14              econPC1             0.268005\n",
       "0               Zipcode             0.136307\n",
       "15              econPC2             0.068581\n",
       "3                County             0.033059\n",
       "16              econPC3             0.027631\n",
       "6        PersonalIncome             0.014401\n",
       "4              SizeRank             0.009501\n",
       "9               cityPC1             0.009428\n",
       "17              econPC4             0.009233\n",
       "12              cityPC4             0.007450\n",
       "10              cityPC2             0.006857\n",
       "5                  Year             0.005337\n",
       "7   Vol_moderate_income             0.004866\n",
       "11              cityPC3             0.002197\n",
       "1                  City             0.002188\n",
       "13              cityPC5             0.001485\n",
       "8        Vol_low_income             0.001147"
      ]
     },
     "execution_count": 129,
     "metadata": {},
     "output_type": "execute_result"
    }
   ],
   "source": [
    "\n",
    "rfc = RandomForestRegressor()\n",
    "\n",
    "randForest(rfc,Xtrain,Xtest,ytrain,ytest)"
   ]
  },
  {
   "cell_type": "code",
   "execution_count": 131,
   "metadata": {},
   "outputs": [
    {
     "data": {
      "text/plain": [
       "{'bootstrap': True,\n",
       " 'ccp_alpha': 0.0,\n",
       " 'criterion': 'mse',\n",
       " 'max_depth': None,\n",
       " 'max_features': 'auto',\n",
       " 'max_leaf_nodes': None,\n",
       " 'max_samples': None,\n",
       " 'min_impurity_decrease': 0.0,\n",
       " 'min_impurity_split': None,\n",
       " 'min_samples_leaf': 1,\n",
       " 'min_samples_split': 2,\n",
       " 'min_weight_fraction_leaf': 0.0,\n",
       " 'n_estimators': 100,\n",
       " 'n_jobs': None,\n",
       " 'oob_score': False,\n",
       " 'random_state': None,\n",
       " 'verbose': 0,\n",
       " 'warm_start': False}"
      ]
     },
     "execution_count": 131,
     "metadata": {},
     "output_type": "execute_result"
    }
   ],
   "source": [
    "rfc.get_params()"
   ]
  },
  {
   "cell_type": "markdown",
   "metadata": {},
   "source": [
    "## grid search to parameter tune"
   ]
  },
  {
   "cell_type": "code",
   "execution_count": 229,
   "metadata": {},
   "outputs": [],
   "source": [
    "param_grid = {'n_estimators':[250,300,400,500,700,1000],\n",
    "              'max_features':['auto','sqrt','log2'],\n",
    "              'min_samples_split':[2,5,10,15,20,50],\n",
    "              'min_samples_leaf':[1,2,5,10,15]\n",
    "             }\n",
    "\n",
    "grid = GridSearchCV(RandomForestRegressor(),param_grid = param_grid,return_train_score=True)"
   ]
  },
  {
   "cell_type": "code",
   "execution_count": 230,
   "metadata": {},
   "outputs": [
    {
     "data": {
      "text/plain": [
       "GridSearchCV(cv=None, error_score=nan,\n",
       "             estimator=RandomForestRegressor(bootstrap=True, ccp_alpha=0.0,\n",
       "                                             criterion='mse', max_depth=None,\n",
       "                                             max_features='auto',\n",
       "                                             max_leaf_nodes=None,\n",
       "                                             max_samples=None,\n",
       "                                             min_impurity_decrease=0.0,\n",
       "                                             min_impurity_split=None,\n",
       "                                             min_samples_leaf=1,\n",
       "                                             min_samples_split=2,\n",
       "                                             min_weight_fraction_leaf=0.0,\n",
       "                                             n_estimators=100, n_jobs=None,\n",
       "                                             oob_score=False, random_state=None,\n",
       "                                             verbose=0, warm_start=False),\n",
       "             iid='deprecated', n_jobs=None,\n",
       "             param_grid={'max_features': ['auto', 'sqrt', 'log2'],\n",
       "                         'min_samples_leaf': [1, 2, 5, 10, 15],\n",
       "                         'min_samples_split': [2, 5, 10, 15, 20, 50],\n",
       "                         'n_estimators': [250, 300, 400, 500, 700, 1000]},\n",
       "             pre_dispatch='2*n_jobs', refit=True, return_train_score=True,\n",
       "             scoring=None, verbose=0)"
      ]
     },
     "execution_count": 230,
     "metadata": {},
     "output_type": "execute_result"
    }
   ],
   "source": [
    "# started running at 12:37:30\n",
    "grid.fit(Xtrain,ytrain)"
   ]
  },
  {
   "cell_type": "code",
   "execution_count": 233,
   "metadata": {},
   "outputs": [
    {
     "data": {
      "text/plain": [
       "{'max_features': 'sqrt',\n",
       " 'min_samples_leaf': 5,\n",
       " 'min_samples_split': 5,\n",
       " 'n_estimators': 250}"
      ]
     },
     "execution_count": 233,
     "metadata": {},
     "output_type": "execute_result"
    }
   ],
   "source": [
    "grid.best_params_"
   ]
  },
  {
   "cell_type": "code",
   "execution_count": 247,
   "metadata": {},
   "outputs": [
    {
     "data": {
      "text/plain": [
       "Index(['mean_fit_time', 'std_fit_time', 'mean_score_time', 'std_score_time',\n",
       "       'param_max_features', 'param_min_samples_leaf',\n",
       "       'param_min_samples_split', 'param_n_estimators', 'params',\n",
       "       'split0_test_score', 'split1_test_score', 'split2_test_score',\n",
       "       'split3_test_score', 'split4_test_score', 'mean_test_score',\n",
       "       'std_test_score', 'rank_test_score', 'split0_train_score',\n",
       "       'split1_train_score', 'split2_train_score', 'split3_train_score',\n",
       "       'split4_train_score', 'mean_train_score', 'std_train_score'],\n",
       "      dtype='object')"
      ]
     },
     "execution_count": 247,
     "metadata": {},
     "output_type": "execute_result"
    }
   ],
   "source": [
    "grid_results = pd.DataFrame.from_dict(grid.cv_results_)\n",
    "grid_results.columns"
   ]
  },
  {
   "cell_type": "code",
   "execution_count": 253,
   "metadata": {},
   "outputs": [
    {
     "data": {
      "text/html": [
       "<div>\n",
       "<style scoped>\n",
       "    .dataframe tbody tr th:only-of-type {\n",
       "        vertical-align: middle;\n",
       "    }\n",
       "\n",
       "    .dataframe tbody tr th {\n",
       "        vertical-align: top;\n",
       "    }\n",
       "\n",
       "    .dataframe thead th {\n",
       "        text-align: right;\n",
       "    }\n",
       "</style>\n",
       "<table border=\"1\" class=\"dataframe\">\n",
       "  <thead>\n",
       "    <tr style=\"text-align: right;\">\n",
       "      <th></th>\n",
       "      <th>param_max_features</th>\n",
       "      <th>param_min_samples_leaf</th>\n",
       "      <th>param_min_samples_split</th>\n",
       "      <th>param_n_estimators</th>\n",
       "      <th>mean_test_score</th>\n",
       "      <th>mean_train_score</th>\n",
       "      <th>rank_test_score</th>\n",
       "    </tr>\n",
       "  </thead>\n",
       "  <tbody>\n",
       "    <tr>\n",
       "      <th>258</th>\n",
       "      <td>sqrt</td>\n",
       "      <td>5</td>\n",
       "      <td>5</td>\n",
       "      <td>250</td>\n",
       "      <td>0.965568</td>\n",
       "      <td>0.977268</td>\n",
       "      <td>1</td>\n",
       "    </tr>\n",
       "    <tr>\n",
       "      <th>468</th>\n",
       "      <td>log2</td>\n",
       "      <td>10</td>\n",
       "      <td>2</td>\n",
       "      <td>250</td>\n",
       "      <td>0.965565</td>\n",
       "      <td>0.977268</td>\n",
       "      <td>2</td>\n",
       "    </tr>\n",
       "    <tr>\n",
       "      <th>277</th>\n",
       "      <td>sqrt</td>\n",
       "      <td>5</td>\n",
       "      <td>20</td>\n",
       "      <td>300</td>\n",
       "      <td>0.965563</td>\n",
       "      <td>0.977268</td>\n",
       "      <td>3</td>\n",
       "    </tr>\n",
       "    <tr>\n",
       "      <th>415</th>\n",
       "      <td>log2</td>\n",
       "      <td>2</td>\n",
       "      <td>15</td>\n",
       "      <td>300</td>\n",
       "      <td>0.965558</td>\n",
       "      <td>0.977269</td>\n",
       "      <td>4</td>\n",
       "    </tr>\n",
       "    <tr>\n",
       "      <th>234</th>\n",
       "      <td>sqrt</td>\n",
       "      <td>2</td>\n",
       "      <td>15</td>\n",
       "      <td>250</td>\n",
       "      <td>0.965557</td>\n",
       "      <td>0.977268</td>\n",
       "      <td>5</td>\n",
       "    </tr>\n",
       "    <tr>\n",
       "      <th>270</th>\n",
       "      <td>sqrt</td>\n",
       "      <td>5</td>\n",
       "      <td>15</td>\n",
       "      <td>250</td>\n",
       "      <td>0.965557</td>\n",
       "      <td>0.977268</td>\n",
       "      <td>6</td>\n",
       "    </tr>\n",
       "    <tr>\n",
       "      <th>223</th>\n",
       "      <td>sqrt</td>\n",
       "      <td>2</td>\n",
       "      <td>5</td>\n",
       "      <td>300</td>\n",
       "      <td>0.965556</td>\n",
       "      <td>0.977268</td>\n",
       "      <td>7</td>\n",
       "    </tr>\n",
       "    <tr>\n",
       "      <th>432</th>\n",
       "      <td>log2</td>\n",
       "      <td>5</td>\n",
       "      <td>2</td>\n",
       "      <td>250</td>\n",
       "      <td>0.965556</td>\n",
       "      <td>0.977268</td>\n",
       "      <td>8</td>\n",
       "    </tr>\n",
       "    <tr>\n",
       "      <th>126</th>\n",
       "      <td>auto</td>\n",
       "      <td>10</td>\n",
       "      <td>15</td>\n",
       "      <td>250</td>\n",
       "      <td>0.965556</td>\n",
       "      <td>0.977268</td>\n",
       "      <td>9</td>\n",
       "    </tr>\n",
       "    <tr>\n",
       "      <th>116</th>\n",
       "      <td>auto</td>\n",
       "      <td>10</td>\n",
       "      <td>5</td>\n",
       "      <td>400</td>\n",
       "      <td>0.965554</td>\n",
       "      <td>0.977269</td>\n",
       "      <td>10</td>\n",
       "    </tr>\n",
       "    <tr>\n",
       "      <th>444</th>\n",
       "      <td>log2</td>\n",
       "      <td>5</td>\n",
       "      <td>10</td>\n",
       "      <td>250</td>\n",
       "      <td>0.965553</td>\n",
       "      <td>0.977268</td>\n",
       "      <td>11</td>\n",
       "    </tr>\n",
       "    <tr>\n",
       "      <th>19</th>\n",
       "      <td>auto</td>\n",
       "      <td>1</td>\n",
       "      <td>15</td>\n",
       "      <td>300</td>\n",
       "      <td>0.965552</td>\n",
       "      <td>0.977268</td>\n",
       "      <td>12</td>\n",
       "    </tr>\n",
       "    <tr>\n",
       "      <th>325</th>\n",
       "      <td>sqrt</td>\n",
       "      <td>15</td>\n",
       "      <td>2</td>\n",
       "      <td>300</td>\n",
       "      <td>0.965550</td>\n",
       "      <td>0.977268</td>\n",
       "      <td>13</td>\n",
       "    </tr>\n",
       "    <tr>\n",
       "      <th>386</th>\n",
       "      <td>log2</td>\n",
       "      <td>1</td>\n",
       "      <td>20</td>\n",
       "      <td>400</td>\n",
       "      <td>0.965550</td>\n",
       "      <td>0.977269</td>\n",
       "      <td>14</td>\n",
       "    </tr>\n",
       "    <tr>\n",
       "      <th>198</th>\n",
       "      <td>sqrt</td>\n",
       "      <td>1</td>\n",
       "      <td>15</td>\n",
       "      <td>250</td>\n",
       "      <td>0.965550</td>\n",
       "      <td>0.977268</td>\n",
       "      <td>15</td>\n",
       "    </tr>\n",
       "    <tr>\n",
       "      <th>194</th>\n",
       "      <td>sqrt</td>\n",
       "      <td>1</td>\n",
       "      <td>10</td>\n",
       "      <td>400</td>\n",
       "      <td>0.965549</td>\n",
       "      <td>0.977269</td>\n",
       "      <td>16</td>\n",
       "    </tr>\n",
       "    <tr>\n",
       "      <th>528</th>\n",
       "      <td>log2</td>\n",
       "      <td>15</td>\n",
       "      <td>20</td>\n",
       "      <td>250</td>\n",
       "      <td>0.965549</td>\n",
       "      <td>0.977268</td>\n",
       "      <td>17</td>\n",
       "    </tr>\n",
       "    <tr>\n",
       "      <th>490</th>\n",
       "      <td>log2</td>\n",
       "      <td>10</td>\n",
       "      <td>15</td>\n",
       "      <td>700</td>\n",
       "      <td>0.965548</td>\n",
       "      <td>0.977270</td>\n",
       "      <td>18</td>\n",
       "    </tr>\n",
       "    <tr>\n",
       "      <th>348</th>\n",
       "      <td>sqrt</td>\n",
       "      <td>15</td>\n",
       "      <td>20</td>\n",
       "      <td>250</td>\n",
       "      <td>0.965548</td>\n",
       "      <td>0.977268</td>\n",
       "      <td>19</td>\n",
       "    </tr>\n",
       "    <tr>\n",
       "      <th>61</th>\n",
       "      <td>auto</td>\n",
       "      <td>2</td>\n",
       "      <td>20</td>\n",
       "      <td>300</td>\n",
       "      <td>0.965548</td>\n",
       "      <td>0.977269</td>\n",
       "      <td>20</td>\n",
       "    </tr>\n",
       "  </tbody>\n",
       "</table>\n",
       "</div>"
      ],
      "text/plain": [
       "    param_max_features param_min_samples_leaf param_min_samples_split  \\\n",
       "258               sqrt                      5                       5   \n",
       "468               log2                     10                       2   \n",
       "277               sqrt                      5                      20   \n",
       "415               log2                      2                      15   \n",
       "234               sqrt                      2                      15   \n",
       "270               sqrt                      5                      15   \n",
       "223               sqrt                      2                       5   \n",
       "432               log2                      5                       2   \n",
       "126               auto                     10                      15   \n",
       "116               auto                     10                       5   \n",
       "444               log2                      5                      10   \n",
       "19                auto                      1                      15   \n",
       "325               sqrt                     15                       2   \n",
       "386               log2                      1                      20   \n",
       "198               sqrt                      1                      15   \n",
       "194               sqrt                      1                      10   \n",
       "528               log2                     15                      20   \n",
       "490               log2                     10                      15   \n",
       "348               sqrt                     15                      20   \n",
       "61                auto                      2                      20   \n",
       "\n",
       "    param_n_estimators  mean_test_score  mean_train_score  rank_test_score  \n",
       "258                250         0.965568          0.977268                1  \n",
       "468                250         0.965565          0.977268                2  \n",
       "277                300         0.965563          0.977268                3  \n",
       "415                300         0.965558          0.977269                4  \n",
       "234                250         0.965557          0.977268                5  \n",
       "270                250         0.965557          0.977268                6  \n",
       "223                300         0.965556          0.977268                7  \n",
       "432                250         0.965556          0.977268                8  \n",
       "126                250         0.965556          0.977268                9  \n",
       "116                400         0.965554          0.977269               10  \n",
       "444                250         0.965553          0.977268               11  \n",
       "19                 300         0.965552          0.977268               12  \n",
       "325                300         0.965550          0.977268               13  \n",
       "386                400         0.965550          0.977269               14  \n",
       "198                250         0.965550          0.977268               15  \n",
       "194                400         0.965549          0.977269               16  \n",
       "528                250         0.965549          0.977268               17  \n",
       "490                700         0.965548          0.977270               18  \n",
       "348                250         0.965548          0.977268               19  \n",
       "61                 300         0.965548          0.977269               20  "
      ]
     },
     "execution_count": 253,
     "metadata": {},
     "output_type": "execute_result"
    }
   ],
   "source": [
    "grid_results[['param_max_features','param_min_samples_leaf','param_min_samples_split','param_n_estimators',\n",
    "             'mean_test_score','mean_train_score','rank_test_score']].sort_values('rank_test_score').head(20)"
   ]
  },
  {
   "cell_type": "code",
   "execution_count": 255,
   "metadata": {},
   "outputs": [],
   "source": []
  },
  {
   "cell_type": "code",
   "execution_count": 258,
   "metadata": {},
   "outputs": [],
   "source": [
    "rfc = RandomForestRegressor(max_features='sqrt',n_estimators=500)\n",
    "param_grid = {'min_samples_split':[10,20,30,50,100],\n",
    "              'min_samples_leaf':[5,10,20,35,50]\n",
    "             }\n",
    "\n",
    "grid = GridSearchCV(RandomForestRegressor(),param_grid = param_grid,return_train_score=True)"
   ]
  },
  {
   "cell_type": "code",
   "execution_count": 259,
   "metadata": {},
   "outputs": [
    {
     "data": {
      "text/plain": [
       "GridSearchCV(cv=None, error_score=nan,\n",
       "             estimator=RandomForestRegressor(bootstrap=True, ccp_alpha=0.0,\n",
       "                                             criterion='mse', max_depth=None,\n",
       "                                             max_features='auto',\n",
       "                                             max_leaf_nodes=None,\n",
       "                                             max_samples=None,\n",
       "                                             min_impurity_decrease=0.0,\n",
       "                                             min_impurity_split=None,\n",
       "                                             min_samples_leaf=1,\n",
       "                                             min_samples_split=2,\n",
       "                                             min_weight_fraction_leaf=0.0,\n",
       "                                             n_estimators=100, n_jobs=None,\n",
       "                                             oob_score=False, random_state=None,\n",
       "                                             verbose=0, warm_start=False),\n",
       "             iid='deprecated', n_jobs=None,\n",
       "             param_grid={'min_samples_leaf': [5, 10, 20, 35, 50],\n",
       "                         'min_samples_split': [10, 20, 30, 50, 100]},\n",
       "             pre_dispatch='2*n_jobs', refit=True, return_train_score=True,\n",
       "             scoring=None, verbose=0)"
      ]
     },
     "execution_count": 259,
     "metadata": {},
     "output_type": "execute_result"
    }
   ],
   "source": [
    "# started at 6:10pm\n",
    "grid.fit(Xtrain,ytrain)"
   ]
  },
  {
   "cell_type": "code",
   "execution_count": 265,
   "metadata": {},
   "outputs": [
    {
     "data": {
      "text/html": [
       "<div>\n",
       "<style scoped>\n",
       "    .dataframe tbody tr th:only-of-type {\n",
       "        vertical-align: middle;\n",
       "    }\n",
       "\n",
       "    .dataframe tbody tr th {\n",
       "        vertical-align: top;\n",
       "    }\n",
       "\n",
       "    .dataframe thead th {\n",
       "        text-align: right;\n",
       "    }\n",
       "</style>\n",
       "<table border=\"1\" class=\"dataframe\">\n",
       "  <thead>\n",
       "    <tr style=\"text-align: right;\">\n",
       "      <th></th>\n",
       "      <th>param_min_samples_leaf</th>\n",
       "      <th>param_min_samples_split</th>\n",
       "      <th>rank_test_score</th>\n",
       "      <th>mean_train_score</th>\n",
       "      <th>mean_test_score</th>\n",
       "    </tr>\n",
       "  </thead>\n",
       "  <tbody>\n",
       "    <tr>\n",
       "      <th>7</th>\n",
       "      <td>10</td>\n",
       "      <td>30</td>\n",
       "      <td>1</td>\n",
       "      <td>0.977265</td>\n",
       "      <td>0.965530</td>\n",
       "    </tr>\n",
       "    <tr>\n",
       "      <th>6</th>\n",
       "      <td>10</td>\n",
       "      <td>20</td>\n",
       "      <td>2</td>\n",
       "      <td>0.977265</td>\n",
       "      <td>0.965529</td>\n",
       "    </tr>\n",
       "    <tr>\n",
       "      <th>0</th>\n",
       "      <td>5</td>\n",
       "      <td>10</td>\n",
       "      <td>3</td>\n",
       "      <td>0.977265</td>\n",
       "      <td>0.965525</td>\n",
       "    </tr>\n",
       "    <tr>\n",
       "      <th>5</th>\n",
       "      <td>10</td>\n",
       "      <td>10</td>\n",
       "      <td>4</td>\n",
       "      <td>0.977265</td>\n",
       "      <td>0.965524</td>\n",
       "    </tr>\n",
       "    <tr>\n",
       "      <th>2</th>\n",
       "      <td>5</td>\n",
       "      <td>30</td>\n",
       "      <td>5</td>\n",
       "      <td>0.977264</td>\n",
       "      <td>0.965512</td>\n",
       "    </tr>\n",
       "    <tr>\n",
       "      <th>1</th>\n",
       "      <td>5</td>\n",
       "      <td>20</td>\n",
       "      <td>6</td>\n",
       "      <td>0.977265</td>\n",
       "      <td>0.965491</td>\n",
       "    </tr>\n",
       "    <tr>\n",
       "      <th>12</th>\n",
       "      <td>20</td>\n",
       "      <td>30</td>\n",
       "      <td>7</td>\n",
       "      <td>0.977170</td>\n",
       "      <td>0.965460</td>\n",
       "    </tr>\n",
       "    <tr>\n",
       "      <th>10</th>\n",
       "      <td>20</td>\n",
       "      <td>10</td>\n",
       "      <td>8</td>\n",
       "      <td>0.977159</td>\n",
       "      <td>0.965419</td>\n",
       "    </tr>\n",
       "    <tr>\n",
       "      <th>11</th>\n",
       "      <td>20</td>\n",
       "      <td>20</td>\n",
       "      <td>9</td>\n",
       "      <td>0.977161</td>\n",
       "      <td>0.965387</td>\n",
       "    </tr>\n",
       "    <tr>\n",
       "      <th>13</th>\n",
       "      <td>20</td>\n",
       "      <td>50</td>\n",
       "      <td>10</td>\n",
       "      <td>0.976400</td>\n",
       "      <td>0.964665</td>\n",
       "    </tr>\n",
       "    <tr>\n",
       "      <th>3</th>\n",
       "      <td>5</td>\n",
       "      <td>50</td>\n",
       "      <td>11</td>\n",
       "      <td>0.976375</td>\n",
       "      <td>0.964579</td>\n",
       "    </tr>\n",
       "    <tr>\n",
       "      <th>8</th>\n",
       "      <td>10</td>\n",
       "      <td>50</td>\n",
       "      <td>12</td>\n",
       "      <td>0.976361</td>\n",
       "      <td>0.964574</td>\n",
       "    </tr>\n",
       "    <tr>\n",
       "      <th>9</th>\n",
       "      <td>10</td>\n",
       "      <td>100</td>\n",
       "      <td>13</td>\n",
       "      <td>0.968650</td>\n",
       "      <td>0.957100</td>\n",
       "    </tr>\n",
       "    <tr>\n",
       "      <th>4</th>\n",
       "      <td>5</td>\n",
       "      <td>100</td>\n",
       "      <td>14</td>\n",
       "      <td>0.968554</td>\n",
       "      <td>0.957083</td>\n",
       "    </tr>\n",
       "    <tr>\n",
       "      <th>14</th>\n",
       "      <td>20</td>\n",
       "      <td>100</td>\n",
       "      <td>15</td>\n",
       "      <td>0.968272</td>\n",
       "      <td>0.956722</td>\n",
       "    </tr>\n",
       "    <tr>\n",
       "      <th>18</th>\n",
       "      <td>35</td>\n",
       "      <td>50</td>\n",
       "      <td>16</td>\n",
       "      <td>0.963452</td>\n",
       "      <td>0.952100</td>\n",
       "    </tr>\n",
       "    <tr>\n",
       "      <th>16</th>\n",
       "      <td>35</td>\n",
       "      <td>20</td>\n",
       "      <td>17</td>\n",
       "      <td>0.962979</td>\n",
       "      <td>0.951529</td>\n",
       "    </tr>\n",
       "    <tr>\n",
       "      <th>17</th>\n",
       "      <td>35</td>\n",
       "      <td>30</td>\n",
       "      <td>18</td>\n",
       "      <td>0.962839</td>\n",
       "      <td>0.951409</td>\n",
       "    </tr>\n",
       "    <tr>\n",
       "      <th>15</th>\n",
       "      <td>35</td>\n",
       "      <td>10</td>\n",
       "      <td>19</td>\n",
       "      <td>0.962785</td>\n",
       "      <td>0.951400</td>\n",
       "    </tr>\n",
       "    <tr>\n",
       "      <th>19</th>\n",
       "      <td>35</td>\n",
       "      <td>100</td>\n",
       "      <td>20</td>\n",
       "      <td>0.960737</td>\n",
       "      <td>0.949430</td>\n",
       "    </tr>\n",
       "    <tr>\n",
       "      <th>21</th>\n",
       "      <td>50</td>\n",
       "      <td>20</td>\n",
       "      <td>21</td>\n",
       "      <td>0.954952</td>\n",
       "      <td>0.943945</td>\n",
       "    </tr>\n",
       "    <tr>\n",
       "      <th>20</th>\n",
       "      <td>50</td>\n",
       "      <td>10</td>\n",
       "      <td>22</td>\n",
       "      <td>0.955082</td>\n",
       "      <td>0.943932</td>\n",
       "    </tr>\n",
       "    <tr>\n",
       "      <th>22</th>\n",
       "      <td>50</td>\n",
       "      <td>30</td>\n",
       "      <td>23</td>\n",
       "      <td>0.954846</td>\n",
       "      <td>0.943858</td>\n",
       "    </tr>\n",
       "    <tr>\n",
       "      <th>24</th>\n",
       "      <td>50</td>\n",
       "      <td>100</td>\n",
       "      <td>24</td>\n",
       "      <td>0.954793</td>\n",
       "      <td>0.943591</td>\n",
       "    </tr>\n",
       "    <tr>\n",
       "      <th>23</th>\n",
       "      <td>50</td>\n",
       "      <td>50</td>\n",
       "      <td>25</td>\n",
       "      <td>0.954836</td>\n",
       "      <td>0.943396</td>\n",
       "    </tr>\n",
       "  </tbody>\n",
       "</table>\n",
       "</div>"
      ],
      "text/plain": [
       "   param_min_samples_leaf param_min_samples_split  rank_test_score  \\\n",
       "7                      10                      30                1   \n",
       "6                      10                      20                2   \n",
       "0                       5                      10                3   \n",
       "5                      10                      10                4   \n",
       "2                       5                      30                5   \n",
       "1                       5                      20                6   \n",
       "12                     20                      30                7   \n",
       "10                     20                      10                8   \n",
       "11                     20                      20                9   \n",
       "13                     20                      50               10   \n",
       "3                       5                      50               11   \n",
       "8                      10                      50               12   \n",
       "9                      10                     100               13   \n",
       "4                       5                     100               14   \n",
       "14                     20                     100               15   \n",
       "18                     35                      50               16   \n",
       "16                     35                      20               17   \n",
       "17                     35                      30               18   \n",
       "15                     35                      10               19   \n",
       "19                     35                     100               20   \n",
       "21                     50                      20               21   \n",
       "20                     50                      10               22   \n",
       "22                     50                      30               23   \n",
       "24                     50                     100               24   \n",
       "23                     50                      50               25   \n",
       "\n",
       "    mean_train_score  mean_test_score  \n",
       "7           0.977265         0.965530  \n",
       "6           0.977265         0.965529  \n",
       "0           0.977265         0.965525  \n",
       "5           0.977265         0.965524  \n",
       "2           0.977264         0.965512  \n",
       "1           0.977265         0.965491  \n",
       "12          0.977170         0.965460  \n",
       "10          0.977159         0.965419  \n",
       "11          0.977161         0.965387  \n",
       "13          0.976400         0.964665  \n",
       "3           0.976375         0.964579  \n",
       "8           0.976361         0.964574  \n",
       "9           0.968650         0.957100  \n",
       "4           0.968554         0.957083  \n",
       "14          0.968272         0.956722  \n",
       "18          0.963452         0.952100  \n",
       "16          0.962979         0.951529  \n",
       "17          0.962839         0.951409  \n",
       "15          0.962785         0.951400  \n",
       "19          0.960737         0.949430  \n",
       "21          0.954952         0.943945  \n",
       "20          0.955082         0.943932  \n",
       "22          0.954846         0.943858  \n",
       "24          0.954793         0.943591  \n",
       "23          0.954836         0.943396  "
      ]
     },
     "execution_count": 265,
     "metadata": {},
     "output_type": "execute_result"
    }
   ],
   "source": [
    "grid_results = pd.DataFrame.from_dict(grid.cv_results_)\n",
    "grid_results.sort_values('rank_test_score')[['param_min_samples_leaf','param_min_samples_split','rank_test_score','mean_train_score','mean_test_score']]"
   ]
  }
 ],
 "metadata": {
  "kernelspec": {
   "display_name": "Python 3",
   "language": "python",
   "name": "python3"
  },
  "language_info": {
   "codemirror_mode": {
    "name": "ipython",
    "version": 3
   },
   "file_extension": ".py",
   "mimetype": "text/x-python",
   "name": "python",
   "nbconvert_exporter": "python",
   "pygments_lexer": "ipython3",
   "version": "3.7.6"
  }
 },
 "nbformat": 4,
 "nbformat_minor": 4
}
