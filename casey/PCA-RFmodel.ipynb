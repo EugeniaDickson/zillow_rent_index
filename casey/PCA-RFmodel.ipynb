{
 "cells": [
  {
   "cell_type": "markdown",
   "metadata": {},
   "source": [
    "# PCA"
   ]
  },
  {
   "cell_type": "code",
   "execution_count": 112,
   "metadata": {},
   "outputs": [
    {
     "name": "stdout",
     "output_type": "stream",
     "text": [
      "Your data is ready! Merged table name is zillow_full\n"
     ]
    }
   ],
   "source": [
    "import numpy as np\n",
    "import pandas as pd\n",
    "import matplotlib.pyplot as plt\n",
    "import seaborn as sns\n",
    "%matplotlib inline\n",
    "\n",
    "from sklearn.preprocessing import StandardScaler, LabelEncoder\n",
    "from sklearn.decomposition import PCA\n",
    "from sklearn.metrics import mean_squared_error\n",
    "\n",
    "#zillow = pd.read_csv('../../data/zillow_full_imputed.csv')\n",
    "\n",
    "%run ../Jane/extract_data.py"
   ]
  },
  {
   "cell_type": "code",
   "execution_count": 11,
   "metadata": {},
   "outputs": [],
   "source": [
    "# separate the cols that won't go into the pca\n",
    "zillow = zillow_full[['Zipcode','City','State','Metro','County','SizeRank','Date','Rent','Year','State-County']]\n",
    "features = zillow_full.drop(['Zipcode','City','State','Metro','County','SizeRank','Date','Rent',\n",
    "                             'Year','State-County'], axis = 1).copy()"
   ]
  },
  {
   "cell_type": "code",
   "execution_count": 13,
   "metadata": {},
   "outputs": [
    {
     "data": {
      "text/html": [
       "<div>\n",
       "<style scoped>\n",
       "    .dataframe tbody tr th:only-of-type {\n",
       "        vertical-align: middle;\n",
       "    }\n",
       "\n",
       "    .dataframe tbody tr th {\n",
       "        vertical-align: top;\n",
       "    }\n",
       "\n",
       "    .dataframe thead th {\n",
       "        text-align: right;\n",
       "    }\n",
       "</style>\n",
       "<table border=\"1\" class=\"dataframe\">\n",
       "  <thead>\n",
       "    <tr style=\"text-align: right;\">\n",
       "      <th></th>\n",
       "      <th>AQIMean</th>\n",
       "      <th>PersonalIncome</th>\n",
       "      <th>Vol_moderate_income</th>\n",
       "      <th>Vol_low_income</th>\n",
       "      <th>total_pop</th>\n",
       "      <th>households</th>\n",
       "      <th>median_age</th>\n",
       "      <th>median_income</th>\n",
       "      <th>income_per_capita</th>\n",
       "      <th>gini_index</th>\n",
       "      <th>pct_poverty</th>\n",
       "      <th>housing_availability</th>\n",
       "      <th>home_density</th>\n",
       "      <th>pct_employed</th>\n",
       "      <th>pct_jobs_nightlife</th>\n",
       "      <th>pct_unemployed</th>\n",
       "      <th>move_within_city</th>\n",
       "      <th>move_new_city</th>\n",
       "      <th>avg_commute_time</th>\n",
       "      <th>pct_college</th>\n",
       "    </tr>\n",
       "  </thead>\n",
       "  <tbody>\n",
       "    <tr>\n",
       "      <th>0</th>\n",
       "      <td>1.677669</td>\n",
       "      <td>-0.483885</td>\n",
       "      <td>-2.303187</td>\n",
       "      <td>-2.555039</td>\n",
       "      <td>2.052326</td>\n",
       "      <td>3.096986</td>\n",
       "      <td>0.677914</td>\n",
       "      <td>0.395570</td>\n",
       "      <td>1.127500</td>\n",
       "      <td>2.090545</td>\n",
       "      <td>-0.116861</td>\n",
       "      <td>0.165373</td>\n",
       "      <td>-0.951186</td>\n",
       "      <td>-0.203258</td>\n",
       "      <td>-0.502295</td>\n",
       "      <td>0.218105</td>\n",
       "      <td>0.557787</td>\n",
       "      <td>-0.131412</td>\n",
       "      <td>-0.253440</td>\n",
       "      <td>0.459031</td>\n",
       "    </tr>\n",
       "    <tr>\n",
       "      <th>1</th>\n",
       "      <td>1.677669</td>\n",
       "      <td>-0.483885</td>\n",
       "      <td>-2.303187</td>\n",
       "      <td>-2.555039</td>\n",
       "      <td>0.708930</td>\n",
       "      <td>2.065297</td>\n",
       "      <td>1.069040</td>\n",
       "      <td>1.794826</td>\n",
       "      <td>2.899726</td>\n",
       "      <td>1.450117</td>\n",
       "      <td>-0.854462</td>\n",
       "      <td>0.768800</td>\n",
       "      <td>-1.658710</td>\n",
       "      <td>0.635772</td>\n",
       "      <td>-0.646796</td>\n",
       "      <td>-0.606914</td>\n",
       "      <td>0.220614</td>\n",
       "      <td>-0.386784</td>\n",
       "      <td>-0.603104</td>\n",
       "      <td>1.019498</td>\n",
       "    </tr>\n",
       "    <tr>\n",
       "      <th>2</th>\n",
       "      <td>1.677669</td>\n",
       "      <td>-0.483885</td>\n",
       "      <td>-2.303187</td>\n",
       "      <td>-2.555039</td>\n",
       "      <td>1.264424</td>\n",
       "      <td>2.046087</td>\n",
       "      <td>1.127709</td>\n",
       "      <td>-1.178083</td>\n",
       "      <td>-0.401966</td>\n",
       "      <td>1.861821</td>\n",
       "      <td>1.410115</td>\n",
       "      <td>-0.524889</td>\n",
       "      <td>-0.909010</td>\n",
       "      <td>-0.314296</td>\n",
       "      <td>1.564514</td>\n",
       "      <td>0.339607</td>\n",
       "      <td>-0.408679</td>\n",
       "      <td>-0.828548</td>\n",
       "      <td>-0.196208</td>\n",
       "      <td>-0.075481</td>\n",
       "    </tr>\n",
       "    <tr>\n",
       "      <th>3</th>\n",
       "      <td>1.677669</td>\n",
       "      <td>-0.483885</td>\n",
       "      <td>-2.303187</td>\n",
       "      <td>-2.555039</td>\n",
       "      <td>2.382845</td>\n",
       "      <td>2.446985</td>\n",
       "      <td>-0.612804</td>\n",
       "      <td>-0.669162</td>\n",
       "      <td>-0.655060</td>\n",
       "      <td>-0.261799</td>\n",
       "      <td>0.216671</td>\n",
       "      <td>-0.271246</td>\n",
       "      <td>0.058214</td>\n",
       "      <td>-0.382420</td>\n",
       "      <td>-0.115327</td>\n",
       "      <td>0.407477</td>\n",
       "      <td>-0.598288</td>\n",
       "      <td>-0.990002</td>\n",
       "      <td>1.160614</td>\n",
       "      <td>-0.619263</td>\n",
       "    </tr>\n",
       "    <tr>\n",
       "      <th>4</th>\n",
       "      <td>1.861551</td>\n",
       "      <td>-0.483885</td>\n",
       "      <td>-2.303187</td>\n",
       "      <td>-2.555039</td>\n",
       "      <td>2.535674</td>\n",
       "      <td>2.446860</td>\n",
       "      <td>-0.808367</td>\n",
       "      <td>-1.141751</td>\n",
       "      <td>-0.920356</td>\n",
       "      <td>0.053137</td>\n",
       "      <td>1.436812</td>\n",
       "      <td>-0.650615</td>\n",
       "      <td>0.242537</td>\n",
       "      <td>-2.372156</td>\n",
       "      <td>0.573144</td>\n",
       "      <td>2.389787</td>\n",
       "      <td>0.799210</td>\n",
       "      <td>-1.038250</td>\n",
       "      <td>1.299683</td>\n",
       "      <td>-1.127515</td>\n",
       "    </tr>\n",
       "  </tbody>\n",
       "</table>\n",
       "</div>"
      ],
      "text/plain": [
       "    AQIMean  PersonalIncome  Vol_moderate_income  Vol_low_income  total_pop  \\\n",
       "0  1.677669       -0.483885            -2.303187       -2.555039   2.052326   \n",
       "1  1.677669       -0.483885            -2.303187       -2.555039   0.708930   \n",
       "2  1.677669       -0.483885            -2.303187       -2.555039   1.264424   \n",
       "3  1.677669       -0.483885            -2.303187       -2.555039   2.382845   \n",
       "4  1.861551       -0.483885            -2.303187       -2.555039   2.535674   \n",
       "\n",
       "   households  median_age  median_income  income_per_capita  gini_index  \\\n",
       "0    3.096986    0.677914       0.395570           1.127500    2.090545   \n",
       "1    2.065297    1.069040       1.794826           2.899726    1.450117   \n",
       "2    2.046087    1.127709      -1.178083          -0.401966    1.861821   \n",
       "3    2.446985   -0.612804      -0.669162          -0.655060   -0.261799   \n",
       "4    2.446860   -0.808367      -1.141751          -0.920356    0.053137   \n",
       "\n",
       "   pct_poverty  housing_availability  home_density  pct_employed  \\\n",
       "0    -0.116861              0.165373     -0.951186     -0.203258   \n",
       "1    -0.854462              0.768800     -1.658710      0.635772   \n",
       "2     1.410115             -0.524889     -0.909010     -0.314296   \n",
       "3     0.216671             -0.271246      0.058214     -0.382420   \n",
       "4     1.436812             -0.650615      0.242537     -2.372156   \n",
       "\n",
       "   pct_jobs_nightlife  pct_unemployed  move_within_city  move_new_city  \\\n",
       "0           -0.502295        0.218105          0.557787      -0.131412   \n",
       "1           -0.646796       -0.606914          0.220614      -0.386784   \n",
       "2            1.564514        0.339607         -0.408679      -0.828548   \n",
       "3           -0.115327        0.407477         -0.598288      -0.990002   \n",
       "4            0.573144        2.389787          0.799210      -1.038250   \n",
       "\n",
       "   avg_commute_time  pct_college  \n",
       "0         -0.253440     0.459031  \n",
       "1         -0.603104     1.019498  \n",
       "2         -0.196208    -0.075481  \n",
       "3          1.160614    -0.619263  \n",
       "4          1.299683    -1.127515  "
      ]
     },
     "execution_count": 13,
     "metadata": {},
     "output_type": "execute_result"
    }
   ],
   "source": [
    "scaler = StandardScaler()\n",
    "\n",
    "features = pd.DataFrame(scaler.fit_transform(features),columns=features.columns)\n",
    "features.head()"
   ]
  },
  {
   "cell_type": "code",
   "execution_count": 107,
   "metadata": {},
   "outputs": [],
   "source": [
    "# # try a correlation heat map to assess for multicollinearity\n",
    "# plt.figure(figsize=(16, 10)) # larger for ease of viewing\n",
    "\n",
    "# heatmap = sns.heatmap(features.corr(), vmin=-1, vmax=1, annot=True)\n",
    "# heatmap.set_title('Feature Correlation Heatmap', fontdict={'fontsize':12}, pad=12);"
   ]
  },
  {
   "cell_type": "code",
   "execution_count": 49,
   "metadata": {},
   "outputs": [
    {
     "data": {
      "image/png": "[encoded data removed]",
      "text/plain": [
       "<Figure size 432x288 with 2 Axes>"
      ]
     },
     "metadata": {
      "needs_background": "light"
     },
     "output_type": "display_data"
    }
   ],
   "source": [
    "socio_econ = features[['pct_college','median_income','income_per_capita','pct_employed','median_age','pct_poverty',\n",
    "                'pct_jobs_nightlife','home_density']]\n",
    "heatmap = sns.heatmap(socio_econ.corr(), vmin=-1, vmax=1, annot=True)\n",
    "heatmap.set_title('SES Features Correlation Heatmap', fontdict={'fontsize':12}, pad=12);"
   ]
  },
  {
   "cell_type": "code",
   "execution_count": 85,
   "metadata": {},
   "outputs": [],
   "source": [
    "def screePlot(df):\n",
    "    pca = PCA(n_components=df.shape[1]) \n",
    "    pca.fit(df)\n",
    "    print(pca.explained_variance_ratio_)\n",
    "    plt.plot((np.arange(pca.n_components_)+1), pca.explained_variance_ratio_, 'ro-', linewidth=2)\n",
    "    plt.title('Scree Plot')\n",
    "    plt.xlabel('# Principal Components')\n",
    "    plt.ylabel('% of Variance Explained')\n",
    "    plt.show()"
   ]
  },
  {
   "cell_type": "code",
   "execution_count": 53,
   "metadata": {},
   "outputs": [
    {
     "data": {
      "image/png": "[encoded data removed]",
      "text/plain": [
       "<Figure size 432x288 with 1 Axes>"
      ]
     },
     "metadata": {
      "needs_background": "light"
     },
     "output_type": "display_data"
    }
   ],
   "source": [
    "screePlot(socio_econ) # take 4 pcs"
   ]
  },
  {
   "cell_type": "code",
   "execution_count": 91,
   "metadata": {},
   "outputs": [],
   "source": [
    "pca = PCA(n_components=4) \n",
    "econPC = pd.DataFrame(pca.fit_transform(socio_econ),columns=['econPC1','econPC2','econPC3','econPC4'])"
   ]
  },
  {
   "cell_type": "markdown",
   "metadata": {},
   "source": [
    "### remove features involved in the above PCA"
   ]
  },
  {
   "cell_type": "code",
   "execution_count": 62,
   "metadata": {},
   "outputs": [],
   "source": [
    "features = features.drop(['pct_college','median_income','income_per_capita','pct_employed','median_age',\n",
    "                          'pct_poverty','pct_jobs_nightlife','home_density'],axis=1)"
   ]
  },
  {
   "cell_type": "code",
   "execution_count": 108,
   "metadata": {},
   "outputs": [],
   "source": [
    "# plt.figure(figsize=(10, 6)) \n",
    "# heatmap = sns.heatmap(features.corr(), vmin=-1, vmax=1, annot=True)\n",
    "# heatmap.set_title('Features Correlation Heatmap', fontdict={'fontsize':12}, pad=12);"
   ]
  },
  {
   "cell_type": "code",
   "execution_count": 83,
   "metadata": {},
   "outputs": [
    {
     "data": {
      "image/png": "[encoded data removed]",
      "text/plain": [
       "<Figure size 432x288 with 2 Axes>"
      ]
     },
     "metadata": {
      "needs_background": "light"
     },
     "output_type": "display_data"
    }
   ],
   "source": [
    "cityfeats = features[['total_pop','households','avg_commute_time','AQIMean','move_new_city','housing_availability',\n",
    "                'move_within_city','gini_index']]\n",
    "heatmap = sns.heatmap(cityfeats.corr(), vmin=-1, vmax=1, annot=True)"
   ]
  },
  {
   "cell_type": "code",
   "execution_count": 86,
   "metadata": {},
   "outputs": [
    {
     "name": "stdout",
     "output_type": "stream",
     "text": [
      "[0.38006506 0.19856027 0.16718694 0.10596215 0.05991504 0.05747845\n",
      " 0.02437764 0.00645446]\n"
     ]
    },
    {
     "data": {
      "image/png": "[encoded data removed]",
      "text/plain": [
       "<Figure size 432x288 with 1 Axes>"
      ]
     },
     "metadata": {
      "needs_background": "light"
     },
     "output_type": "display_data"
    }
   ],
   "source": [
    "screePlot(cityfeats)"
   ]
  },
  {
   "cell_type": "code",
   "execution_count": 90,
   "metadata": {},
   "outputs": [],
   "source": [
    "pca = PCA(n_components=5) \n",
    "cityPC = pd.DataFrame(pca.fit_transform(cityfeats),columns=['cityPC1','cityPC2','cityPC3','cityPC4','cityPC5'])"
   ]
  },
  {
   "cell_type": "code",
   "execution_count": 102,
   "metadata": {},
   "outputs": [],
   "source": [
    "features = features.drop(['total_pop','households','avg_commute_time','AQIMean','move_new_city',\n",
    "                          'housing_availability','move_within_city','gini_index'],axis=1)\n",
    "\n",
    "features = features.drop('pct_unemployed',axis=1)"
   ]
  },
  {
   "cell_type": "code",
   "execution_count": 120,
   "metadata": {
    "scrolled": true
   },
   "outputs": [
    {
     "data": {
      "text/html": [
       "<div>\n",
       "<style scoped>\n",
       "    .dataframe tbody tr th:only-of-type {\n",
       "        vertical-align: middle;\n",
       "    }\n",
       "\n",
       "    .dataframe tbody tr th {\n",
       "        vertical-align: top;\n",
       "    }\n",
       "\n",
       "    .dataframe thead th {\n",
       "        text-align: right;\n",
       "    }\n",
       "</style>\n",
       "<table border=\"1\" class=\"dataframe\">\n",
       "  <thead>\n",
       "    <tr style=\"text-align: right;\">\n",
       "      <th></th>\n",
       "      <th>Zipcode</th>\n",
       "      <th>City</th>\n",
       "      <th>State</th>\n",
       "      <th>Metro</th>\n",
       "      <th>County</th>\n",
       "      <th>SizeRank</th>\n",
       "      <th>Rent</th>\n",
       "      <th>Year</th>\n",
       "      <th>State-County</th>\n",
       "      <th>PersonalIncome</th>\n",
       "      <th>...</th>\n",
       "      <th>Vol_low_income</th>\n",
       "      <th>cityPC1</th>\n",
       "      <th>cityPC2</th>\n",
       "      <th>cityPC3</th>\n",
       "      <th>cityPC4</th>\n",
       "      <th>cityPC5</th>\n",
       "      <th>econPC1</th>\n",
       "      <th>econPC2</th>\n",
       "      <th>econPC3</th>\n",
       "      <th>econPC4</th>\n",
       "    </tr>\n",
       "    <tr>\n",
       "      <th>Date</th>\n",
       "      <th></th>\n",
       "      <th></th>\n",
       "      <th></th>\n",
       "      <th></th>\n",
       "      <th></th>\n",
       "      <th></th>\n",
       "      <th></th>\n",
       "      <th></th>\n",
       "      <th></th>\n",
       "      <th></th>\n",
       "      <th></th>\n",
       "      <th></th>\n",
       "      <th></th>\n",
       "      <th></th>\n",
       "      <th></th>\n",
       "      <th></th>\n",
       "      <th></th>\n",
       "      <th></th>\n",
       "      <th></th>\n",
       "      <th></th>\n",
       "      <th></th>\n",
       "    </tr>\n",
       "  </thead>\n",
       "  <tbody>\n",
       "    <tr>\n",
       "      <th>2016-10-01</th>\n",
       "      <td>11370</td>\n",
       "      <td>New York</td>\n",
       "      <td>NY</td>\n",
       "      <td>New York-Newark-Jersey City</td>\n",
       "      <td>Queens County</td>\n",
       "      <td>1747</td>\n",
       "      <td>2192.0</td>\n",
       "      <td>2016</td>\n",
       "      <td>NY-Queens County</td>\n",
       "      <td>-0.36724</td>\n",
       "      <td>...</td>\n",
       "      <td>0.603387</td>\n",
       "      <td>0.854545</td>\n",
       "      <td>1.044092</td>\n",
       "      <td>3.034108</td>\n",
       "      <td>-0.904223</td>\n",
       "      <td>-1.999371</td>\n",
       "      <td>1.553029</td>\n",
       "      <td>-1.823399</td>\n",
       "      <td>-0.357135</td>\n",
       "      <td>-1.448693</td>\n",
       "    </tr>\n",
       "  </tbody>\n",
       "</table>\n",
       "<p>1 rows × 21 columns</p>\n",
       "</div>"
      ],
      "text/plain": [
       "           Zipcode      City State                        Metro  \\\n",
       "Date                                                              \n",
       "2016-10-01   11370  New York    NY  New York-Newark-Jersey City   \n",
       "\n",
       "                   County  SizeRank    Rent  Year      State-County  \\\n",
       "Date                                                                  \n",
       "2016-10-01  Queens County      1747  2192.0  2016  NY-Queens County   \n",
       "\n",
       "            PersonalIncome  ...  Vol_low_income   cityPC1   cityPC2   cityPC3  \\\n",
       "Date                        ...                                                 \n",
       "2016-10-01        -0.36724  ...        0.603387  0.854545  1.044092  3.034108   \n",
       "\n",
       "             cityPC4   cityPC5   econPC1   econPC2   econPC3   econPC4  \n",
       "Date                                                                    \n",
       "2016-10-01 -0.904223 -1.999371  1.553029 -1.823399 -0.357135 -1.448693  \n",
       "\n",
       "[1 rows x 21 columns]"
      ]
     },
     "execution_count": 120,
     "metadata": {},
     "output_type": "execute_result"
    }
   ],
   "source": [
    "zillow_withPCA = pd.concat((zillow,features,cityPC,econPC),axis=1)\n",
    "zillow_withPCA.set_index('Date',inplace=True)\n",
    "zillow_withPCA.sample()"
   ]
  },
  {
   "cell_type": "markdown",
   "metadata": {},
   "source": [
    "## random forest"
   ]
  },
  {
   "cell_type": "code",
   "execution_count": 127,
   "metadata": {},
   "outputs": [],
   "source": [
    "LE = LabelEncoder() #sklearn.preprocessing\n",
    "\n",
    "def preProc(zillow_df, ytype='log'):\n",
    "    features = zillow_df.drop(['Rent','State-County','State'],axis=1)\n",
    "    cat_cols = features.select_dtypes(include = object).copy()\n",
    "    num_cols = features.select_dtypes(exclude = object).copy()\n",
    "    for col in cat_cols.columns:\n",
    "        cat_cols[col] = LE.fit_transform(cat_cols[col])\n",
    "    \n",
    "    X = pd.concat([cat_cols,num_cols],axis=1)\n",
    "    \n",
    "    if ytype == 'log':\n",
    "        y = np.log(zillow_df['Rent'])\n",
    "    elif ytype == 'normal':\n",
    "        y = zillow_df['Rent']\n",
    "    return X,y\n",
    "\n",
    "def train_test(X,y):\n",
    "    Xtrain = X.loc[X.index <'2019-01-01']\n",
    "    train_index = Xtrain.shape[0]\n",
    "    Xtest = X[train_index:]\n",
    "    ytrain = y[:train_index]\n",
    "    ytest = y[train_index:]\n",
    "    return Xtrain,Xtest,ytrain,ytest\n",
    "\n",
    "def randForest(model,Xtrain,Xtest,ytrain,ytest):\n",
    "    model.fit(Xtrain,ytrain)\n",
    "    print(f'training R2: {model.score(Xtrain,ytrain)}')\n",
    "    print(f'test R2: {model.score(Xtest,ytest)}')\n",
    "    \n",
    "    ypred = rfc.predict(Xtest)\n",
    "    RMSE = mean_squared_error(ytest,ypred, squared = False)\n",
    "    print(f'RMSE: {RMSE}')\n",
    "    \n",
    "    feature_imps = pd.DataFrame({'Columns':Xtrain.columns,'Feature_importances':model.feature_importances_})\n",
    "    return feature_imps.sort_values('Feature_importances',ascending=False)"
   ]
  },
  {
   "cell_type": "code",
   "execution_count": 124,
   "metadata": {},
   "outputs": [],
   "source": [
    "X,y = preProc(zillow_withPCA,ytype='log')\n",
    "Xtrain,Xtest,ytrain,ytest = train_test(X,y)\n",
    "randForest(rfc,Xtrain,Xtest,ytrain,ytest)"
   ]
  },
  {
   "cell_type": "code",
   "execution_count": 129,
   "metadata": {},
   "outputs": [
    {
     "name": "stdout",
     "output_type": "stream",
     "text": [
      "training R2: 0.999435677448131\n",
      "test R2: 0.9839755073003001\n",
      "RMSE: 0.035879181285339075\n"
     ]
    },
    {
     "data": {
      "text/html": [
       "<div>\n",
       "<style scoped>\n",
       "    .dataframe tbody tr th:only-of-type {\n",
       "        vertical-align: middle;\n",
       "    }\n",
       "\n",
       "    .dataframe tbody tr th {\n",
       "        vertical-align: top;\n",
       "    }\n",
       "\n",
       "    .dataframe thead th {\n",
       "        text-align: right;\n",
       "    }\n",
       "</style>\n",
       "<table border=\"1\" class=\"dataframe\">\n",
       "  <thead>\n",
       "    <tr style=\"text-align: right;\">\n",
       "      <th></th>\n",
       "      <th>Columns</th>\n",
       "      <th>Feature_importances</th>\n",
       "    </tr>\n",
       "  </thead>\n",
       "  <tbody>\n",
       "    <tr>\n",
       "      <th>2</th>\n",
       "      <td>Metro</td>\n",
       "      <td>0.392328</td>\n",
       "    </tr>\n",
       "    <tr>\n",
       "      <th>14</th>\n",
       "      <td>econPC1</td>\n",
       "      <td>0.268005</td>\n",
       "    </tr>\n",
       "    <tr>\n",
       "      <th>0</th>\n",
       "      <td>Zipcode</td>\n",
       "      <td>0.136307</td>\n",
       "    </tr>\n",
       "    <tr>\n",
       "      <th>15</th>\n",
       "      <td>econPC2</td>\n",
       "      <td>0.068581</td>\n",
       "    </tr>\n",
       "    <tr>\n",
       "      <th>3</th>\n",
       "      <td>County</td>\n",
       "      <td>0.033059</td>\n",
       "    </tr>\n",
       "    <tr>\n",
       "      <th>16</th>\n",
       "      <td>econPC3</td>\n",
       "      <td>0.027631</td>\n",
       "    </tr>\n",
       "    <tr>\n",
       "      <th>6</th>\n",
       "      <td>PersonalIncome</td>\n",
       "      <td>0.014401</td>\n",
       "    </tr>\n",
       "    <tr>\n",
       "      <th>4</th>\n",
       "      <td>SizeRank</td>\n",
       "      <td>0.009501</td>\n",
       "    </tr>\n",
       "    <tr>\n",
       "      <th>9</th>\n",
       "      <td>cityPC1</td>\n",
       "      <td>0.009428</td>\n",
       "    </tr>\n",
       "    <tr>\n",
       "      <th>17</th>\n",
       "      <td>econPC4</td>\n",
       "      <td>0.009233</td>\n",
       "    </tr>\n",
       "    <tr>\n",
       "      <th>12</th>\n",
       "      <td>cityPC4</td>\n",
       "      <td>0.007450</td>\n",
       "    </tr>\n",
       "    <tr>\n",
       "      <th>10</th>\n",
       "      <td>cityPC2</td>\n",
       "      <td>0.006857</td>\n",
       "    </tr>\n",
       "    <tr>\n",
       "      <th>5</th>\n",
       "      <td>Year</td>\n",
       "      <td>0.005337</td>\n",
       "    </tr>\n",
       "    <tr>\n",
       "      <th>7</th>\n",
       "      <td>Vol_moderate_income</td>\n",
       "      <td>0.004866</td>\n",
       "    </tr>\n",
       "    <tr>\n",
       "      <th>11</th>\n",
       "      <td>cityPC3</td>\n",
       "      <td>0.002197</td>\n",
       "    </tr>\n",
       "    <tr>\n",
       "      <th>1</th>\n",
       "      <td>City</td>\n",
       "      <td>0.002188</td>\n",
       "    </tr>\n",
       "    <tr>\n",
       "      <th>13</th>\n",
       "      <td>cityPC5</td>\n",
       "      <td>0.001485</td>\n",
       "    </tr>\n",
       "    <tr>\n",
       "      <th>8</th>\n",
       "      <td>Vol_low_income</td>\n",
       "      <td>0.001147</td>\n",
       "    </tr>\n",
       "  </tbody>\n",
       "</table>\n",
       "</div>"
      ],
      "text/plain": [
       "                Columns  Feature_importances\n",
       "2                 Metro             0.392328\n",
       "14              econPC1             0.268005\n",
       "0               Zipcode             0.136307\n",
       "15              econPC2             0.068581\n",
       "3                County             0.033059\n",
       "16              econPC3             0.027631\n",
       "6        PersonalIncome             0.014401\n",
       "4              SizeRank             0.009501\n",
       "9               cityPC1             0.009428\n",
       "17              econPC4             0.009233\n",
       "12              cityPC4             0.007450\n",
       "10              cityPC2             0.006857\n",
       "5                  Year             0.005337\n",
       "7   Vol_moderate_income             0.004866\n",
       "11              cityPC3             0.002197\n",
       "1                  City             0.002188\n",
       "13              cityPC5             0.001485\n",
       "8        Vol_low_income             0.001147"
      ]
     },
     "execution_count": 129,
     "metadata": {},
     "output_type": "execute_result"
    }
   ],
   "source": [
    "from sklearn.ensemble import RandomForestRegressor\n",
    "rfc = RandomForestRegressor()\n",
    "\n",
    "randForest(rfc,Xtrain,Xtest,ytrain,ytest)"
   ]
  },
  {
   "cell_type": "code",
   "execution_count": 131,
   "metadata": {},
   "outputs": [
    {
     "data": {
      "text/plain": [
       "{'bootstrap': True,\n",
       " 'ccp_alpha': 0.0,\n",
       " 'criterion': 'mse',\n",
       " 'max_depth': None,\n",
       " 'max_features': 'auto',\n",
       " 'max_leaf_nodes': None,\n",
       " 'max_samples': None,\n",
       " 'min_impurity_decrease': 0.0,\n",
       " 'min_impurity_split': None,\n",
       " 'min_samples_leaf': 1,\n",
       " 'min_samples_split': 2,\n",
       " 'min_weight_fraction_leaf': 0.0,\n",
       " 'n_estimators': 100,\n",
       " 'n_jobs': None,\n",
       " 'oob_score': False,\n",
       " 'random_state': None,\n",
       " 'verbose': 0,\n",
       " 'warm_start': False}"
      ]
     },
     "execution_count": 131,
     "metadata": {},
     "output_type": "execute_result"
    }
   ],
   "source": [
    "rfc.get_params()"
   ]
  },
  {
   "cell_type": "markdown",
   "metadata": {},
   "source": [
    "## grid search to parameter tune"
   ]
  },
  {
   "cell_type": "code",
   "execution_count": 134,
   "metadata": {},
   "outputs": [],
   "source": [
    "from sklearn.model_selection import GridSearchCV\n",
    "\n",
    "param_grid = {'n_estimators':[100,150,200,250,300,400,500],\n",
    "             'max_depth':[None,1,2,3]}\n",
    "\n",
    "grid = GridSearchCV(RandomForestRegressor(),param_grid = param_grid,return_train_score=True)\n"
   ]
  },
  {
   "cell_type": "code",
   "execution_count": 135,
   "metadata": {},
   "outputs": [
    {
     "data": {
      "text/plain": [
       "GridSearchCV(cv=None, error_score=nan,\n",
       "             estimator=RandomForestRegressor(bootstrap=True, ccp_alpha=0.0,\n",
       "                                             criterion='mse', max_depth=None,\n",
       "                                             max_features='auto',\n",
       "                                             max_leaf_nodes=None,\n",
       "                                             max_samples=None,\n",
       "                                             min_impurity_decrease=0.0,\n",
       "                                             min_impurity_split=None,\n",
       "                                             min_samples_leaf=1,\n",
       "                                             min_samples_split=2,\n",
       "                                             min_weight_fraction_leaf=0.0,\n",
       "                                             n_estimators=100, n_jobs=None,\n",
       "                                             oob_score=False, random_state=None,\n",
       "                                             verbose=0, warm_start=False),\n",
       "             iid='deprecated', n_jobs=None,\n",
       "             param_grid={'max_depth': [None, 1, 2, 3],\n",
       "                         'n_estimators': [100, 150, 200, 250, 300, 400, 500]},\n",
       "             pre_dispatch='2*n_jobs', refit=True, return_train_score=True,\n",
       "             scoring=None, verbose=0)"
      ]
     },
     "execution_count": 135,
     "metadata": {},
     "output_type": "execute_result"
    }
   ],
   "source": [
    "grid.fit(Xtrain,ytrain)"
   ]
  },
  {
   "cell_type": "code",
   "execution_count": 138,
   "metadata": {},
   "outputs": [
    {
     "data": {
      "text/plain": [
       "RandomForestRegressor(bootstrap=True, ccp_alpha=0.0, criterion='mse',\n",
       "                      max_depth=None, max_features='auto', max_leaf_nodes=None,\n",
       "                      max_samples=None, min_impurity_decrease=0.0,\n",
       "                      min_impurity_split=None, min_samples_leaf=1,\n",
       "                      min_samples_split=2, min_weight_fraction_leaf=0.0,\n",
       "                      n_estimators=300, n_jobs=None, oob_score=False,\n",
       "                      random_state=None, verbose=0, warm_start=False)"
      ]
     },
     "execution_count": 138,
     "metadata": {},
     "output_type": "execute_result"
    }
   ],
   "source": [
    "rfc.set_params(**grid.best_params_)"
   ]
  },
  {
   "cell_type": "code",
   "execution_count": 142,
   "metadata": {},
   "outputs": [
    {
     "name": "stdout",
     "output_type": "stream",
     "text": [
      "training R2: 0.9994366696832208\n",
      "test R2: 0.9838947396852935\n",
      "RMSE: 0.03596948784343751\n"
     ]
    },
    {
     "data": {
      "text/html": [
       "<div>\n",
       "<style scoped>\n",
       "    .dataframe tbody tr th:only-of-type {\n",
       "        vertical-align: middle;\n",
       "    }\n",
       "\n",
       "    .dataframe tbody tr th {\n",
       "        vertical-align: top;\n",
       "    }\n",
       "\n",
       "    .dataframe thead th {\n",
       "        text-align: right;\n",
       "    }\n",
       "</style>\n",
       "<table border=\"1\" class=\"dataframe\">\n",
       "  <thead>\n",
       "    <tr style=\"text-align: right;\">\n",
       "      <th></th>\n",
       "      <th>Columns</th>\n",
       "      <th>Feature_importances</th>\n",
       "    </tr>\n",
       "  </thead>\n",
       "  <tbody>\n",
       "    <tr>\n",
       "      <th>2</th>\n",
       "      <td>Metro</td>\n",
       "      <td>0.392224</td>\n",
       "    </tr>\n",
       "    <tr>\n",
       "      <th>14</th>\n",
       "      <td>econPC1</td>\n",
       "      <td>0.268162</td>\n",
       "    </tr>\n",
       "    <tr>\n",
       "      <th>0</th>\n",
       "      <td>Zipcode</td>\n",
       "      <td>0.136895</td>\n",
       "    </tr>\n",
       "    <tr>\n",
       "      <th>15</th>\n",
       "      <td>econPC2</td>\n",
       "      <td>0.069056</td>\n",
       "    </tr>\n",
       "    <tr>\n",
       "      <th>3</th>\n",
       "      <td>County</td>\n",
       "      <td>0.033761</td>\n",
       "    </tr>\n",
       "    <tr>\n",
       "      <th>16</th>\n",
       "      <td>econPC3</td>\n",
       "      <td>0.027272</td>\n",
       "    </tr>\n",
       "    <tr>\n",
       "      <th>6</th>\n",
       "      <td>PersonalIncome</td>\n",
       "      <td>0.014327</td>\n",
       "    </tr>\n",
       "    <tr>\n",
       "      <th>9</th>\n",
       "      <td>cityPC1</td>\n",
       "      <td>0.009478</td>\n",
       "    </tr>\n",
       "    <tr>\n",
       "      <th>4</th>\n",
       "      <td>SizeRank</td>\n",
       "      <td>0.009245</td>\n",
       "    </tr>\n",
       "    <tr>\n",
       "      <th>17</th>\n",
       "      <td>econPC4</td>\n",
       "      <td>0.008711</td>\n",
       "    </tr>\n",
       "    <tr>\n",
       "      <th>12</th>\n",
       "      <td>cityPC4</td>\n",
       "      <td>0.007216</td>\n",
       "    </tr>\n",
       "    <tr>\n",
       "      <th>10</th>\n",
       "      <td>cityPC2</td>\n",
       "      <td>0.006764</td>\n",
       "    </tr>\n",
       "    <tr>\n",
       "      <th>5</th>\n",
       "      <td>Year</td>\n",
       "      <td>0.005286</td>\n",
       "    </tr>\n",
       "    <tr>\n",
       "      <th>7</th>\n",
       "      <td>Vol_moderate_income</td>\n",
       "      <td>0.004697</td>\n",
       "    </tr>\n",
       "    <tr>\n",
       "      <th>1</th>\n",
       "      <td>City</td>\n",
       "      <td>0.002326</td>\n",
       "    </tr>\n",
       "    <tr>\n",
       "      <th>11</th>\n",
       "      <td>cityPC3</td>\n",
       "      <td>0.001982</td>\n",
       "    </tr>\n",
       "    <tr>\n",
       "      <th>13</th>\n",
       "      <td>cityPC5</td>\n",
       "      <td>0.001452</td>\n",
       "    </tr>\n",
       "    <tr>\n",
       "      <th>8</th>\n",
       "      <td>Vol_low_income</td>\n",
       "      <td>0.001147</td>\n",
       "    </tr>\n",
       "  </tbody>\n",
       "</table>\n",
       "</div>"
      ],
      "text/plain": [
       "                Columns  Feature_importances\n",
       "2                 Metro             0.392224\n",
       "14              econPC1             0.268162\n",
       "0               Zipcode             0.136895\n",
       "15              econPC2             0.069056\n",
       "3                County             0.033761\n",
       "16              econPC3             0.027272\n",
       "6        PersonalIncome             0.014327\n",
       "9               cityPC1             0.009478\n",
       "4              SizeRank             0.009245\n",
       "17              econPC4             0.008711\n",
       "12              cityPC4             0.007216\n",
       "10              cityPC2             0.006764\n",
       "5                  Year             0.005286\n",
       "7   Vol_moderate_income             0.004697\n",
       "1                  City             0.002326\n",
       "11              cityPC3             0.001982\n",
       "13              cityPC5             0.001452\n",
       "8        Vol_low_income             0.001147"
      ]
     },
     "execution_count": 142,
     "metadata": {},
     "output_type": "execute_result"
    }
   ],
   "source": [
    "randForest(rfc,Xtrain,Xtest,ytrain,ytest)"
   ]
  }
 ],
 "metadata": {
  "kernelspec": {
   "display_name": "Python 3",
   "language": "python",
   "name": "python3"
  },
  "language_info": {
   "codemirror_mode": {
    "name": "ipython",
    "version": 3
   },
   "file_extension": ".py",
   "mimetype": "text/x-python",
   "name": "python",
   "nbconvert_exporter": "python",
   "pygments_lexer": "ipython3",
   "version": "3.7.6"
  }
 },
 "nbformat": 4,
 "nbformat_minor": 4
}
