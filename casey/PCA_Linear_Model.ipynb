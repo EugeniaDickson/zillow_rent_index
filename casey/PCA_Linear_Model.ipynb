{
 "cells": [
  {
   "cell_type": "markdown",
   "metadata": {},
   "source": [
    "## Load and pre-process data"
   ]
  },
  {
   "cell_type": "code",
   "execution_count": 1,
   "metadata": {},
   "outputs": [],
   "source": [
    "import numpy as np\n",
    "import pandas as pd\n",
    "\n",
    "cluster_data = pd.read_csv('../../data/all_areas_clusters_hier.csv') # contains clustering groups\n",
    "PCdata = pd.read_csv('../../data/zillow_withPCA.csv') # contains prinicpal components"
   ]
  },
  {
   "cell_type": "code",
   "execution_count": 2,
   "metadata": {},
   "outputs": [],
   "source": [
    "clusters = cluster_data[['Zipcode','Date','Clusters']] # subset the cluster col + two to merge on\n",
    "pc_df = PCdata.drop(['City','State','Metro','County','SizeRank','State-County','Year'],axis=1) # the relevant PC columns"
   ]
  },
  {
   "cell_type": "code",
   "execution_count": 3,
   "metadata": {},
   "outputs": [],
   "source": [
    "zillow_df = pc_df.merge(clusters, \"inner\", on = [\"Date\",\"Zipcode\"]) # merge on date + zipcode\n",
    "# make sure n_rows post-merge == 17751\n",
    "zillow_df.set_index('Date',inplace=True)"
   ]
  },
  {
   "cell_type": "code",
   "execution_count": 4,
   "metadata": {},
   "outputs": [],
   "source": [
    "# separate target from features\n",
    "y = np.log(zillow_df['Rent']) # log-scaled\n",
    "X = zillow_df.drop('Rent',axis=1)"
   ]
  },
  {
   "cell_type": "code",
   "execution_count": 5,
   "metadata": {},
   "outputs": [],
   "source": [
    "# remove other features from X that will not go into the regression model\n",
    "X.drop(['Zipcode','housing_availability'],axis=1,inplace=True)"
   ]
  },
  {
   "cell_type": "code",
   "execution_count": 6,
   "metadata": {},
   "outputs": [
    {
     "data": {
      "text/plain": [
       "0    7747\n",
       "3    3965\n",
       "2    3477\n",
       "1    2562\n",
       "Name: Clusters, dtype: int64"
      ]
     },
     "execution_count": 6,
     "metadata": {},
     "output_type": "execute_result"
    }
   ],
   "source": [
    "# dummify cluster column\n",
    "X['Clusters'].value_counts() # we will drop the cluster 0 column bc its the largest of the groups"
   ]
  },
  {
   "cell_type": "code",
   "execution_count": 7,
   "metadata": {},
   "outputs": [],
   "source": [
    "cluster_dummy = pd.get_dummies(X['Clusters'],prefix=\"Cluster\",drop_first=True)"
   ]
  },
  {
   "cell_type": "code",
   "execution_count": 8,
   "metadata": {},
   "outputs": [],
   "source": [
    "X = pd.concat((X,cluster_dummy),axis=1).drop('Clusters',axis=1)"
   ]
  },
  {
   "cell_type": "code",
   "execution_count": 9,
   "metadata": {},
   "outputs": [],
   "source": [
    "from PCARandomForest import train_test\n",
    "Xtrain,Xtest,ytrain,ytest = train_test(X,y)"
   ]
  },
  {
   "cell_type": "markdown",
   "metadata": {},
   "source": [
    "## OLS"
   ]
  },
  {
   "cell_type": "code",
   "execution_count": 10,
   "metadata": {},
   "outputs": [],
   "source": [
    "from sklearn.linear_model import LinearRegression\n",
    "from sklearn.metrics import mean_squared_error\n",
    "\n",
    "ols = LinearRegression()"
   ]
  },
  {
   "cell_type": "code",
   "execution_count": 24,
   "metadata": {},
   "outputs": [],
   "source": [
    "def OLSRegression(model,Xtrain,Xtest,ytrain,ytest):\n",
    "    '''\n",
    "    Input a (tuned) model, X and y train/test df's.\n",
    "    This function will output test and training R2 as well as RMSE\n",
    "    Reminder-to-self: This is just to play around. use statsmodels to check AIC, VIF, etc.\n",
    "    '''\n",
    "    model.fit(Xtrain,ytrain)\n",
    "    print(f'training R2: {model.score(Xtrain,ytrain)}')\n",
    "    print(f'test R2: {model.score(Xtest,ytest)}')\n",
    "    \n",
    "    ypred = model.predict(Xtest)\n",
    "    RMSE = mean_squared_error(ytest,ypred,squared=False)\n",
    "    print(f'RMSE: {RMSE}')"
   ]
  },
  {
   "cell_type": "markdown",
   "metadata": {},
   "source": [
    "### Model 1\n",
    "Trying just the PCs"
   ]
  },
  {
   "cell_type": "code",
   "execution_count": 16,
   "metadata": {},
   "outputs": [],
   "source": [
    "pc_train = Xtrain.filter(regex='PC')\n",
    "pc_test = Xtest.filter(regex='PC')"
   ]
  },
  {
   "cell_type": "code",
   "execution_count": 25,
   "metadata": {},
   "outputs": [
    {
     "name": "stdout",
     "output_type": "stream",
     "text": [
      "training R2: 0.48202084944712686\n",
      "test R2: 0.4441023303339105\n",
      "RMSE: 0.211323505558185\n"
     ]
    }
   ],
   "source": [
    "OLSRegression(ols,pc_train,pc_test,ytrain,ytest) # yikes"
   ]
  },
  {
   "cell_type": "code",
   "execution_count": 29,
   "metadata": {},
   "outputs": [],
   "source": [
    "OLSRegression?"
   ]
  },
  {
   "cell_type": "markdown",
   "metadata": {},
   "source": [
    "### Model 2\n",
    "Trying with clustering cols"
   ]
  },
  {
   "cell_type": "code",
   "execution_count": 31,
   "metadata": {},
   "outputs": [
    {
     "name": "stdout",
     "output_type": "stream",
     "text": [
      "training R2: 0.5048337034382637\n",
      "test R2: 0.46929249135311507\n",
      "RMSE: 0.2064800020209921\n"
     ]
    }
   ],
   "source": [
    "OLSRegression(model = ols, Xtrain = Xtrain.filter(regex='Cluster|PC'), Xtest = Xtest.filter(regex='Cluster|PC'),\n",
    "             ytrain = ytrain, ytest = ytest)\n",
    "\n",
    "# performs better with lower RMSE when including the cluster cols"
   ]
  },
  {
   "cell_type": "markdown",
   "metadata": {},
   "source": [
    "### Model 3\n",
    "Try everything"
   ]
  },
  {
   "cell_type": "code",
   "execution_count": 32,
   "metadata": {},
   "outputs": [
    {
     "name": "stdout",
     "output_type": "stream",
     "text": [
      "training R2: 0.5714957825302953\n",
      "test R2: 0.541552111086042\n",
      "RMSE: 0.19190901142446715\n"
     ]
    }
   ],
   "source": [
    "OLSRegression(ols,Xtrain,Xtest,ytrain,ytest) # best performance but still poor"
   ]
  }
 ],
 "metadata": {
  "kernelspec": {
   "display_name": "Python 3",
   "language": "python",
   "name": "python3"
  },
  "language_info": {
   "codemirror_mode": {
    "name": "ipython",
    "version": 3
   },
   "file_extension": ".py",
   "mimetype": "text/x-python",
   "name": "python",
   "nbconvert_exporter": "python",
   "pygments_lexer": "ipython3",
   "version": "3.7.6"
  }
 },
 "nbformat": 4,
 "nbformat_minor": 4
}
